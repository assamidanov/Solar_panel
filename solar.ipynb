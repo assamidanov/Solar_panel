{
 "cells": [
  {
   "cell_type": "code",
   "execution_count": 1,
   "metadata": {},
   "outputs": [],
   "source": [
    "import pandas as pd\n",
    "from pandas.io.json import json_normalize\n",
    "import json\n",
    "import numpy as np\n",
    "import matplotlib.pyplot as plt\n",
    "import plotly.express as px\n",
    "import time\n",
    "import plotly.graph_objects as go"
   ]
  },
  {
   "cell_type": "code",
   "execution_count": 2,
   "metadata": {},
   "outputs": [],
   "source": [
    "with open('/Users/aassamidanov/Desktop/solar.json') as f:    \n",
    "    solar = json.load(f)"
   ]
  },
  {
   "cell_type": "code",
   "execution_count": 3,
   "metadata": {},
   "outputs": [
    {
     "data": {
      "text/plain": [
       "{'header': {'version': '0.0.1'},\n",
       " 'stations': [{'id': 'iticvraman',\n",
       "   'powerGenerationParameters': {'powerGeneratedToday': 154.67999267578125,\n",
       "    'moduleTemperature': 6.490713596343994},\n",
       "   'info': {'powerCapacity': 100.0,\n",
       "    'name': 'IPGCL Sir CV Raman ITI',\n",
       "    'location': {'latitude': 28.67, 'longitude': 77.18}},\n",
       "   'inverterList': [{'id': 'ITICVRAMAN_INVERTER_1',\n",
       "     'powerGenerationParameters': {'powerGeneratedToday': 76.31999969482422},\n",
       "     'info': {'powerCapacity': 50.0, 'name': 'ITICVRAMAN_INVERTER_1'},\n",
       "     'timestamp': '1577279706'},\n",
       "    {'id': 'ITICVRAMAN_INVERTER_2',\n",
       "     'powerGenerationParameters': {'powerGeneratedToday': 78.36000061035156},\n",
       "     'info': {'powerCapacity': 50.0, 'name': 'ITICVRAMAN_INVERTER_2'},\n",
       "     'timestamp': '1577279705'}],\n",
       "   'timestamp': '1577280212'}]}"
      ]
     },
     "execution_count": 3,
     "metadata": {},
     "output_type": "execute_result"
    }
   ],
   "source": [
    "solar[0]"
   ]
  },
  {
   "cell_type": "code",
   "execution_count": 4,
   "metadata": {},
   "outputs": [],
   "source": [
    "# Converting above json format dataset into dataframe\n",
    "def clean_solar(df): # for some array there is no station variabele, so we have to exclude it\n",
    "    r=[]\n",
    "    for i in df:\n",
    "        try:\n",
    "            s = i['stations']\n",
    "            r.append(i)\n",
    "        except:\n",
    "            continue\n",
    "    return r\n",
    "def solarpanel_convert(df): # use json_normalize to convert\n",
    "    df = clean_solar(df)\n",
    "    df_pre = json_normalize(json.loads(json_normalize(df,'stations') .to_json(orient = \"records\")))\n",
    "    meta_info = ['{}.{}'.format(i, 'solar') for i in df_pre]\n",
    "    df_pre.columns = meta_info\n",
    "    meta_info = [i for i in df_pre.drop(['inverterList.solar', ], axis=1)]\n",
    "    df = json_normalize(json.loads(json_normalize(json.loads(df_pre.to_json(orient = \"records\")),\n",
    "                                                  record_path = ['inverterList.solar'], meta=meta_info).to_json(orient = \"records\")))\n",
    "    return df"
   ]
  },
  {
   "cell_type": "code",
   "execution_count": 5,
   "metadata": {},
   "outputs": [
    {
     "data": {
      "text/html": [
       "<div>\n",
       "<style scoped>\n",
       "    .dataframe tbody tr th:only-of-type {\n",
       "        vertical-align: middle;\n",
       "    }\n",
       "\n",
       "    .dataframe tbody tr th {\n",
       "        vertical-align: top;\n",
       "    }\n",
       "\n",
       "    .dataframe thead th {\n",
       "        text-align: right;\n",
       "    }\n",
       "</style>\n",
       "<table border=\"1\" class=\"dataframe\">\n",
       "  <thead>\n",
       "    <tr style=\"text-align: right;\">\n",
       "      <th></th>\n",
       "      <th>id</th>\n",
       "      <th>id.solar</th>\n",
       "      <th>info.location.latitude.solar</th>\n",
       "      <th>info.location.longitude.solar</th>\n",
       "      <th>info.name</th>\n",
       "      <th>info.name.solar</th>\n",
       "      <th>info.powerCapacity</th>\n",
       "      <th>info.powerCapacity.solar</th>\n",
       "      <th>phaseComponents</th>\n",
       "      <th>powerGenerationParameters.currentPowerOutput</th>\n",
       "      <th>...</th>\n",
       "      <th>powerGenerationParameters.windspeed.solar</th>\n",
       "      <th>solarPanelGroup</th>\n",
       "      <th>status</th>\n",
       "      <th>status.message</th>\n",
       "      <th>status.message.solar</th>\n",
       "      <th>status.solar</th>\n",
       "      <th>status.state</th>\n",
       "      <th>status.state.solar</th>\n",
       "      <th>timestamp</th>\n",
       "      <th>timestamp.solar</th>\n",
       "    </tr>\n",
       "  </thead>\n",
       "  <tbody>\n",
       "    <tr>\n",
       "      <th>0</th>\n",
       "      <td>ITICVRAMAN_INVERTER_1</td>\n",
       "      <td>iticvraman</td>\n",
       "      <td>28.67</td>\n",
       "      <td>77.18</td>\n",
       "      <td>ITICVRAMAN_INVERTER_1</td>\n",
       "      <td>IPGCL Sir CV Raman ITI</td>\n",
       "      <td>50.0</td>\n",
       "      <td>100.0</td>\n",
       "      <td>None</td>\n",
       "      <td>NaN</td>\n",
       "      <td>...</td>\n",
       "      <td>NaN</td>\n",
       "      <td>None</td>\n",
       "      <td>NaN</td>\n",
       "      <td>NaN</td>\n",
       "      <td>None</td>\n",
       "      <td>None</td>\n",
       "      <td>NaN</td>\n",
       "      <td>None</td>\n",
       "      <td>1577279706</td>\n",
       "      <td>1577280212</td>\n",
       "    </tr>\n",
       "    <tr>\n",
       "      <th>1</th>\n",
       "      <td>ITICVRAMAN_INVERTER_2</td>\n",
       "      <td>iticvraman</td>\n",
       "      <td>28.67</td>\n",
       "      <td>77.18</td>\n",
       "      <td>ITICVRAMAN_INVERTER_2</td>\n",
       "      <td>IPGCL Sir CV Raman ITI</td>\n",
       "      <td>50.0</td>\n",
       "      <td>100.0</td>\n",
       "      <td>None</td>\n",
       "      <td>NaN</td>\n",
       "      <td>...</td>\n",
       "      <td>NaN</td>\n",
       "      <td>None</td>\n",
       "      <td>NaN</td>\n",
       "      <td>NaN</td>\n",
       "      <td>None</td>\n",
       "      <td>None</td>\n",
       "      <td>NaN</td>\n",
       "      <td>None</td>\n",
       "      <td>1577279705</td>\n",
       "      <td>1577280212</td>\n",
       "    </tr>\n",
       "    <tr>\n",
       "      <th>2</th>\n",
       "      <td>DELHIHAAT_inverter1</td>\n",
       "      <td>delhihaat</td>\n",
       "      <td>28.67</td>\n",
       "      <td>77.18</td>\n",
       "      <td>DELHIHAAT_inverter1</td>\n",
       "      <td>IPGCL Dilli Haat</td>\n",
       "      <td>50.0</td>\n",
       "      <td>50.0</td>\n",
       "      <td>None</td>\n",
       "      <td>NaN</td>\n",
       "      <td>...</td>\n",
       "      <td>NaN</td>\n",
       "      <td>None</td>\n",
       "      <td>NaN</td>\n",
       "      <td>NaN</td>\n",
       "      <td>None</td>\n",
       "      <td>None</td>\n",
       "      <td>NaN</td>\n",
       "      <td>None</td>\n",
       "      <td>1577279701</td>\n",
       "      <td>1577280191</td>\n",
       "    </tr>\n",
       "    <tr>\n",
       "      <th>3</th>\n",
       "      <td>AUROBINDO_INV1</td>\n",
       "      <td>aurobindo</td>\n",
       "      <td>28.67</td>\n",
       "      <td>77.18</td>\n",
       "      <td>AUROBINDO_INV1</td>\n",
       "      <td>IPGCL Aurobindo College</td>\n",
       "      <td>50.0</td>\n",
       "      <td>49.3</td>\n",
       "      <td>None</td>\n",
       "      <td>NaN</td>\n",
       "      <td>...</td>\n",
       "      <td>NaN</td>\n",
       "      <td>None</td>\n",
       "      <td>NaN</td>\n",
       "      <td>NaN</td>\n",
       "      <td>None</td>\n",
       "      <td>None</td>\n",
       "      <td>NaN</td>\n",
       "      <td>None</td>\n",
       "      <td>1577279701</td>\n",
       "      <td>1577280186</td>\n",
       "    </tr>\n",
       "    <tr>\n",
       "      <th>4</th>\n",
       "      <td>MEERABAIINSTITUTEOFTECHNOLOGY_INV_1</td>\n",
       "      <td>meerabaiinstituteoftechnology</td>\n",
       "      <td>28.67</td>\n",
       "      <td>77.18</td>\n",
       "      <td>MEERABAIINSTITUTEOFTECHNOLOGY_INV_1</td>\n",
       "      <td>IPGCL Meerabai College</td>\n",
       "      <td>50.0</td>\n",
       "      <td>100.5</td>\n",
       "      <td>None</td>\n",
       "      <td>NaN</td>\n",
       "      <td>...</td>\n",
       "      <td>NaN</td>\n",
       "      <td>None</td>\n",
       "      <td>NaN</td>\n",
       "      <td>NaN</td>\n",
       "      <td>None</td>\n",
       "      <td>None</td>\n",
       "      <td>NaN</td>\n",
       "      <td>None</td>\n",
       "      <td>1577241002</td>\n",
       "      <td>1577280207</td>\n",
       "    </tr>\n",
       "  </tbody>\n",
       "</table>\n",
       "<p>5 rows × 29 columns</p>\n",
       "</div>"
      ],
      "text/plain": [
       "                                    id                       id.solar  \\\n",
       "0                ITICVRAMAN_INVERTER_1                     iticvraman   \n",
       "1                ITICVRAMAN_INVERTER_2                     iticvraman   \n",
       "2                  DELHIHAAT_inverter1                      delhihaat   \n",
       "3                       AUROBINDO_INV1                      aurobindo   \n",
       "4  MEERABAIINSTITUTEOFTECHNOLOGY_INV_1  meerabaiinstituteoftechnology   \n",
       "\n",
       "   info.location.latitude.solar  info.location.longitude.solar  \\\n",
       "0                         28.67                          77.18   \n",
       "1                         28.67                          77.18   \n",
       "2                         28.67                          77.18   \n",
       "3                         28.67                          77.18   \n",
       "4                         28.67                          77.18   \n",
       "\n",
       "                             info.name          info.name.solar  \\\n",
       "0                ITICVRAMAN_INVERTER_1   IPGCL Sir CV Raman ITI   \n",
       "1                ITICVRAMAN_INVERTER_2   IPGCL Sir CV Raman ITI   \n",
       "2                  DELHIHAAT_inverter1         IPGCL Dilli Haat   \n",
       "3                       AUROBINDO_INV1  IPGCL Aurobindo College   \n",
       "4  MEERABAIINSTITUTEOFTECHNOLOGY_INV_1   IPGCL Meerabai College   \n",
       "\n",
       "   info.powerCapacity  info.powerCapacity.solar phaseComponents  \\\n",
       "0                50.0                     100.0            None   \n",
       "1                50.0                     100.0            None   \n",
       "2                50.0                      50.0            None   \n",
       "3                50.0                      49.3            None   \n",
       "4                50.0                     100.5            None   \n",
       "\n",
       "   powerGenerationParameters.currentPowerOutput  ...  \\\n",
       "0                                           NaN  ...   \n",
       "1                                           NaN  ...   \n",
       "2                                           NaN  ...   \n",
       "3                                           NaN  ...   \n",
       "4                                           NaN  ...   \n",
       "\n",
       "   powerGenerationParameters.windspeed.solar  solarPanelGroup  status  \\\n",
       "0                                        NaN             None     NaN   \n",
       "1                                        NaN             None     NaN   \n",
       "2                                        NaN             None     NaN   \n",
       "3                                        NaN             None     NaN   \n",
       "4                                        NaN             None     NaN   \n",
       "\n",
       "   status.message  status.message.solar  status.solar  status.state  \\\n",
       "0             NaN                  None          None           NaN   \n",
       "1             NaN                  None          None           NaN   \n",
       "2             NaN                  None          None           NaN   \n",
       "3             NaN                  None          None           NaN   \n",
       "4             NaN                  None          None           NaN   \n",
       "\n",
       "  status.state.solar   timestamp  timestamp.solar  \n",
       "0               None  1577279706       1577280212  \n",
       "1               None  1577279705       1577280212  \n",
       "2               None  1577279701       1577280191  \n",
       "3               None  1577279701       1577280186  \n",
       "4               None  1577241002       1577280207  \n",
       "\n",
       "[5 rows x 29 columns]"
      ]
     },
     "execution_count": 5,
     "metadata": {},
     "output_type": "execute_result"
    }
   ],
   "source": [
    "solar_df = solarpanel_convert(solar)\n",
    "solar_df.head()"
   ]
  },
  {
   "cell_type": "code",
   "execution_count": 6,
   "metadata": {},
   "outputs": [
    {
     "data": {
      "text/plain": [
       "(86381, 29)"
      ]
     },
     "execution_count": 6,
     "metadata": {},
     "output_type": "execute_result"
    }
   ],
   "source": [
    "solar_df.shape"
   ]
  },
  {
   "cell_type": "code",
   "execution_count": 7,
   "metadata": {},
   "outputs": [
    {
     "data": {
      "text/html": [
       "<div>\n",
       "<style scoped>\n",
       "    .dataframe tbody tr th:only-of-type {\n",
       "        vertical-align: middle;\n",
       "    }\n",
       "\n",
       "    .dataframe tbody tr th {\n",
       "        vertical-align: top;\n",
       "    }\n",
       "\n",
       "    .dataframe thead th {\n",
       "        text-align: right;\n",
       "    }\n",
       "</style>\n",
       "<table border=\"1\" class=\"dataframe\">\n",
       "  <thead>\n",
       "    <tr style=\"text-align: right;\">\n",
       "      <th></th>\n",
       "      <th>timestamp.solar</th>\n",
       "      <th>id.solar</th>\n",
       "      <th>info.powerCapacity.solar</th>\n",
       "      <th>powerGenerationParameters.currentPowerOutput.solar</th>\n",
       "      <th>powerGenerationParameters.powerGeneratedToday.solar</th>\n",
       "    </tr>\n",
       "  </thead>\n",
       "  <tbody>\n",
       "    <tr>\n",
       "      <th>0</th>\n",
       "      <td>1577280177</td>\n",
       "      <td>dtu</td>\n",
       "      <td>432.0</td>\n",
       "      <td>NaN</td>\n",
       "      <td>689.799988</td>\n",
       "    </tr>\n",
       "    <tr>\n",
       "      <th>1</th>\n",
       "      <td>1577280180</td>\n",
       "      <td>igdtuw</td>\n",
       "      <td>168.0</td>\n",
       "      <td>NaN</td>\n",
       "      <td>404.450012</td>\n",
       "    </tr>\n",
       "    <tr>\n",
       "      <th>2</th>\n",
       "      <td>1577280182</td>\n",
       "      <td>nsit</td>\n",
       "      <td>324.0</td>\n",
       "      <td>NaN</td>\n",
       "      <td>432.779999</td>\n",
       "    </tr>\n",
       "    <tr>\n",
       "      <th>3</th>\n",
       "      <td>1577280184</td>\n",
       "      <td>sscbs</td>\n",
       "      <td>76.0</td>\n",
       "      <td>NaN</td>\n",
       "      <td>91.040001</td>\n",
       "    </tr>\n",
       "    <tr>\n",
       "      <th>4</th>\n",
       "      <td>1577280186</td>\n",
       "      <td>aurobindo</td>\n",
       "      <td>49.3</td>\n",
       "      <td>NaN</td>\n",
       "      <td>118.010002</td>\n",
       "    </tr>\n",
       "  </tbody>\n",
       "</table>\n",
       "</div>"
      ],
      "text/plain": [
       "  timestamp.solar   id.solar  info.powerCapacity.solar  \\\n",
       "0      1577280177        dtu                     432.0   \n",
       "1      1577280180     igdtuw                     168.0   \n",
       "2      1577280182       nsit                     324.0   \n",
       "3      1577280184      sscbs                      76.0   \n",
       "4      1577280186  aurobindo                      49.3   \n",
       "\n",
       "   powerGenerationParameters.currentPowerOutput.solar  \\\n",
       "0                                                NaN    \n",
       "1                                                NaN    \n",
       "2                                                NaN    \n",
       "3                                                NaN    \n",
       "4                                                NaN    \n",
       "\n",
       "   powerGenerationParameters.powerGeneratedToday.solar  \n",
       "0                                         689.799988    \n",
       "1                                         404.450012    \n",
       "2                                         432.779999    \n",
       "3                                          91.040001    \n",
       "4                                         118.010002    "
      ]
     },
     "execution_count": 7,
     "metadata": {},
     "output_type": "execute_result"
    }
   ],
   "source": [
    "# pooling from the above dataset the variables realted to our analysis and excluding the variables related to invertors\n",
    "df = pd.pivot_table(solar_df, values=['powerGenerationParameters.powerGeneratedToday.solar','powerGenerationParameters.currentPowerOutput.solar', 'info.powerCapacity.solar'],index=['timestamp.solar', \"id.solar\"], aggfunc = np.mean)\n",
    "df = pd.DataFrame(df.to_records())\n",
    "df.head()"
   ]
  },
  {
   "cell_type": "code",
   "execution_count": 8,
   "metadata": {},
   "outputs": [
    {
     "data": {
      "text/html": [
       "<div>\n",
       "<style scoped>\n",
       "    .dataframe tbody tr th:only-of-type {\n",
       "        vertical-align: middle;\n",
       "    }\n",
       "\n",
       "    .dataframe tbody tr th {\n",
       "        vertical-align: top;\n",
       "    }\n",
       "\n",
       "    .dataframe thead th {\n",
       "        text-align: right;\n",
       "    }\n",
       "</style>\n",
       "<table border=\"1\" class=\"dataframe\">\n",
       "  <thead>\n",
       "    <tr style=\"text-align: right;\">\n",
       "      <th></th>\n",
       "      <th>timestamp.solar</th>\n",
       "      <th>id.solar</th>\n",
       "      <th>info.powerCapacity.solar</th>\n",
       "      <th>powerGenerationParameters.currentPowerOutput.solar</th>\n",
       "      <th>powerGenerationParameters.powerGeneratedToday.solar</th>\n",
       "    </tr>\n",
       "  </thead>\n",
       "  <tbody>\n",
       "    <tr>\n",
       "      <th>0</th>\n",
       "      <td>2019-12-25 05:22:00</td>\n",
       "      <td>dtu</td>\n",
       "      <td>432.0</td>\n",
       "      <td>NaN</td>\n",
       "      <td>689.799988</td>\n",
       "    </tr>\n",
       "    <tr>\n",
       "      <th>1</th>\n",
       "      <td>2019-12-25 05:23:00</td>\n",
       "      <td>igdtuw</td>\n",
       "      <td>168.0</td>\n",
       "      <td>NaN</td>\n",
       "      <td>404.450012</td>\n",
       "    </tr>\n",
       "    <tr>\n",
       "      <th>2</th>\n",
       "      <td>2019-12-25 05:23:00</td>\n",
       "      <td>nsit</td>\n",
       "      <td>324.0</td>\n",
       "      <td>NaN</td>\n",
       "      <td>432.779999</td>\n",
       "    </tr>\n",
       "    <tr>\n",
       "      <th>3</th>\n",
       "      <td>2019-12-25 05:23:00</td>\n",
       "      <td>sscbs</td>\n",
       "      <td>76.0</td>\n",
       "      <td>NaN</td>\n",
       "      <td>91.040001</td>\n",
       "    </tr>\n",
       "    <tr>\n",
       "      <th>4</th>\n",
       "      <td>2019-12-25 05:23:00</td>\n",
       "      <td>aurobindo</td>\n",
       "      <td>49.3</td>\n",
       "      <td>NaN</td>\n",
       "      <td>118.010002</td>\n",
       "    </tr>\n",
       "  </tbody>\n",
       "</table>\n",
       "</div>"
      ],
      "text/plain": [
       "      timestamp.solar   id.solar  info.powerCapacity.solar  \\\n",
       "0 2019-12-25 05:22:00        dtu                     432.0   \n",
       "1 2019-12-25 05:23:00     igdtuw                     168.0   \n",
       "2 2019-12-25 05:23:00       nsit                     324.0   \n",
       "3 2019-12-25 05:23:00      sscbs                      76.0   \n",
       "4 2019-12-25 05:23:00  aurobindo                      49.3   \n",
       "\n",
       "   powerGenerationParameters.currentPowerOutput.solar  \\\n",
       "0                                                NaN    \n",
       "1                                                NaN    \n",
       "2                                                NaN    \n",
       "3                                                NaN    \n",
       "4                                                NaN    \n",
       "\n",
       "   powerGenerationParameters.powerGeneratedToday.solar  \n",
       "0                                         689.799988    \n",
       "1                                         404.450012    \n",
       "2                                         432.779999    \n",
       "3                                          91.040001    \n",
       "4                                         118.010002    "
      ]
     },
     "execution_count": 8,
     "metadata": {},
     "output_type": "execute_result"
    }
   ],
   "source": [
    "# converting time stamp into date\n",
    "df['timestamp.solar'] = df['timestamp.solar'].map(lambda x: time.strftime(\"%D %H:%M\", time.localtime(int(x))))\n",
    "df['timestamp.solar'] = pd.to_datetime(df['timestamp.solar'], errors='coerce')\n",
    "df.head()"
   ]
  },
  {
   "cell_type": "code",
   "execution_count": 9,
   "metadata": {},
   "outputs": [],
   "source": [
    "# renaming df to convenient names\n",
    "df.rename(columns = {'powerGenerationParameters.powerGeneratedToday.solar' : 'energy',\n",
    "                     'info.powerCapacity.solar' : 'capacity',\n",
    "                     'powerGenerationParameters.currentPowerOutput.solar' : 'power',\n",
    "                     'id.solar' : 'id',\n",
    "                     'timestamp.solar': 'Date'},\n",
    "               inplace = True)"
   ]
  },
  {
   "cell_type": "code",
   "execution_count": 10,
   "metadata": {},
   "outputs": [
    {
     "data": {
      "text/html": [
       "<div>\n",
       "<style scoped>\n",
       "    .dataframe tbody tr th:only-of-type {\n",
       "        vertical-align: middle;\n",
       "    }\n",
       "\n",
       "    .dataframe tbody tr th {\n",
       "        vertical-align: top;\n",
       "    }\n",
       "\n",
       "    .dataframe thead th {\n",
       "        text-align: right;\n",
       "    }\n",
       "</style>\n",
       "<table border=\"1\" class=\"dataframe\">\n",
       "  <thead>\n",
       "    <tr style=\"text-align: right;\">\n",
       "      <th></th>\n",
       "      <th>Date</th>\n",
       "      <th>id</th>\n",
       "      <th>capacity</th>\n",
       "      <th>power</th>\n",
       "      <th>energy</th>\n",
       "      <th>hour</th>\n",
       "      <th>day</th>\n",
       "      <th>weekday</th>\n",
       "      <th>month</th>\n",
       "      <th>year</th>\n",
       "      <th>date</th>\n",
       "    </tr>\n",
       "  </thead>\n",
       "  <tbody>\n",
       "    <tr>\n",
       "      <th>0</th>\n",
       "      <td>2019-12-25 05:22:00</td>\n",
       "      <td>dtu</td>\n",
       "      <td>432.0</td>\n",
       "      <td>NaN</td>\n",
       "      <td>689.799988</td>\n",
       "      <td>5</td>\n",
       "      <td>25</td>\n",
       "      <td>2</td>\n",
       "      <td>12</td>\n",
       "      <td>19</td>\n",
       "      <td>2019-12-25</td>\n",
       "    </tr>\n",
       "    <tr>\n",
       "      <th>1</th>\n",
       "      <td>2019-12-25 05:23:00</td>\n",
       "      <td>igdtuw</td>\n",
       "      <td>168.0</td>\n",
       "      <td>NaN</td>\n",
       "      <td>404.450012</td>\n",
       "      <td>5</td>\n",
       "      <td>25</td>\n",
       "      <td>2</td>\n",
       "      <td>12</td>\n",
       "      <td>19</td>\n",
       "      <td>2019-12-25</td>\n",
       "    </tr>\n",
       "    <tr>\n",
       "      <th>2</th>\n",
       "      <td>2019-12-25 05:23:00</td>\n",
       "      <td>nsit</td>\n",
       "      <td>324.0</td>\n",
       "      <td>NaN</td>\n",
       "      <td>432.779999</td>\n",
       "      <td>5</td>\n",
       "      <td>25</td>\n",
       "      <td>2</td>\n",
       "      <td>12</td>\n",
       "      <td>19</td>\n",
       "      <td>2019-12-25</td>\n",
       "    </tr>\n",
       "    <tr>\n",
       "      <th>3</th>\n",
       "      <td>2019-12-25 05:23:00</td>\n",
       "      <td>sscbs</td>\n",
       "      <td>76.0</td>\n",
       "      <td>NaN</td>\n",
       "      <td>91.040001</td>\n",
       "      <td>5</td>\n",
       "      <td>25</td>\n",
       "      <td>2</td>\n",
       "      <td>12</td>\n",
       "      <td>19</td>\n",
       "      <td>2019-12-25</td>\n",
       "    </tr>\n",
       "    <tr>\n",
       "      <th>4</th>\n",
       "      <td>2019-12-25 05:23:00</td>\n",
       "      <td>aurobindo</td>\n",
       "      <td>49.3</td>\n",
       "      <td>NaN</td>\n",
       "      <td>118.010002</td>\n",
       "      <td>5</td>\n",
       "      <td>25</td>\n",
       "      <td>2</td>\n",
       "      <td>12</td>\n",
       "      <td>19</td>\n",
       "      <td>2019-12-25</td>\n",
       "    </tr>\n",
       "  </tbody>\n",
       "</table>\n",
       "</div>"
      ],
      "text/plain": [
       "                 Date         id  capacity  power      energy  hour  day  \\\n",
       "0 2019-12-25 05:22:00        dtu     432.0    NaN  689.799988     5   25   \n",
       "1 2019-12-25 05:23:00     igdtuw     168.0    NaN  404.450012     5   25   \n",
       "2 2019-12-25 05:23:00       nsit     324.0    NaN  432.779999     5   25   \n",
       "3 2019-12-25 05:23:00      sscbs      76.0    NaN   91.040001     5   25   \n",
       "4 2019-12-25 05:23:00  aurobindo      49.3    NaN  118.010002     5   25   \n",
       "\n",
       "   weekday  month  year       date  \n",
       "0        2     12    19 2019-12-25  \n",
       "1        2     12    19 2019-12-25  \n",
       "2        2     12    19 2019-12-25  \n",
       "3        2     12    19 2019-12-25  \n",
       "4        2     12    19 2019-12-25  "
      ]
     },
     "execution_count": 10,
     "metadata": {},
     "output_type": "execute_result"
    }
   ],
   "source": [
    "# adding new variables by transforming date into hour, day, weekday, month, year, and date without hours \n",
    "def transform(df):\n",
    "    df['hour'] = np.uint8(df['Date'].dt.hour)\n",
    "    df['day'] = np.uint8(df['Date'].dt.day)\n",
    "    df['weekday'] = np.uint8(df['Date'].dt.weekday)\n",
    "    df['month'] = np.uint8(df['Date'].dt.month)\n",
    "    df['year'] = np.uint8(df['Date'].dt.year-2000)\n",
    "    df['date'] = df['Date'].dt.date\n",
    "    df['date'] = pd.to_datetime(df['date'], errors='coerce')\n",
    "    return df\n",
    "\n",
    "df = transform(df)\n",
    "df.head()"
   ]
  },
  {
   "cell_type": "code",
   "execution_count": 11,
   "metadata": {},
   "outputs": [
    {
     "data": {
      "text/html": [
       "<div>\n",
       "<style scoped>\n",
       "    .dataframe tbody tr th:only-of-type {\n",
       "        vertical-align: middle;\n",
       "    }\n",
       "\n",
       "    .dataframe tbody tr th {\n",
       "        vertical-align: top;\n",
       "    }\n",
       "\n",
       "    .dataframe thead th {\n",
       "        text-align: right;\n",
       "    }\n",
       "</style>\n",
       "<table border=\"1\" class=\"dataframe\">\n",
       "  <thead>\n",
       "    <tr style=\"text-align: right;\">\n",
       "      <th></th>\n",
       "      <th>id</th>\n",
       "      <th>count</th>\n",
       "    </tr>\n",
       "  </thead>\n",
       "  <tbody>\n",
       "    <tr>\n",
       "      <th>0</th>\n",
       "      <td>43707</td>\n",
       "      <td>867</td>\n",
       "    </tr>\n",
       "    <tr>\n",
       "      <th>1</th>\n",
       "      <td>55448</td>\n",
       "      <td>1014</td>\n",
       "    </tr>\n",
       "    <tr>\n",
       "      <th>2</th>\n",
       "      <td>58292</td>\n",
       "      <td>970</td>\n",
       "    </tr>\n",
       "    <tr>\n",
       "      <th>3</th>\n",
       "      <td>58337</td>\n",
       "      <td>812</td>\n",
       "    </tr>\n",
       "    <tr>\n",
       "      <th>4</th>\n",
       "      <td>59093</td>\n",
       "      <td>483</td>\n",
       "    </tr>\n",
       "  </tbody>\n",
       "</table>\n",
       "</div>"
      ],
      "text/plain": [
       "      id  count\n",
       "0  43707    867\n",
       "1  55448   1014\n",
       "2  58292    970\n",
       "3  58337    812\n",
       "4  59093    483"
      ]
     },
     "execution_count": 11,
     "metadata": {},
     "output_type": "execute_result"
    }
   ],
   "source": [
    "# pivoting by \"id\" to count how many obserbations for each stations\n",
    "df_count = pd.pivot_table(df, values=['energy'], index='id', aggfunc = ['count'])\n",
    "df_count = pd.DataFrame(df_count.to_records())\n",
    "df_count = df_count.rename(columns = {\"('count', 'energy')\":\"count\"})\n",
    "df_count.head()"
   ]
  },
  {
   "cell_type": "code",
   "execution_count": 14,
   "metadata": {},
   "outputs": [
    {
     "data": {
      "application/vnd.plotly.v1+json": {
       "config": {
        "plotlyServerURL": "https://plot.ly"
       },
       "data": [
        {
         "alignmentgroup": "True",
         "hoverlabel": {
          "namelength": 0
         },
         "hovertemplate": "id=%{x}<br>count=%{text}",
         "legendgroup": "",
         "marker": {
          "color": "#636efa"
         },
         "name": "",
         "offsetgroup": "",
         "orientation": "v",
         "showlegend": false,
         "text": [
          867,
          1014,
          970,
          812,
          483,
          1065,
          1016,
          1013,
          1007,
          854,
          1033,
          1024,
          1038,
          1003,
          998,
          1024,
          964,
          786,
          835,
          1029,
          1038,
          1009,
          949,
          1040,
          1005,
          1022,
          695
         ],
         "textposition": "outside",
         "texttemplate": "%{text:4}",
         "type": "bar",
         "x": [
          "43707",
          "55448",
          "58292",
          "58337",
          "59093",
          "ait82kw",
          "aurobindo",
          "btcpusa110kw",
          "deendayalupadhyaycollege",
          "delhihaat",
          "dtu",
          "igdtuw",
          "ihbas",
          "iiitd",
          "iticvraman",
          "itijaffarpur",
          "itijailroad",
          "itimangolpuri",
          "itipusa",
          "kalindicillege",
          "kitpitampura",
          "maulanaazadmedicalcollege",
          "meerabaiinstituteoftechnology",
          "nsit",
          "pitacademicblock100kw",
          "satyawaticollege",
          "sscbs"
         ],
         "xaxis": "x",
         "y": [
          867,
          1014,
          970,
          812,
          483,
          1065,
          1016,
          1013,
          1007,
          854,
          1033,
          1024,
          1038,
          1003,
          998,
          1024,
          964,
          786,
          835,
          1029,
          1038,
          1009,
          949,
          1040,
          1005,
          1022,
          695
         ],
         "yaxis": "y"
        }
       ],
       "layout": {
        "barmode": "relative",
        "legend": {
         "tracegroupgap": 0
        },
        "margin": {
         "t": 60
        },
        "template": {
         "data": {
          "bar": [
           {
            "error_x": {
             "color": "#2a3f5f"
            },
            "error_y": {
             "color": "#2a3f5f"
            },
            "marker": {
             "line": {
              "color": "#E5ECF6",
              "width": 0.5
             }
            },
            "type": "bar"
           }
          ],
          "barpolar": [
           {
            "marker": {
             "line": {
              "color": "#E5ECF6",
              "width": 0.5
             }
            },
            "type": "barpolar"
           }
          ],
          "carpet": [
           {
            "aaxis": {
             "endlinecolor": "#2a3f5f",
             "gridcolor": "white",
             "linecolor": "white",
             "minorgridcolor": "white",
             "startlinecolor": "#2a3f5f"
            },
            "baxis": {
             "endlinecolor": "#2a3f5f",
             "gridcolor": "white",
             "linecolor": "white",
             "minorgridcolor": "white",
             "startlinecolor": "#2a3f5f"
            },
            "type": "carpet"
           }
          ],
          "choropleth": [
           {
            "colorbar": {
             "outlinewidth": 0,
             "ticks": ""
            },
            "type": "choropleth"
           }
          ],
          "contour": [
           {
            "colorbar": {
             "outlinewidth": 0,
             "ticks": ""
            },
            "colorscale": [
             [
              0,
              "#0d0887"
             ],
             [
              0.1111111111111111,
              "#46039f"
             ],
             [
              0.2222222222222222,
              "#7201a8"
             ],
             [
              0.3333333333333333,
              "#9c179e"
             ],
             [
              0.4444444444444444,
              "#bd3786"
             ],
             [
              0.5555555555555556,
              "#d8576b"
             ],
             [
              0.6666666666666666,
              "#ed7953"
             ],
             [
              0.7777777777777778,
              "#fb9f3a"
             ],
             [
              0.8888888888888888,
              "#fdca26"
             ],
             [
              1,
              "#f0f921"
             ]
            ],
            "type": "contour"
           }
          ],
          "contourcarpet": [
           {
            "colorbar": {
             "outlinewidth": 0,
             "ticks": ""
            },
            "type": "contourcarpet"
           }
          ],
          "heatmap": [
           {
            "colorbar": {
             "outlinewidth": 0,
             "ticks": ""
            },
            "colorscale": [
             [
              0,
              "#0d0887"
             ],
             [
              0.1111111111111111,
              "#46039f"
             ],
             [
              0.2222222222222222,
              "#7201a8"
             ],
             [
              0.3333333333333333,
              "#9c179e"
             ],
             [
              0.4444444444444444,
              "#bd3786"
             ],
             [
              0.5555555555555556,
              "#d8576b"
             ],
             [
              0.6666666666666666,
              "#ed7953"
             ],
             [
              0.7777777777777778,
              "#fb9f3a"
             ],
             [
              0.8888888888888888,
              "#fdca26"
             ],
             [
              1,
              "#f0f921"
             ]
            ],
            "type": "heatmap"
           }
          ],
          "heatmapgl": [
           {
            "colorbar": {
             "outlinewidth": 0,
             "ticks": ""
            },
            "colorscale": [
             [
              0,
              "#0d0887"
             ],
             [
              0.1111111111111111,
              "#46039f"
             ],
             [
              0.2222222222222222,
              "#7201a8"
             ],
             [
              0.3333333333333333,
              "#9c179e"
             ],
             [
              0.4444444444444444,
              "#bd3786"
             ],
             [
              0.5555555555555556,
              "#d8576b"
             ],
             [
              0.6666666666666666,
              "#ed7953"
             ],
             [
              0.7777777777777778,
              "#fb9f3a"
             ],
             [
              0.8888888888888888,
              "#fdca26"
             ],
             [
              1,
              "#f0f921"
             ]
            ],
            "type": "heatmapgl"
           }
          ],
          "histogram": [
           {
            "marker": {
             "colorbar": {
              "outlinewidth": 0,
              "ticks": ""
             }
            },
            "type": "histogram"
           }
          ],
          "histogram2d": [
           {
            "colorbar": {
             "outlinewidth": 0,
             "ticks": ""
            },
            "colorscale": [
             [
              0,
              "#0d0887"
             ],
             [
              0.1111111111111111,
              "#46039f"
             ],
             [
              0.2222222222222222,
              "#7201a8"
             ],
             [
              0.3333333333333333,
              "#9c179e"
             ],
             [
              0.4444444444444444,
              "#bd3786"
             ],
             [
              0.5555555555555556,
              "#d8576b"
             ],
             [
              0.6666666666666666,
              "#ed7953"
             ],
             [
              0.7777777777777778,
              "#fb9f3a"
             ],
             [
              0.8888888888888888,
              "#fdca26"
             ],
             [
              1,
              "#f0f921"
             ]
            ],
            "type": "histogram2d"
           }
          ],
          "histogram2dcontour": [
           {
            "colorbar": {
             "outlinewidth": 0,
             "ticks": ""
            },
            "colorscale": [
             [
              0,
              "#0d0887"
             ],
             [
              0.1111111111111111,
              "#46039f"
             ],
             [
              0.2222222222222222,
              "#7201a8"
             ],
             [
              0.3333333333333333,
              "#9c179e"
             ],
             [
              0.4444444444444444,
              "#bd3786"
             ],
             [
              0.5555555555555556,
              "#d8576b"
             ],
             [
              0.6666666666666666,
              "#ed7953"
             ],
             [
              0.7777777777777778,
              "#fb9f3a"
             ],
             [
              0.8888888888888888,
              "#fdca26"
             ],
             [
              1,
              "#f0f921"
             ]
            ],
            "type": "histogram2dcontour"
           }
          ],
          "mesh3d": [
           {
            "colorbar": {
             "outlinewidth": 0,
             "ticks": ""
            },
            "type": "mesh3d"
           }
          ],
          "parcoords": [
           {
            "line": {
             "colorbar": {
              "outlinewidth": 0,
              "ticks": ""
             }
            },
            "type": "parcoords"
           }
          ],
          "pie": [
           {
            "automargin": true,
            "type": "pie"
           }
          ],
          "scatter": [
           {
            "marker": {
             "colorbar": {
              "outlinewidth": 0,
              "ticks": ""
             }
            },
            "type": "scatter"
           }
          ],
          "scatter3d": [
           {
            "line": {
             "colorbar": {
              "outlinewidth": 0,
              "ticks": ""
             }
            },
            "marker": {
             "colorbar": {
              "outlinewidth": 0,
              "ticks": ""
             }
            },
            "type": "scatter3d"
           }
          ],
          "scattercarpet": [
           {
            "marker": {
             "colorbar": {
              "outlinewidth": 0,
              "ticks": ""
             }
            },
            "type": "scattercarpet"
           }
          ],
          "scattergeo": [
           {
            "marker": {
             "colorbar": {
              "outlinewidth": 0,
              "ticks": ""
             }
            },
            "type": "scattergeo"
           }
          ],
          "scattergl": [
           {
            "marker": {
             "colorbar": {
              "outlinewidth": 0,
              "ticks": ""
             }
            },
            "type": "scattergl"
           }
          ],
          "scattermapbox": [
           {
            "marker": {
             "colorbar": {
              "outlinewidth": 0,
              "ticks": ""
             }
            },
            "type": "scattermapbox"
           }
          ],
          "scatterpolar": [
           {
            "marker": {
             "colorbar": {
              "outlinewidth": 0,
              "ticks": ""
             }
            },
            "type": "scatterpolar"
           }
          ],
          "scatterpolargl": [
           {
            "marker": {
             "colorbar": {
              "outlinewidth": 0,
              "ticks": ""
             }
            },
            "type": "scatterpolargl"
           }
          ],
          "scatterternary": [
           {
            "marker": {
             "colorbar": {
              "outlinewidth": 0,
              "ticks": ""
             }
            },
            "type": "scatterternary"
           }
          ],
          "surface": [
           {
            "colorbar": {
             "outlinewidth": 0,
             "ticks": ""
            },
            "colorscale": [
             [
              0,
              "#0d0887"
             ],
             [
              0.1111111111111111,
              "#46039f"
             ],
             [
              0.2222222222222222,
              "#7201a8"
             ],
             [
              0.3333333333333333,
              "#9c179e"
             ],
             [
              0.4444444444444444,
              "#bd3786"
             ],
             [
              0.5555555555555556,
              "#d8576b"
             ],
             [
              0.6666666666666666,
              "#ed7953"
             ],
             [
              0.7777777777777778,
              "#fb9f3a"
             ],
             [
              0.8888888888888888,
              "#fdca26"
             ],
             [
              1,
              "#f0f921"
             ]
            ],
            "type": "surface"
           }
          ],
          "table": [
           {
            "cells": {
             "fill": {
              "color": "#EBF0F8"
             },
             "line": {
              "color": "white"
             }
            },
            "header": {
             "fill": {
              "color": "#C8D4E3"
             },
             "line": {
              "color": "white"
             }
            },
            "type": "table"
           }
          ]
         },
         "layout": {
          "annotationdefaults": {
           "arrowcolor": "#2a3f5f",
           "arrowhead": 0,
           "arrowwidth": 1
          },
          "coloraxis": {
           "colorbar": {
            "outlinewidth": 0,
            "ticks": ""
           }
          },
          "colorscale": {
           "diverging": [
            [
             0,
             "#8e0152"
            ],
            [
             0.1,
             "#c51b7d"
            ],
            [
             0.2,
             "#de77ae"
            ],
            [
             0.3,
             "#f1b6da"
            ],
            [
             0.4,
             "#fde0ef"
            ],
            [
             0.5,
             "#f7f7f7"
            ],
            [
             0.6,
             "#e6f5d0"
            ],
            [
             0.7,
             "#b8e186"
            ],
            [
             0.8,
             "#7fbc41"
            ],
            [
             0.9,
             "#4d9221"
            ],
            [
             1,
             "#276419"
            ]
           ],
           "sequential": [
            [
             0,
             "#0d0887"
            ],
            [
             0.1111111111111111,
             "#46039f"
            ],
            [
             0.2222222222222222,
             "#7201a8"
            ],
            [
             0.3333333333333333,
             "#9c179e"
            ],
            [
             0.4444444444444444,
             "#bd3786"
            ],
            [
             0.5555555555555556,
             "#d8576b"
            ],
            [
             0.6666666666666666,
             "#ed7953"
            ],
            [
             0.7777777777777778,
             "#fb9f3a"
            ],
            [
             0.8888888888888888,
             "#fdca26"
            ],
            [
             1,
             "#f0f921"
            ]
           ],
           "sequentialminus": [
            [
             0,
             "#0d0887"
            ],
            [
             0.1111111111111111,
             "#46039f"
            ],
            [
             0.2222222222222222,
             "#7201a8"
            ],
            [
             0.3333333333333333,
             "#9c179e"
            ],
            [
             0.4444444444444444,
             "#bd3786"
            ],
            [
             0.5555555555555556,
             "#d8576b"
            ],
            [
             0.6666666666666666,
             "#ed7953"
            ],
            [
             0.7777777777777778,
             "#fb9f3a"
            ],
            [
             0.8888888888888888,
             "#fdca26"
            ],
            [
             1,
             "#f0f921"
            ]
           ]
          },
          "colorway": [
           "#636efa",
           "#EF553B",
           "#00cc96",
           "#ab63fa",
           "#FFA15A",
           "#19d3f3",
           "#FF6692",
           "#B6E880",
           "#FF97FF",
           "#FECB52"
          ],
          "font": {
           "color": "#2a3f5f"
          },
          "geo": {
           "bgcolor": "white",
           "lakecolor": "white",
           "landcolor": "#E5ECF6",
           "showlakes": true,
           "showland": true,
           "subunitcolor": "white"
          },
          "hoverlabel": {
           "align": "left"
          },
          "hovermode": "closest",
          "mapbox": {
           "style": "light"
          },
          "paper_bgcolor": "white",
          "plot_bgcolor": "#E5ECF6",
          "polar": {
           "angularaxis": {
            "gridcolor": "white",
            "linecolor": "white",
            "ticks": ""
           },
           "bgcolor": "#E5ECF6",
           "radialaxis": {
            "gridcolor": "white",
            "linecolor": "white",
            "ticks": ""
           }
          },
          "scene": {
           "xaxis": {
            "backgroundcolor": "#E5ECF6",
            "gridcolor": "white",
            "gridwidth": 2,
            "linecolor": "white",
            "showbackground": true,
            "ticks": "",
            "zerolinecolor": "white"
           },
           "yaxis": {
            "backgroundcolor": "#E5ECF6",
            "gridcolor": "white",
            "gridwidth": 2,
            "linecolor": "white",
            "showbackground": true,
            "ticks": "",
            "zerolinecolor": "white"
           },
           "zaxis": {
            "backgroundcolor": "#E5ECF6",
            "gridcolor": "white",
            "gridwidth": 2,
            "linecolor": "white",
            "showbackground": true,
            "ticks": "",
            "zerolinecolor": "white"
           }
          },
          "shapedefaults": {
           "line": {
            "color": "#2a3f5f"
           }
          },
          "ternary": {
           "aaxis": {
            "gridcolor": "white",
            "linecolor": "white",
            "ticks": ""
           },
           "baxis": {
            "gridcolor": "white",
            "linecolor": "white",
            "ticks": ""
           },
           "bgcolor": "#E5ECF6",
           "caxis": {
            "gridcolor": "white",
            "linecolor": "white",
            "ticks": ""
           }
          },
          "title": {
           "x": 0.05
          },
          "xaxis": {
           "automargin": true,
           "gridcolor": "white",
           "linecolor": "white",
           "ticks": "",
           "title": {
            "standoff": 15
           },
           "zerolinecolor": "white",
           "zerolinewidth": 2
          },
          "yaxis": {
           "automargin": true,
           "gridcolor": "white",
           "linecolor": "white",
           "ticks": "",
           "title": {
            "standoff": 15
           },
           "zerolinecolor": "white",
           "zerolinewidth": 2
          }
         }
        },
        "title": {
         "text": "Number of Observations from Each Stations"
        },
        "xaxis": {
         "title": {
          "text": "Name of the Stations"
         }
        },
        "yaxis": {
         "title": {
          "text": "Number of Observations"
         }
        }
       }
      },
      "text/html": [
       "<div>\n",
       "        \n",
       "        \n",
       "            <div id=\"56b96a24-106b-482d-b3b3-bd807ec53d99\" class=\"plotly-graph-div\" style=\"height:525px; width:100%;\"></div>\n",
       "            <script type=\"text/javascript\">\n",
       "                require([\"plotly\"], function(Plotly) {\n",
       "                    window.PLOTLYENV=window.PLOTLYENV || {};\n",
       "                    \n",
       "                if (document.getElementById(\"56b96a24-106b-482d-b3b3-bd807ec53d99\")) {\n",
       "                    Plotly.newPlot(\n",
       "                        '56b96a24-106b-482d-b3b3-bd807ec53d99',\n",
       "                        [{\"alignmentgroup\": \"True\", \"hoverlabel\": {\"namelength\": 0}, \"hovertemplate\": \"id=%{x}<br>count=%{text}\", \"legendgroup\": \"\", \"marker\": {\"color\": \"#636efa\"}, \"name\": \"\", \"offsetgroup\": \"\", \"orientation\": \"v\", \"showlegend\": false, \"text\": [867.0, 1014.0, 970.0, 812.0, 483.0, 1065.0, 1016.0, 1013.0, 1007.0, 854.0, 1033.0, 1024.0, 1038.0, 1003.0, 998.0, 1024.0, 964.0, 786.0, 835.0, 1029.0, 1038.0, 1009.0, 949.0, 1040.0, 1005.0, 1022.0, 695.0], \"textposition\": \"outside\", \"texttemplate\": \"%{text:4}\", \"type\": \"bar\", \"x\": [\"43707\", \"55448\", \"58292\", \"58337\", \"59093\", \"ait82kw\", \"aurobindo\", \"btcpusa110kw\", \"deendayalupadhyaycollege\", \"delhihaat\", \"dtu\", \"igdtuw\", \"ihbas\", \"iiitd\", \"iticvraman\", \"itijaffarpur\", \"itijailroad\", \"itimangolpuri\", \"itipusa\", \"kalindicillege\", \"kitpitampura\", \"maulanaazadmedicalcollege\", \"meerabaiinstituteoftechnology\", \"nsit\", \"pitacademicblock100kw\", \"satyawaticollege\", \"sscbs\"], \"xaxis\": \"x\", \"y\": [867, 1014, 970, 812, 483, 1065, 1016, 1013, 1007, 854, 1033, 1024, 1038, 1003, 998, 1024, 964, 786, 835, 1029, 1038, 1009, 949, 1040, 1005, 1022, 695], \"yaxis\": \"y\"}],\n",
       "                        {\"barmode\": \"relative\", \"legend\": {\"tracegroupgap\": 0}, \"margin\": {\"t\": 60}, \"template\": {\"data\": {\"bar\": [{\"error_x\": {\"color\": \"#2a3f5f\"}, \"error_y\": {\"color\": \"#2a3f5f\"}, \"marker\": {\"line\": {\"color\": \"#E5ECF6\", \"width\": 0.5}}, \"type\": \"bar\"}], \"barpolar\": [{\"marker\": {\"line\": {\"color\": \"#E5ECF6\", \"width\": 0.5}}, \"type\": \"barpolar\"}], \"carpet\": [{\"aaxis\": {\"endlinecolor\": \"#2a3f5f\", \"gridcolor\": \"white\", \"linecolor\": \"white\", \"minorgridcolor\": \"white\", \"startlinecolor\": \"#2a3f5f\"}, \"baxis\": {\"endlinecolor\": \"#2a3f5f\", \"gridcolor\": \"white\", \"linecolor\": \"white\", \"minorgridcolor\": \"white\", \"startlinecolor\": \"#2a3f5f\"}, \"type\": \"carpet\"}], \"choropleth\": [{\"colorbar\": {\"outlinewidth\": 0, \"ticks\": \"\"}, \"type\": \"choropleth\"}], \"contour\": [{\"colorbar\": {\"outlinewidth\": 0, \"ticks\": \"\"}, \"colorscale\": [[0.0, \"#0d0887\"], [0.1111111111111111, \"#46039f\"], [0.2222222222222222, \"#7201a8\"], [0.3333333333333333, \"#9c179e\"], [0.4444444444444444, \"#bd3786\"], [0.5555555555555556, \"#d8576b\"], [0.6666666666666666, \"#ed7953\"], [0.7777777777777778, \"#fb9f3a\"], [0.8888888888888888, \"#fdca26\"], [1.0, \"#f0f921\"]], \"type\": \"contour\"}], \"contourcarpet\": [{\"colorbar\": {\"outlinewidth\": 0, \"ticks\": \"\"}, \"type\": \"contourcarpet\"}], \"heatmap\": [{\"colorbar\": {\"outlinewidth\": 0, \"ticks\": \"\"}, \"colorscale\": [[0.0, \"#0d0887\"], [0.1111111111111111, \"#46039f\"], [0.2222222222222222, \"#7201a8\"], [0.3333333333333333, \"#9c179e\"], [0.4444444444444444, \"#bd3786\"], [0.5555555555555556, \"#d8576b\"], [0.6666666666666666, \"#ed7953\"], [0.7777777777777778, \"#fb9f3a\"], [0.8888888888888888, \"#fdca26\"], [1.0, \"#f0f921\"]], \"type\": \"heatmap\"}], \"heatmapgl\": [{\"colorbar\": {\"outlinewidth\": 0, \"ticks\": \"\"}, \"colorscale\": [[0.0, \"#0d0887\"], [0.1111111111111111, \"#46039f\"], [0.2222222222222222, \"#7201a8\"], [0.3333333333333333, \"#9c179e\"], [0.4444444444444444, \"#bd3786\"], [0.5555555555555556, \"#d8576b\"], [0.6666666666666666, \"#ed7953\"], [0.7777777777777778, \"#fb9f3a\"], [0.8888888888888888, \"#fdca26\"], [1.0, \"#f0f921\"]], \"type\": \"heatmapgl\"}], \"histogram\": [{\"marker\": {\"colorbar\": {\"outlinewidth\": 0, \"ticks\": \"\"}}, \"type\": \"histogram\"}], \"histogram2d\": [{\"colorbar\": {\"outlinewidth\": 0, \"ticks\": \"\"}, \"colorscale\": [[0.0, \"#0d0887\"], [0.1111111111111111, \"#46039f\"], [0.2222222222222222, \"#7201a8\"], [0.3333333333333333, \"#9c179e\"], [0.4444444444444444, \"#bd3786\"], [0.5555555555555556, \"#d8576b\"], [0.6666666666666666, \"#ed7953\"], [0.7777777777777778, \"#fb9f3a\"], [0.8888888888888888, \"#fdca26\"], [1.0, \"#f0f921\"]], \"type\": \"histogram2d\"}], \"histogram2dcontour\": [{\"colorbar\": {\"outlinewidth\": 0, \"ticks\": \"\"}, \"colorscale\": [[0.0, \"#0d0887\"], [0.1111111111111111, \"#46039f\"], [0.2222222222222222, \"#7201a8\"], [0.3333333333333333, \"#9c179e\"], [0.4444444444444444, \"#bd3786\"], [0.5555555555555556, \"#d8576b\"], [0.6666666666666666, \"#ed7953\"], [0.7777777777777778, \"#fb9f3a\"], [0.8888888888888888, \"#fdca26\"], [1.0, \"#f0f921\"]], \"type\": \"histogram2dcontour\"}], \"mesh3d\": [{\"colorbar\": {\"outlinewidth\": 0, \"ticks\": \"\"}, \"type\": \"mesh3d\"}], \"parcoords\": [{\"line\": {\"colorbar\": {\"outlinewidth\": 0, \"ticks\": \"\"}}, \"type\": \"parcoords\"}], \"pie\": [{\"automargin\": true, \"type\": \"pie\"}], \"scatter\": [{\"marker\": {\"colorbar\": {\"outlinewidth\": 0, \"ticks\": \"\"}}, \"type\": \"scatter\"}], \"scatter3d\": [{\"line\": {\"colorbar\": {\"outlinewidth\": 0, \"ticks\": \"\"}}, \"marker\": {\"colorbar\": {\"outlinewidth\": 0, \"ticks\": \"\"}}, \"type\": \"scatter3d\"}], \"scattercarpet\": [{\"marker\": {\"colorbar\": {\"outlinewidth\": 0, \"ticks\": \"\"}}, \"type\": \"scattercarpet\"}], \"scattergeo\": [{\"marker\": {\"colorbar\": {\"outlinewidth\": 0, \"ticks\": \"\"}}, \"type\": \"scattergeo\"}], \"scattergl\": [{\"marker\": {\"colorbar\": {\"outlinewidth\": 0, \"ticks\": \"\"}}, \"type\": \"scattergl\"}], \"scattermapbox\": [{\"marker\": {\"colorbar\": {\"outlinewidth\": 0, \"ticks\": \"\"}}, \"type\": \"scattermapbox\"}], \"scatterpolar\": [{\"marker\": {\"colorbar\": {\"outlinewidth\": 0, \"ticks\": \"\"}}, \"type\": \"scatterpolar\"}], \"scatterpolargl\": [{\"marker\": {\"colorbar\": {\"outlinewidth\": 0, \"ticks\": \"\"}}, \"type\": \"scatterpolargl\"}], \"scatterternary\": [{\"marker\": {\"colorbar\": {\"outlinewidth\": 0, \"ticks\": \"\"}}, \"type\": \"scatterternary\"}], \"surface\": [{\"colorbar\": {\"outlinewidth\": 0, \"ticks\": \"\"}, \"colorscale\": [[0.0, \"#0d0887\"], [0.1111111111111111, \"#46039f\"], [0.2222222222222222, \"#7201a8\"], [0.3333333333333333, \"#9c179e\"], [0.4444444444444444, \"#bd3786\"], [0.5555555555555556, \"#d8576b\"], [0.6666666666666666, \"#ed7953\"], [0.7777777777777778, \"#fb9f3a\"], [0.8888888888888888, \"#fdca26\"], [1.0, \"#f0f921\"]], \"type\": \"surface\"}], \"table\": [{\"cells\": {\"fill\": {\"color\": \"#EBF0F8\"}, \"line\": {\"color\": \"white\"}}, \"header\": {\"fill\": {\"color\": \"#C8D4E3\"}, \"line\": {\"color\": \"white\"}}, \"type\": \"table\"}]}, \"layout\": {\"annotationdefaults\": {\"arrowcolor\": \"#2a3f5f\", \"arrowhead\": 0, \"arrowwidth\": 1}, \"coloraxis\": {\"colorbar\": {\"outlinewidth\": 0, \"ticks\": \"\"}}, \"colorscale\": {\"diverging\": [[0, \"#8e0152\"], [0.1, \"#c51b7d\"], [0.2, \"#de77ae\"], [0.3, \"#f1b6da\"], [0.4, \"#fde0ef\"], [0.5, \"#f7f7f7\"], [0.6, \"#e6f5d0\"], [0.7, \"#b8e186\"], [0.8, \"#7fbc41\"], [0.9, \"#4d9221\"], [1, \"#276419\"]], \"sequential\": [[0.0, \"#0d0887\"], [0.1111111111111111, \"#46039f\"], [0.2222222222222222, \"#7201a8\"], [0.3333333333333333, \"#9c179e\"], [0.4444444444444444, \"#bd3786\"], [0.5555555555555556, \"#d8576b\"], [0.6666666666666666, \"#ed7953\"], [0.7777777777777778, \"#fb9f3a\"], [0.8888888888888888, \"#fdca26\"], [1.0, \"#f0f921\"]], \"sequentialminus\": [[0.0, \"#0d0887\"], [0.1111111111111111, \"#46039f\"], [0.2222222222222222, \"#7201a8\"], [0.3333333333333333, \"#9c179e\"], [0.4444444444444444, \"#bd3786\"], [0.5555555555555556, \"#d8576b\"], [0.6666666666666666, \"#ed7953\"], [0.7777777777777778, \"#fb9f3a\"], [0.8888888888888888, \"#fdca26\"], [1.0, \"#f0f921\"]]}, \"colorway\": [\"#636efa\", \"#EF553B\", \"#00cc96\", \"#ab63fa\", \"#FFA15A\", \"#19d3f3\", \"#FF6692\", \"#B6E880\", \"#FF97FF\", \"#FECB52\"], \"font\": {\"color\": \"#2a3f5f\"}, \"geo\": {\"bgcolor\": \"white\", \"lakecolor\": \"white\", \"landcolor\": \"#E5ECF6\", \"showlakes\": true, \"showland\": true, \"subunitcolor\": \"white\"}, \"hoverlabel\": {\"align\": \"left\"}, \"hovermode\": \"closest\", \"mapbox\": {\"style\": \"light\"}, \"paper_bgcolor\": \"white\", \"plot_bgcolor\": \"#E5ECF6\", \"polar\": {\"angularaxis\": {\"gridcolor\": \"white\", \"linecolor\": \"white\", \"ticks\": \"\"}, \"bgcolor\": \"#E5ECF6\", \"radialaxis\": {\"gridcolor\": \"white\", \"linecolor\": \"white\", \"ticks\": \"\"}}, \"scene\": {\"xaxis\": {\"backgroundcolor\": \"#E5ECF6\", \"gridcolor\": \"white\", \"gridwidth\": 2, \"linecolor\": \"white\", \"showbackground\": true, \"ticks\": \"\", \"zerolinecolor\": \"white\"}, \"yaxis\": {\"backgroundcolor\": \"#E5ECF6\", \"gridcolor\": \"white\", \"gridwidth\": 2, \"linecolor\": \"white\", \"showbackground\": true, \"ticks\": \"\", \"zerolinecolor\": \"white\"}, \"zaxis\": {\"backgroundcolor\": \"#E5ECF6\", \"gridcolor\": \"white\", \"gridwidth\": 2, \"linecolor\": \"white\", \"showbackground\": true, \"ticks\": \"\", \"zerolinecolor\": \"white\"}}, \"shapedefaults\": {\"line\": {\"color\": \"#2a3f5f\"}}, \"ternary\": {\"aaxis\": {\"gridcolor\": \"white\", \"linecolor\": \"white\", \"ticks\": \"\"}, \"baxis\": {\"gridcolor\": \"white\", \"linecolor\": \"white\", \"ticks\": \"\"}, \"bgcolor\": \"#E5ECF6\", \"caxis\": {\"gridcolor\": \"white\", \"linecolor\": \"white\", \"ticks\": \"\"}}, \"title\": {\"x\": 0.05}, \"xaxis\": {\"automargin\": true, \"gridcolor\": \"white\", \"linecolor\": \"white\", \"ticks\": \"\", \"title\": {\"standoff\": 15}, \"zerolinecolor\": \"white\", \"zerolinewidth\": 2}, \"yaxis\": {\"automargin\": true, \"gridcolor\": \"white\", \"linecolor\": \"white\", \"ticks\": \"\", \"title\": {\"standoff\": 15}, \"zerolinecolor\": \"white\", \"zerolinewidth\": 2}}}, \"title\": {\"text\": \"Number of Observations from Each Stations\"}, \"xaxis\": {\"title\": {\"text\": \"Name of the Stations\"}}, \"yaxis\": {\"title\": {\"text\": \"Number of Observations\"}}},\n",
       "                        {\"responsive\": true}\n",
       "                    ).then(function(){\n",
       "                            \n",
       "var gd = document.getElementById('56b96a24-106b-482d-b3b3-bd807ec53d99');\n",
       "var x = new MutationObserver(function (mutations, observer) {{\n",
       "        var display = window.getComputedStyle(gd).display;\n",
       "        if (!display || display === 'none') {{\n",
       "            console.log([gd, 'removed!']);\n",
       "            Plotly.purge(gd);\n",
       "            observer.disconnect();\n",
       "        }}\n",
       "}});\n",
       "\n",
       "// Listen for the removal of the full notebook cells\n",
       "var notebookContainer = gd.closest('#notebook-container');\n",
       "if (notebookContainer) {{\n",
       "    x.observe(notebookContainer, {childList: true});\n",
       "}}\n",
       "\n",
       "// Listen for the clearing of the current output cell\n",
       "var outputEl = gd.closest('.output');\n",
       "if (outputEl) {{\n",
       "    x.observe(outputEl, {childList: true});\n",
       "}}\n",
       "\n",
       "                        })\n",
       "                };\n",
       "                });\n",
       "            </script>\n",
       "        </div>"
      ]
     },
     "metadata": {},
     "output_type": "display_data"
    }
   ],
   "source": [
    "fig = px.bar(df_count, y='count', x='id', text='count', )\n",
    "fig.update_traces(texttemplate='%{text:4}', textposition='outside')\n",
    "fig.update_layout(title='Number of Observations from Each Stations',\n",
    "                    yaxis=go.layout.YAxis(title_text=\"Number of Observations\"),\n",
    "                    xaxis = go.layout.XAxis(title_text=\"Name of the Stations\"),\n",
    "                        )\n",
    "fig.show()"
   ]
  },
  {
   "cell_type": "code",
   "execution_count": 15,
   "metadata": {},
   "outputs": [
    {
     "data": {
      "text/html": [
       "<div>\n",
       "<style scoped>\n",
       "    .dataframe tbody tr th:only-of-type {\n",
       "        vertical-align: middle;\n",
       "    }\n",
       "\n",
       "    .dataframe tbody tr th {\n",
       "        vertical-align: top;\n",
       "    }\n",
       "\n",
       "    .dataframe thead th {\n",
       "        text-align: right;\n",
       "    }\n",
       "</style>\n",
       "<table border=\"1\" class=\"dataframe\">\n",
       "  <thead>\n",
       "    <tr style=\"text-align: right;\">\n",
       "      <th></th>\n",
       "      <th>date</th>\n",
       "      <th>id</th>\n",
       "      <th>('count', 'energy')</th>\n",
       "    </tr>\n",
       "  </thead>\n",
       "  <tbody>\n",
       "    <tr>\n",
       "      <th>0</th>\n",
       "      <td>2019-12-25</td>\n",
       "      <td>ait82kw</td>\n",
       "      <td>1</td>\n",
       "    </tr>\n",
       "    <tr>\n",
       "      <th>1</th>\n",
       "      <td>2019-12-25</td>\n",
       "      <td>aurobindo</td>\n",
       "      <td>1</td>\n",
       "    </tr>\n",
       "    <tr>\n",
       "      <th>2</th>\n",
       "      <td>2019-12-25</td>\n",
       "      <td>btcpusa110kw</td>\n",
       "      <td>1</td>\n",
       "    </tr>\n",
       "    <tr>\n",
       "      <th>3</th>\n",
       "      <td>2019-12-25</td>\n",
       "      <td>deendayalupadhyaycollege</td>\n",
       "      <td>1</td>\n",
       "    </tr>\n",
       "    <tr>\n",
       "      <th>4</th>\n",
       "      <td>2019-12-25</td>\n",
       "      <td>delhihaat</td>\n",
       "      <td>1</td>\n",
       "    </tr>\n",
       "  </tbody>\n",
       "</table>\n",
       "</div>"
      ],
      "text/plain": [
       "        date                        id  ('count', 'energy')\n",
       "0 2019-12-25                   ait82kw                    1\n",
       "1 2019-12-25                 aurobindo                    1\n",
       "2 2019-12-25              btcpusa110kw                    1\n",
       "3 2019-12-25  deendayalupadhyaycollege                    1\n",
       "4 2019-12-25                 delhihaat                    1"
      ]
     },
     "execution_count": 15,
     "metadata": {},
     "output_type": "execute_result"
    }
   ],
   "source": [
    "# pivotting \n",
    "df_sample = pd.pivot_table(df, values='energy',index=[\"date\", \"id\"], aggfunc = [\"count\"])\n",
    "df_sample = pd.DataFrame(df_sample.to_records())\n",
    "df_sample.head()"
   ]
  },
  {
   "cell_type": "code",
   "execution_count": 18,
   "metadata": {},
   "outputs": [
    {
     "data": {
      "application/vnd.plotly.v1+json": {
       "config": {
        "plotlyServerURL": "https://plot.ly"
       },
       "data": [
        {
         "alignmentgroup": "True",
         "hoverlabel": {
          "namelength": 0
         },
         "hovertemplate": "id=ait82kw<br>date=%{x}<br>('count', 'energy')=%{y}",
         "legendgroup": "id=ait82kw",
         "marker": {
          "color": "#AA0DFE"
         },
         "name": "id=ait82kw",
         "offsetgroup": "id=ait82kw",
         "orientation": "v",
         "showlegend": true,
         "textposition": "auto",
         "type": "bar",
         "x": [
          "2019-12-25T00:00:00",
          "2019-12-29T00:00:00",
          "2019-12-30T00:00:00",
          "2019-12-31T00:00:00",
          "2020-01-01T00:00:00",
          "2020-01-02T00:00:00",
          "2020-01-03T00:00:00",
          "2020-01-04T00:00:00",
          "2020-01-05T00:00:00",
          "2020-01-06T00:00:00",
          "2020-01-07T00:00:00",
          "2020-01-08T00:00:00",
          "2020-01-09T00:00:00",
          "2020-01-10T00:00:00",
          "2020-01-11T00:00:00",
          "2020-01-12T00:00:00",
          "2020-01-13T00:00:00",
          "2020-01-14T00:00:00",
          "2020-01-15T00:00:00",
          "2020-01-16T00:00:00",
          "2020-01-19T00:00:00",
          "2020-01-20T00:00:00",
          "2020-01-21T00:00:00",
          "2020-01-22T00:00:00",
          "2020-01-23T00:00:00",
          "2020-01-24T00:00:00",
          "2020-01-25T00:00:00",
          "2020-01-26T00:00:00",
          "2020-01-27T00:00:00",
          "2020-01-28T00:00:00"
         ],
         "xaxis": "x",
         "y": [
          1,
          2,
          48,
          50,
          38,
          35,
          39,
          41,
          41,
          39,
          35,
          38,
          35,
          40,
          38,
          40,
          39,
          40,
          36,
          31,
          6,
          40,
          42,
          35,
          38,
          42,
          42,
          42,
          44,
          28
         ],
         "yaxis": "y"
        },
        {
         "alignmentgroup": "True",
         "hoverlabel": {
          "namelength": 0
         },
         "hovertemplate": "id=aurobindo<br>date=%{x}<br>('count', 'energy')=%{y}",
         "legendgroup": "id=aurobindo",
         "marker": {
          "color": "#3283FE"
         },
         "name": "id=aurobindo",
         "offsetgroup": "id=aurobindo",
         "orientation": "v",
         "showlegend": true,
         "textposition": "auto",
         "type": "bar",
         "x": [
          "2019-12-25T00:00:00",
          "2019-12-29T00:00:00",
          "2019-12-30T00:00:00",
          "2019-12-31T00:00:00",
          "2020-01-01T00:00:00",
          "2020-01-02T00:00:00",
          "2020-01-03T00:00:00",
          "2020-01-04T00:00:00",
          "2020-01-05T00:00:00",
          "2020-01-06T00:00:00",
          "2020-01-07T00:00:00",
          "2020-01-08T00:00:00",
          "2020-01-09T00:00:00",
          "2020-01-10T00:00:00",
          "2020-01-11T00:00:00",
          "2020-01-12T00:00:00",
          "2020-01-13T00:00:00",
          "2020-01-14T00:00:00",
          "2020-01-15T00:00:00",
          "2020-01-16T00:00:00",
          "2020-01-19T00:00:00",
          "2020-01-20T00:00:00",
          "2020-01-21T00:00:00",
          "2020-01-22T00:00:00",
          "2020-01-23T00:00:00",
          "2020-01-24T00:00:00",
          "2020-01-25T00:00:00",
          "2020-01-26T00:00:00",
          "2020-01-27T00:00:00",
          "2020-01-28T00:00:00"
         ],
         "xaxis": "x",
         "y": [
          1,
          5,
          45,
          48,
          32,
          34,
          33,
          38,
          36,
          37,
          38,
          35,
          33,
          39,
          37,
          38,
          38,
          38,
          36,
          29,
          4,
          41,
          39,
          40,
          38,
          38,
          39,
          41,
          39,
          27
         ],
         "yaxis": "y"
        },
        {
         "alignmentgroup": "True",
         "hoverlabel": {
          "namelength": 0
         },
         "hovertemplate": "id=btcpusa110kw<br>date=%{x}<br>('count', 'energy')=%{y}",
         "legendgroup": "id=btcpusa110kw",
         "marker": {
          "color": "#85660D"
         },
         "name": "id=btcpusa110kw",
         "offsetgroup": "id=btcpusa110kw",
         "orientation": "v",
         "showlegend": true,
         "textposition": "auto",
         "type": "bar",
         "x": [
          "2019-12-25T00:00:00",
          "2019-12-29T00:00:00",
          "2019-12-30T00:00:00",
          "2019-12-31T00:00:00",
          "2020-01-01T00:00:00",
          "2020-01-02T00:00:00",
          "2020-01-03T00:00:00",
          "2020-01-04T00:00:00",
          "2020-01-05T00:00:00",
          "2020-01-06T00:00:00",
          "2020-01-07T00:00:00",
          "2020-01-08T00:00:00",
          "2020-01-09T00:00:00",
          "2020-01-10T00:00:00",
          "2020-01-11T00:00:00",
          "2020-01-12T00:00:00",
          "2020-01-13T00:00:00",
          "2020-01-14T00:00:00",
          "2020-01-15T00:00:00",
          "2020-01-16T00:00:00",
          "2020-01-19T00:00:00",
          "2020-01-20T00:00:00",
          "2020-01-21T00:00:00",
          "2020-01-22T00:00:00",
          "2020-01-23T00:00:00",
          "2020-01-24T00:00:00",
          "2020-01-25T00:00:00",
          "2020-01-26T00:00:00",
          "2020-01-27T00:00:00",
          "2020-01-28T00:00:00"
         ],
         "xaxis": "x",
         "y": [
          1,
          4,
          48,
          48,
          37,
          34,
          39,
          38,
          37,
          37,
          37,
          35,
          35,
          38,
          32,
          39,
          39,
          40,
          38,
          18,
          4,
          39,
          40,
          41,
          41,
          38,
          41,
          37,
          41,
          17
         ],
         "yaxis": "y"
        },
        {
         "alignmentgroup": "True",
         "hoverlabel": {
          "namelength": 0
         },
         "hovertemplate": "id=deendayalupadhyaycollege<br>date=%{x}<br>('count', 'energy')=%{y}",
         "legendgroup": "id=deendayalupadhyaycollege",
         "marker": {
          "color": "#782AB6"
         },
         "name": "id=deendayalupadhyaycollege",
         "offsetgroup": "id=deendayalupadhyaycollege",
         "orientation": "v",
         "showlegend": true,
         "textposition": "auto",
         "type": "bar",
         "x": [
          "2019-12-25T00:00:00",
          "2019-12-29T00:00:00",
          "2019-12-30T00:00:00",
          "2019-12-31T00:00:00",
          "2020-01-01T00:00:00",
          "2020-01-02T00:00:00",
          "2020-01-03T00:00:00",
          "2020-01-04T00:00:00",
          "2020-01-05T00:00:00",
          "2020-01-06T00:00:00",
          "2020-01-07T00:00:00",
          "2020-01-08T00:00:00",
          "2020-01-09T00:00:00",
          "2020-01-10T00:00:00",
          "2020-01-11T00:00:00",
          "2020-01-12T00:00:00",
          "2020-01-13T00:00:00",
          "2020-01-14T00:00:00",
          "2020-01-15T00:00:00",
          "2020-01-16T00:00:00",
          "2020-01-19T00:00:00",
          "2020-01-20T00:00:00",
          "2020-01-21T00:00:00",
          "2020-01-22T00:00:00",
          "2020-01-23T00:00:00",
          "2020-01-24T00:00:00",
          "2020-01-25T00:00:00",
          "2020-01-26T00:00:00",
          "2020-01-27T00:00:00",
          "2020-01-28T00:00:00"
         ],
         "xaxis": "x",
         "y": [
          1,
          5,
          48,
          48,
          33,
          34,
          39,
          38,
          37,
          35,
          31,
          34,
          35,
          40,
          38,
          39,
          38,
          39,
          38,
          31,
          4,
          39,
          30,
          40,
          40,
          31,
          33,
          41,
          41,
          27
         ],
         "yaxis": "y"
        },
        {
         "alignmentgroup": "True",
         "hoverlabel": {
          "namelength": 0
         },
         "hovertemplate": "id=delhihaat<br>date=%{x}<br>('count', 'energy')=%{y}",
         "legendgroup": "id=delhihaat",
         "marker": {
          "color": "#565656"
         },
         "name": "id=delhihaat",
         "offsetgroup": "id=delhihaat",
         "orientation": "v",
         "showlegend": true,
         "textposition": "auto",
         "type": "bar",
         "x": [
          "2019-12-25T00:00:00",
          "2019-12-29T00:00:00",
          "2019-12-30T00:00:00",
          "2019-12-31T00:00:00",
          "2020-01-01T00:00:00",
          "2020-01-02T00:00:00",
          "2020-01-03T00:00:00",
          "2020-01-04T00:00:00",
          "2020-01-05T00:00:00",
          "2020-01-06T00:00:00",
          "2020-01-11T00:00:00",
          "2020-01-12T00:00:00",
          "2020-01-13T00:00:00",
          "2020-01-14T00:00:00",
          "2020-01-15T00:00:00",
          "2020-01-16T00:00:00",
          "2020-01-19T00:00:00",
          "2020-01-20T00:00:00",
          "2020-01-21T00:00:00",
          "2020-01-22T00:00:00",
          "2020-01-23T00:00:00",
          "2020-01-24T00:00:00",
          "2020-01-25T00:00:00",
          "2020-01-26T00:00:00",
          "2020-01-27T00:00:00",
          "2020-01-28T00:00:00"
         ],
         "xaxis": "x",
         "y": [
          1,
          5,
          47,
          48,
          29,
          34,
          39,
          38,
          38,
          30,
          26,
          35,
          38,
          35,
          38,
          29,
          4,
          39,
          40,
          42,
          41,
          41,
          38,
          37,
          38,
          24
         ],
         "yaxis": "y"
        },
        {
         "alignmentgroup": "True",
         "hoverlabel": {
          "namelength": 0
         },
         "hovertemplate": "id=dtu<br>date=%{x}<br>('count', 'energy')=%{y}",
         "legendgroup": "id=dtu",
         "marker": {
          "color": "#1C8356"
         },
         "name": "id=dtu",
         "offsetgroup": "id=dtu",
         "orientation": "v",
         "showlegend": true,
         "textposition": "auto",
         "type": "bar",
         "x": [
          "2019-12-25T00:00:00",
          "2019-12-29T00:00:00",
          "2019-12-30T00:00:00",
          "2019-12-31T00:00:00",
          "2020-01-01T00:00:00",
          "2020-01-02T00:00:00",
          "2020-01-03T00:00:00",
          "2020-01-04T00:00:00",
          "2020-01-05T00:00:00",
          "2020-01-06T00:00:00",
          "2020-01-07T00:00:00",
          "2020-01-08T00:00:00",
          "2020-01-09T00:00:00",
          "2020-01-10T00:00:00",
          "2020-01-11T00:00:00",
          "2020-01-12T00:00:00",
          "2020-01-13T00:00:00",
          "2020-01-14T00:00:00",
          "2020-01-15T00:00:00",
          "2020-01-16T00:00:00",
          "2020-01-19T00:00:00",
          "2020-01-20T00:00:00",
          "2020-01-21T00:00:00",
          "2020-01-22T00:00:00",
          "2020-01-23T00:00:00",
          "2020-01-24T00:00:00",
          "2020-01-25T00:00:00",
          "2020-01-26T00:00:00",
          "2020-01-27T00:00:00",
          "2020-01-28T00:00:00"
         ],
         "xaxis": "x",
         "y": [
          1,
          5,
          47,
          48,
          32,
          35,
          39,
          39,
          38,
          39,
          37,
          35,
          37,
          38,
          39,
          39,
          39,
          36,
          34,
          31,
          4,
          41,
          41,
          41,
          40,
          41,
          38,
          41,
          41,
          17
         ],
         "yaxis": "y"
        },
        {
         "alignmentgroup": "True",
         "hoverlabel": {
          "namelength": 0
         },
         "hovertemplate": "id=igdtuw<br>date=%{x}<br>('count', 'energy')=%{y}",
         "legendgroup": "id=igdtuw",
         "marker": {
          "color": "#16FF32"
         },
         "name": "id=igdtuw",
         "offsetgroup": "id=igdtuw",
         "orientation": "v",
         "showlegend": true,
         "textposition": "auto",
         "type": "bar",
         "x": [
          "2019-12-25T00:00:00",
          "2019-12-29T00:00:00",
          "2019-12-30T00:00:00",
          "2019-12-31T00:00:00",
          "2020-01-01T00:00:00",
          "2020-01-02T00:00:00",
          "2020-01-03T00:00:00",
          "2020-01-04T00:00:00",
          "2020-01-05T00:00:00",
          "2020-01-06T00:00:00",
          "2020-01-07T00:00:00",
          "2020-01-08T00:00:00",
          "2020-01-09T00:00:00",
          "2020-01-10T00:00:00",
          "2020-01-11T00:00:00",
          "2020-01-12T00:00:00",
          "2020-01-13T00:00:00",
          "2020-01-14T00:00:00",
          "2020-01-15T00:00:00",
          "2020-01-16T00:00:00",
          "2020-01-19T00:00:00",
          "2020-01-20T00:00:00",
          "2020-01-21T00:00:00",
          "2020-01-22T00:00:00",
          "2020-01-23T00:00:00",
          "2020-01-24T00:00:00",
          "2020-01-25T00:00:00",
          "2020-01-26T00:00:00",
          "2020-01-27T00:00:00",
          "2020-01-28T00:00:00"
         ],
         "xaxis": "x",
         "y": [
          1,
          4,
          41,
          46,
          35,
          34,
          39,
          38,
          37,
          37,
          35,
          35,
          37,
          38,
          39,
          38,
          38,
          39,
          36,
          29,
          4,
          41,
          39,
          42,
          41,
          41,
          41,
          41,
          41,
          17
         ],
         "yaxis": "y"
        },
        {
         "alignmentgroup": "True",
         "hoverlabel": {
          "namelength": 0
         },
         "hovertemplate": "id=ihbas<br>date=%{x}<br>('count', 'energy')=%{y}",
         "legendgroup": "id=ihbas",
         "marker": {
          "color": "#F7E1A0"
         },
         "name": "id=ihbas",
         "offsetgroup": "id=ihbas",
         "orientation": "v",
         "showlegend": true,
         "textposition": "auto",
         "type": "bar",
         "x": [
          "2019-12-25T00:00:00",
          "2019-12-29T00:00:00",
          "2019-12-30T00:00:00",
          "2019-12-31T00:00:00",
          "2020-01-01T00:00:00",
          "2020-01-02T00:00:00",
          "2020-01-03T00:00:00",
          "2020-01-04T00:00:00",
          "2020-01-05T00:00:00",
          "2020-01-06T00:00:00",
          "2020-01-07T00:00:00",
          "2020-01-08T00:00:00",
          "2020-01-09T00:00:00",
          "2020-01-10T00:00:00",
          "2020-01-11T00:00:00",
          "2020-01-12T00:00:00",
          "2020-01-13T00:00:00",
          "2020-01-14T00:00:00",
          "2020-01-15T00:00:00",
          "2020-01-16T00:00:00",
          "2020-01-19T00:00:00",
          "2020-01-20T00:00:00",
          "2020-01-21T00:00:00",
          "2020-01-22T00:00:00",
          "2020-01-23T00:00:00",
          "2020-01-24T00:00:00",
          "2020-01-25T00:00:00",
          "2020-01-26T00:00:00",
          "2020-01-27T00:00:00",
          "2020-01-28T00:00:00"
         ],
         "xaxis": "x",
         "y": [
          1,
          5,
          48,
          48,
          38,
          33,
          30,
          39,
          37,
          34,
          37,
          35,
          39,
          39,
          39,
          39,
          39,
          39,
          37,
          29,
          4,
          39,
          41,
          41,
          41,
          41,
          41,
          37,
          41,
          27
         ],
         "yaxis": "y"
        },
        {
         "alignmentgroup": "True",
         "hoverlabel": {
          "namelength": 0
         },
         "hovertemplate": "id=iiitd<br>date=%{x}<br>('count', 'energy')=%{y}",
         "legendgroup": "id=iiitd",
         "marker": {
          "color": "#E2E2E2"
         },
         "name": "id=iiitd",
         "offsetgroup": "id=iiitd",
         "orientation": "v",
         "showlegend": true,
         "textposition": "auto",
         "type": "bar",
         "x": [
          "2019-12-25T00:00:00",
          "2019-12-29T00:00:00",
          "2019-12-30T00:00:00",
          "2019-12-31T00:00:00",
          "2020-01-01T00:00:00",
          "2020-01-02T00:00:00",
          "2020-01-03T00:00:00",
          "2020-01-04T00:00:00",
          "2020-01-05T00:00:00",
          "2020-01-06T00:00:00",
          "2020-01-07T00:00:00",
          "2020-01-08T00:00:00",
          "2020-01-09T00:00:00",
          "2020-01-10T00:00:00",
          "2020-01-11T00:00:00",
          "2020-01-12T00:00:00",
          "2020-01-13T00:00:00",
          "2020-01-14T00:00:00",
          "2020-01-15T00:00:00",
          "2020-01-16T00:00:00",
          "2020-01-19T00:00:00",
          "2020-01-20T00:00:00",
          "2020-01-21T00:00:00",
          "2020-01-22T00:00:00",
          "2020-01-23T00:00:00",
          "2020-01-24T00:00:00",
          "2020-01-25T00:00:00",
          "2020-01-26T00:00:00",
          "2020-01-27T00:00:00",
          "2020-01-28T00:00:00"
         ],
         "xaxis": "x",
         "y": [
          1,
          5,
          47,
          43,
          28,
          29,
          39,
          38,
          37,
          35,
          31,
          35,
          37,
          38,
          39,
          39,
          36,
          37,
          36,
          29,
          4,
          41,
          30,
          41,
          41,
          41,
          41,
          37,
          41,
          27
         ],
         "yaxis": "y"
        },
        {
         "alignmentgroup": "True",
         "hoverlabel": {
          "namelength": 0
         },
         "hovertemplate": "id=iticvraman<br>date=%{x}<br>('count', 'energy')=%{y}",
         "legendgroup": "id=iticvraman",
         "marker": {
          "color": "#1CBE4F"
         },
         "name": "id=iticvraman",
         "offsetgroup": "id=iticvraman",
         "orientation": "v",
         "showlegend": true,
         "textposition": "auto",
         "type": "bar",
         "x": [
          "2019-12-25T00:00:00",
          "2019-12-29T00:00:00",
          "2019-12-30T00:00:00",
          "2019-12-31T00:00:00",
          "2020-01-01T00:00:00",
          "2020-01-02T00:00:00",
          "2020-01-03T00:00:00",
          "2020-01-04T00:00:00",
          "2020-01-05T00:00:00",
          "2020-01-06T00:00:00",
          "2020-01-07T00:00:00",
          "2020-01-08T00:00:00",
          "2020-01-09T00:00:00",
          "2020-01-10T00:00:00",
          "2020-01-11T00:00:00",
          "2020-01-12T00:00:00",
          "2020-01-13T00:00:00",
          "2020-01-14T00:00:00",
          "2020-01-15T00:00:00",
          "2020-01-16T00:00:00",
          "2020-01-19T00:00:00",
          "2020-01-20T00:00:00",
          "2020-01-21T00:00:00",
          "2020-01-22T00:00:00",
          "2020-01-23T00:00:00",
          "2020-01-24T00:00:00",
          "2020-01-25T00:00:00",
          "2020-01-26T00:00:00",
          "2020-01-27T00:00:00",
          "2020-01-28T00:00:00"
         ],
         "xaxis": "x",
         "y": [
          1,
          5,
          41,
          48,
          32,
          34,
          31,
          38,
          36,
          37,
          33,
          33,
          37,
          39,
          40,
          38,
          36,
          37,
          35,
          31,
          4,
          41,
          38,
          41,
          41,
          42,
          41,
          41,
          19,
          28
         ],
         "yaxis": "y"
        },
        {
         "alignmentgroup": "True",
         "hoverlabel": {
          "namelength": 0
         },
         "hovertemplate": "id=itijaffarpur<br>date=%{x}<br>('count', 'energy')=%{y}",
         "legendgroup": "id=itijaffarpur",
         "marker": {
          "color": "#C4451C"
         },
         "name": "id=itijaffarpur",
         "offsetgroup": "id=itijaffarpur",
         "orientation": "v",
         "showlegend": true,
         "textposition": "auto",
         "type": "bar",
         "x": [
          "2019-12-25T00:00:00",
          "2019-12-29T00:00:00",
          "2019-12-30T00:00:00",
          "2019-12-31T00:00:00",
          "2020-01-01T00:00:00",
          "2020-01-02T00:00:00",
          "2020-01-03T00:00:00",
          "2020-01-04T00:00:00",
          "2020-01-05T00:00:00",
          "2020-01-06T00:00:00",
          "2020-01-07T00:00:00",
          "2020-01-08T00:00:00",
          "2020-01-09T00:00:00",
          "2020-01-10T00:00:00",
          "2020-01-11T00:00:00",
          "2020-01-12T00:00:00",
          "2020-01-13T00:00:00",
          "2020-01-14T00:00:00",
          "2020-01-15T00:00:00",
          "2020-01-16T00:00:00",
          "2020-01-19T00:00:00",
          "2020-01-20T00:00:00",
          "2020-01-21T00:00:00",
          "2020-01-22T00:00:00",
          "2020-01-23T00:00:00",
          "2020-01-24T00:00:00",
          "2020-01-25T00:00:00",
          "2020-01-26T00:00:00",
          "2020-01-27T00:00:00",
          "2020-01-28T00:00:00"
         ],
         "xaxis": "x",
         "y": [
          1,
          5,
          46,
          48,
          33,
          34,
          37,
          37,
          35,
          37,
          37,
          36,
          37,
          37,
          38,
          38,
          38,
          37,
          37,
          33,
          4,
          41,
          41,
          41,
          41,
          37,
          41,
          29,
          41,
          27
         ],
         "yaxis": "y"
        },
        {
         "alignmentgroup": "True",
         "hoverlabel": {
          "namelength": 0
         },
         "hovertemplate": "id=itijailroad<br>date=%{x}<br>('count', 'energy')=%{y}",
         "legendgroup": "id=itijailroad",
         "marker": {
          "color": "#DEA0FD"
         },
         "name": "id=itijailroad",
         "offsetgroup": "id=itijailroad",
         "orientation": "v",
         "showlegend": true,
         "textposition": "auto",
         "type": "bar",
         "x": [
          "2019-12-25T00:00:00",
          "2019-12-29T00:00:00",
          "2019-12-30T00:00:00",
          "2019-12-31T00:00:00",
          "2020-01-01T00:00:00",
          "2020-01-02T00:00:00",
          "2020-01-03T00:00:00",
          "2020-01-04T00:00:00",
          "2020-01-05T00:00:00",
          "2020-01-06T00:00:00",
          "2020-01-07T00:00:00",
          "2020-01-08T00:00:00",
          "2020-01-09T00:00:00",
          "2020-01-10T00:00:00",
          "2020-01-11T00:00:00",
          "2020-01-12T00:00:00",
          "2020-01-13T00:00:00",
          "2020-01-14T00:00:00",
          "2020-01-15T00:00:00",
          "2020-01-16T00:00:00",
          "2020-01-19T00:00:00",
          "2020-01-20T00:00:00",
          "2020-01-21T00:00:00",
          "2020-01-22T00:00:00",
          "2020-01-23T00:00:00",
          "2020-01-24T00:00:00",
          "2020-01-25T00:00:00",
          "2020-01-26T00:00:00",
          "2020-01-27T00:00:00",
          "2020-01-28T00:00:00"
         ],
         "xaxis": "x",
         "y": [
          1,
          5,
          46,
          48,
          30,
          34,
          37,
          37,
          37,
          37,
          35,
          31,
          34,
          39,
          36,
          37,
          36,
          37,
          33,
          30,
          4,
          30,
          39,
          20,
          30,
          41,
          41,
          41,
          41,
          17
         ],
         "yaxis": "y"
        },
        {
         "alignmentgroup": "True",
         "hoverlabel": {
          "namelength": 0
         },
         "hovertemplate": "id=itimangolpuri<br>date=%{x}<br>('count', 'energy')=%{y}",
         "legendgroup": "id=itimangolpuri",
         "marker": {
          "color": "#FE00FA"
         },
         "name": "id=itimangolpuri",
         "offsetgroup": "id=itimangolpuri",
         "orientation": "v",
         "showlegend": true,
         "textposition": "auto",
         "type": "bar",
         "x": [
          "2019-12-25T00:00:00",
          "2019-12-29T00:00:00",
          "2019-12-30T00:00:00",
          "2019-12-31T00:00:00",
          "2020-01-01T00:00:00",
          "2020-01-02T00:00:00",
          "2020-01-03T00:00:00",
          "2020-01-04T00:00:00",
          "2020-01-05T00:00:00",
          "2020-01-06T00:00:00",
          "2020-01-07T00:00:00",
          "2020-01-08T00:00:00",
          "2020-01-09T00:00:00",
          "2020-01-10T00:00:00",
          "2020-01-11T00:00:00",
          "2020-01-12T00:00:00",
          "2020-01-13T00:00:00",
          "2020-01-14T00:00:00",
          "2020-01-15T00:00:00",
          "2020-01-16T00:00:00",
          "2020-01-19T00:00:00",
          "2020-01-20T00:00:00",
          "2020-01-21T00:00:00",
          "2020-01-22T00:00:00",
          "2020-01-23T00:00:00"
         ],
         "xaxis": "x",
         "y": [
          1,
          5,
          47,
          48,
          31,
          34,
          26,
          34,
          38,
          36,
          29,
          20,
          37,
          39,
          38,
          38,
          36,
          37,
          39,
          31,
          4,
          39,
          33,
          36,
          30
         ],
         "yaxis": "y"
        },
        {
         "alignmentgroup": "True",
         "hoverlabel": {
          "namelength": 0
         },
         "hovertemplate": "id=itipusa<br>date=%{x}<br>('count', 'energy')=%{y}",
         "legendgroup": "id=itipusa",
         "marker": {
          "color": "#325A9B"
         },
         "name": "id=itipusa",
         "offsetgroup": "id=itipusa",
         "orientation": "v",
         "showlegend": true,
         "textposition": "auto",
         "type": "bar",
         "x": [
          "2019-12-25T00:00:00",
          "2019-12-29T00:00:00",
          "2019-12-30T00:00:00",
          "2019-12-31T00:00:00",
          "2020-01-01T00:00:00",
          "2020-01-02T00:00:00",
          "2020-01-03T00:00:00",
          "2020-01-04T00:00:00",
          "2020-01-05T00:00:00",
          "2020-01-06T00:00:00",
          "2020-01-07T00:00:00",
          "2020-01-09T00:00:00",
          "2020-01-10T00:00:00",
          "2020-01-11T00:00:00",
          "2020-01-12T00:00:00",
          "2020-01-13T00:00:00",
          "2020-01-14T00:00:00",
          "2020-01-15T00:00:00",
          "2020-01-16T00:00:00",
          "2020-01-19T00:00:00",
          "2020-01-20T00:00:00",
          "2020-01-21T00:00:00",
          "2020-01-22T00:00:00",
          "2020-01-23T00:00:00",
          "2020-01-24T00:00:00",
          "2020-01-25T00:00:00",
          "2020-01-26T00:00:00",
          "2020-01-27T00:00:00",
          "2020-01-28T00:00:00"
         ],
         "xaxis": "x",
         "y": [
          1,
          0,
          0,
          0,
          27,
          34,
          15,
          23,
          37,
          37,
          29,
          28,
          39,
          39,
          38,
          38,
          39,
          36,
          25,
          4,
          39,
          40,
          41,
          38,
          41,
          42,
          40,
          39,
          26
         ],
         "yaxis": "y"
        },
        {
         "alignmentgroup": "True",
         "hoverlabel": {
          "namelength": 0
         },
         "hovertemplate": "id=kalindicillege<br>date=%{x}<br>('count', 'energy')=%{y}",
         "legendgroup": "id=kalindicillege",
         "marker": {
          "color": "#FEAF16"
         },
         "name": "id=kalindicillege",
         "offsetgroup": "id=kalindicillege",
         "orientation": "v",
         "showlegend": true,
         "textposition": "auto",
         "type": "bar",
         "x": [
          "2019-12-25T00:00:00",
          "2019-12-29T00:00:00",
          "2019-12-30T00:00:00",
          "2019-12-31T00:00:00",
          "2020-01-01T00:00:00",
          "2020-01-02T00:00:00",
          "2020-01-03T00:00:00",
          "2020-01-04T00:00:00",
          "2020-01-05T00:00:00",
          "2020-01-06T00:00:00",
          "2020-01-07T00:00:00",
          "2020-01-08T00:00:00",
          "2020-01-09T00:00:00",
          "2020-01-10T00:00:00",
          "2020-01-11T00:00:00",
          "2020-01-12T00:00:00",
          "2020-01-13T00:00:00",
          "2020-01-14T00:00:00",
          "2020-01-15T00:00:00",
          "2020-01-16T00:00:00",
          "2020-01-19T00:00:00",
          "2020-01-20T00:00:00",
          "2020-01-21T00:00:00",
          "2020-01-22T00:00:00",
          "2020-01-23T00:00:00",
          "2020-01-24T00:00:00",
          "2020-01-25T00:00:00",
          "2020-01-26T00:00:00",
          "2020-01-27T00:00:00",
          "2020-01-28T00:00:00"
         ],
         "xaxis": "x",
         "y": [
          1,
          5,
          46,
          48,
          35,
          34,
          37,
          32,
          38,
          38,
          37,
          35,
          39,
          39,
          38,
          39,
          38,
          39,
          36,
          29,
          4,
          41,
          37,
          40,
          41,
          38,
          38,
          39,
          41,
          27
         ],
         "yaxis": "y"
        },
        {
         "alignmentgroup": "True",
         "hoverlabel": {
          "namelength": 0
         },
         "hovertemplate": "id=kitpitampura<br>date=%{x}<br>('count', 'energy')=%{y}",
         "legendgroup": "id=kitpitampura",
         "marker": {
          "color": "#F8A19F"
         },
         "name": "id=kitpitampura",
         "offsetgroup": "id=kitpitampura",
         "orientation": "v",
         "showlegend": true,
         "textposition": "auto",
         "type": "bar",
         "x": [
          "2019-12-25T00:00:00",
          "2019-12-29T00:00:00",
          "2019-12-30T00:00:00",
          "2019-12-31T00:00:00",
          "2020-01-01T00:00:00",
          "2020-01-02T00:00:00",
          "2020-01-03T00:00:00",
          "2020-01-04T00:00:00",
          "2020-01-05T00:00:00",
          "2020-01-06T00:00:00",
          "2020-01-07T00:00:00",
          "2020-01-08T00:00:00",
          "2020-01-09T00:00:00",
          "2020-01-10T00:00:00",
          "2020-01-11T00:00:00",
          "2020-01-12T00:00:00",
          "2020-01-13T00:00:00",
          "2020-01-14T00:00:00",
          "2020-01-15T00:00:00",
          "2020-01-16T00:00:00",
          "2020-01-19T00:00:00",
          "2020-01-20T00:00:00",
          "2020-01-21T00:00:00",
          "2020-01-22T00:00:00",
          "2020-01-23T00:00:00",
          "2020-01-24T00:00:00",
          "2020-01-25T00:00:00",
          "2020-01-26T00:00:00",
          "2020-01-27T00:00:00",
          "2020-01-28T00:00:00"
         ],
         "xaxis": "x",
         "y": [
          1,
          5,
          48,
          47,
          33,
          34,
          31,
          39,
          39,
          39,
          37,
          35,
          37,
          37,
          35,
          39,
          39,
          39,
          39,
          32,
          4,
          38,
          41,
          41,
          41,
          41,
          41,
          38,
          41,
          27
         ],
         "yaxis": "y"
        },
        {
         "alignmentgroup": "True",
         "hoverlabel": {
          "namelength": 0
         },
         "hovertemplate": "id=maulanaazadmedicalcollege<br>date=%{x}<br>('count', 'energy')=%{y}",
         "legendgroup": "id=maulanaazadmedicalcollege",
         "marker": {
          "color": "#90AD1C"
         },
         "name": "id=maulanaazadmedicalcollege",
         "offsetgroup": "id=maulanaazadmedicalcollege",
         "orientation": "v",
         "showlegend": true,
         "textposition": "auto",
         "type": "bar",
         "x": [
          "2019-12-25T00:00:00",
          "2019-12-29T00:00:00",
          "2019-12-30T00:00:00",
          "2019-12-31T00:00:00",
          "2020-01-01T00:00:00",
          "2020-01-02T00:00:00",
          "2020-01-03T00:00:00",
          "2020-01-04T00:00:00",
          "2020-01-05T00:00:00",
          "2020-01-06T00:00:00",
          "2020-01-07T00:00:00",
          "2020-01-08T00:00:00",
          "2020-01-09T00:00:00",
          "2020-01-10T00:00:00",
          "2020-01-11T00:00:00",
          "2020-01-12T00:00:00",
          "2020-01-13T00:00:00",
          "2020-01-14T00:00:00",
          "2020-01-15T00:00:00",
          "2020-01-16T00:00:00",
          "2020-01-20T00:00:00",
          "2020-01-21T00:00:00",
          "2020-01-22T00:00:00",
          "2020-01-23T00:00:00",
          "2020-01-24T00:00:00",
          "2020-01-25T00:00:00",
          "2020-01-26T00:00:00",
          "2020-01-27T00:00:00",
          "2020-01-28T00:00:00"
         ],
         "xaxis": "x",
         "y": [
          1,
          5,
          45,
          47,
          30,
          34,
          39,
          38,
          37,
          35,
          31,
          35,
          35,
          38,
          38,
          39,
          36,
          37,
          37,
          29,
          38,
          40,
          41,
          41,
          38,
          41,
          37,
          39,
          28
         ],
         "yaxis": "y"
        },
        {
         "alignmentgroup": "True",
         "hoverlabel": {
          "namelength": 0
         },
         "hovertemplate": "id=meerabaiinstituteoftechnology<br>date=%{x}<br>('count', 'energy')=%{y}",
         "legendgroup": "id=meerabaiinstituteoftechnology",
         "marker": {
          "color": "#F6222E"
         },
         "name": "id=meerabaiinstituteoftechnology",
         "offsetgroup": "id=meerabaiinstituteoftechnology",
         "orientation": "v",
         "showlegend": true,
         "textposition": "auto",
         "type": "bar",
         "x": [
          "2019-12-25T00:00:00",
          "2019-12-29T00:00:00",
          "2019-12-30T00:00:00",
          "2019-12-31T00:00:00",
          "2020-01-01T00:00:00",
          "2020-01-02T00:00:00",
          "2020-01-03T00:00:00",
          "2020-01-04T00:00:00",
          "2020-01-05T00:00:00",
          "2020-01-06T00:00:00",
          "2020-01-07T00:00:00",
          "2020-01-08T00:00:00",
          "2020-01-09T00:00:00",
          "2020-01-10T00:00:00",
          "2020-01-11T00:00:00",
          "2020-01-12T00:00:00",
          "2020-01-13T00:00:00",
          "2020-01-14T00:00:00",
          "2020-01-15T00:00:00",
          "2020-01-16T00:00:00",
          "2020-01-19T00:00:00",
          "2020-01-20T00:00:00",
          "2020-01-21T00:00:00",
          "2020-01-22T00:00:00",
          "2020-01-23T00:00:00",
          "2020-01-24T00:00:00",
          "2020-01-25T00:00:00",
          "2020-01-26T00:00:00",
          "2020-01-27T00:00:00",
          "2020-01-28T00:00:00"
         ],
         "xaxis": "x",
         "y": [
          1,
          4,
          26,
          43,
          31,
          34,
          39,
          38,
          36,
          35,
          33,
          35,
          37,
          39,
          38,
          38,
          33,
          34,
          36,
          29,
          4,
          32,
          20,
          41,
          40,
          38,
          32,
          38,
          39,
          26
         ],
         "yaxis": "y"
        },
        {
         "alignmentgroup": "True",
         "hoverlabel": {
          "namelength": 0
         },
         "hovertemplate": "id=nsit<br>date=%{x}<br>('count', 'energy')=%{y}",
         "legendgroup": "id=nsit",
         "marker": {
          "color": "#1CFFCE"
         },
         "name": "id=nsit",
         "offsetgroup": "id=nsit",
         "orientation": "v",
         "showlegend": true,
         "textposition": "auto",
         "type": "bar",
         "x": [
          "2019-12-25T00:00:00",
          "2019-12-29T00:00:00",
          "2019-12-30T00:00:00",
          "2019-12-31T00:00:00",
          "2020-01-01T00:00:00",
          "2020-01-02T00:00:00",
          "2020-01-03T00:00:00",
          "2020-01-04T00:00:00",
          "2020-01-05T00:00:00",
          "2020-01-06T00:00:00",
          "2020-01-07T00:00:00",
          "2020-01-08T00:00:00",
          "2020-01-09T00:00:00",
          "2020-01-10T00:00:00",
          "2020-01-11T00:00:00",
          "2020-01-12T00:00:00",
          "2020-01-13T00:00:00",
          "2020-01-14T00:00:00",
          "2020-01-15T00:00:00",
          "2020-01-16T00:00:00",
          "2020-01-19T00:00:00",
          "2020-01-20T00:00:00",
          "2020-01-21T00:00:00",
          "2020-01-22T00:00:00",
          "2020-01-23T00:00:00",
          "2020-01-24T00:00:00",
          "2020-01-25T00:00:00",
          "2020-01-26T00:00:00",
          "2020-01-27T00:00:00",
          "2020-01-28T00:00:00"
         ],
         "xaxis": "x",
         "y": [
          1,
          5,
          48,
          48,
          32,
          35,
          39,
          39,
          37,
          37,
          36,
          34,
          37,
          38,
          39,
          39,
          39,
          39,
          39,
          31,
          4,
          39,
          38,
          40,
          37,
          41,
          41,
          40,
          40,
          28
         ],
         "yaxis": "y"
        },
        {
         "alignmentgroup": "True",
         "hoverlabel": {
          "namelength": 0
         },
         "hovertemplate": "id=pitacademicblock100kw<br>date=%{x}<br>('count', 'energy')=%{y}",
         "legendgroup": "id=pitacademicblock100kw",
         "marker": {
          "color": "#2ED9FF"
         },
         "name": "id=pitacademicblock100kw",
         "offsetgroup": "id=pitacademicblock100kw",
         "orientation": "v",
         "showlegend": true,
         "textposition": "auto",
         "type": "bar",
         "x": [
          "2019-12-25T00:00:00",
          "2019-12-29T00:00:00",
          "2019-12-30T00:00:00",
          "2019-12-31T00:00:00",
          "2020-01-01T00:00:00",
          "2020-01-02T00:00:00",
          "2020-01-03T00:00:00",
          "2020-01-04T00:00:00",
          "2020-01-05T00:00:00",
          "2020-01-06T00:00:00",
          "2020-01-07T00:00:00",
          "2020-01-08T00:00:00",
          "2020-01-09T00:00:00",
          "2020-01-10T00:00:00",
          "2020-01-11T00:00:00",
          "2020-01-12T00:00:00",
          "2020-01-13T00:00:00",
          "2020-01-14T00:00:00",
          "2020-01-15T00:00:00",
          "2020-01-16T00:00:00",
          "2020-01-19T00:00:00",
          "2020-01-20T00:00:00",
          "2020-01-21T00:00:00",
          "2020-01-22T00:00:00",
          "2020-01-23T00:00:00",
          "2020-01-24T00:00:00",
          "2020-01-25T00:00:00",
          "2020-01-26T00:00:00",
          "2020-01-27T00:00:00",
          "2020-01-28T00:00:00"
         ],
         "xaxis": "x",
         "y": [
          1,
          5,
          48,
          47,
          32,
          34,
          39,
          38,
          39,
          38,
          37,
          37,
          34,
          35,
          38,
          39,
          38,
          39,
          38,
          31,
          4,
          39,
          39,
          41,
          42,
          38,
          17,
          40,
          41,
          17
         ],
         "yaxis": "y"
        },
        {
         "alignmentgroup": "True",
         "hoverlabel": {
          "namelength": 0
         },
         "hovertemplate": "id=satyawaticollege<br>date=%{x}<br>('count', 'energy')=%{y}",
         "legendgroup": "id=satyawaticollege",
         "marker": {
          "color": "#B10DA1"
         },
         "name": "id=satyawaticollege",
         "offsetgroup": "id=satyawaticollege",
         "orientation": "v",
         "showlegend": true,
         "textposition": "auto",
         "type": "bar",
         "x": [
          "2019-12-25T00:00:00",
          "2019-12-29T00:00:00",
          "2019-12-30T00:00:00",
          "2019-12-31T00:00:00",
          "2020-01-01T00:00:00",
          "2020-01-02T00:00:00",
          "2020-01-03T00:00:00",
          "2020-01-04T00:00:00",
          "2020-01-05T00:00:00",
          "2020-01-06T00:00:00",
          "2020-01-07T00:00:00",
          "2020-01-08T00:00:00",
          "2020-01-09T00:00:00",
          "2020-01-10T00:00:00",
          "2020-01-11T00:00:00",
          "2020-01-12T00:00:00",
          "2020-01-13T00:00:00",
          "2020-01-14T00:00:00",
          "2020-01-15T00:00:00",
          "2020-01-16T00:00:00",
          "2020-01-19T00:00:00",
          "2020-01-20T00:00:00",
          "2020-01-21T00:00:00",
          "2020-01-22T00:00:00",
          "2020-01-23T00:00:00",
          "2020-01-24T00:00:00",
          "2020-01-25T00:00:00",
          "2020-01-26T00:00:00",
          "2020-01-27T00:00:00",
          "2020-01-28T00:00:00"
         ],
         "xaxis": "x",
         "y": [
          1,
          5,
          47,
          48,
          33,
          34,
          39,
          36,
          35,
          35,
          35,
          37,
          35,
          37,
          36,
          37,
          37,
          39,
          35,
          29,
          4,
          39,
          38,
          40,
          41,
          41,
          39,
          42,
          41,
          27
         ],
         "yaxis": "y"
        },
        {
         "alignmentgroup": "True",
         "hoverlabel": {
          "namelength": 0
         },
         "hovertemplate": "id=sscbs<br>date=%{x}<br>('count', 'energy')=%{y}",
         "legendgroup": "id=sscbs",
         "marker": {
          "color": "#C075A6"
         },
         "name": "id=sscbs",
         "offsetgroup": "id=sscbs",
         "orientation": "v",
         "showlegend": true,
         "textposition": "auto",
         "type": "bar",
         "x": [
          "2019-12-25T00:00:00",
          "2019-12-29T00:00:00",
          "2019-12-30T00:00:00",
          "2019-12-31T00:00:00",
          "2020-01-01T00:00:00",
          "2020-01-02T00:00:00",
          "2020-01-03T00:00:00",
          "2020-01-04T00:00:00",
          "2020-01-09T00:00:00",
          "2020-01-10T00:00:00",
          "2020-01-11T00:00:00",
          "2020-01-12T00:00:00",
          "2020-01-13T00:00:00",
          "2020-01-14T00:00:00",
          "2020-01-15T00:00:00",
          "2020-01-16T00:00:00",
          "2020-01-19T00:00:00",
          "2020-01-20T00:00:00",
          "2020-01-21T00:00:00",
          "2020-01-22T00:00:00",
          "2020-01-23T00:00:00",
          "2020-01-24T00:00:00",
          "2020-01-25T00:00:00"
         ],
         "xaxis": "x",
         "y": [
          1,
          4,
          47,
          47,
          30,
          34,
          39,
          30,
          26,
          36,
          37,
          37,
          35,
          35,
          36,
          30,
          4,
          39,
          37,
          13,
          29,
          38,
          31
         ],
         "yaxis": "y"
        },
        {
         "alignmentgroup": "True",
         "hoverlabel": {
          "namelength": 0
         },
         "hovertemplate": "id=43707<br>date=%{x}<br>('count', 'energy')=%{y}",
         "legendgroup": "id=43707",
         "marker": {
          "color": "#FC1CBF"
         },
         "name": "id=43707",
         "offsetgroup": "id=43707",
         "orientation": "v",
         "showlegend": true,
         "textposition": "auto",
         "type": "bar",
         "x": [
          "2019-12-30T00:00:00",
          "2019-12-31T00:00:00",
          "2020-01-01T00:00:00",
          "2020-01-02T00:00:00",
          "2020-01-03T00:00:00",
          "2020-01-13T00:00:00",
          "2020-01-14T00:00:00",
          "2020-01-15T00:00:00",
          "2020-01-16T00:00:00",
          "2020-01-19T00:00:00",
          "2020-01-20T00:00:00",
          "2020-01-21T00:00:00",
          "2020-01-22T00:00:00",
          "2020-01-23T00:00:00",
          "2020-01-24T00:00:00",
          "2020-01-25T00:00:00",
          "2020-01-26T00:00:00",
          "2020-01-27T00:00:00",
          "2020-01-28T00:00:00"
         ],
         "xaxis": "x",
         "y": [
          2,
          8,
          23,
          2,
          21,
          17,
          26,
          23,
          1,
          71,
          65,
          81,
          91,
          95,
          96,
          91,
          67,
          63,
          24
         ],
         "yaxis": "y"
        },
        {
         "alignmentgroup": "True",
         "hoverlabel": {
          "namelength": 0
         },
         "hovertemplate": "id=55448<br>date=%{x}<br>('count', 'energy')=%{y}",
         "legendgroup": "id=55448",
         "marker": {
          "color": "#B00068"
         },
         "name": "id=55448",
         "offsetgroup": "id=55448",
         "orientation": "v",
         "showlegend": true,
         "textposition": "auto",
         "type": "bar",
         "x": [
          "2019-12-30T00:00:00",
          "2019-12-31T00:00:00",
          "2020-01-01T00:00:00",
          "2020-01-02T00:00:00",
          "2020-01-03T00:00:00",
          "2020-01-13T00:00:00",
          "2020-01-14T00:00:00",
          "2020-01-15T00:00:00",
          "2020-01-16T00:00:00",
          "2020-01-19T00:00:00",
          "2020-01-20T00:00:00",
          "2020-01-21T00:00:00",
          "2020-01-22T00:00:00",
          "2020-01-23T00:00:00",
          "2020-01-24T00:00:00",
          "2020-01-25T00:00:00",
          "2020-01-26T00:00:00",
          "2020-01-27T00:00:00",
          "2020-01-28T00:00:00"
         ],
         "xaxis": "x",
         "y": [
          3,
          12,
          30,
          2,
          27,
          17,
          39,
          24,
          2,
          87,
          78,
          86,
          100,
          94,
          90,
          95,
          94,
          96,
          38
         ],
         "yaxis": "y"
        },
        {
         "alignmentgroup": "True",
         "hoverlabel": {
          "namelength": 0
         },
         "hovertemplate": "id=58292<br>date=%{x}<br>('count', 'energy')=%{y}",
         "legendgroup": "id=58292",
         "marker": {
          "color": "#FBE426"
         },
         "name": "id=58292",
         "offsetgroup": "id=58292",
         "orientation": "v",
         "showlegend": true,
         "textposition": "auto",
         "type": "bar",
         "x": [
          "2019-12-30T00:00:00",
          "2019-12-31T00:00:00",
          "2020-01-01T00:00:00",
          "2020-01-02T00:00:00",
          "2020-01-03T00:00:00",
          "2020-01-13T00:00:00",
          "2020-01-14T00:00:00",
          "2020-01-15T00:00:00",
          "2020-01-16T00:00:00",
          "2020-01-19T00:00:00",
          "2020-01-20T00:00:00",
          "2020-01-21T00:00:00",
          "2020-01-22T00:00:00",
          "2020-01-23T00:00:00",
          "2020-01-24T00:00:00",
          "2020-01-25T00:00:00",
          "2020-01-26T00:00:00",
          "2020-01-27T00:00:00",
          "2020-01-28T00:00:00"
         ],
         "xaxis": "x",
         "y": [
          3,
          12,
          28,
          2,
          28,
          16,
          33,
          31,
          1,
          83,
          73,
          85,
          97,
          99,
          98,
          95,
          79,
          76,
          31
         ],
         "yaxis": "y"
        },
        {
         "alignmentgroup": "True",
         "hoverlabel": {
          "namelength": 0
         },
         "hovertemplate": "id=58337<br>date=%{x}<br>('count', 'energy')=%{y}",
         "legendgroup": "id=58337",
         "marker": {
          "color": "#FA0087"
         },
         "name": "id=58337",
         "offsetgroup": "id=58337",
         "orientation": "v",
         "showlegend": true,
         "textposition": "auto",
         "type": "bar",
         "x": [
          "2019-12-30T00:00:00",
          "2019-12-31T00:00:00",
          "2020-01-01T00:00:00",
          "2020-01-02T00:00:00",
          "2020-01-03T00:00:00",
          "2020-01-13T00:00:00",
          "2020-01-14T00:00:00",
          "2020-01-15T00:00:00",
          "2020-01-16T00:00:00",
          "2020-01-19T00:00:00",
          "2020-01-20T00:00:00",
          "2020-01-21T00:00:00",
          "2020-01-22T00:00:00",
          "2020-01-23T00:00:00",
          "2020-01-24T00:00:00",
          "2020-01-25T00:00:00",
          "2020-01-26T00:00:00",
          "2020-01-27T00:00:00",
          "2020-01-28T00:00:00"
         ],
         "xaxis": "x",
         "y": [
          2,
          8,
          22,
          3,
          21,
          16,
          26,
          23,
          1,
          71,
          64,
          82,
          82,
          81,
          82,
          86,
          59,
          59,
          24
         ],
         "yaxis": "y"
        },
        {
         "alignmentgroup": "True",
         "hoverlabel": {
          "namelength": 0
         },
         "hovertemplate": "id=59093<br>date=%{x}<br>('count', 'energy')=%{y}",
         "legendgroup": "id=59093",
         "marker": {
          "color": "#AA0DFE"
         },
         "name": "id=59093",
         "offsetgroup": "id=59093",
         "orientation": "v",
         "showlegend": true,
         "textposition": "auto",
         "type": "bar",
         "x": [
          "2019-12-30T00:00:00",
          "2019-12-31T00:00:00",
          "2020-01-01T00:00:00",
          "2020-01-02T00:00:00",
          "2020-01-03T00:00:00",
          "2020-01-13T00:00:00",
          "2020-01-14T00:00:00",
          "2020-01-15T00:00:00",
          "2020-01-16T00:00:00",
          "2020-01-19T00:00:00",
          "2020-01-20T00:00:00",
          "2020-01-21T00:00:00",
          "2020-01-22T00:00:00",
          "2020-01-23T00:00:00",
          "2020-01-24T00:00:00",
          "2020-01-25T00:00:00",
          "2020-01-26T00:00:00",
          "2020-01-27T00:00:00",
          "2020-01-28T00:00:00"
         ],
         "xaxis": "x",
         "y": [
          2,
          9,
          19,
          2,
          7,
          12,
          16,
          13,
          1,
          44,
          49,
          53,
          39,
          42,
          36,
          39,
          35,
          48,
          17
         ],
         "yaxis": "y"
        }
       ],
       "layout": {
        "autosize": false,
        "barmode": "relative",
        "height": 680,
        "legend": {
         "tracegroupgap": 0
        },
        "margin": {
         "t": 60
        },
        "template": {
         "data": {
          "bar": [
           {
            "error_x": {
             "color": "#2a3f5f"
            },
            "error_y": {
             "color": "#2a3f5f"
            },
            "marker": {
             "line": {
              "color": "#E5ECF6",
              "width": 0.5
             }
            },
            "type": "bar"
           }
          ],
          "barpolar": [
           {
            "marker": {
             "line": {
              "color": "#E5ECF6",
              "width": 0.5
             }
            },
            "type": "barpolar"
           }
          ],
          "carpet": [
           {
            "aaxis": {
             "endlinecolor": "#2a3f5f",
             "gridcolor": "white",
             "linecolor": "white",
             "minorgridcolor": "white",
             "startlinecolor": "#2a3f5f"
            },
            "baxis": {
             "endlinecolor": "#2a3f5f",
             "gridcolor": "white",
             "linecolor": "white",
             "minorgridcolor": "white",
             "startlinecolor": "#2a3f5f"
            },
            "type": "carpet"
           }
          ],
          "choropleth": [
           {
            "colorbar": {
             "outlinewidth": 0,
             "ticks": ""
            },
            "type": "choropleth"
           }
          ],
          "contour": [
           {
            "colorbar": {
             "outlinewidth": 0,
             "ticks": ""
            },
            "colorscale": [
             [
              0,
              "#0d0887"
             ],
             [
              0.1111111111111111,
              "#46039f"
             ],
             [
              0.2222222222222222,
              "#7201a8"
             ],
             [
              0.3333333333333333,
              "#9c179e"
             ],
             [
              0.4444444444444444,
              "#bd3786"
             ],
             [
              0.5555555555555556,
              "#d8576b"
             ],
             [
              0.6666666666666666,
              "#ed7953"
             ],
             [
              0.7777777777777778,
              "#fb9f3a"
             ],
             [
              0.8888888888888888,
              "#fdca26"
             ],
             [
              1,
              "#f0f921"
             ]
            ],
            "type": "contour"
           }
          ],
          "contourcarpet": [
           {
            "colorbar": {
             "outlinewidth": 0,
             "ticks": ""
            },
            "type": "contourcarpet"
           }
          ],
          "heatmap": [
           {
            "colorbar": {
             "outlinewidth": 0,
             "ticks": ""
            },
            "colorscale": [
             [
              0,
              "#0d0887"
             ],
             [
              0.1111111111111111,
              "#46039f"
             ],
             [
              0.2222222222222222,
              "#7201a8"
             ],
             [
              0.3333333333333333,
              "#9c179e"
             ],
             [
              0.4444444444444444,
              "#bd3786"
             ],
             [
              0.5555555555555556,
              "#d8576b"
             ],
             [
              0.6666666666666666,
              "#ed7953"
             ],
             [
              0.7777777777777778,
              "#fb9f3a"
             ],
             [
              0.8888888888888888,
              "#fdca26"
             ],
             [
              1,
              "#f0f921"
             ]
            ],
            "type": "heatmap"
           }
          ],
          "heatmapgl": [
           {
            "colorbar": {
             "outlinewidth": 0,
             "ticks": ""
            },
            "colorscale": [
             [
              0,
              "#0d0887"
             ],
             [
              0.1111111111111111,
              "#46039f"
             ],
             [
              0.2222222222222222,
              "#7201a8"
             ],
             [
              0.3333333333333333,
              "#9c179e"
             ],
             [
              0.4444444444444444,
              "#bd3786"
             ],
             [
              0.5555555555555556,
              "#d8576b"
             ],
             [
              0.6666666666666666,
              "#ed7953"
             ],
             [
              0.7777777777777778,
              "#fb9f3a"
             ],
             [
              0.8888888888888888,
              "#fdca26"
             ],
             [
              1,
              "#f0f921"
             ]
            ],
            "type": "heatmapgl"
           }
          ],
          "histogram": [
           {
            "marker": {
             "colorbar": {
              "outlinewidth": 0,
              "ticks": ""
             }
            },
            "type": "histogram"
           }
          ],
          "histogram2d": [
           {
            "colorbar": {
             "outlinewidth": 0,
             "ticks": ""
            },
            "colorscale": [
             [
              0,
              "#0d0887"
             ],
             [
              0.1111111111111111,
              "#46039f"
             ],
             [
              0.2222222222222222,
              "#7201a8"
             ],
             [
              0.3333333333333333,
              "#9c179e"
             ],
             [
              0.4444444444444444,
              "#bd3786"
             ],
             [
              0.5555555555555556,
              "#d8576b"
             ],
             [
              0.6666666666666666,
              "#ed7953"
             ],
             [
              0.7777777777777778,
              "#fb9f3a"
             ],
             [
              0.8888888888888888,
              "#fdca26"
             ],
             [
              1,
              "#f0f921"
             ]
            ],
            "type": "histogram2d"
           }
          ],
          "histogram2dcontour": [
           {
            "colorbar": {
             "outlinewidth": 0,
             "ticks": ""
            },
            "colorscale": [
             [
              0,
              "#0d0887"
             ],
             [
              0.1111111111111111,
              "#46039f"
             ],
             [
              0.2222222222222222,
              "#7201a8"
             ],
             [
              0.3333333333333333,
              "#9c179e"
             ],
             [
              0.4444444444444444,
              "#bd3786"
             ],
             [
              0.5555555555555556,
              "#d8576b"
             ],
             [
              0.6666666666666666,
              "#ed7953"
             ],
             [
              0.7777777777777778,
              "#fb9f3a"
             ],
             [
              0.8888888888888888,
              "#fdca26"
             ],
             [
              1,
              "#f0f921"
             ]
            ],
            "type": "histogram2dcontour"
           }
          ],
          "mesh3d": [
           {
            "colorbar": {
             "outlinewidth": 0,
             "ticks": ""
            },
            "type": "mesh3d"
           }
          ],
          "parcoords": [
           {
            "line": {
             "colorbar": {
              "outlinewidth": 0,
              "ticks": ""
             }
            },
            "type": "parcoords"
           }
          ],
          "pie": [
           {
            "automargin": true,
            "type": "pie"
           }
          ],
          "scatter": [
           {
            "marker": {
             "colorbar": {
              "outlinewidth": 0,
              "ticks": ""
             }
            },
            "type": "scatter"
           }
          ],
          "scatter3d": [
           {
            "line": {
             "colorbar": {
              "outlinewidth": 0,
              "ticks": ""
             }
            },
            "marker": {
             "colorbar": {
              "outlinewidth": 0,
              "ticks": ""
             }
            },
            "type": "scatter3d"
           }
          ],
          "scattercarpet": [
           {
            "marker": {
             "colorbar": {
              "outlinewidth": 0,
              "ticks": ""
             }
            },
            "type": "scattercarpet"
           }
          ],
          "scattergeo": [
           {
            "marker": {
             "colorbar": {
              "outlinewidth": 0,
              "ticks": ""
             }
            },
            "type": "scattergeo"
           }
          ],
          "scattergl": [
           {
            "marker": {
             "colorbar": {
              "outlinewidth": 0,
              "ticks": ""
             }
            },
            "type": "scattergl"
           }
          ],
          "scattermapbox": [
           {
            "marker": {
             "colorbar": {
              "outlinewidth": 0,
              "ticks": ""
             }
            },
            "type": "scattermapbox"
           }
          ],
          "scatterpolar": [
           {
            "marker": {
             "colorbar": {
              "outlinewidth": 0,
              "ticks": ""
             }
            },
            "type": "scatterpolar"
           }
          ],
          "scatterpolargl": [
           {
            "marker": {
             "colorbar": {
              "outlinewidth": 0,
              "ticks": ""
             }
            },
            "type": "scatterpolargl"
           }
          ],
          "scatterternary": [
           {
            "marker": {
             "colorbar": {
              "outlinewidth": 0,
              "ticks": ""
             }
            },
            "type": "scatterternary"
           }
          ],
          "surface": [
           {
            "colorbar": {
             "outlinewidth": 0,
             "ticks": ""
            },
            "colorscale": [
             [
              0,
              "#0d0887"
             ],
             [
              0.1111111111111111,
              "#46039f"
             ],
             [
              0.2222222222222222,
              "#7201a8"
             ],
             [
              0.3333333333333333,
              "#9c179e"
             ],
             [
              0.4444444444444444,
              "#bd3786"
             ],
             [
              0.5555555555555556,
              "#d8576b"
             ],
             [
              0.6666666666666666,
              "#ed7953"
             ],
             [
              0.7777777777777778,
              "#fb9f3a"
             ],
             [
              0.8888888888888888,
              "#fdca26"
             ],
             [
              1,
              "#f0f921"
             ]
            ],
            "type": "surface"
           }
          ],
          "table": [
           {
            "cells": {
             "fill": {
              "color": "#EBF0F8"
             },
             "line": {
              "color": "white"
             }
            },
            "header": {
             "fill": {
              "color": "#C8D4E3"
             },
             "line": {
              "color": "white"
             }
            },
            "type": "table"
           }
          ]
         },
         "layout": {
          "annotationdefaults": {
           "arrowcolor": "#2a3f5f",
           "arrowhead": 0,
           "arrowwidth": 1
          },
          "coloraxis": {
           "colorbar": {
            "outlinewidth": 0,
            "ticks": ""
           }
          },
          "colorscale": {
           "diverging": [
            [
             0,
             "#8e0152"
            ],
            [
             0.1,
             "#c51b7d"
            ],
            [
             0.2,
             "#de77ae"
            ],
            [
             0.3,
             "#f1b6da"
            ],
            [
             0.4,
             "#fde0ef"
            ],
            [
             0.5,
             "#f7f7f7"
            ],
            [
             0.6,
             "#e6f5d0"
            ],
            [
             0.7,
             "#b8e186"
            ],
            [
             0.8,
             "#7fbc41"
            ],
            [
             0.9,
             "#4d9221"
            ],
            [
             1,
             "#276419"
            ]
           ],
           "sequential": [
            [
             0,
             "#0d0887"
            ],
            [
             0.1111111111111111,
             "#46039f"
            ],
            [
             0.2222222222222222,
             "#7201a8"
            ],
            [
             0.3333333333333333,
             "#9c179e"
            ],
            [
             0.4444444444444444,
             "#bd3786"
            ],
            [
             0.5555555555555556,
             "#d8576b"
            ],
            [
             0.6666666666666666,
             "#ed7953"
            ],
            [
             0.7777777777777778,
             "#fb9f3a"
            ],
            [
             0.8888888888888888,
             "#fdca26"
            ],
            [
             1,
             "#f0f921"
            ]
           ],
           "sequentialminus": [
            [
             0,
             "#0d0887"
            ],
            [
             0.1111111111111111,
             "#46039f"
            ],
            [
             0.2222222222222222,
             "#7201a8"
            ],
            [
             0.3333333333333333,
             "#9c179e"
            ],
            [
             0.4444444444444444,
             "#bd3786"
            ],
            [
             0.5555555555555556,
             "#d8576b"
            ],
            [
             0.6666666666666666,
             "#ed7953"
            ],
            [
             0.7777777777777778,
             "#fb9f3a"
            ],
            [
             0.8888888888888888,
             "#fdca26"
            ],
            [
             1,
             "#f0f921"
            ]
           ]
          },
          "colorway": [
           "#636efa",
           "#EF553B",
           "#00cc96",
           "#ab63fa",
           "#FFA15A",
           "#19d3f3",
           "#FF6692",
           "#B6E880",
           "#FF97FF",
           "#FECB52"
          ],
          "font": {
           "color": "#2a3f5f"
          },
          "geo": {
           "bgcolor": "white",
           "lakecolor": "white",
           "landcolor": "#E5ECF6",
           "showlakes": true,
           "showland": true,
           "subunitcolor": "white"
          },
          "hoverlabel": {
           "align": "left"
          },
          "hovermode": "closest",
          "mapbox": {
           "style": "light"
          },
          "paper_bgcolor": "white",
          "plot_bgcolor": "#E5ECF6",
          "polar": {
           "angularaxis": {
            "gridcolor": "white",
            "linecolor": "white",
            "ticks": ""
           },
           "bgcolor": "#E5ECF6",
           "radialaxis": {
            "gridcolor": "white",
            "linecolor": "white",
            "ticks": ""
           }
          },
          "scene": {
           "xaxis": {
            "backgroundcolor": "#E5ECF6",
            "gridcolor": "white",
            "gridwidth": 2,
            "linecolor": "white",
            "showbackground": true,
            "ticks": "",
            "zerolinecolor": "white"
           },
           "yaxis": {
            "backgroundcolor": "#E5ECF6",
            "gridcolor": "white",
            "gridwidth": 2,
            "linecolor": "white",
            "showbackground": true,
            "ticks": "",
            "zerolinecolor": "white"
           },
           "zaxis": {
            "backgroundcolor": "#E5ECF6",
            "gridcolor": "white",
            "gridwidth": 2,
            "linecolor": "white",
            "showbackground": true,
            "ticks": "",
            "zerolinecolor": "white"
           }
          },
          "shapedefaults": {
           "line": {
            "color": "#2a3f5f"
           }
          },
          "ternary": {
           "aaxis": {
            "gridcolor": "white",
            "linecolor": "white",
            "ticks": ""
           },
           "baxis": {
            "gridcolor": "white",
            "linecolor": "white",
            "ticks": ""
           },
           "bgcolor": "#E5ECF6",
           "caxis": {
            "gridcolor": "white",
            "linecolor": "white",
            "ticks": ""
           }
          },
          "title": {
           "x": 0.05
          },
          "xaxis": {
           "automargin": true,
           "gridcolor": "white",
           "linecolor": "white",
           "ticks": "",
           "title": {
            "standoff": 15
           },
           "zerolinecolor": "white",
           "zerolinewidth": 2
          },
          "yaxis": {
           "automargin": true,
           "gridcolor": "white",
           "linecolor": "white",
           "ticks": "",
           "title": {
            "standoff": 15
           },
           "zerolinecolor": "white",
           "zerolinewidth": 2
          }
         }
        },
        "title": {
         "text": "Number of Observations from Each Stations"
        },
        "width": 1150,
        "xaxis": {
         "dtick": [
          1,
          2
         ],
         "title": {
          "font": {
           "size": 15
          },
          "text": "Date"
         }
        },
        "yaxis": {
         "dtick": 100,
         "ticktext": [
          1,
          1,
          1,
          1,
          1,
          1,
          1,
          1,
          1,
          1,
          1,
          1,
          1,
          1,
          1,
          1,
          1,
          1,
          1,
          1,
          1,
          1,
          2,
          5,
          4,
          5,
          5,
          5,
          4,
          5,
          5,
          5,
          5,
          5,
          5,
          0,
          5,
          5,
          5,
          4,
          5,
          5,
          5,
          4,
          2,
          3,
          3,
          2,
          2,
          48,
          45,
          48,
          48,
          47,
          47,
          41,
          48,
          47,
          41,
          46,
          46,
          47,
          0,
          46,
          48,
          45,
          26,
          48,
          48,
          47,
          47,
          8,
          12,
          12,
          8,
          9,
          50,
          48,
          48,
          48,
          48,
          48,
          46,
          48,
          43,
          48,
          48,
          48,
          48,
          0,
          48,
          47,
          47,
          43,
          48,
          47,
          48,
          47,
          23,
          30,
          28,
          22,
          19,
          38,
          32,
          37,
          33,
          29,
          32,
          35,
          38,
          28,
          32,
          33,
          30,
          31,
          27,
          35,
          33,
          30,
          31,
          32,
          32,
          33,
          30,
          2,
          2,
          2,
          3,
          2,
          35,
          34,
          34,
          34,
          34,
          35,
          34,
          33,
          29,
          34,
          34,
          34,
          34,
          34,
          34,
          34,
          34,
          34,
          35,
          34,
          34,
          34,
          21,
          27,
          28,
          21,
          7,
          39,
          33,
          39,
          39,
          39,
          39,
          39,
          30,
          39,
          31,
          37,
          37,
          26,
          15,
          37,
          31,
          39,
          39,
          39,
          39,
          39,
          39,
          41,
          38,
          38,
          38,
          38,
          39,
          38,
          39,
          38,
          38,
          37,
          37,
          34,
          23,
          32,
          39,
          38,
          38,
          39,
          38,
          36,
          30,
          41,
          36,
          37,
          37,
          38,
          38,
          37,
          37,
          37,
          36,
          35,
          37,
          38,
          37,
          38,
          39,
          37,
          36,
          37,
          39,
          35,
          39,
          37,
          37,
          35,
          30,
          39,
          37,
          34,
          35,
          37,
          37,
          37,
          36,
          37,
          38,
          39,
          35,
          35,
          37,
          38,
          35,
          35,
          38,
          37,
          31,
          37,
          35,
          37,
          31,
          33,
          37,
          35,
          29,
          29,
          37,
          37,
          31,
          33,
          36,
          37,
          35,
          38,
          35,
          35,
          34,
          35,
          35,
          35,
          35,
          33,
          36,
          31,
          20,
          35,
          35,
          35,
          35,
          34,
          37,
          37,
          35,
          33,
          35,
          35,
          37,
          37,
          39,
          37,
          37,
          37,
          34,
          37,
          28,
          39,
          37,
          35,
          37,
          37,
          34,
          35,
          26,
          40,
          39,
          38,
          40,
          38,
          38,
          39,
          38,
          39,
          37,
          39,
          39,
          39,
          39,
          37,
          38,
          39,
          38,
          35,
          37,
          36,
          38,
          37,
          32,
          38,
          26,
          39,
          39,
          39,
          39,
          40,
          38,
          36,
          38,
          39,
          38,
          35,
          38,
          38,
          39,
          38,
          36,
          37,
          40,
          38,
          39,
          39,
          35,
          39,
          38,
          39,
          39,
          38,
          38,
          37,
          38,
          38,
          39,
          39,
          39,
          38,
          39,
          39,
          37,
          37,
          17,
          17,
          16,
          16,
          12,
          39,
          38,
          39,
          38,
          38,
          39,
          38,
          39,
          36,
          36,
          38,
          36,
          36,
          38,
          38,
          39,
          36,
          33,
          39,
          38,
          37,
          35,
          26,
          39,
          33,
          26,
          16,
          40,
          38,
          40,
          39,
          35,
          36,
          39,
          39,
          37,
          37,
          37,
          37,
          37,
          39,
          39,
          39,
          37,
          34,
          39,
          39,
          39,
          35,
          23,
          24,
          31,
          23,
          13,
          36,
          36,
          38,
          38,
          38,
          34,
          36,
          37,
          36,
          35,
          37,
          33,
          39,
          36,
          36,
          39,
          37,
          36,
          39,
          38,
          35,
          36,
          1,
          2,
          1,
          1,
          1,
          31,
          29,
          18,
          31,
          29,
          31,
          29,
          29,
          29,
          31,
          33,
          30,
          31,
          25,
          29,
          32,
          29,
          29,
          31,
          31,
          29,
          30,
          71,
          87,
          83,
          71,
          44,
          6,
          4,
          4,
          4,
          4,
          4,
          4,
          4,
          4,
          4,
          4,
          4,
          4,
          4,
          4,
          4,
          4,
          4,
          4,
          4,
          4,
          65,
          78,
          73,
          64,
          49,
          40,
          41,
          39,
          39,
          39,
          41,
          41,
          39,
          41,
          41,
          41,
          30,
          39,
          39,
          41,
          38,
          38,
          32,
          39,
          39,
          39,
          39,
          81,
          86,
          85,
          82,
          53,
          42,
          39,
          40,
          30,
          40,
          41,
          39,
          41,
          30,
          38,
          41,
          39,
          33,
          40,
          37,
          41,
          40,
          20,
          38,
          39,
          38,
          37,
          91,
          100,
          97,
          82,
          39,
          35,
          40,
          41,
          40,
          42,
          41,
          42,
          41,
          41,
          41,
          41,
          20,
          36,
          41,
          40,
          41,
          41,
          41,
          40,
          41,
          40,
          13,
          95,
          94,
          99,
          81,
          42,
          38,
          38,
          41,
          40,
          41,
          40,
          41,
          41,
          41,
          41,
          41,
          30,
          30,
          38,
          41,
          41,
          41,
          40,
          37,
          42,
          41,
          29,
          96,
          90,
          98,
          82,
          36,
          42,
          38,
          38,
          31,
          41,
          41,
          41,
          41,
          41,
          42,
          37,
          41,
          41,
          38,
          41,
          38,
          38,
          41,
          38,
          41,
          38,
          91,
          95,
          95,
          86,
          39,
          42,
          39,
          41,
          33,
          38,
          38,
          41,
          41,
          41,
          41,
          41,
          41,
          42,
          38,
          41,
          41,
          32,
          41,
          17,
          39,
          31,
          67,
          94,
          79,
          59,
          35,
          42,
          41,
          37,
          41,
          37,
          41,
          41,
          37,
          37,
          41,
          29,
          41,
          40,
          39,
          38,
          37,
          38,
          40,
          40,
          42,
          63,
          96,
          76,
          59,
          48,
          44,
          39,
          41,
          41,
          38,
          41,
          41,
          41,
          41,
          19,
          41,
          41,
          39,
          41,
          41,
          39,
          39,
          40,
          41,
          41,
          24,
          38,
          31,
          24,
          17,
          28,
          27,
          17,
          27,
          24,
          17,
          17,
          27,
          27,
          28,
          27,
          17,
          26,
          27,
          27,
          28,
          26,
          28,
          17,
          27
         ],
         "title": {
          "font": {
           "size": 15
          },
          "text": "Number of Observations"
         }
        }
       }
      },
      "text/html": [
       "<div>\n",
       "        \n",
       "        \n",
       "            <div id=\"546484e9-29aa-4b88-b4b5-f0842564f478\" class=\"plotly-graph-div\" style=\"height:680px; width:1150px;\"></div>\n",
       "            <script type=\"text/javascript\">\n",
       "                require([\"plotly\"], function(Plotly) {\n",
       "                    window.PLOTLYENV=window.PLOTLYENV || {};\n",
       "                    \n",
       "                if (document.getElementById(\"546484e9-29aa-4b88-b4b5-f0842564f478\")) {\n",
       "                    Plotly.newPlot(\n",
       "                        '546484e9-29aa-4b88-b4b5-f0842564f478',\n",
       "                        [{\"alignmentgroup\": \"True\", \"hoverlabel\": {\"namelength\": 0}, \"hovertemplate\": \"id=ait82kw<br>date=%{x}<br>('count', 'energy')=%{y}\", \"legendgroup\": \"id=ait82kw\", \"marker\": {\"color\": \"#AA0DFE\"}, \"name\": \"id=ait82kw\", \"offsetgroup\": \"id=ait82kw\", \"orientation\": \"v\", \"showlegend\": true, \"textposition\": \"auto\", \"type\": \"bar\", \"x\": [\"2019-12-25T00:00:00\", \"2019-12-29T00:00:00\", \"2019-12-30T00:00:00\", \"2019-12-31T00:00:00\", \"2020-01-01T00:00:00\", \"2020-01-02T00:00:00\", \"2020-01-03T00:00:00\", \"2020-01-04T00:00:00\", \"2020-01-05T00:00:00\", \"2020-01-06T00:00:00\", \"2020-01-07T00:00:00\", \"2020-01-08T00:00:00\", \"2020-01-09T00:00:00\", \"2020-01-10T00:00:00\", \"2020-01-11T00:00:00\", \"2020-01-12T00:00:00\", \"2020-01-13T00:00:00\", \"2020-01-14T00:00:00\", \"2020-01-15T00:00:00\", \"2020-01-16T00:00:00\", \"2020-01-19T00:00:00\", \"2020-01-20T00:00:00\", \"2020-01-21T00:00:00\", \"2020-01-22T00:00:00\", \"2020-01-23T00:00:00\", \"2020-01-24T00:00:00\", \"2020-01-25T00:00:00\", \"2020-01-26T00:00:00\", \"2020-01-27T00:00:00\", \"2020-01-28T00:00:00\"], \"xaxis\": \"x\", \"y\": [1, 2, 48, 50, 38, 35, 39, 41, 41, 39, 35, 38, 35, 40, 38, 40, 39, 40, 36, 31, 6, 40, 42, 35, 38, 42, 42, 42, 44, 28], \"yaxis\": \"y\"}, {\"alignmentgroup\": \"True\", \"hoverlabel\": {\"namelength\": 0}, \"hovertemplate\": \"id=aurobindo<br>date=%{x}<br>('count', 'energy')=%{y}\", \"legendgroup\": \"id=aurobindo\", \"marker\": {\"color\": \"#3283FE\"}, \"name\": \"id=aurobindo\", \"offsetgroup\": \"id=aurobindo\", \"orientation\": \"v\", \"showlegend\": true, \"textposition\": \"auto\", \"type\": \"bar\", \"x\": [\"2019-12-25T00:00:00\", \"2019-12-29T00:00:00\", \"2019-12-30T00:00:00\", \"2019-12-31T00:00:00\", \"2020-01-01T00:00:00\", \"2020-01-02T00:00:00\", \"2020-01-03T00:00:00\", \"2020-01-04T00:00:00\", \"2020-01-05T00:00:00\", \"2020-01-06T00:00:00\", \"2020-01-07T00:00:00\", \"2020-01-08T00:00:00\", \"2020-01-09T00:00:00\", \"2020-01-10T00:00:00\", \"2020-01-11T00:00:00\", \"2020-01-12T00:00:00\", \"2020-01-13T00:00:00\", \"2020-01-14T00:00:00\", \"2020-01-15T00:00:00\", \"2020-01-16T00:00:00\", \"2020-01-19T00:00:00\", \"2020-01-20T00:00:00\", \"2020-01-21T00:00:00\", \"2020-01-22T00:00:00\", \"2020-01-23T00:00:00\", \"2020-01-24T00:00:00\", \"2020-01-25T00:00:00\", \"2020-01-26T00:00:00\", \"2020-01-27T00:00:00\", \"2020-01-28T00:00:00\"], \"xaxis\": \"x\", \"y\": [1, 5, 45, 48, 32, 34, 33, 38, 36, 37, 38, 35, 33, 39, 37, 38, 38, 38, 36, 29, 4, 41, 39, 40, 38, 38, 39, 41, 39, 27], \"yaxis\": \"y\"}, {\"alignmentgroup\": \"True\", \"hoverlabel\": {\"namelength\": 0}, \"hovertemplate\": \"id=btcpusa110kw<br>date=%{x}<br>('count', 'energy')=%{y}\", \"legendgroup\": \"id=btcpusa110kw\", \"marker\": {\"color\": \"#85660D\"}, \"name\": \"id=btcpusa110kw\", \"offsetgroup\": \"id=btcpusa110kw\", \"orientation\": \"v\", \"showlegend\": true, \"textposition\": \"auto\", \"type\": \"bar\", \"x\": [\"2019-12-25T00:00:00\", \"2019-12-29T00:00:00\", \"2019-12-30T00:00:00\", \"2019-12-31T00:00:00\", \"2020-01-01T00:00:00\", \"2020-01-02T00:00:00\", \"2020-01-03T00:00:00\", \"2020-01-04T00:00:00\", \"2020-01-05T00:00:00\", \"2020-01-06T00:00:00\", \"2020-01-07T00:00:00\", \"2020-01-08T00:00:00\", \"2020-01-09T00:00:00\", \"2020-01-10T00:00:00\", \"2020-01-11T00:00:00\", \"2020-01-12T00:00:00\", \"2020-01-13T00:00:00\", \"2020-01-14T00:00:00\", \"2020-01-15T00:00:00\", \"2020-01-16T00:00:00\", \"2020-01-19T00:00:00\", \"2020-01-20T00:00:00\", \"2020-01-21T00:00:00\", \"2020-01-22T00:00:00\", \"2020-01-23T00:00:00\", \"2020-01-24T00:00:00\", \"2020-01-25T00:00:00\", \"2020-01-26T00:00:00\", \"2020-01-27T00:00:00\", \"2020-01-28T00:00:00\"], \"xaxis\": \"x\", \"y\": [1, 4, 48, 48, 37, 34, 39, 38, 37, 37, 37, 35, 35, 38, 32, 39, 39, 40, 38, 18, 4, 39, 40, 41, 41, 38, 41, 37, 41, 17], \"yaxis\": \"y\"}, {\"alignmentgroup\": \"True\", \"hoverlabel\": {\"namelength\": 0}, \"hovertemplate\": \"id=deendayalupadhyaycollege<br>date=%{x}<br>('count', 'energy')=%{y}\", \"legendgroup\": \"id=deendayalupadhyaycollege\", \"marker\": {\"color\": \"#782AB6\"}, \"name\": \"id=deendayalupadhyaycollege\", \"offsetgroup\": \"id=deendayalupadhyaycollege\", \"orientation\": \"v\", \"showlegend\": true, \"textposition\": \"auto\", \"type\": \"bar\", \"x\": [\"2019-12-25T00:00:00\", \"2019-12-29T00:00:00\", \"2019-12-30T00:00:00\", \"2019-12-31T00:00:00\", \"2020-01-01T00:00:00\", \"2020-01-02T00:00:00\", \"2020-01-03T00:00:00\", \"2020-01-04T00:00:00\", \"2020-01-05T00:00:00\", \"2020-01-06T00:00:00\", \"2020-01-07T00:00:00\", \"2020-01-08T00:00:00\", \"2020-01-09T00:00:00\", \"2020-01-10T00:00:00\", \"2020-01-11T00:00:00\", \"2020-01-12T00:00:00\", \"2020-01-13T00:00:00\", \"2020-01-14T00:00:00\", \"2020-01-15T00:00:00\", \"2020-01-16T00:00:00\", \"2020-01-19T00:00:00\", \"2020-01-20T00:00:00\", \"2020-01-21T00:00:00\", \"2020-01-22T00:00:00\", \"2020-01-23T00:00:00\", \"2020-01-24T00:00:00\", \"2020-01-25T00:00:00\", \"2020-01-26T00:00:00\", \"2020-01-27T00:00:00\", \"2020-01-28T00:00:00\"], \"xaxis\": \"x\", \"y\": [1, 5, 48, 48, 33, 34, 39, 38, 37, 35, 31, 34, 35, 40, 38, 39, 38, 39, 38, 31, 4, 39, 30, 40, 40, 31, 33, 41, 41, 27], \"yaxis\": \"y\"}, {\"alignmentgroup\": \"True\", \"hoverlabel\": {\"namelength\": 0}, \"hovertemplate\": \"id=delhihaat<br>date=%{x}<br>('count', 'energy')=%{y}\", \"legendgroup\": \"id=delhihaat\", \"marker\": {\"color\": \"#565656\"}, \"name\": \"id=delhihaat\", \"offsetgroup\": \"id=delhihaat\", \"orientation\": \"v\", \"showlegend\": true, \"textposition\": \"auto\", \"type\": \"bar\", \"x\": [\"2019-12-25T00:00:00\", \"2019-12-29T00:00:00\", \"2019-12-30T00:00:00\", \"2019-12-31T00:00:00\", \"2020-01-01T00:00:00\", \"2020-01-02T00:00:00\", \"2020-01-03T00:00:00\", \"2020-01-04T00:00:00\", \"2020-01-05T00:00:00\", \"2020-01-06T00:00:00\", \"2020-01-11T00:00:00\", \"2020-01-12T00:00:00\", \"2020-01-13T00:00:00\", \"2020-01-14T00:00:00\", \"2020-01-15T00:00:00\", \"2020-01-16T00:00:00\", \"2020-01-19T00:00:00\", \"2020-01-20T00:00:00\", \"2020-01-21T00:00:00\", \"2020-01-22T00:00:00\", \"2020-01-23T00:00:00\", \"2020-01-24T00:00:00\", \"2020-01-25T00:00:00\", \"2020-01-26T00:00:00\", \"2020-01-27T00:00:00\", \"2020-01-28T00:00:00\"], \"xaxis\": \"x\", \"y\": [1, 5, 47, 48, 29, 34, 39, 38, 38, 30, 26, 35, 38, 35, 38, 29, 4, 39, 40, 42, 41, 41, 38, 37, 38, 24], \"yaxis\": \"y\"}, {\"alignmentgroup\": \"True\", \"hoverlabel\": {\"namelength\": 0}, \"hovertemplate\": \"id=dtu<br>date=%{x}<br>('count', 'energy')=%{y}\", \"legendgroup\": \"id=dtu\", \"marker\": {\"color\": \"#1C8356\"}, \"name\": \"id=dtu\", \"offsetgroup\": \"id=dtu\", \"orientation\": \"v\", \"showlegend\": true, \"textposition\": \"auto\", \"type\": \"bar\", \"x\": [\"2019-12-25T00:00:00\", \"2019-12-29T00:00:00\", \"2019-12-30T00:00:00\", \"2019-12-31T00:00:00\", \"2020-01-01T00:00:00\", \"2020-01-02T00:00:00\", \"2020-01-03T00:00:00\", \"2020-01-04T00:00:00\", \"2020-01-05T00:00:00\", \"2020-01-06T00:00:00\", \"2020-01-07T00:00:00\", \"2020-01-08T00:00:00\", \"2020-01-09T00:00:00\", \"2020-01-10T00:00:00\", \"2020-01-11T00:00:00\", \"2020-01-12T00:00:00\", \"2020-01-13T00:00:00\", \"2020-01-14T00:00:00\", \"2020-01-15T00:00:00\", \"2020-01-16T00:00:00\", \"2020-01-19T00:00:00\", \"2020-01-20T00:00:00\", \"2020-01-21T00:00:00\", \"2020-01-22T00:00:00\", \"2020-01-23T00:00:00\", \"2020-01-24T00:00:00\", \"2020-01-25T00:00:00\", \"2020-01-26T00:00:00\", \"2020-01-27T00:00:00\", \"2020-01-28T00:00:00\"], \"xaxis\": \"x\", \"y\": [1, 5, 47, 48, 32, 35, 39, 39, 38, 39, 37, 35, 37, 38, 39, 39, 39, 36, 34, 31, 4, 41, 41, 41, 40, 41, 38, 41, 41, 17], \"yaxis\": \"y\"}, {\"alignmentgroup\": \"True\", \"hoverlabel\": {\"namelength\": 0}, \"hovertemplate\": \"id=igdtuw<br>date=%{x}<br>('count', 'energy')=%{y}\", \"legendgroup\": \"id=igdtuw\", \"marker\": {\"color\": \"#16FF32\"}, \"name\": \"id=igdtuw\", \"offsetgroup\": \"id=igdtuw\", \"orientation\": \"v\", \"showlegend\": true, \"textposition\": \"auto\", \"type\": \"bar\", \"x\": [\"2019-12-25T00:00:00\", \"2019-12-29T00:00:00\", \"2019-12-30T00:00:00\", \"2019-12-31T00:00:00\", \"2020-01-01T00:00:00\", \"2020-01-02T00:00:00\", \"2020-01-03T00:00:00\", \"2020-01-04T00:00:00\", \"2020-01-05T00:00:00\", \"2020-01-06T00:00:00\", \"2020-01-07T00:00:00\", \"2020-01-08T00:00:00\", \"2020-01-09T00:00:00\", \"2020-01-10T00:00:00\", \"2020-01-11T00:00:00\", \"2020-01-12T00:00:00\", \"2020-01-13T00:00:00\", \"2020-01-14T00:00:00\", \"2020-01-15T00:00:00\", \"2020-01-16T00:00:00\", \"2020-01-19T00:00:00\", \"2020-01-20T00:00:00\", \"2020-01-21T00:00:00\", \"2020-01-22T00:00:00\", \"2020-01-23T00:00:00\", \"2020-01-24T00:00:00\", \"2020-01-25T00:00:00\", \"2020-01-26T00:00:00\", \"2020-01-27T00:00:00\", \"2020-01-28T00:00:00\"], \"xaxis\": \"x\", \"y\": [1, 4, 41, 46, 35, 34, 39, 38, 37, 37, 35, 35, 37, 38, 39, 38, 38, 39, 36, 29, 4, 41, 39, 42, 41, 41, 41, 41, 41, 17], \"yaxis\": \"y\"}, {\"alignmentgroup\": \"True\", \"hoverlabel\": {\"namelength\": 0}, \"hovertemplate\": \"id=ihbas<br>date=%{x}<br>('count', 'energy')=%{y}\", \"legendgroup\": \"id=ihbas\", \"marker\": {\"color\": \"#F7E1A0\"}, \"name\": \"id=ihbas\", \"offsetgroup\": \"id=ihbas\", \"orientation\": \"v\", \"showlegend\": true, \"textposition\": \"auto\", \"type\": \"bar\", \"x\": [\"2019-12-25T00:00:00\", \"2019-12-29T00:00:00\", \"2019-12-30T00:00:00\", \"2019-12-31T00:00:00\", \"2020-01-01T00:00:00\", \"2020-01-02T00:00:00\", \"2020-01-03T00:00:00\", \"2020-01-04T00:00:00\", \"2020-01-05T00:00:00\", \"2020-01-06T00:00:00\", \"2020-01-07T00:00:00\", \"2020-01-08T00:00:00\", \"2020-01-09T00:00:00\", \"2020-01-10T00:00:00\", \"2020-01-11T00:00:00\", \"2020-01-12T00:00:00\", \"2020-01-13T00:00:00\", \"2020-01-14T00:00:00\", \"2020-01-15T00:00:00\", \"2020-01-16T00:00:00\", \"2020-01-19T00:00:00\", \"2020-01-20T00:00:00\", \"2020-01-21T00:00:00\", \"2020-01-22T00:00:00\", \"2020-01-23T00:00:00\", \"2020-01-24T00:00:00\", \"2020-01-25T00:00:00\", \"2020-01-26T00:00:00\", \"2020-01-27T00:00:00\", \"2020-01-28T00:00:00\"], \"xaxis\": \"x\", \"y\": [1, 5, 48, 48, 38, 33, 30, 39, 37, 34, 37, 35, 39, 39, 39, 39, 39, 39, 37, 29, 4, 39, 41, 41, 41, 41, 41, 37, 41, 27], \"yaxis\": \"y\"}, {\"alignmentgroup\": \"True\", \"hoverlabel\": {\"namelength\": 0}, \"hovertemplate\": \"id=iiitd<br>date=%{x}<br>('count', 'energy')=%{y}\", \"legendgroup\": \"id=iiitd\", \"marker\": {\"color\": \"#E2E2E2\"}, \"name\": \"id=iiitd\", \"offsetgroup\": \"id=iiitd\", \"orientation\": \"v\", \"showlegend\": true, \"textposition\": \"auto\", \"type\": \"bar\", \"x\": [\"2019-12-25T00:00:00\", \"2019-12-29T00:00:00\", \"2019-12-30T00:00:00\", \"2019-12-31T00:00:00\", \"2020-01-01T00:00:00\", \"2020-01-02T00:00:00\", \"2020-01-03T00:00:00\", \"2020-01-04T00:00:00\", \"2020-01-05T00:00:00\", \"2020-01-06T00:00:00\", \"2020-01-07T00:00:00\", \"2020-01-08T00:00:00\", \"2020-01-09T00:00:00\", \"2020-01-10T00:00:00\", \"2020-01-11T00:00:00\", \"2020-01-12T00:00:00\", \"2020-01-13T00:00:00\", \"2020-01-14T00:00:00\", \"2020-01-15T00:00:00\", \"2020-01-16T00:00:00\", \"2020-01-19T00:00:00\", \"2020-01-20T00:00:00\", \"2020-01-21T00:00:00\", \"2020-01-22T00:00:00\", \"2020-01-23T00:00:00\", \"2020-01-24T00:00:00\", \"2020-01-25T00:00:00\", \"2020-01-26T00:00:00\", \"2020-01-27T00:00:00\", \"2020-01-28T00:00:00\"], \"xaxis\": \"x\", \"y\": [1, 5, 47, 43, 28, 29, 39, 38, 37, 35, 31, 35, 37, 38, 39, 39, 36, 37, 36, 29, 4, 41, 30, 41, 41, 41, 41, 37, 41, 27], \"yaxis\": \"y\"}, {\"alignmentgroup\": \"True\", \"hoverlabel\": {\"namelength\": 0}, \"hovertemplate\": \"id=iticvraman<br>date=%{x}<br>('count', 'energy')=%{y}\", \"legendgroup\": \"id=iticvraman\", \"marker\": {\"color\": \"#1CBE4F\"}, \"name\": \"id=iticvraman\", \"offsetgroup\": \"id=iticvraman\", \"orientation\": \"v\", \"showlegend\": true, \"textposition\": \"auto\", \"type\": \"bar\", \"x\": [\"2019-12-25T00:00:00\", \"2019-12-29T00:00:00\", \"2019-12-30T00:00:00\", \"2019-12-31T00:00:00\", \"2020-01-01T00:00:00\", \"2020-01-02T00:00:00\", \"2020-01-03T00:00:00\", \"2020-01-04T00:00:00\", \"2020-01-05T00:00:00\", \"2020-01-06T00:00:00\", \"2020-01-07T00:00:00\", \"2020-01-08T00:00:00\", \"2020-01-09T00:00:00\", \"2020-01-10T00:00:00\", \"2020-01-11T00:00:00\", \"2020-01-12T00:00:00\", \"2020-01-13T00:00:00\", \"2020-01-14T00:00:00\", \"2020-01-15T00:00:00\", \"2020-01-16T00:00:00\", \"2020-01-19T00:00:00\", \"2020-01-20T00:00:00\", \"2020-01-21T00:00:00\", \"2020-01-22T00:00:00\", \"2020-01-23T00:00:00\", \"2020-01-24T00:00:00\", \"2020-01-25T00:00:00\", \"2020-01-26T00:00:00\", \"2020-01-27T00:00:00\", \"2020-01-28T00:00:00\"], \"xaxis\": \"x\", \"y\": [1, 5, 41, 48, 32, 34, 31, 38, 36, 37, 33, 33, 37, 39, 40, 38, 36, 37, 35, 31, 4, 41, 38, 41, 41, 42, 41, 41, 19, 28], \"yaxis\": \"y\"}, {\"alignmentgroup\": \"True\", \"hoverlabel\": {\"namelength\": 0}, \"hovertemplate\": \"id=itijaffarpur<br>date=%{x}<br>('count', 'energy')=%{y}\", \"legendgroup\": \"id=itijaffarpur\", \"marker\": {\"color\": \"#C4451C\"}, \"name\": \"id=itijaffarpur\", \"offsetgroup\": \"id=itijaffarpur\", \"orientation\": \"v\", \"showlegend\": true, \"textposition\": \"auto\", \"type\": \"bar\", \"x\": [\"2019-12-25T00:00:00\", \"2019-12-29T00:00:00\", \"2019-12-30T00:00:00\", \"2019-12-31T00:00:00\", \"2020-01-01T00:00:00\", \"2020-01-02T00:00:00\", \"2020-01-03T00:00:00\", \"2020-01-04T00:00:00\", \"2020-01-05T00:00:00\", \"2020-01-06T00:00:00\", \"2020-01-07T00:00:00\", \"2020-01-08T00:00:00\", \"2020-01-09T00:00:00\", \"2020-01-10T00:00:00\", \"2020-01-11T00:00:00\", \"2020-01-12T00:00:00\", \"2020-01-13T00:00:00\", \"2020-01-14T00:00:00\", \"2020-01-15T00:00:00\", \"2020-01-16T00:00:00\", \"2020-01-19T00:00:00\", \"2020-01-20T00:00:00\", \"2020-01-21T00:00:00\", \"2020-01-22T00:00:00\", \"2020-01-23T00:00:00\", \"2020-01-24T00:00:00\", \"2020-01-25T00:00:00\", \"2020-01-26T00:00:00\", \"2020-01-27T00:00:00\", \"2020-01-28T00:00:00\"], \"xaxis\": \"x\", \"y\": [1, 5, 46, 48, 33, 34, 37, 37, 35, 37, 37, 36, 37, 37, 38, 38, 38, 37, 37, 33, 4, 41, 41, 41, 41, 37, 41, 29, 41, 27], \"yaxis\": \"y\"}, {\"alignmentgroup\": \"True\", \"hoverlabel\": {\"namelength\": 0}, \"hovertemplate\": \"id=itijailroad<br>date=%{x}<br>('count', 'energy')=%{y}\", \"legendgroup\": \"id=itijailroad\", \"marker\": {\"color\": \"#DEA0FD\"}, \"name\": \"id=itijailroad\", \"offsetgroup\": \"id=itijailroad\", \"orientation\": \"v\", \"showlegend\": true, \"textposition\": \"auto\", \"type\": \"bar\", \"x\": [\"2019-12-25T00:00:00\", \"2019-12-29T00:00:00\", \"2019-12-30T00:00:00\", \"2019-12-31T00:00:00\", \"2020-01-01T00:00:00\", \"2020-01-02T00:00:00\", \"2020-01-03T00:00:00\", \"2020-01-04T00:00:00\", \"2020-01-05T00:00:00\", \"2020-01-06T00:00:00\", \"2020-01-07T00:00:00\", \"2020-01-08T00:00:00\", \"2020-01-09T00:00:00\", \"2020-01-10T00:00:00\", \"2020-01-11T00:00:00\", \"2020-01-12T00:00:00\", \"2020-01-13T00:00:00\", \"2020-01-14T00:00:00\", \"2020-01-15T00:00:00\", \"2020-01-16T00:00:00\", \"2020-01-19T00:00:00\", \"2020-01-20T00:00:00\", \"2020-01-21T00:00:00\", \"2020-01-22T00:00:00\", \"2020-01-23T00:00:00\", \"2020-01-24T00:00:00\", \"2020-01-25T00:00:00\", \"2020-01-26T00:00:00\", \"2020-01-27T00:00:00\", \"2020-01-28T00:00:00\"], \"xaxis\": \"x\", \"y\": [1, 5, 46, 48, 30, 34, 37, 37, 37, 37, 35, 31, 34, 39, 36, 37, 36, 37, 33, 30, 4, 30, 39, 20, 30, 41, 41, 41, 41, 17], \"yaxis\": \"y\"}, {\"alignmentgroup\": \"True\", \"hoverlabel\": {\"namelength\": 0}, \"hovertemplate\": \"id=itimangolpuri<br>date=%{x}<br>('count', 'energy')=%{y}\", \"legendgroup\": \"id=itimangolpuri\", \"marker\": {\"color\": \"#FE00FA\"}, \"name\": \"id=itimangolpuri\", \"offsetgroup\": \"id=itimangolpuri\", \"orientation\": \"v\", \"showlegend\": true, \"textposition\": \"auto\", \"type\": \"bar\", \"x\": [\"2019-12-25T00:00:00\", \"2019-12-29T00:00:00\", \"2019-12-30T00:00:00\", \"2019-12-31T00:00:00\", \"2020-01-01T00:00:00\", \"2020-01-02T00:00:00\", \"2020-01-03T00:00:00\", \"2020-01-04T00:00:00\", \"2020-01-05T00:00:00\", \"2020-01-06T00:00:00\", \"2020-01-07T00:00:00\", \"2020-01-08T00:00:00\", \"2020-01-09T00:00:00\", \"2020-01-10T00:00:00\", \"2020-01-11T00:00:00\", \"2020-01-12T00:00:00\", \"2020-01-13T00:00:00\", \"2020-01-14T00:00:00\", \"2020-01-15T00:00:00\", \"2020-01-16T00:00:00\", \"2020-01-19T00:00:00\", \"2020-01-20T00:00:00\", \"2020-01-21T00:00:00\", \"2020-01-22T00:00:00\", \"2020-01-23T00:00:00\"], \"xaxis\": \"x\", \"y\": [1, 5, 47, 48, 31, 34, 26, 34, 38, 36, 29, 20, 37, 39, 38, 38, 36, 37, 39, 31, 4, 39, 33, 36, 30], \"yaxis\": \"y\"}, {\"alignmentgroup\": \"True\", \"hoverlabel\": {\"namelength\": 0}, \"hovertemplate\": \"id=itipusa<br>date=%{x}<br>('count', 'energy')=%{y}\", \"legendgroup\": \"id=itipusa\", \"marker\": {\"color\": \"#325A9B\"}, \"name\": \"id=itipusa\", \"offsetgroup\": \"id=itipusa\", \"orientation\": \"v\", \"showlegend\": true, \"textposition\": \"auto\", \"type\": \"bar\", \"x\": [\"2019-12-25T00:00:00\", \"2019-12-29T00:00:00\", \"2019-12-30T00:00:00\", \"2019-12-31T00:00:00\", \"2020-01-01T00:00:00\", \"2020-01-02T00:00:00\", \"2020-01-03T00:00:00\", \"2020-01-04T00:00:00\", \"2020-01-05T00:00:00\", \"2020-01-06T00:00:00\", \"2020-01-07T00:00:00\", \"2020-01-09T00:00:00\", \"2020-01-10T00:00:00\", \"2020-01-11T00:00:00\", \"2020-01-12T00:00:00\", \"2020-01-13T00:00:00\", \"2020-01-14T00:00:00\", \"2020-01-15T00:00:00\", \"2020-01-16T00:00:00\", \"2020-01-19T00:00:00\", \"2020-01-20T00:00:00\", \"2020-01-21T00:00:00\", \"2020-01-22T00:00:00\", \"2020-01-23T00:00:00\", \"2020-01-24T00:00:00\", \"2020-01-25T00:00:00\", \"2020-01-26T00:00:00\", \"2020-01-27T00:00:00\", \"2020-01-28T00:00:00\"], \"xaxis\": \"x\", \"y\": [1, 0, 0, 0, 27, 34, 15, 23, 37, 37, 29, 28, 39, 39, 38, 38, 39, 36, 25, 4, 39, 40, 41, 38, 41, 42, 40, 39, 26], \"yaxis\": \"y\"}, {\"alignmentgroup\": \"True\", \"hoverlabel\": {\"namelength\": 0}, \"hovertemplate\": \"id=kalindicillege<br>date=%{x}<br>('count', 'energy')=%{y}\", \"legendgroup\": \"id=kalindicillege\", \"marker\": {\"color\": \"#FEAF16\"}, \"name\": \"id=kalindicillege\", \"offsetgroup\": \"id=kalindicillege\", \"orientation\": \"v\", \"showlegend\": true, \"textposition\": \"auto\", \"type\": \"bar\", \"x\": [\"2019-12-25T00:00:00\", \"2019-12-29T00:00:00\", \"2019-12-30T00:00:00\", \"2019-12-31T00:00:00\", \"2020-01-01T00:00:00\", \"2020-01-02T00:00:00\", \"2020-01-03T00:00:00\", \"2020-01-04T00:00:00\", \"2020-01-05T00:00:00\", \"2020-01-06T00:00:00\", \"2020-01-07T00:00:00\", \"2020-01-08T00:00:00\", \"2020-01-09T00:00:00\", \"2020-01-10T00:00:00\", \"2020-01-11T00:00:00\", \"2020-01-12T00:00:00\", \"2020-01-13T00:00:00\", \"2020-01-14T00:00:00\", \"2020-01-15T00:00:00\", \"2020-01-16T00:00:00\", \"2020-01-19T00:00:00\", \"2020-01-20T00:00:00\", \"2020-01-21T00:00:00\", \"2020-01-22T00:00:00\", \"2020-01-23T00:00:00\", \"2020-01-24T00:00:00\", \"2020-01-25T00:00:00\", \"2020-01-26T00:00:00\", \"2020-01-27T00:00:00\", \"2020-01-28T00:00:00\"], \"xaxis\": \"x\", \"y\": [1, 5, 46, 48, 35, 34, 37, 32, 38, 38, 37, 35, 39, 39, 38, 39, 38, 39, 36, 29, 4, 41, 37, 40, 41, 38, 38, 39, 41, 27], \"yaxis\": \"y\"}, {\"alignmentgroup\": \"True\", \"hoverlabel\": {\"namelength\": 0}, \"hovertemplate\": \"id=kitpitampura<br>date=%{x}<br>('count', 'energy')=%{y}\", \"legendgroup\": \"id=kitpitampura\", \"marker\": {\"color\": \"#F8A19F\"}, \"name\": \"id=kitpitampura\", \"offsetgroup\": \"id=kitpitampura\", \"orientation\": \"v\", \"showlegend\": true, \"textposition\": \"auto\", \"type\": \"bar\", \"x\": [\"2019-12-25T00:00:00\", \"2019-12-29T00:00:00\", \"2019-12-30T00:00:00\", \"2019-12-31T00:00:00\", \"2020-01-01T00:00:00\", \"2020-01-02T00:00:00\", \"2020-01-03T00:00:00\", \"2020-01-04T00:00:00\", \"2020-01-05T00:00:00\", \"2020-01-06T00:00:00\", \"2020-01-07T00:00:00\", \"2020-01-08T00:00:00\", \"2020-01-09T00:00:00\", \"2020-01-10T00:00:00\", \"2020-01-11T00:00:00\", \"2020-01-12T00:00:00\", \"2020-01-13T00:00:00\", \"2020-01-14T00:00:00\", \"2020-01-15T00:00:00\", \"2020-01-16T00:00:00\", \"2020-01-19T00:00:00\", \"2020-01-20T00:00:00\", \"2020-01-21T00:00:00\", \"2020-01-22T00:00:00\", \"2020-01-23T00:00:00\", \"2020-01-24T00:00:00\", \"2020-01-25T00:00:00\", \"2020-01-26T00:00:00\", \"2020-01-27T00:00:00\", \"2020-01-28T00:00:00\"], \"xaxis\": \"x\", \"y\": [1, 5, 48, 47, 33, 34, 31, 39, 39, 39, 37, 35, 37, 37, 35, 39, 39, 39, 39, 32, 4, 38, 41, 41, 41, 41, 41, 38, 41, 27], \"yaxis\": \"y\"}, {\"alignmentgroup\": \"True\", \"hoverlabel\": {\"namelength\": 0}, \"hovertemplate\": \"id=maulanaazadmedicalcollege<br>date=%{x}<br>('count', 'energy')=%{y}\", \"legendgroup\": \"id=maulanaazadmedicalcollege\", \"marker\": {\"color\": \"#90AD1C\"}, \"name\": \"id=maulanaazadmedicalcollege\", \"offsetgroup\": \"id=maulanaazadmedicalcollege\", \"orientation\": \"v\", \"showlegend\": true, \"textposition\": \"auto\", \"type\": \"bar\", \"x\": [\"2019-12-25T00:00:00\", \"2019-12-29T00:00:00\", \"2019-12-30T00:00:00\", \"2019-12-31T00:00:00\", \"2020-01-01T00:00:00\", \"2020-01-02T00:00:00\", \"2020-01-03T00:00:00\", \"2020-01-04T00:00:00\", \"2020-01-05T00:00:00\", \"2020-01-06T00:00:00\", \"2020-01-07T00:00:00\", \"2020-01-08T00:00:00\", \"2020-01-09T00:00:00\", \"2020-01-10T00:00:00\", \"2020-01-11T00:00:00\", \"2020-01-12T00:00:00\", \"2020-01-13T00:00:00\", \"2020-01-14T00:00:00\", \"2020-01-15T00:00:00\", \"2020-01-16T00:00:00\", \"2020-01-20T00:00:00\", \"2020-01-21T00:00:00\", \"2020-01-22T00:00:00\", \"2020-01-23T00:00:00\", \"2020-01-24T00:00:00\", \"2020-01-25T00:00:00\", \"2020-01-26T00:00:00\", \"2020-01-27T00:00:00\", \"2020-01-28T00:00:00\"], \"xaxis\": \"x\", \"y\": [1, 5, 45, 47, 30, 34, 39, 38, 37, 35, 31, 35, 35, 38, 38, 39, 36, 37, 37, 29, 38, 40, 41, 41, 38, 41, 37, 39, 28], \"yaxis\": \"y\"}, {\"alignmentgroup\": \"True\", \"hoverlabel\": {\"namelength\": 0}, \"hovertemplate\": \"id=meerabaiinstituteoftechnology<br>date=%{x}<br>('count', 'energy')=%{y}\", \"legendgroup\": \"id=meerabaiinstituteoftechnology\", \"marker\": {\"color\": \"#F6222E\"}, \"name\": \"id=meerabaiinstituteoftechnology\", \"offsetgroup\": \"id=meerabaiinstituteoftechnology\", \"orientation\": \"v\", \"showlegend\": true, \"textposition\": \"auto\", \"type\": \"bar\", \"x\": [\"2019-12-25T00:00:00\", \"2019-12-29T00:00:00\", \"2019-12-30T00:00:00\", \"2019-12-31T00:00:00\", \"2020-01-01T00:00:00\", \"2020-01-02T00:00:00\", \"2020-01-03T00:00:00\", \"2020-01-04T00:00:00\", \"2020-01-05T00:00:00\", \"2020-01-06T00:00:00\", \"2020-01-07T00:00:00\", \"2020-01-08T00:00:00\", \"2020-01-09T00:00:00\", \"2020-01-10T00:00:00\", \"2020-01-11T00:00:00\", \"2020-01-12T00:00:00\", \"2020-01-13T00:00:00\", \"2020-01-14T00:00:00\", \"2020-01-15T00:00:00\", \"2020-01-16T00:00:00\", \"2020-01-19T00:00:00\", \"2020-01-20T00:00:00\", \"2020-01-21T00:00:00\", \"2020-01-22T00:00:00\", \"2020-01-23T00:00:00\", \"2020-01-24T00:00:00\", \"2020-01-25T00:00:00\", \"2020-01-26T00:00:00\", \"2020-01-27T00:00:00\", \"2020-01-28T00:00:00\"], \"xaxis\": \"x\", \"y\": [1, 4, 26, 43, 31, 34, 39, 38, 36, 35, 33, 35, 37, 39, 38, 38, 33, 34, 36, 29, 4, 32, 20, 41, 40, 38, 32, 38, 39, 26], \"yaxis\": \"y\"}, {\"alignmentgroup\": \"True\", \"hoverlabel\": {\"namelength\": 0}, \"hovertemplate\": \"id=nsit<br>date=%{x}<br>('count', 'energy')=%{y}\", \"legendgroup\": \"id=nsit\", \"marker\": {\"color\": \"#1CFFCE\"}, \"name\": \"id=nsit\", \"offsetgroup\": \"id=nsit\", \"orientation\": \"v\", \"showlegend\": true, \"textposition\": \"auto\", \"type\": \"bar\", \"x\": [\"2019-12-25T00:00:00\", \"2019-12-29T00:00:00\", \"2019-12-30T00:00:00\", \"2019-12-31T00:00:00\", \"2020-01-01T00:00:00\", \"2020-01-02T00:00:00\", \"2020-01-03T00:00:00\", \"2020-01-04T00:00:00\", \"2020-01-05T00:00:00\", \"2020-01-06T00:00:00\", \"2020-01-07T00:00:00\", \"2020-01-08T00:00:00\", \"2020-01-09T00:00:00\", \"2020-01-10T00:00:00\", \"2020-01-11T00:00:00\", \"2020-01-12T00:00:00\", \"2020-01-13T00:00:00\", \"2020-01-14T00:00:00\", \"2020-01-15T00:00:00\", \"2020-01-16T00:00:00\", \"2020-01-19T00:00:00\", \"2020-01-20T00:00:00\", \"2020-01-21T00:00:00\", \"2020-01-22T00:00:00\", \"2020-01-23T00:00:00\", \"2020-01-24T00:00:00\", \"2020-01-25T00:00:00\", \"2020-01-26T00:00:00\", \"2020-01-27T00:00:00\", \"2020-01-28T00:00:00\"], \"xaxis\": \"x\", \"y\": [1, 5, 48, 48, 32, 35, 39, 39, 37, 37, 36, 34, 37, 38, 39, 39, 39, 39, 39, 31, 4, 39, 38, 40, 37, 41, 41, 40, 40, 28], \"yaxis\": \"y\"}, {\"alignmentgroup\": \"True\", \"hoverlabel\": {\"namelength\": 0}, \"hovertemplate\": \"id=pitacademicblock100kw<br>date=%{x}<br>('count', 'energy')=%{y}\", \"legendgroup\": \"id=pitacademicblock100kw\", \"marker\": {\"color\": \"#2ED9FF\"}, \"name\": \"id=pitacademicblock100kw\", \"offsetgroup\": \"id=pitacademicblock100kw\", \"orientation\": \"v\", \"showlegend\": true, \"textposition\": \"auto\", \"type\": \"bar\", \"x\": [\"2019-12-25T00:00:00\", \"2019-12-29T00:00:00\", \"2019-12-30T00:00:00\", \"2019-12-31T00:00:00\", \"2020-01-01T00:00:00\", \"2020-01-02T00:00:00\", \"2020-01-03T00:00:00\", \"2020-01-04T00:00:00\", \"2020-01-05T00:00:00\", \"2020-01-06T00:00:00\", \"2020-01-07T00:00:00\", \"2020-01-08T00:00:00\", \"2020-01-09T00:00:00\", \"2020-01-10T00:00:00\", \"2020-01-11T00:00:00\", \"2020-01-12T00:00:00\", \"2020-01-13T00:00:00\", \"2020-01-14T00:00:00\", \"2020-01-15T00:00:00\", \"2020-01-16T00:00:00\", \"2020-01-19T00:00:00\", \"2020-01-20T00:00:00\", \"2020-01-21T00:00:00\", \"2020-01-22T00:00:00\", \"2020-01-23T00:00:00\", \"2020-01-24T00:00:00\", \"2020-01-25T00:00:00\", \"2020-01-26T00:00:00\", \"2020-01-27T00:00:00\", \"2020-01-28T00:00:00\"], \"xaxis\": \"x\", \"y\": [1, 5, 48, 47, 32, 34, 39, 38, 39, 38, 37, 37, 34, 35, 38, 39, 38, 39, 38, 31, 4, 39, 39, 41, 42, 38, 17, 40, 41, 17], \"yaxis\": \"y\"}, {\"alignmentgroup\": \"True\", \"hoverlabel\": {\"namelength\": 0}, \"hovertemplate\": \"id=satyawaticollege<br>date=%{x}<br>('count', 'energy')=%{y}\", \"legendgroup\": \"id=satyawaticollege\", \"marker\": {\"color\": \"#B10DA1\"}, \"name\": \"id=satyawaticollege\", \"offsetgroup\": \"id=satyawaticollege\", \"orientation\": \"v\", \"showlegend\": true, \"textposition\": \"auto\", \"type\": \"bar\", \"x\": [\"2019-12-25T00:00:00\", \"2019-12-29T00:00:00\", \"2019-12-30T00:00:00\", \"2019-12-31T00:00:00\", \"2020-01-01T00:00:00\", \"2020-01-02T00:00:00\", \"2020-01-03T00:00:00\", \"2020-01-04T00:00:00\", \"2020-01-05T00:00:00\", \"2020-01-06T00:00:00\", \"2020-01-07T00:00:00\", \"2020-01-08T00:00:00\", \"2020-01-09T00:00:00\", \"2020-01-10T00:00:00\", \"2020-01-11T00:00:00\", \"2020-01-12T00:00:00\", \"2020-01-13T00:00:00\", \"2020-01-14T00:00:00\", \"2020-01-15T00:00:00\", \"2020-01-16T00:00:00\", \"2020-01-19T00:00:00\", \"2020-01-20T00:00:00\", \"2020-01-21T00:00:00\", \"2020-01-22T00:00:00\", \"2020-01-23T00:00:00\", \"2020-01-24T00:00:00\", \"2020-01-25T00:00:00\", \"2020-01-26T00:00:00\", \"2020-01-27T00:00:00\", \"2020-01-28T00:00:00\"], \"xaxis\": \"x\", \"y\": [1, 5, 47, 48, 33, 34, 39, 36, 35, 35, 35, 37, 35, 37, 36, 37, 37, 39, 35, 29, 4, 39, 38, 40, 41, 41, 39, 42, 41, 27], \"yaxis\": \"y\"}, {\"alignmentgroup\": \"True\", \"hoverlabel\": {\"namelength\": 0}, \"hovertemplate\": \"id=sscbs<br>date=%{x}<br>('count', 'energy')=%{y}\", \"legendgroup\": \"id=sscbs\", \"marker\": {\"color\": \"#C075A6\"}, \"name\": \"id=sscbs\", \"offsetgroup\": \"id=sscbs\", \"orientation\": \"v\", \"showlegend\": true, \"textposition\": \"auto\", \"type\": \"bar\", \"x\": [\"2019-12-25T00:00:00\", \"2019-12-29T00:00:00\", \"2019-12-30T00:00:00\", \"2019-12-31T00:00:00\", \"2020-01-01T00:00:00\", \"2020-01-02T00:00:00\", \"2020-01-03T00:00:00\", \"2020-01-04T00:00:00\", \"2020-01-09T00:00:00\", \"2020-01-10T00:00:00\", \"2020-01-11T00:00:00\", \"2020-01-12T00:00:00\", \"2020-01-13T00:00:00\", \"2020-01-14T00:00:00\", \"2020-01-15T00:00:00\", \"2020-01-16T00:00:00\", \"2020-01-19T00:00:00\", \"2020-01-20T00:00:00\", \"2020-01-21T00:00:00\", \"2020-01-22T00:00:00\", \"2020-01-23T00:00:00\", \"2020-01-24T00:00:00\", \"2020-01-25T00:00:00\"], \"xaxis\": \"x\", \"y\": [1, 4, 47, 47, 30, 34, 39, 30, 26, 36, 37, 37, 35, 35, 36, 30, 4, 39, 37, 13, 29, 38, 31], \"yaxis\": \"y\"}, {\"alignmentgroup\": \"True\", \"hoverlabel\": {\"namelength\": 0}, \"hovertemplate\": \"id=43707<br>date=%{x}<br>('count', 'energy')=%{y}\", \"legendgroup\": \"id=43707\", \"marker\": {\"color\": \"#FC1CBF\"}, \"name\": \"id=43707\", \"offsetgroup\": \"id=43707\", \"orientation\": \"v\", \"showlegend\": true, \"textposition\": \"auto\", \"type\": \"bar\", \"x\": [\"2019-12-30T00:00:00\", \"2019-12-31T00:00:00\", \"2020-01-01T00:00:00\", \"2020-01-02T00:00:00\", \"2020-01-03T00:00:00\", \"2020-01-13T00:00:00\", \"2020-01-14T00:00:00\", \"2020-01-15T00:00:00\", \"2020-01-16T00:00:00\", \"2020-01-19T00:00:00\", \"2020-01-20T00:00:00\", \"2020-01-21T00:00:00\", \"2020-01-22T00:00:00\", \"2020-01-23T00:00:00\", \"2020-01-24T00:00:00\", \"2020-01-25T00:00:00\", \"2020-01-26T00:00:00\", \"2020-01-27T00:00:00\", \"2020-01-28T00:00:00\"], \"xaxis\": \"x\", \"y\": [2, 8, 23, 2, 21, 17, 26, 23, 1, 71, 65, 81, 91, 95, 96, 91, 67, 63, 24], \"yaxis\": \"y\"}, {\"alignmentgroup\": \"True\", \"hoverlabel\": {\"namelength\": 0}, \"hovertemplate\": \"id=55448<br>date=%{x}<br>('count', 'energy')=%{y}\", \"legendgroup\": \"id=55448\", \"marker\": {\"color\": \"#B00068\"}, \"name\": \"id=55448\", \"offsetgroup\": \"id=55448\", \"orientation\": \"v\", \"showlegend\": true, \"textposition\": \"auto\", \"type\": \"bar\", \"x\": [\"2019-12-30T00:00:00\", \"2019-12-31T00:00:00\", \"2020-01-01T00:00:00\", \"2020-01-02T00:00:00\", \"2020-01-03T00:00:00\", \"2020-01-13T00:00:00\", \"2020-01-14T00:00:00\", \"2020-01-15T00:00:00\", \"2020-01-16T00:00:00\", \"2020-01-19T00:00:00\", \"2020-01-20T00:00:00\", \"2020-01-21T00:00:00\", \"2020-01-22T00:00:00\", \"2020-01-23T00:00:00\", \"2020-01-24T00:00:00\", \"2020-01-25T00:00:00\", \"2020-01-26T00:00:00\", \"2020-01-27T00:00:00\", \"2020-01-28T00:00:00\"], \"xaxis\": \"x\", \"y\": [3, 12, 30, 2, 27, 17, 39, 24, 2, 87, 78, 86, 100, 94, 90, 95, 94, 96, 38], \"yaxis\": \"y\"}, {\"alignmentgroup\": \"True\", \"hoverlabel\": {\"namelength\": 0}, \"hovertemplate\": \"id=58292<br>date=%{x}<br>('count', 'energy')=%{y}\", \"legendgroup\": \"id=58292\", \"marker\": {\"color\": \"#FBE426\"}, \"name\": \"id=58292\", \"offsetgroup\": \"id=58292\", \"orientation\": \"v\", \"showlegend\": true, \"textposition\": \"auto\", \"type\": \"bar\", \"x\": [\"2019-12-30T00:00:00\", \"2019-12-31T00:00:00\", \"2020-01-01T00:00:00\", \"2020-01-02T00:00:00\", \"2020-01-03T00:00:00\", \"2020-01-13T00:00:00\", \"2020-01-14T00:00:00\", \"2020-01-15T00:00:00\", \"2020-01-16T00:00:00\", \"2020-01-19T00:00:00\", \"2020-01-20T00:00:00\", \"2020-01-21T00:00:00\", \"2020-01-22T00:00:00\", \"2020-01-23T00:00:00\", \"2020-01-24T00:00:00\", \"2020-01-25T00:00:00\", \"2020-01-26T00:00:00\", \"2020-01-27T00:00:00\", \"2020-01-28T00:00:00\"], \"xaxis\": \"x\", \"y\": [3, 12, 28, 2, 28, 16, 33, 31, 1, 83, 73, 85, 97, 99, 98, 95, 79, 76, 31], \"yaxis\": \"y\"}, {\"alignmentgroup\": \"True\", \"hoverlabel\": {\"namelength\": 0}, \"hovertemplate\": \"id=58337<br>date=%{x}<br>('count', 'energy')=%{y}\", \"legendgroup\": \"id=58337\", \"marker\": {\"color\": \"#FA0087\"}, \"name\": \"id=58337\", \"offsetgroup\": \"id=58337\", \"orientation\": \"v\", \"showlegend\": true, \"textposition\": \"auto\", \"type\": \"bar\", \"x\": [\"2019-12-30T00:00:00\", \"2019-12-31T00:00:00\", \"2020-01-01T00:00:00\", \"2020-01-02T00:00:00\", \"2020-01-03T00:00:00\", \"2020-01-13T00:00:00\", \"2020-01-14T00:00:00\", \"2020-01-15T00:00:00\", \"2020-01-16T00:00:00\", \"2020-01-19T00:00:00\", \"2020-01-20T00:00:00\", \"2020-01-21T00:00:00\", \"2020-01-22T00:00:00\", \"2020-01-23T00:00:00\", \"2020-01-24T00:00:00\", \"2020-01-25T00:00:00\", \"2020-01-26T00:00:00\", \"2020-01-27T00:00:00\", \"2020-01-28T00:00:00\"], \"xaxis\": \"x\", \"y\": [2, 8, 22, 3, 21, 16, 26, 23, 1, 71, 64, 82, 82, 81, 82, 86, 59, 59, 24], \"yaxis\": \"y\"}, {\"alignmentgroup\": \"True\", \"hoverlabel\": {\"namelength\": 0}, \"hovertemplate\": \"id=59093<br>date=%{x}<br>('count', 'energy')=%{y}\", \"legendgroup\": \"id=59093\", \"marker\": {\"color\": \"#AA0DFE\"}, \"name\": \"id=59093\", \"offsetgroup\": \"id=59093\", \"orientation\": \"v\", \"showlegend\": true, \"textposition\": \"auto\", \"type\": \"bar\", \"x\": [\"2019-12-30T00:00:00\", \"2019-12-31T00:00:00\", \"2020-01-01T00:00:00\", \"2020-01-02T00:00:00\", \"2020-01-03T00:00:00\", \"2020-01-13T00:00:00\", \"2020-01-14T00:00:00\", \"2020-01-15T00:00:00\", \"2020-01-16T00:00:00\", \"2020-01-19T00:00:00\", \"2020-01-20T00:00:00\", \"2020-01-21T00:00:00\", \"2020-01-22T00:00:00\", \"2020-01-23T00:00:00\", \"2020-01-24T00:00:00\", \"2020-01-25T00:00:00\", \"2020-01-26T00:00:00\", \"2020-01-27T00:00:00\", \"2020-01-28T00:00:00\"], \"xaxis\": \"x\", \"y\": [2, 9, 19, 2, 7, 12, 16, 13, 1, 44, 49, 53, 39, 42, 36, 39, 35, 48, 17], \"yaxis\": \"y\"}],\n",
       "                        {\"autosize\": false, \"barmode\": \"relative\", \"height\": 680, \"legend\": {\"tracegroupgap\": 0}, \"margin\": {\"t\": 60}, \"template\": {\"data\": {\"bar\": [{\"error_x\": {\"color\": \"#2a3f5f\"}, \"error_y\": {\"color\": \"#2a3f5f\"}, \"marker\": {\"line\": {\"color\": \"#E5ECF6\", \"width\": 0.5}}, \"type\": \"bar\"}], \"barpolar\": [{\"marker\": {\"line\": {\"color\": \"#E5ECF6\", \"width\": 0.5}}, \"type\": \"barpolar\"}], \"carpet\": [{\"aaxis\": {\"endlinecolor\": \"#2a3f5f\", \"gridcolor\": \"white\", \"linecolor\": \"white\", \"minorgridcolor\": \"white\", \"startlinecolor\": \"#2a3f5f\"}, \"baxis\": {\"endlinecolor\": \"#2a3f5f\", \"gridcolor\": \"white\", \"linecolor\": \"white\", \"minorgridcolor\": \"white\", \"startlinecolor\": \"#2a3f5f\"}, \"type\": \"carpet\"}], \"choropleth\": [{\"colorbar\": {\"outlinewidth\": 0, \"ticks\": \"\"}, \"type\": \"choropleth\"}], \"contour\": [{\"colorbar\": {\"outlinewidth\": 0, \"ticks\": \"\"}, \"colorscale\": [[0.0, \"#0d0887\"], [0.1111111111111111, \"#46039f\"], [0.2222222222222222, \"#7201a8\"], [0.3333333333333333, \"#9c179e\"], [0.4444444444444444, \"#bd3786\"], [0.5555555555555556, \"#d8576b\"], [0.6666666666666666, \"#ed7953\"], [0.7777777777777778, \"#fb9f3a\"], [0.8888888888888888, \"#fdca26\"], [1.0, \"#f0f921\"]], \"type\": \"contour\"}], \"contourcarpet\": [{\"colorbar\": {\"outlinewidth\": 0, \"ticks\": \"\"}, \"type\": \"contourcarpet\"}], \"heatmap\": [{\"colorbar\": {\"outlinewidth\": 0, \"ticks\": \"\"}, \"colorscale\": [[0.0, \"#0d0887\"], [0.1111111111111111, \"#46039f\"], [0.2222222222222222, \"#7201a8\"], [0.3333333333333333, \"#9c179e\"], [0.4444444444444444, \"#bd3786\"], [0.5555555555555556, \"#d8576b\"], [0.6666666666666666, \"#ed7953\"], [0.7777777777777778, \"#fb9f3a\"], [0.8888888888888888, \"#fdca26\"], [1.0, \"#f0f921\"]], \"type\": \"heatmap\"}], \"heatmapgl\": [{\"colorbar\": {\"outlinewidth\": 0, \"ticks\": \"\"}, \"colorscale\": [[0.0, \"#0d0887\"], [0.1111111111111111, \"#46039f\"], [0.2222222222222222, \"#7201a8\"], [0.3333333333333333, \"#9c179e\"], [0.4444444444444444, \"#bd3786\"], [0.5555555555555556, \"#d8576b\"], [0.6666666666666666, \"#ed7953\"], [0.7777777777777778, \"#fb9f3a\"], [0.8888888888888888, \"#fdca26\"], [1.0, \"#f0f921\"]], \"type\": \"heatmapgl\"}], \"histogram\": [{\"marker\": {\"colorbar\": {\"outlinewidth\": 0, \"ticks\": \"\"}}, \"type\": \"histogram\"}], \"histogram2d\": [{\"colorbar\": {\"outlinewidth\": 0, \"ticks\": \"\"}, \"colorscale\": [[0.0, \"#0d0887\"], [0.1111111111111111, \"#46039f\"], [0.2222222222222222, \"#7201a8\"], [0.3333333333333333, \"#9c179e\"], [0.4444444444444444, \"#bd3786\"], [0.5555555555555556, \"#d8576b\"], [0.6666666666666666, \"#ed7953\"], [0.7777777777777778, \"#fb9f3a\"], [0.8888888888888888, \"#fdca26\"], [1.0, \"#f0f921\"]], \"type\": \"histogram2d\"}], \"histogram2dcontour\": [{\"colorbar\": {\"outlinewidth\": 0, \"ticks\": \"\"}, \"colorscale\": [[0.0, \"#0d0887\"], [0.1111111111111111, \"#46039f\"], [0.2222222222222222, \"#7201a8\"], [0.3333333333333333, \"#9c179e\"], [0.4444444444444444, \"#bd3786\"], [0.5555555555555556, \"#d8576b\"], [0.6666666666666666, \"#ed7953\"], [0.7777777777777778, \"#fb9f3a\"], [0.8888888888888888, \"#fdca26\"], [1.0, \"#f0f921\"]], \"type\": \"histogram2dcontour\"}], \"mesh3d\": [{\"colorbar\": {\"outlinewidth\": 0, \"ticks\": \"\"}, \"type\": \"mesh3d\"}], \"parcoords\": [{\"line\": {\"colorbar\": {\"outlinewidth\": 0, \"ticks\": \"\"}}, \"type\": \"parcoords\"}], \"pie\": [{\"automargin\": true, \"type\": \"pie\"}], \"scatter\": [{\"marker\": {\"colorbar\": {\"outlinewidth\": 0, \"ticks\": \"\"}}, \"type\": \"scatter\"}], \"scatter3d\": [{\"line\": {\"colorbar\": {\"outlinewidth\": 0, \"ticks\": \"\"}}, \"marker\": {\"colorbar\": {\"outlinewidth\": 0, \"ticks\": \"\"}}, \"type\": \"scatter3d\"}], \"scattercarpet\": [{\"marker\": {\"colorbar\": {\"outlinewidth\": 0, \"ticks\": \"\"}}, \"type\": \"scattercarpet\"}], \"scattergeo\": [{\"marker\": {\"colorbar\": {\"outlinewidth\": 0, \"ticks\": \"\"}}, \"type\": \"scattergeo\"}], \"scattergl\": [{\"marker\": {\"colorbar\": {\"outlinewidth\": 0, \"ticks\": \"\"}}, \"type\": \"scattergl\"}], \"scattermapbox\": [{\"marker\": {\"colorbar\": {\"outlinewidth\": 0, \"ticks\": \"\"}}, \"type\": \"scattermapbox\"}], \"scatterpolar\": [{\"marker\": {\"colorbar\": {\"outlinewidth\": 0, \"ticks\": \"\"}}, \"type\": \"scatterpolar\"}], \"scatterpolargl\": [{\"marker\": {\"colorbar\": {\"outlinewidth\": 0, \"ticks\": \"\"}}, \"type\": \"scatterpolargl\"}], \"scatterternary\": [{\"marker\": {\"colorbar\": {\"outlinewidth\": 0, \"ticks\": \"\"}}, \"type\": \"scatterternary\"}], \"surface\": [{\"colorbar\": {\"outlinewidth\": 0, \"ticks\": \"\"}, \"colorscale\": [[0.0, \"#0d0887\"], [0.1111111111111111, \"#46039f\"], [0.2222222222222222, \"#7201a8\"], [0.3333333333333333, \"#9c179e\"], [0.4444444444444444, \"#bd3786\"], [0.5555555555555556, \"#d8576b\"], [0.6666666666666666, \"#ed7953\"], [0.7777777777777778, \"#fb9f3a\"], [0.8888888888888888, \"#fdca26\"], [1.0, \"#f0f921\"]], \"type\": \"surface\"}], \"table\": [{\"cells\": {\"fill\": {\"color\": \"#EBF0F8\"}, \"line\": {\"color\": \"white\"}}, \"header\": {\"fill\": {\"color\": \"#C8D4E3\"}, \"line\": {\"color\": \"white\"}}, \"type\": \"table\"}]}, \"layout\": {\"annotationdefaults\": {\"arrowcolor\": \"#2a3f5f\", \"arrowhead\": 0, \"arrowwidth\": 1}, \"coloraxis\": {\"colorbar\": {\"outlinewidth\": 0, \"ticks\": \"\"}}, \"colorscale\": {\"diverging\": [[0, \"#8e0152\"], [0.1, \"#c51b7d\"], [0.2, \"#de77ae\"], [0.3, \"#f1b6da\"], [0.4, \"#fde0ef\"], [0.5, \"#f7f7f7\"], [0.6, \"#e6f5d0\"], [0.7, \"#b8e186\"], [0.8, \"#7fbc41\"], [0.9, \"#4d9221\"], [1, \"#276419\"]], \"sequential\": [[0.0, \"#0d0887\"], [0.1111111111111111, \"#46039f\"], [0.2222222222222222, \"#7201a8\"], [0.3333333333333333, \"#9c179e\"], [0.4444444444444444, \"#bd3786\"], [0.5555555555555556, \"#d8576b\"], [0.6666666666666666, \"#ed7953\"], [0.7777777777777778, \"#fb9f3a\"], [0.8888888888888888, \"#fdca26\"], [1.0, \"#f0f921\"]], \"sequentialminus\": [[0.0, \"#0d0887\"], [0.1111111111111111, \"#46039f\"], [0.2222222222222222, \"#7201a8\"], [0.3333333333333333, \"#9c179e\"], [0.4444444444444444, \"#bd3786\"], [0.5555555555555556, \"#d8576b\"], [0.6666666666666666, \"#ed7953\"], [0.7777777777777778, \"#fb9f3a\"], [0.8888888888888888, \"#fdca26\"], [1.0, \"#f0f921\"]]}, \"colorway\": [\"#636efa\", \"#EF553B\", \"#00cc96\", \"#ab63fa\", \"#FFA15A\", \"#19d3f3\", \"#FF6692\", \"#B6E880\", \"#FF97FF\", \"#FECB52\"], \"font\": {\"color\": \"#2a3f5f\"}, \"geo\": {\"bgcolor\": \"white\", \"lakecolor\": \"white\", \"landcolor\": \"#E5ECF6\", \"showlakes\": true, \"showland\": true, \"subunitcolor\": \"white\"}, \"hoverlabel\": {\"align\": \"left\"}, \"hovermode\": \"closest\", \"mapbox\": {\"style\": \"light\"}, \"paper_bgcolor\": \"white\", \"plot_bgcolor\": \"#E5ECF6\", \"polar\": {\"angularaxis\": {\"gridcolor\": \"white\", \"linecolor\": \"white\", \"ticks\": \"\"}, \"bgcolor\": \"#E5ECF6\", \"radialaxis\": {\"gridcolor\": \"white\", \"linecolor\": \"white\", \"ticks\": \"\"}}, \"scene\": {\"xaxis\": {\"backgroundcolor\": \"#E5ECF6\", \"gridcolor\": \"white\", \"gridwidth\": 2, \"linecolor\": \"white\", \"showbackground\": true, \"ticks\": \"\", \"zerolinecolor\": \"white\"}, \"yaxis\": {\"backgroundcolor\": \"#E5ECF6\", \"gridcolor\": \"white\", \"gridwidth\": 2, \"linecolor\": \"white\", \"showbackground\": true, \"ticks\": \"\", \"zerolinecolor\": \"white\"}, \"zaxis\": {\"backgroundcolor\": \"#E5ECF6\", \"gridcolor\": \"white\", \"gridwidth\": 2, \"linecolor\": \"white\", \"showbackground\": true, \"ticks\": \"\", \"zerolinecolor\": \"white\"}}, \"shapedefaults\": {\"line\": {\"color\": \"#2a3f5f\"}}, \"ternary\": {\"aaxis\": {\"gridcolor\": \"white\", \"linecolor\": \"white\", \"ticks\": \"\"}, \"baxis\": {\"gridcolor\": \"white\", \"linecolor\": \"white\", \"ticks\": \"\"}, \"bgcolor\": \"#E5ECF6\", \"caxis\": {\"gridcolor\": \"white\", \"linecolor\": \"white\", \"ticks\": \"\"}}, \"title\": {\"x\": 0.05}, \"xaxis\": {\"automargin\": true, \"gridcolor\": \"white\", \"linecolor\": \"white\", \"ticks\": \"\", \"title\": {\"standoff\": 15}, \"zerolinecolor\": \"white\", \"zerolinewidth\": 2}, \"yaxis\": {\"automargin\": true, \"gridcolor\": \"white\", \"linecolor\": \"white\", \"ticks\": \"\", \"title\": {\"standoff\": 15}, \"zerolinecolor\": \"white\", \"zerolinewidth\": 2}}}, \"title\": {\"text\": \"Number of Observations from Each Stations\"}, \"width\": 1150, \"xaxis\": {\"dtick\": [1, 2], \"title\": {\"font\": {\"size\": 15}, \"text\": \"Date\"}}, \"yaxis\": {\"dtick\": 100, \"ticktext\": [1, 1, 1, 1, 1, 1, 1, 1, 1, 1, 1, 1, 1, 1, 1, 1, 1, 1, 1, 1, 1, 1, 2, 5, 4, 5, 5, 5, 4, 5, 5, 5, 5, 5, 5, 0, 5, 5, 5, 4, 5, 5, 5, 4, 2, 3, 3, 2, 2, 48, 45, 48, 48, 47, 47, 41, 48, 47, 41, 46, 46, 47, 0, 46, 48, 45, 26, 48, 48, 47, 47, 8, 12, 12, 8, 9, 50, 48, 48, 48, 48, 48, 46, 48, 43, 48, 48, 48, 48, 0, 48, 47, 47, 43, 48, 47, 48, 47, 23, 30, 28, 22, 19, 38, 32, 37, 33, 29, 32, 35, 38, 28, 32, 33, 30, 31, 27, 35, 33, 30, 31, 32, 32, 33, 30, 2, 2, 2, 3, 2, 35, 34, 34, 34, 34, 35, 34, 33, 29, 34, 34, 34, 34, 34, 34, 34, 34, 34, 35, 34, 34, 34, 21, 27, 28, 21, 7, 39, 33, 39, 39, 39, 39, 39, 30, 39, 31, 37, 37, 26, 15, 37, 31, 39, 39, 39, 39, 39, 39, 41, 38, 38, 38, 38, 39, 38, 39, 38, 38, 37, 37, 34, 23, 32, 39, 38, 38, 39, 38, 36, 30, 41, 36, 37, 37, 38, 38, 37, 37, 37, 36, 35, 37, 38, 37, 38, 39, 37, 36, 37, 39, 35, 39, 37, 37, 35, 30, 39, 37, 34, 35, 37, 37, 37, 36, 37, 38, 39, 35, 35, 37, 38, 35, 35, 38, 37, 31, 37, 35, 37, 31, 33, 37, 35, 29, 29, 37, 37, 31, 33, 36, 37, 35, 38, 35, 35, 34, 35, 35, 35, 35, 33, 36, 31, 20, 35, 35, 35, 35, 34, 37, 37, 35, 33, 35, 35, 37, 37, 39, 37, 37, 37, 34, 37, 28, 39, 37, 35, 37, 37, 34, 35, 26, 40, 39, 38, 40, 38, 38, 39, 38, 39, 37, 39, 39, 39, 39, 37, 38, 39, 38, 35, 37, 36, 38, 37, 32, 38, 26, 39, 39, 39, 39, 40, 38, 36, 38, 39, 38, 35, 38, 38, 39, 38, 36, 37, 40, 38, 39, 39, 35, 39, 38, 39, 39, 38, 38, 37, 38, 38, 39, 39, 39, 38, 39, 39, 37, 37, 17, 17, 16, 16, 12, 39, 38, 39, 38, 38, 39, 38, 39, 36, 36, 38, 36, 36, 38, 38, 39, 36, 33, 39, 38, 37, 35, 26, 39, 33, 26, 16, 40, 38, 40, 39, 35, 36, 39, 39, 37, 37, 37, 37, 37, 39, 39, 39, 37, 34, 39, 39, 39, 35, 23, 24, 31, 23, 13, 36, 36, 38, 38, 38, 34, 36, 37, 36, 35, 37, 33, 39, 36, 36, 39, 37, 36, 39, 38, 35, 36, 1, 2, 1, 1, 1, 31, 29, 18, 31, 29, 31, 29, 29, 29, 31, 33, 30, 31, 25, 29, 32, 29, 29, 31, 31, 29, 30, 71, 87, 83, 71, 44, 6, 4, 4, 4, 4, 4, 4, 4, 4, 4, 4, 4, 4, 4, 4, 4, 4, 4, 4, 4, 4, 65, 78, 73, 64, 49, 40, 41, 39, 39, 39, 41, 41, 39, 41, 41, 41, 30, 39, 39, 41, 38, 38, 32, 39, 39, 39, 39, 81, 86, 85, 82, 53, 42, 39, 40, 30, 40, 41, 39, 41, 30, 38, 41, 39, 33, 40, 37, 41, 40, 20, 38, 39, 38, 37, 91, 100, 97, 82, 39, 35, 40, 41, 40, 42, 41, 42, 41, 41, 41, 41, 20, 36, 41, 40, 41, 41, 41, 40, 41, 40, 13, 95, 94, 99, 81, 42, 38, 38, 41, 40, 41, 40, 41, 41, 41, 41, 41, 30, 30, 38, 41, 41, 41, 40, 37, 42, 41, 29, 96, 90, 98, 82, 36, 42, 38, 38, 31, 41, 41, 41, 41, 41, 42, 37, 41, 41, 38, 41, 38, 38, 41, 38, 41, 38, 91, 95, 95, 86, 39, 42, 39, 41, 33, 38, 38, 41, 41, 41, 41, 41, 41, 42, 38, 41, 41, 32, 41, 17, 39, 31, 67, 94, 79, 59, 35, 42, 41, 37, 41, 37, 41, 41, 37, 37, 41, 29, 41, 40, 39, 38, 37, 38, 40, 40, 42, 63, 96, 76, 59, 48, 44, 39, 41, 41, 38, 41, 41, 41, 41, 19, 41, 41, 39, 41, 41, 39, 39, 40, 41, 41, 24, 38, 31, 24, 17, 28, 27, 17, 27, 24, 17, 17, 27, 27, 28, 27, 17, 26, 27, 27, 28, 26, 28, 17, 27], \"title\": {\"font\": {\"size\": 15}, \"text\": \"Number of Observations\"}}},\n",
       "                        {\"responsive\": true}\n",
       "                    ).then(function(){\n",
       "                            \n",
       "var gd = document.getElementById('546484e9-29aa-4b88-b4b5-f0842564f478');\n",
       "var x = new MutationObserver(function (mutations, observer) {{\n",
       "        var display = window.getComputedStyle(gd).display;\n",
       "        if (!display || display === 'none') {{\n",
       "            console.log([gd, 'removed!']);\n",
       "            Plotly.purge(gd);\n",
       "            observer.disconnect();\n",
       "        }}\n",
       "}});\n",
       "\n",
       "// Listen for the removal of the full notebook cells\n",
       "var notebookContainer = gd.closest('#notebook-container');\n",
       "if (notebookContainer) {{\n",
       "    x.observe(notebookContainer, {childList: true});\n",
       "}}\n",
       "\n",
       "// Listen for the clearing of the current output cell\n",
       "var outputEl = gd.closest('.output');\n",
       "if (outputEl) {{\n",
       "    x.observe(outputEl, {childList: true});\n",
       "}}\n",
       "\n",
       "                        })\n",
       "                };\n",
       "                });\n",
       "            </script>\n",
       "        </div>"
      ]
     },
     "metadata": {},
     "output_type": "display_data"
    }
   ],
   "source": [
    "fig_1 = px.bar(df_sample, x='date', y=\"('count', 'energy')\", color = 'id', color_discrete_sequence= px.colors.qualitative.Alphabet)\n",
    "fig_1.update_layout(autosize=False,width=1150, height= 680, \n",
    "                    title='Number of Observations from Each Stations',\n",
    "                    yaxis=go.layout.YAxis(\n",
    "                        title_text=\"Number of Observations\",\n",
    "                        ticktext=df_sample[\"('count', 'energy')\"],\n",
    "                        dtick = 100,\n",
    "                        titlefont=dict(size=15)),\n",
    "                    xaxis = go.layout.XAxis(dtick = [1,2],\n",
    "                                            title_text=\"Date\",\n",
    "                                            titlefont=dict(size=15)),\n",
    "                        )\n",
    "\n",
    "fig_1.show()"
   ]
  },
  {
   "cell_type": "code",
   "execution_count": 19,
   "metadata": {},
   "outputs": [
    {
     "data": {
      "text/html": [
       "<div>\n",
       "<style scoped>\n",
       "    .dataframe tbody tr th:only-of-type {\n",
       "        vertical-align: middle;\n",
       "    }\n",
       "\n",
       "    .dataframe tbody tr th {\n",
       "        vertical-align: top;\n",
       "    }\n",
       "\n",
       "    .dataframe thead th {\n",
       "        text-align: right;\n",
       "    }\n",
       "</style>\n",
       "<table border=\"1\" class=\"dataframe\">\n",
       "  <thead>\n",
       "    <tr style=\"text-align: right;\">\n",
       "      <th></th>\n",
       "      <th>date</th>\n",
       "      <th>id</th>\n",
       "      <th>capacity</th>\n",
       "      <th>timestamp</th>\n",
       "      <th>power-sum</th>\n",
       "      <th>power-mean</th>\n",
       "      <th>power-max</th>\n",
       "      <th>power-count</th>\n",
       "      <th>energy-sum</th>\n",
       "      <th>energy-mean</th>\n",
       "      <th>energy-max</th>\n",
       "      <th>energy-count</th>\n",
       "    </tr>\n",
       "  </thead>\n",
       "  <tbody>\n",
       "    <tr>\n",
       "      <th>53</th>\n",
       "      <td>2019-12-30</td>\n",
       "      <td>ait82kw</td>\n",
       "      <td>60.0</td>\n",
       "      <td>1577692800</td>\n",
       "      <td>444.429997</td>\n",
       "      <td>17.093461</td>\n",
       "      <td>42.948002</td>\n",
       "      <td>26</td>\n",
       "      <td>1497.480003</td>\n",
       "      <td>33.277333</td>\n",
       "      <td>158.589996</td>\n",
       "      <td>45</td>\n",
       "    </tr>\n",
       "    <tr>\n",
       "      <th>56</th>\n",
       "      <td>2019-12-30</td>\n",
       "      <td>aurobindo</td>\n",
       "      <td>49.3</td>\n",
       "      <td>1577692800</td>\n",
       "      <td>232.851998</td>\n",
       "      <td>12.255368</td>\n",
       "      <td>27.115999</td>\n",
       "      <td>19</td>\n",
       "      <td>803.119988</td>\n",
       "      <td>20.592820</td>\n",
       "      <td>92.760002</td>\n",
       "      <td>39</td>\n",
       "    </tr>\n",
       "    <tr>\n",
       "      <th>57</th>\n",
       "      <td>2019-12-30</td>\n",
       "      <td>btcpusa110kw</td>\n",
       "      <td>110.0</td>\n",
       "      <td>1577692800</td>\n",
       "      <td>639.964999</td>\n",
       "      <td>22.855893</td>\n",
       "      <td>68.392998</td>\n",
       "      <td>28</td>\n",
       "      <td>2069.769972</td>\n",
       "      <td>43.120208</td>\n",
       "      <td>229.500000</td>\n",
       "      <td>48</td>\n",
       "    </tr>\n",
       "    <tr>\n",
       "      <th>58</th>\n",
       "      <td>2019-12-30</td>\n",
       "      <td>deendayalupadhyaycollege</td>\n",
       "      <td>151.2</td>\n",
       "      <td>1577692800</td>\n",
       "      <td>664.517009</td>\n",
       "      <td>34.974579</td>\n",
       "      <td>74.155998</td>\n",
       "      <td>19</td>\n",
       "      <td>2389.509996</td>\n",
       "      <td>66.375278</td>\n",
       "      <td>263.059998</td>\n",
       "      <td>36</td>\n",
       "    </tr>\n",
       "    <tr>\n",
       "      <th>60</th>\n",
       "      <td>2019-12-30</td>\n",
       "      <td>delhihaat</td>\n",
       "      <td>50.0</td>\n",
       "      <td>1577692800</td>\n",
       "      <td>187.037999</td>\n",
       "      <td>6.927333</td>\n",
       "      <td>19.993000</td>\n",
       "      <td>27</td>\n",
       "      <td>707.100004</td>\n",
       "      <td>15.044681</td>\n",
       "      <td>70.180000</td>\n",
       "      <td>47</td>\n",
       "    </tr>\n",
       "  </tbody>\n",
       "</table>\n",
       "</div>"
      ],
      "text/plain": [
       "         date                        id  capacity   timestamp   power-sum  \\\n",
       "53 2019-12-30                   ait82kw      60.0  1577692800  444.429997   \n",
       "56 2019-12-30                 aurobindo      49.3  1577692800  232.851998   \n",
       "57 2019-12-30              btcpusa110kw     110.0  1577692800  639.964999   \n",
       "58 2019-12-30  deendayalupadhyaycollege     151.2  1577692800  664.517009   \n",
       "60 2019-12-30                 delhihaat      50.0  1577692800  187.037999   \n",
       "\n",
       "    power-mean  power-max  power-count   energy-sum  energy-mean  energy-max  \\\n",
       "53   17.093461  42.948002           26  1497.480003    33.277333  158.589996   \n",
       "56   12.255368  27.115999           19   803.119988    20.592820   92.760002   \n",
       "57   22.855893  68.392998           28  2069.769972    43.120208  229.500000   \n",
       "58   34.974579  74.155998           19  2389.509996    66.375278  263.059998   \n",
       "60    6.927333  19.993000           27   707.100004    15.044681   70.180000   \n",
       "\n",
       "    energy-count  \n",
       "53            45  \n",
       "56            39  \n",
       "57            48  \n",
       "58            36  \n",
       "60            47  "
      ]
     },
     "execution_count": 19,
     "metadata": {},
     "output_type": "execute_result"
    }
   ],
   "source": [
    "df['timestamp'] = df['date'].map(lambda x: x.strftime('%s'))\n",
    "daily_df = df.copy()\n",
    "daily_df = daily_df[['id', 'date','capacity', 'timestamp', 'power', 'energy']]\n",
    "daily_df_agg = daily_df.groupby( ['date', 'id','capacity','timestamp']).agg(['sum', 'mean', 'max', 'count'])\n",
    "daily_df_agg = daily_df_agg.reset_index()\n",
    "level_0 = daily_df_agg.columns.droplevel(0)\n",
    "level_1 = daily_df_agg.columns.droplevel(1)\n",
    "level_0 = ['' if x == '' else '-' + x for x in level_0]\n",
    "daily_df_agg.columns = level_1 + level_0\n",
    "daily_df_agg.rename_axis(None, axis=1)\n",
    "less = daily_df_agg[daily_df_agg['power-count'] < 15] #threshhold\n",
    "daily_df_agg = daily_df_agg[daily_df_agg['power-count'] > 15]\n",
    "null = daily_df_agg[daily_df_agg['power-sum']==0]\n",
    "daily_df_agg = daily_df_agg[daily_df_agg['power-sum']!=0]\n",
    "daily_df_agg.head()"
   ]
  },
  {
   "cell_type": "code",
   "execution_count": 20,
   "metadata": {},
   "outputs": [
    {
     "data": {
      "application/vnd.plotly.v1+json": {
       "config": {
        "plotlyServerURL": "https://plot.ly"
       },
       "data": [
        {
         "hoverlabel": {
          "namelength": 0
         },
         "hovertemplate": "id=ait82kw<br>date=%{x}<br>energy-max=%{y}",
         "legendgroup": "id=ait82kw",
         "marker": {
          "color": "#FD3216",
          "symbol": "circle"
         },
         "mode": "markers",
         "name": "id=ait82kw",
         "showlegend": true,
         "type": "scatter",
         "x": [
          "2019-12-30T00:00:00",
          "2019-12-31T00:00:00",
          "2020-01-01T00:00:00",
          "2020-01-02T00:00:00",
          "2020-01-03T00:00:00",
          "2020-01-04T00:00:00",
          "2020-01-05T00:00:00",
          "2020-01-06T00:00:00",
          "2020-01-07T00:00:00",
          "2020-01-08T00:00:00",
          "2020-01-09T00:00:00",
          "2020-01-10T00:00:00",
          "2020-01-11T00:00:00",
          "2020-01-12T00:00:00",
          "2020-01-13T00:00:00",
          "2020-01-14T00:00:00",
          "2020-01-15T00:00:00",
          "2020-01-16T00:00:00",
          "2020-01-20T00:00:00",
          "2020-01-21T00:00:00",
          "2020-01-22T00:00:00",
          "2020-01-23T00:00:00",
          "2020-01-24T00:00:00",
          "2020-01-25T00:00:00",
          "2020-01-26T00:00:00",
          "2020-01-27T00:00:00"
         ],
         "xaxis": "x",
         "y": [
          158.5899963379,
          208.0700073242,
          227.1100006104,
          234.2599945068,
          266.6600036621,
          189.5500030518,
          207.9100036621,
          69.4700012207,
          109.8499984741,
          92.3000030518,
          227.3899993896,
          329.9100036621,
          338.5799865723,
          324.6199951172,
          126.2600021362,
          201.3099975586,
          281.3999938965,
          74.6299972534,
          156.2100067139,
          188.2200012207,
          265.6600036621,
          381.1600036621,
          380.3099975586,
          324.7799987793,
          306,
          117.9400024414
         ],
         "yaxis": "y"
        },
        {
         "hoverlabel": {
          "namelength": 0
         },
         "hovertemplate": "id=aurobindo<br>date=%{x}<br>energy-max=%{y}",
         "legendgroup": "id=aurobindo",
         "marker": {
          "color": "#00FE35",
          "symbol": "circle"
         },
         "mode": "markers",
         "name": "id=aurobindo",
         "showlegend": true,
         "type": "scatter",
         "x": [
          "2019-12-30T00:00:00",
          "2019-12-31T00:00:00",
          "2020-01-01T00:00:00",
          "2020-01-02T00:00:00",
          "2020-01-03T00:00:00",
          "2020-01-04T00:00:00",
          "2020-01-05T00:00:00",
          "2020-01-06T00:00:00",
          "2020-01-07T00:00:00",
          "2020-01-08T00:00:00",
          "2020-01-09T00:00:00",
          "2020-01-10T00:00:00",
          "2020-01-11T00:00:00",
          "2020-01-12T00:00:00",
          "2020-01-13T00:00:00",
          "2020-01-14T00:00:00",
          "2020-01-15T00:00:00",
          "2020-01-16T00:00:00",
          "2020-01-20T00:00:00",
          "2020-01-21T00:00:00",
          "2020-01-22T00:00:00",
          "2020-01-23T00:00:00",
          "2020-01-24T00:00:00",
          "2020-01-25T00:00:00",
          "2020-01-26T00:00:00",
          "2020-01-27T00:00:00"
         ],
         "xaxis": "x",
         "y": [
          92.7600021362,
          122.5599975586,
          131.6900024414,
          125.6999969482,
          148.5,
          133.2899932861,
          141.8699951172,
          54.5800018311,
          58.1699981689,
          80.1699981689,
          156.3600006104,
          178.3500061035,
          180.7200012207,
          171.2400054932,
          73.9199981689,
          131.1399993896,
          137.7599945068,
          46.0999984741,
          94.9499969482,
          135.0800018311,
          152.8000030518,
          219.0500030518,
          214.3000030518,
          196.9100036621,
          190.4199981689,
          95.0400009155
         ],
         "yaxis": "y"
        },
        {
         "hoverlabel": {
          "namelength": 0
         },
         "hovertemplate": "id=btcpusa110kw<br>date=%{x}<br>energy-max=%{y}",
         "legendgroup": "id=btcpusa110kw",
         "marker": {
          "color": "#6A76FC",
          "symbol": "circle"
         },
         "mode": "markers",
         "name": "id=btcpusa110kw",
         "showlegend": true,
         "type": "scatter",
         "x": [
          "2019-12-30T00:00:00",
          "2019-12-31T00:00:00",
          "2020-01-01T00:00:00",
          "2020-01-02T00:00:00",
          "2020-01-03T00:00:00",
          "2020-01-04T00:00:00",
          "2020-01-05T00:00:00",
          "2020-01-06T00:00:00",
          "2020-01-07T00:00:00",
          "2020-01-08T00:00:00",
          "2020-01-09T00:00:00",
          "2020-01-10T00:00:00",
          "2020-01-11T00:00:00",
          "2020-01-12T00:00:00",
          "2020-01-13T00:00:00",
          "2020-01-14T00:00:00",
          "2020-01-15T00:00:00",
          "2020-01-16T00:00:00",
          "2020-01-20T00:00:00",
          "2020-01-21T00:00:00",
          "2020-01-22T00:00:00",
          "2020-01-23T00:00:00",
          "2020-01-24T00:00:00",
          "2020-01-25T00:00:00",
          "2020-01-26T00:00:00",
          "2020-01-27T00:00:00"
         ],
         "xaxis": "x",
         "y": [
          229.5,
          300.2300109863,
          346.7399902344,
          326.75,
          378.95001220700004,
          287.5199890137,
          313.2399902344,
          112.5800018311,
          139.0200042725,
          105.2699966431,
          331.2900085449,
          457.0400085449,
          455.4899902344,
          447.30999755859995,
          168.0200042725,
          301.3299865723,
          383.44000244140005,
          123.6900024414,
          211.0500030518,
          278.1900024414,
          358.5899963379,
          545.8699951172,
          524.7600097656,
          471.3500061035,
          450.75,
          178.02000427249996
         ],
         "yaxis": "y"
        },
        {
         "hoverlabel": {
          "namelength": 0
         },
         "hovertemplate": "id=deendayalupadhyaycollege<br>date=%{x}<br>energy-max=%{y}",
         "legendgroup": "id=deendayalupadhyaycollege",
         "marker": {
          "color": "#FED4C4",
          "symbol": "circle"
         },
         "mode": "markers",
         "name": "id=deendayalupadhyaycollege",
         "showlegend": true,
         "type": "scatter",
         "x": [
          "2019-12-30T00:00:00",
          "2019-12-31T00:00:00",
          "2020-01-01T00:00:00",
          "2020-01-02T00:00:00",
          "2020-01-03T00:00:00",
          "2020-01-04T00:00:00",
          "2020-01-05T00:00:00",
          "2020-01-06T00:00:00",
          "2020-01-07T00:00:00",
          "2020-01-08T00:00:00",
          "2020-01-09T00:00:00",
          "2020-01-10T00:00:00",
          "2020-01-11T00:00:00",
          "2020-01-12T00:00:00",
          "2020-01-13T00:00:00",
          "2020-01-14T00:00:00",
          "2020-01-15T00:00:00",
          "2020-01-16T00:00:00",
          "2020-01-20T00:00:00",
          "2020-01-21T00:00:00",
          "2020-01-22T00:00:00",
          "2020-01-23T00:00:00",
          "2020-01-24T00:00:00",
          "2020-01-25T00:00:00",
          "2020-01-26T00:00:00",
          "2020-01-27T00:00:00"
         ],
         "xaxis": "x",
         "y": [
          263.0599975586,
          345.7799987793,
          391.7699890137,
          363.5100097656,
          434.9599914551,
          445.8800048828,
          436.6000061035,
          179.97999572750004,
          179.72999572750004,
          121.8600006104,
          369.5400085449,
          537.8499755859,
          627.5300292969,
          613.0599975586,
          222.08000183110002,
          340.75,
          526.6199951172,
          180.9900054932,
          280.1400146484,
          394.45001220700004,
          404.8999938965,
          704.25,
          701.0399780273,
          626.7399902344,
          612.1099853516,
          252.7599945068
         ],
         "yaxis": "y"
        },
        {
         "hoverlabel": {
          "namelength": 0
         },
         "hovertemplate": "id=delhihaat<br>date=%{x}<br>energy-max=%{y}",
         "legendgroup": "id=delhihaat",
         "marker": {
          "color": "#FE00CE",
          "symbol": "circle"
         },
         "mode": "markers",
         "name": "id=delhihaat",
         "showlegend": true,
         "type": "scatter",
         "x": [
          "2019-12-30T00:00:00",
          "2019-12-31T00:00:00",
          "2020-01-01T00:00:00",
          "2020-01-02T00:00:00",
          "2020-01-03T00:00:00",
          "2020-01-04T00:00:00",
          "2020-01-05T00:00:00",
          "2020-01-11T00:00:00",
          "2020-01-12T00:00:00",
          "2020-01-13T00:00:00",
          "2020-01-14T00:00:00",
          "2020-01-15T00:00:00",
          "2020-01-16T00:00:00",
          "2020-01-20T00:00:00",
          "2020-01-21T00:00:00",
          "2020-01-22T00:00:00",
          "2020-01-23T00:00:00",
          "2020-01-24T00:00:00",
          "2020-01-25T00:00:00",
          "2020-01-26T00:00:00",
          "2020-01-27T00:00:00"
         ],
         "xaxis": "x",
         "y": [
          70.1800003052,
          91.8000030518,
          104.5400009155,
          101.5899963379,
          139.2100067139,
          115.6200027466,
          119.3499984741,
          86.8499984741,
          154.2400054932,
          58.7599983215,
          93.3600006104,
          133.1799926758,
          45.5600013733,
          71.5899963379,
          99.5400009155,
          118.0199966431,
          189.8200073242,
          172.3300018311,
          161.7100067139,
          157.4799957275,
          67.2699966431
         ],
         "yaxis": "y"
        },
        {
         "hoverlabel": {
          "namelength": 0
         },
         "hovertemplate": "id=dtu<br>date=%{x}<br>energy-max=%{y}",
         "legendgroup": "id=dtu",
         "marker": {
          "color": "#0DF9FF",
          "symbol": "circle"
         },
         "mode": "markers",
         "name": "id=dtu",
         "showlegend": true,
         "type": "scatter",
         "x": [
          "2019-12-30T00:00:00",
          "2019-12-31T00:00:00",
          "2020-01-01T00:00:00",
          "2020-01-02T00:00:00",
          "2020-01-03T00:00:00",
          "2020-01-04T00:00:00",
          "2020-01-05T00:00:00",
          "2020-01-06T00:00:00",
          "2020-01-07T00:00:00",
          "2020-01-08T00:00:00",
          "2020-01-09T00:00:00",
          "2020-01-10T00:00:00",
          "2020-01-11T00:00:00",
          "2020-01-12T00:00:00",
          "2020-01-13T00:00:00",
          "2020-01-14T00:00:00",
          "2020-01-15T00:00:00",
          "2020-01-16T00:00:00",
          "2020-01-20T00:00:00",
          "2020-01-21T00:00:00",
          "2020-01-22T00:00:00",
          "2020-01-23T00:00:00",
          "2020-01-24T00:00:00",
          "2020-01-25T00:00:00",
          "2020-01-26T00:00:00",
          "2020-01-27T00:00:00"
         ],
         "xaxis": "x",
         "y": [
          580.8099975586,
          1020.1799926758,
          1173.4200439453,
          1317.5899658203,
          1397.2700195312,
          1144.4100341797,
          1121.2900390625,
          412.6300048827999,
          625.3300170898,
          285.19000244139994,
          1070.3900146484,
          1667.1500244141002,
          1777.9499511719002,
          1694.4100341797,
          642.8900146484001,
          918.3900146484001,
          1533.1899414062,
          476.1300048827999,
          835.4000244140999,
          814.9899902344,
          1211.1800537109,
          2109.4599609375,
          2087.6298828125,
          1763.8100585938005,
          1712.7900390625,
          634.9600219727
         ],
         "yaxis": "y"
        },
        {
         "hoverlabel": {
          "namelength": 0
         },
         "hovertemplate": "id=igdtuw<br>date=%{x}<br>energy-max=%{y}",
         "legendgroup": "id=igdtuw",
         "marker": {
          "color": "#F6F926",
          "symbol": "circle"
         },
         "mode": "markers",
         "name": "id=igdtuw",
         "showlegend": true,
         "type": "scatter",
         "x": [
          "2019-12-30T00:00:00",
          "2019-12-31T00:00:00",
          "2020-01-01T00:00:00",
          "2020-01-02T00:00:00",
          "2020-01-03T00:00:00",
          "2020-01-04T00:00:00",
          "2020-01-05T00:00:00",
          "2020-01-06T00:00:00",
          "2020-01-07T00:00:00",
          "2020-01-08T00:00:00",
          "2020-01-09T00:00:00",
          "2020-01-10T00:00:00",
          "2020-01-11T00:00:00",
          "2020-01-12T00:00:00",
          "2020-01-13T00:00:00",
          "2020-01-14T00:00:00",
          "2020-01-15T00:00:00",
          "2020-01-16T00:00:00",
          "2020-01-20T00:00:00",
          "2020-01-21T00:00:00",
          "2020-01-22T00:00:00",
          "2020-01-23T00:00:00",
          "2020-01-24T00:00:00",
          "2020-01-25T00:00:00",
          "2020-01-26T00:00:00",
          "2020-01-27T00:00:00"
         ],
         "xaxis": "x",
         "y": [
          306.8099975586,
          408.2699890137,
          452.36999511720006,
          442.6600036621,
          519.2399902344,
          361.3900146484,
          420.20999145510007,
          147.1799926758,
          209.55000305180002,
          159.4600067139,
          474.14001464840004,
          659.2600097656,
          656.4000244141,
          621.1500244141,
          252.7400054932,
          440.52999877929994,
          535.700012207,
          182.3600006104,
          322.3999938965,
          426.8399963379,
          556.0599975586,
          746.5200195312,
          744.4699707031,
          622.4799804688,
          270.7399902344,
          263.8999938965
         ],
         "yaxis": "y"
        },
        {
         "hoverlabel": {
          "namelength": 0
         },
         "hovertemplate": "id=ihbas<br>date=%{x}<br>energy-max=%{y}",
         "legendgroup": "id=ihbas",
         "marker": {
          "color": "#FF9616",
          "symbol": "circle"
         },
         "mode": "markers",
         "name": "id=ihbas",
         "showlegend": true,
         "type": "scatter",
         "x": [
          "2019-12-30T00:00:00",
          "2019-12-31T00:00:00",
          "2020-01-01T00:00:00",
          "2020-01-02T00:00:00",
          "2020-01-03T00:00:00",
          "2020-01-04T00:00:00",
          "2020-01-05T00:00:00",
          "2020-01-06T00:00:00",
          "2020-01-07T00:00:00",
          "2020-01-08T00:00:00",
          "2020-01-09T00:00:00",
          "2020-01-10T00:00:00",
          "2020-01-11T00:00:00",
          "2020-01-12T00:00:00",
          "2020-01-13T00:00:00",
          "2020-01-14T00:00:00",
          "2020-01-15T00:00:00",
          "2020-01-16T00:00:00",
          "2020-01-20T00:00:00",
          "2020-01-21T00:00:00",
          "2020-01-22T00:00:00",
          "2020-01-23T00:00:00",
          "2020-01-24T00:00:00",
          "2020-01-25T00:00:00",
          "2020-01-26T00:00:00",
          "2020-01-27T00:00:00"
         ],
         "xaxis": "x",
         "y": [
          275.3900146484,
          363.8999938965,
          416.5,
          382.2300109863,
          478.8500061035,
          323.8599853516,
          391.17999267579995,
          133.91999816890004,
          187.33000183109996,
          134.58999633789998,
          395.4200134277,
          571.200012207,
          545.8300170898,
          536.0700073242,
          249.82000732420002,
          351.1600036621,
          498.7699890137,
          215.5099945068,
          422.2300109863,
          570.6599731445,
          675.3400268555,
          941.6099853515999,
          924.299987793,
          793.6900024414,
          773.549987793,
          348.1199951172
         ],
         "yaxis": "y"
        },
        {
         "hoverlabel": {
          "namelength": 0
         },
         "hovertemplate": "id=iiitd<br>date=%{x}<br>energy-max=%{y}",
         "legendgroup": "id=iiitd",
         "marker": {
          "color": "#479B55",
          "symbol": "circle"
         },
         "mode": "markers",
         "name": "id=iiitd",
         "showlegend": true,
         "type": "scatter",
         "x": [
          "2019-12-30T00:00:00",
          "2019-12-31T00:00:00",
          "2020-01-01T00:00:00",
          "2020-01-02T00:00:00",
          "2020-01-03T00:00:00",
          "2020-01-04T00:00:00",
          "2020-01-05T00:00:00",
          "2020-01-06T00:00:00",
          "2020-01-07T00:00:00",
          "2020-01-08T00:00:00",
          "2020-01-09T00:00:00",
          "2020-01-10T00:00:00",
          "2020-01-11T00:00:00",
          "2020-01-12T00:00:00",
          "2020-01-13T00:00:00",
          "2020-01-14T00:00:00",
          "2020-01-15T00:00:00",
          "2020-01-16T00:00:00",
          "2020-01-20T00:00:00",
          "2020-01-21T00:00:00",
          "2020-01-22T00:00:00",
          "2020-01-23T00:00:00",
          "2020-01-24T00:00:00",
          "2020-01-25T00:00:00",
          "2020-01-26T00:00:00",
          "2020-01-27T00:00:00"
         ],
         "xaxis": "x",
         "y": [
          272.5799865723,
          359.04998779300007,
          527.5599975586,
          404.92999267579995,
          572.8699951172001,
          469.3500061035,
          520.1300048827999,
          161.47999572749998,
          213.6100006104,
          204.2400054932,
          445,
          525.799987793,
          533.3900146484001,
          498.7200012207,
          219.33999633789998,
          349.07000732420005,
          382.05999755860006,
          145.6999969482,
          271.5100097656,
          402.3500061035,
          455.2699890137,
          609.0999755859001,
          592.4600219727,
          527.8300170898,
          510.85998535159996,
          238.64999389650004
         ],
         "yaxis": "y"
        },
        {
         "hoverlabel": {
          "namelength": 0
         },
         "hovertemplate": "id=iticvraman<br>date=%{x}<br>energy-max=%{y}",
         "legendgroup": "id=iticvraman",
         "marker": {
          "color": "#EEA6FB",
          "symbol": "circle"
         },
         "mode": "markers",
         "name": "id=iticvraman",
         "showlegend": true,
         "type": "scatter",
         "x": [
          "2019-12-30T00:00:00",
          "2019-12-31T00:00:00",
          "2020-01-01T00:00:00",
          "2020-01-02T00:00:00",
          "2020-01-03T00:00:00",
          "2020-01-04T00:00:00",
          "2020-01-05T00:00:00",
          "2020-01-06T00:00:00",
          "2020-01-07T00:00:00",
          "2020-01-08T00:00:00",
          "2020-01-09T00:00:00",
          "2020-01-10T00:00:00",
          "2020-01-11T00:00:00",
          "2020-01-12T00:00:00",
          "2020-01-13T00:00:00",
          "2020-01-14T00:00:00",
          "2020-01-15T00:00:00",
          "2020-01-16T00:00:00",
          "2020-01-20T00:00:00",
          "2020-01-21T00:00:00",
          "2020-01-22T00:00:00",
          "2020-01-23T00:00:00",
          "2020-01-24T00:00:00",
          "2020-01-25T00:00:00",
          "2020-01-26T00:00:00"
         ],
         "xaxis": "x",
         "y": [
          148.4100036621,
          197.25,
          221.6799926758,
          229.2400054932,
          262.8099975586,
          192.8699951172,
          208.1600036621,
          74.8899993896,
          129.4900054932,
          92.3899993896,
          247.7700042725,
          350.3500061035,
          351.4299926758,
          342.0599975586,
          153.9900054932,
          210.3000030518,
          312.0899963379,
          90.4899978638,
          179.9700012207,
          211,
          252.8399963379,
          420.9700012207,
          364.8800048828,
          352.7699890137,
          322.8800048828
         ],
         "yaxis": "y"
        },
        {
         "hoverlabel": {
          "namelength": 0
         },
         "hovertemplate": "id=itijaffarpur<br>date=%{x}<br>energy-max=%{y}",
         "legendgroup": "id=itijaffarpur",
         "marker": {
          "color": "#DC587D",
          "symbol": "circle"
         },
         "mode": "markers",
         "name": "id=itijaffarpur",
         "showlegend": true,
         "type": "scatter",
         "x": [
          "2019-12-30T00:00:00",
          "2019-12-31T00:00:00",
          "2020-01-01T00:00:00",
          "2020-01-02T00:00:00",
          "2020-01-03T00:00:00",
          "2020-01-04T00:00:00",
          "2020-01-05T00:00:00",
          "2020-01-06T00:00:00",
          "2020-01-07T00:00:00",
          "2020-01-08T00:00:00",
          "2020-01-09T00:00:00",
          "2020-01-10T00:00:00",
          "2020-01-11T00:00:00",
          "2020-01-12T00:00:00",
          "2020-01-13T00:00:00",
          "2020-01-14T00:00:00",
          "2020-01-15T00:00:00",
          "2020-01-16T00:00:00",
          "2020-01-20T00:00:00",
          "2020-01-21T00:00:00",
          "2020-01-22T00:00:00",
          "2020-01-23T00:00:00",
          "2020-01-24T00:00:00",
          "2020-01-25T00:00:00",
          "2020-01-26T00:00:00",
          "2020-01-27T00:00:00"
         ],
         "xaxis": "x",
         "y": [
          144.4700012207,
          197.8000030518,
          232.5,
          212.3300018311,
          247.9700012207,
          244.3699951172,
          230.8099975586,
          98.7699966431,
          104.3300018311,
          55.9500007629,
          168.3800048828,
          275.3099975586,
          351.1900024414,
          345.1499938965,
          127.3300018311,
          190.2299957275,
          255.8500061035,
          68.5100021362,
          139.25,
          250.1000061035,
          229,
          401.8699951172,
          402.4400024414,
          381.1600036621,
          360.2900085449,
          153.8800048828
         ],
         "yaxis": "y"
        },
        {
         "hoverlabel": {
          "namelength": 0
         },
         "hovertemplate": "id=itijailroad<br>date=%{x}<br>energy-max=%{y}",
         "legendgroup": "id=itijailroad",
         "marker": {
          "color": "#D626FF",
          "symbol": "circle"
         },
         "mode": "markers",
         "name": "id=itijailroad",
         "showlegend": true,
         "type": "scatter",
         "x": [
          "2019-12-30T00:00:00",
          "2019-12-31T00:00:00",
          "2020-01-01T00:00:00",
          "2020-01-02T00:00:00",
          "2020-01-03T00:00:00",
          "2020-01-04T00:00:00",
          "2020-01-05T00:00:00",
          "2020-01-06T00:00:00",
          "2020-01-07T00:00:00",
          "2020-01-08T00:00:00",
          "2020-01-09T00:00:00",
          "2020-01-10T00:00:00",
          "2020-01-11T00:00:00",
          "2020-01-12T00:00:00",
          "2020-01-13T00:00:00",
          "2020-01-14T00:00:00",
          "2020-01-15T00:00:00",
          "2020-01-16T00:00:00",
          "2020-01-21T00:00:00",
          "2020-01-23T00:00:00",
          "2020-01-24T00:00:00",
          "2020-01-25T00:00:00",
          "2020-01-26T00:00:00",
          "2020-01-27T00:00:00"
         ],
         "xaxis": "x",
         "y": [
          151.6600036621,
          198.14999389649998,
          225.60000610350002,
          222.8200073242,
          281.1900024414,
          239.78999328609999,
          247.5500030518,
          93.4899978638,
          102.5699996948,
          79.3399963379,
          231.33000183110002,
          304.5100097656,
          324.2300109863,
          321.5700073242,
          124.1100006104,
          199.1199951172,
          277.5700073242,
          87.7300033569,
          202.8200073242,
          397.3599853516,
          380.8900146484,
          341.69000244140005,
          333.3299865723,
          139.6000061035
         ],
         "yaxis": "y"
        },
        {
         "hoverlabel": {
          "namelength": 0
         },
         "hovertemplate": "id=itimangolpuri<br>date=%{x}<br>energy-max=%{y}",
         "legendgroup": "id=itimangolpuri",
         "marker": {
          "color": "#6E899C",
          "symbol": "circle"
         },
         "mode": "markers",
         "name": "id=itimangolpuri",
         "showlegend": true,
         "type": "scatter",
         "x": [
          "2019-12-30T00:00:00",
          "2019-12-31T00:00:00",
          "2020-01-01T00:00:00",
          "2020-01-02T00:00:00",
          "2020-01-03T00:00:00",
          "2020-01-04T00:00:00",
          "2020-01-05T00:00:00",
          "2020-01-06T00:00:00",
          "2020-01-07T00:00:00",
          "2020-01-08T00:00:00",
          "2020-01-09T00:00:00",
          "2020-01-10T00:00:00",
          "2020-01-11T00:00:00",
          "2020-01-12T00:00:00",
          "2020-01-13T00:00:00",
          "2020-01-14T00:00:00",
          "2020-01-15T00:00:00",
          "2020-01-16T00:00:00",
          "2020-01-20T00:00:00",
          "2020-01-22T00:00:00"
         ],
         "xaxis": "x",
         "y": [
          51.7599983215,
          69.1399993896,
          76.5199966431,
          76.5800018311,
          98.5699996948,
          82.5500030518,
          93.0800018311,
          35.4099998474,
          60.5499992371,
          50.5600013733,
          145.3999938965,
          228.7599945068,
          253.6199951172,
          239.9199981689,
          94.1900024414,
          136.4900054932,
          209.5599975586,
          74.7799987793,
          113.4300003052,
          164.9799957275
         ],
         "yaxis": "y"
        },
        {
         "hoverlabel": {
          "namelength": 0
         },
         "hovertemplate": "id=kalindicillege<br>date=%{x}<br>energy-max=%{y}",
         "legendgroup": "id=kalindicillege",
         "marker": {
          "color": "#00B5F7",
          "symbol": "circle"
         },
         "mode": "markers",
         "name": "id=kalindicillege",
         "showlegend": true,
         "type": "scatter",
         "x": [
          "2019-12-30T00:00:00",
          "2019-12-31T00:00:00",
          "2020-01-01T00:00:00",
          "2020-01-02T00:00:00",
          "2020-01-03T00:00:00",
          "2020-01-04T00:00:00",
          "2020-01-05T00:00:00",
          "2020-01-06T00:00:00",
          "2020-01-07T00:00:00",
          "2020-01-08T00:00:00",
          "2020-01-09T00:00:00",
          "2020-01-10T00:00:00",
          "2020-01-11T00:00:00",
          "2020-01-12T00:00:00",
          "2020-01-13T00:00:00",
          "2020-01-14T00:00:00",
          "2020-01-15T00:00:00",
          "2020-01-16T00:00:00",
          "2020-01-20T00:00:00",
          "2020-01-21T00:00:00",
          "2020-01-22T00:00:00",
          "2020-01-23T00:00:00",
          "2020-01-24T00:00:00",
          "2020-01-25T00:00:00",
          "2020-01-26T00:00:00",
          "2020-01-27T00:00:00"
         ],
         "xaxis": "x",
         "y": [
          116.5899963379,
          152.8600006104,
          171.3600006104,
          168.0700073242,
          194.7200012207,
          145.3999938965,
          159.6799926758,
          59.7099990845,
          74.7200012207,
          61.6899986267,
          167.6900024414,
          231.6900024414,
          226.9299926758,
          224.3200073242,
          92.5100021362,
          153.9600067139,
          195.8300018311,
          64.3799972534,
          116.1399993896,
          155.0299987793,
          184.3699951172,
          273.7699890137,
          266.9299926758,
          233.4600067139,
          225.75,
          98.1399993896
         ],
         "yaxis": "y"
        },
        {
         "hoverlabel": {
          "namelength": 0
         },
         "hovertemplate": "id=kitpitampura<br>date=%{x}<br>energy-max=%{y}",
         "legendgroup": "id=kitpitampura",
         "marker": {
          "color": "#B68E00",
          "symbol": "circle"
         },
         "mode": "markers",
         "name": "id=kitpitampura",
         "showlegend": true,
         "type": "scatter",
         "x": [
          "2019-12-30T00:00:00",
          "2019-12-31T00:00:00",
          "2020-01-01T00:00:00",
          "2020-01-02T00:00:00",
          "2020-01-03T00:00:00",
          "2020-01-04T00:00:00",
          "2020-01-05T00:00:00",
          "2020-01-06T00:00:00",
          "2020-01-07T00:00:00",
          "2020-01-08T00:00:00",
          "2020-01-09T00:00:00",
          "2020-01-10T00:00:00",
          "2020-01-11T00:00:00",
          "2020-01-12T00:00:00",
          "2020-01-13T00:00:00",
          "2020-01-14T00:00:00",
          "2020-01-15T00:00:00",
          "2020-01-16T00:00:00",
          "2020-01-20T00:00:00",
          "2020-01-21T00:00:00",
          "2020-01-22T00:00:00",
          "2020-01-23T00:00:00",
          "2020-01-24T00:00:00",
          "2020-01-25T00:00:00",
          "2020-01-26T00:00:00",
          "2020-01-27T00:00:00"
         ],
         "xaxis": "x",
         "y": [
          434.2200012207,
          574.549987793,
          612.5800170898,
          641.7199707031,
          703.1799926758,
          516.0300292969,
          560.2899780273,
          214.27000427250002,
          324.2799987793,
          222.19000244139997,
          614.4600219727,
          919.0800170898,
          935.3800048827999,
          904.3699951172001,
          375.45001220699993,
          558.2700195312,
          806.7100219727,
          236.77000427250002,
          491.6000061035,
          518.0300292969,
          762.5900268555,
          1142.1400146484,
          1149.5699462891,
          1019.3200073242,
          971.5100097655999,
          401.80999755860006
         ],
         "yaxis": "y"
        },
        {
         "hoverlabel": {
          "namelength": 0
         },
         "hovertemplate": "id=maulanaazadmedicalcollege<br>date=%{x}<br>energy-max=%{y}",
         "legendgroup": "id=maulanaazadmedicalcollege",
         "marker": {
          "color": "#C9FBE5",
          "symbol": "circle"
         },
         "mode": "markers",
         "name": "id=maulanaazadmedicalcollege",
         "showlegend": true,
         "type": "scatter",
         "x": [
          "2019-12-30T00:00:00",
          "2019-12-31T00:00:00",
          "2020-01-01T00:00:00",
          "2020-01-02T00:00:00",
          "2020-01-03T00:00:00",
          "2020-01-04T00:00:00",
          "2020-01-05T00:00:00",
          "2020-01-06T00:00:00",
          "2020-01-07T00:00:00",
          "2020-01-08T00:00:00",
          "2020-01-09T00:00:00",
          "2020-01-10T00:00:00",
          "2020-01-11T00:00:00",
          "2020-01-12T00:00:00",
          "2020-01-13T00:00:00",
          "2020-01-14T00:00:00",
          "2020-01-15T00:00:00",
          "2020-01-16T00:00:00",
          "2020-01-20T00:00:00",
          "2020-01-21T00:00:00",
          "2020-01-22T00:00:00",
          "2020-01-23T00:00:00",
          "2020-01-24T00:00:00",
          "2020-01-25T00:00:00",
          "2020-01-26T00:00:00",
          "2020-01-27T00:00:00"
         ],
         "xaxis": "x",
         "y": [
          288.0799865723,
          378.0400085449,
          415.1199951172,
          394.700012207,
          455.4100036621,
          341.2699890137,
          391.3900146484,
          152.25,
          186.6100006104,
          167.3800048828,
          465.799987793,
          593.2800292969,
          586.4400024414,
          559.9199829102,
          254.1699981689,
          428.6499938965,
          500.6900024414,
          182.0299987793,
          244.8200073242,
          452.3800048828,
          527.5999755859,
          658.2399902344,
          681.549987793,
          600.1699829102,
          592.2800292969,
          269.3699951172
         ],
         "yaxis": "y"
        },
        {
         "hoverlabel": {
          "namelength": 0
         },
         "hovertemplate": "id=nsit<br>date=%{x}<br>energy-max=%{y}",
         "legendgroup": "id=nsit",
         "marker": {
          "color": "#FF0092",
          "symbol": "circle"
         },
         "mode": "markers",
         "name": "id=nsit",
         "showlegend": true,
         "type": "scatter",
         "x": [
          "2019-12-30T00:00:00",
          "2019-12-31T00:00:00",
          "2020-01-01T00:00:00",
          "2020-01-02T00:00:00",
          "2020-01-03T00:00:00",
          "2020-01-04T00:00:00",
          "2020-01-05T00:00:00",
          "2020-01-06T00:00:00",
          "2020-01-07T00:00:00",
          "2020-01-08T00:00:00",
          "2020-01-09T00:00:00",
          "2020-01-10T00:00:00",
          "2020-01-11T00:00:00",
          "2020-01-12T00:00:00",
          "2020-01-13T00:00:00",
          "2020-01-14T00:00:00",
          "2020-01-15T00:00:00",
          "2020-01-16T00:00:00",
          "2020-01-20T00:00:00",
          "2020-01-21T00:00:00",
          "2020-01-22T00:00:00",
          "2020-01-23T00:00:00",
          "2020-01-24T00:00:00",
          "2020-01-25T00:00:00",
          "2020-01-26T00:00:00",
          "2020-01-27T00:00:00"
         ],
         "xaxis": "x",
         "y": [
          586.3800048827999,
          769.6599731445001,
          873.9600219727,
          810.6799926758001,
          954.6099853515999,
          812.2399902344,
          804.4299926758001,
          315.6600036621,
          360.80999755860006,
          284.0799865723,
          752.0100097656,
          1145.1500244141,
          1312.4300537109,
          1287.8299560547,
          462.79998779300007,
          701.7999877929999,
          1089.8800048828,
          368.4800109863,
          569.1900024414,
          828.8099975586,
          869.5499877929999,
          1502,
          1500.5300292969002,
          1331.9599609375,
          1320.9200439453,
          544.9699707031
         ],
         "yaxis": "y"
        },
        {
         "hoverlabel": {
          "namelength": 0
         },
         "hovertemplate": "id=pitacademicblock100kw<br>date=%{x}<br>energy-max=%{y}",
         "legendgroup": "id=pitacademicblock100kw",
         "marker": {
          "color": "#22FFA7",
          "symbol": "circle"
         },
         "mode": "markers",
         "name": "id=pitacademicblock100kw",
         "showlegend": true,
         "type": "scatter",
         "x": [
          "2019-12-30T00:00:00",
          "2019-12-31T00:00:00",
          "2020-01-01T00:00:00",
          "2020-01-02T00:00:00",
          "2020-01-03T00:00:00",
          "2020-01-04T00:00:00",
          "2020-01-05T00:00:00",
          "2020-01-06T00:00:00",
          "2020-01-07T00:00:00",
          "2020-01-08T00:00:00",
          "2020-01-09T00:00:00",
          "2020-01-10T00:00:00",
          "2020-01-11T00:00:00",
          "2020-01-12T00:00:00",
          "2020-01-13T00:00:00",
          "2020-01-14T00:00:00",
          "2020-01-15T00:00:00",
          "2020-01-16T00:00:00",
          "2020-01-20T00:00:00",
          "2020-01-21T00:00:00",
          "2020-01-22T00:00:00",
          "2020-01-23T00:00:00",
          "2020-01-24T00:00:00",
          "2020-01-26T00:00:00",
          "2020-01-27T00:00:00"
         ],
         "xaxis": "x",
         "y": [
          297.1300048828,
          384.0100097656,
          444.2200012207,
          419.69000244140005,
          475.82000732419993,
          368.4200134277,
          411.1000061035,
          149.0399932861,
          180.91999816889998,
          181.41999816889998,
          401.1300048828,
          570.950012207,
          562.2299804688,
          564.8599853516,
          224.91000366209997,
          378.5199890137,
          486.5400085449,
          130.5899963379,
          273.25,
          357.0199890137,
          443.3599853516,
          679.9899902344,
          650.7600097656,
          564.9000244141,
          226.3200073242
         ],
         "yaxis": "y"
        },
        {
         "hoverlabel": {
          "namelength": 0
         },
         "hovertemplate": "id=satyawaticollege<br>date=%{x}<br>energy-max=%{y}",
         "legendgroup": "id=satyawaticollege",
         "marker": {
          "color": "#E3EE9E",
          "symbol": "circle"
         },
         "mode": "markers",
         "name": "id=satyawaticollege",
         "showlegend": true,
         "type": "scatter",
         "x": [
          "2019-12-30T00:00:00",
          "2019-12-31T00:00:00",
          "2020-01-01T00:00:00",
          "2020-01-02T00:00:00",
          "2020-01-03T00:00:00",
          "2020-01-04T00:00:00",
          "2020-01-05T00:00:00",
          "2020-01-06T00:00:00",
          "2020-01-07T00:00:00",
          "2020-01-08T00:00:00",
          "2020-01-09T00:00:00",
          "2020-01-10T00:00:00",
          "2020-01-11T00:00:00",
          "2020-01-12T00:00:00",
          "2020-01-13T00:00:00",
          "2020-01-14T00:00:00",
          "2020-01-15T00:00:00",
          "2020-01-16T00:00:00",
          "2020-01-20T00:00:00",
          "2020-01-21T00:00:00",
          "2020-01-22T00:00:00",
          "2020-01-23T00:00:00",
          "2020-01-24T00:00:00",
          "2020-01-25T00:00:00",
          "2020-01-26T00:00:00",
          "2020-01-27T00:00:00"
         ],
         "xaxis": "x",
         "y": [
          87.5899963379,
          116.1800003052,
          124.5299987793,
          126.9599990845,
          146.3999938965,
          107,
          114.8600006104,
          41.0400009155,
          68.9000015259,
          60.5600013733,
          150.3300018311,
          205.83000183110002,
          205.0700073242,
          193.97999572750004,
          77.9899978638,
          125.1200027466,
          165.7400054932,
          46.9799995422,
          99.8499984741,
          118.0800018311,
          170.85000610350002,
          231.02999877929997,
          229.8000030518,
          197.6900024414,
          187.7599945068,
          75.9400024414
         ],
         "yaxis": "y"
        },
        {
         "hoverlabel": {
          "namelength": 0
         },
         "hovertemplate": "id=sscbs<br>date=%{x}<br>energy-max=%{y}",
         "legendgroup": "id=sscbs",
         "marker": {
          "color": "#86CE00",
          "symbol": "circle"
         },
         "mode": "markers",
         "name": "id=sscbs",
         "showlegend": true,
         "type": "scatter",
         "x": [
          "2019-12-31T00:00:00",
          "2020-01-01T00:00:00",
          "2020-01-02T00:00:00",
          "2020-01-03T00:00:00",
          "2020-01-04T00:00:00",
          "2020-01-09T00:00:00",
          "2020-01-10T00:00:00",
          "2020-01-11T00:00:00",
          "2020-01-12T00:00:00",
          "2020-01-13T00:00:00",
          "2020-01-14T00:00:00",
          "2020-01-15T00:00:00",
          "2020-01-16T00:00:00",
          "2020-01-20T00:00:00"
         ],
         "xaxis": "x",
         "y": [
          138.0099945068,
          154.3699951172,
          167,
          179.3300018311,
          128.6399993896,
          124.7799987793,
          214.5200042725,
          197.3600006104,
          52.6599998474,
          86.5899963379,
          117.4499969482,
          204.2299957275,
          67.7300033569,
          116.9100036621
         ],
         "yaxis": "y"
        },
        {
         "hoverlabel": {
          "namelength": 0
         },
         "hovertemplate": "id=meerabaiinstituteoftechnology<br>date=%{x}<br>energy-max=%{y}",
         "legendgroup": "id=meerabaiinstituteoftechnology",
         "marker": {
          "color": "#BC7196",
          "symbol": "circle"
         },
         "mode": "markers",
         "name": "id=meerabaiinstituteoftechnology",
         "showlegend": true,
         "type": "scatter",
         "x": [
          "2020-01-02T00:00:00",
          "2020-01-03T00:00:00",
          "2020-01-04T00:00:00",
          "2020-01-05T00:00:00",
          "2020-01-06T00:00:00",
          "2020-01-07T00:00:00",
          "2020-01-09T00:00:00",
          "2020-01-10T00:00:00",
          "2020-01-11T00:00:00",
          "2020-01-12T00:00:00",
          "2020-01-13T00:00:00",
          "2020-01-14T00:00:00",
          "2020-01-15T00:00:00",
          "2020-01-16T00:00:00"
         ],
         "xaxis": "x",
         "y": [
          245.9199981689,
          282.9299926758,
          228.3600006104,
          254.0200042725,
          91.0299987793,
          118.0400009155,
          313.299987793,
          381.8699951172,
          383.6300048828,
          380.2799987793,
          172.2400054932,
          268.6900024414,
          317.7099914551,
          117.9800033569
         ],
         "yaxis": "y"
        },
        {
         "hoverlabel": {
          "namelength": 0
         },
         "hovertemplate": "id=43707<br>date=%{x}<br>energy-max=%{y}",
         "legendgroup": "id=43707",
         "marker": {
          "color": "#7E7DCD",
          "symbol": "circle"
         },
         "mode": "markers",
         "name": "id=43707",
         "showlegend": true,
         "type": "scatter",
         "x": [
          "2020-01-03T00:00:00",
          "2020-01-13T00:00:00",
          "2020-01-14T00:00:00",
          "2020-01-15T00:00:00"
         ],
         "xaxis": "x",
         "y": [
          12.3000001907,
          7,
          9.8999996185,
          12.5
         ],
         "yaxis": "y"
        },
        {
         "hoverlabel": {
          "namelength": 0
         },
         "hovertemplate": "id=55448<br>date=%{x}<br>energy-max=%{y}",
         "legendgroup": "id=55448",
         "marker": {
          "color": "#FC6955",
          "symbol": "circle"
         },
         "mode": "markers",
         "name": "id=55448",
         "showlegend": true,
         "type": "scatter",
         "x": [
          "2020-01-03T00:00:00",
          "2020-01-13T00:00:00",
          "2020-01-14T00:00:00",
          "2020-01-15T00:00:00"
         ],
         "xaxis": "x",
         "y": [
          33.7999992371,
          45.9000015259,
          65,
          64.6999969482
         ],
         "yaxis": "y"
        },
        {
         "hoverlabel": {
          "namelength": 0
         },
         "hovertemplate": "id=58292<br>date=%{x}<br>energy-max=%{y}",
         "legendgroup": "id=58292",
         "marker": {
          "color": "#E48F72",
          "symbol": "circle"
         },
         "mode": "markers",
         "name": "id=58292",
         "showlegend": true,
         "type": "scatter",
         "x": [
          "2020-01-03T00:00:00",
          "2020-01-13T00:00:00",
          "2020-01-14T00:00:00",
          "2020-01-15T00:00:00"
         ],
         "xaxis": "x",
         "y": [
          37.4000015259,
          21.5,
          32,
          40.7999992371
         ],
         "yaxis": "y"
        },
        {
         "hoverlabel": {
          "namelength": 0
         },
         "hovertemplate": "id=58337<br>date=%{x}<br>energy-max=%{y}",
         "legendgroup": "id=58337",
         "marker": {
          "color": "#FD3216",
          "symbol": "circle"
         },
         "mode": "markers",
         "name": "id=58337",
         "showlegend": true,
         "type": "scatter",
         "x": [
          "2020-01-03T00:00:00",
          "2020-01-13T00:00:00",
          "2020-01-14T00:00:00",
          "2020-01-15T00:00:00"
         ],
         "xaxis": "x",
         "y": [
          11.5,
          7.4000000954,
          10.6999998093,
          12.8999996185
         ],
         "yaxis": "y"
        },
        {
         "hoverlabel": {
          "namelength": 0
         },
         "hovertemplate": "id=itipusa<br>date=%{x}<br>energy-max=%{y}",
         "legendgroup": "id=itipusa",
         "marker": {
          "color": "#00FE35",
          "symbol": "circle"
         },
         "mode": "markers",
         "name": "id=itipusa",
         "showlegend": true,
         "type": "scatter",
         "x": [
          "2020-01-04T00:00:00",
          "2020-01-05T00:00:00",
          "2020-01-06T00:00:00",
          "2020-01-07T00:00:00",
          "2020-01-09T00:00:00",
          "2020-01-10T00:00:00",
          "2020-01-11T00:00:00",
          "2020-01-12T00:00:00",
          "2020-01-13T00:00:00",
          "2020-01-14T00:00:00",
          "2020-01-15T00:00:00",
          "2020-01-16T00:00:00",
          "2020-01-20T00:00:00",
          "2020-01-21T00:00:00",
          "2020-01-22T00:00:00",
          "2020-01-23T00:00:00",
          "2020-01-24T00:00:00",
          "2020-01-25T00:00:00",
          "2020-01-26T00:00:00",
          "2020-01-27T00:00:00"
         ],
         "xaxis": "x",
         "y": [
          133.3899993896,
          199.1000061035,
          90.6299972534,
          96.8000030518,
          143.1799926758,
          277.8599853516,
          282.9299926758,
          265.7600097656,
          121.7200012207,
          214.6300048828,
          235.5599975586,
          94.3300018311,
          157.2100067139,
          203.7700042725,
          240.6300048828,
          320.4299926758,
          312.1799926758,
          287.5899963379,
          280.3099975586,
          137.1999969482
         ],
         "yaxis": "y"
        },
        {
         "hoverlabel": {
          "namelength": 0
         },
         "hovertemplate": "id=59093<br>date=%{x}<br>energy-max=%{y}",
         "legendgroup": "id=59093",
         "marker": {
          "color": "#6A76FC",
          "symbol": "circle"
         },
         "mode": "markers",
         "name": "id=59093",
         "showlegend": true,
         "type": "scatter",
         "x": [
          "2020-01-14T00:00:00"
         ],
         "xaxis": "x",
         "y": [
          5.5
         ],
         "yaxis": "y"
        }
       ],
       "layout": {
        "autosize": false,
        "height": 680,
        "legend": {
         "tracegroupgap": 0
        },
        "margin": {
         "t": 60
        },
        "template": {
         "data": {
          "bar": [
           {
            "error_x": {
             "color": "#2a3f5f"
            },
            "error_y": {
             "color": "#2a3f5f"
            },
            "marker": {
             "line": {
              "color": "#E5ECF6",
              "width": 0.5
             }
            },
            "type": "bar"
           }
          ],
          "barpolar": [
           {
            "marker": {
             "line": {
              "color": "#E5ECF6",
              "width": 0.5
             }
            },
            "type": "barpolar"
           }
          ],
          "carpet": [
           {
            "aaxis": {
             "endlinecolor": "#2a3f5f",
             "gridcolor": "white",
             "linecolor": "white",
             "minorgridcolor": "white",
             "startlinecolor": "#2a3f5f"
            },
            "baxis": {
             "endlinecolor": "#2a3f5f",
             "gridcolor": "white",
             "linecolor": "white",
             "minorgridcolor": "white",
             "startlinecolor": "#2a3f5f"
            },
            "type": "carpet"
           }
          ],
          "choropleth": [
           {
            "colorbar": {
             "outlinewidth": 0,
             "ticks": ""
            },
            "type": "choropleth"
           }
          ],
          "contour": [
           {
            "colorbar": {
             "outlinewidth": 0,
             "ticks": ""
            },
            "colorscale": [
             [
              0,
              "#0d0887"
             ],
             [
              0.1111111111111111,
              "#46039f"
             ],
             [
              0.2222222222222222,
              "#7201a8"
             ],
             [
              0.3333333333333333,
              "#9c179e"
             ],
             [
              0.4444444444444444,
              "#bd3786"
             ],
             [
              0.5555555555555556,
              "#d8576b"
             ],
             [
              0.6666666666666666,
              "#ed7953"
             ],
             [
              0.7777777777777778,
              "#fb9f3a"
             ],
             [
              0.8888888888888888,
              "#fdca26"
             ],
             [
              1,
              "#f0f921"
             ]
            ],
            "type": "contour"
           }
          ],
          "contourcarpet": [
           {
            "colorbar": {
             "outlinewidth": 0,
             "ticks": ""
            },
            "type": "contourcarpet"
           }
          ],
          "heatmap": [
           {
            "colorbar": {
             "outlinewidth": 0,
             "ticks": ""
            },
            "colorscale": [
             [
              0,
              "#0d0887"
             ],
             [
              0.1111111111111111,
              "#46039f"
             ],
             [
              0.2222222222222222,
              "#7201a8"
             ],
             [
              0.3333333333333333,
              "#9c179e"
             ],
             [
              0.4444444444444444,
              "#bd3786"
             ],
             [
              0.5555555555555556,
              "#d8576b"
             ],
             [
              0.6666666666666666,
              "#ed7953"
             ],
             [
              0.7777777777777778,
              "#fb9f3a"
             ],
             [
              0.8888888888888888,
              "#fdca26"
             ],
             [
              1,
              "#f0f921"
             ]
            ],
            "type": "heatmap"
           }
          ],
          "heatmapgl": [
           {
            "colorbar": {
             "outlinewidth": 0,
             "ticks": ""
            },
            "colorscale": [
             [
              0,
              "#0d0887"
             ],
             [
              0.1111111111111111,
              "#46039f"
             ],
             [
              0.2222222222222222,
              "#7201a8"
             ],
             [
              0.3333333333333333,
              "#9c179e"
             ],
             [
              0.4444444444444444,
              "#bd3786"
             ],
             [
              0.5555555555555556,
              "#d8576b"
             ],
             [
              0.6666666666666666,
              "#ed7953"
             ],
             [
              0.7777777777777778,
              "#fb9f3a"
             ],
             [
              0.8888888888888888,
              "#fdca26"
             ],
             [
              1,
              "#f0f921"
             ]
            ],
            "type": "heatmapgl"
           }
          ],
          "histogram": [
           {
            "marker": {
             "colorbar": {
              "outlinewidth": 0,
              "ticks": ""
             }
            },
            "type": "histogram"
           }
          ],
          "histogram2d": [
           {
            "colorbar": {
             "outlinewidth": 0,
             "ticks": ""
            },
            "colorscale": [
             [
              0,
              "#0d0887"
             ],
             [
              0.1111111111111111,
              "#46039f"
             ],
             [
              0.2222222222222222,
              "#7201a8"
             ],
             [
              0.3333333333333333,
              "#9c179e"
             ],
             [
              0.4444444444444444,
              "#bd3786"
             ],
             [
              0.5555555555555556,
              "#d8576b"
             ],
             [
              0.6666666666666666,
              "#ed7953"
             ],
             [
              0.7777777777777778,
              "#fb9f3a"
             ],
             [
              0.8888888888888888,
              "#fdca26"
             ],
             [
              1,
              "#f0f921"
             ]
            ],
            "type": "histogram2d"
           }
          ],
          "histogram2dcontour": [
           {
            "colorbar": {
             "outlinewidth": 0,
             "ticks": ""
            },
            "colorscale": [
             [
              0,
              "#0d0887"
             ],
             [
              0.1111111111111111,
              "#46039f"
             ],
             [
              0.2222222222222222,
              "#7201a8"
             ],
             [
              0.3333333333333333,
              "#9c179e"
             ],
             [
              0.4444444444444444,
              "#bd3786"
             ],
             [
              0.5555555555555556,
              "#d8576b"
             ],
             [
              0.6666666666666666,
              "#ed7953"
             ],
             [
              0.7777777777777778,
              "#fb9f3a"
             ],
             [
              0.8888888888888888,
              "#fdca26"
             ],
             [
              1,
              "#f0f921"
             ]
            ],
            "type": "histogram2dcontour"
           }
          ],
          "mesh3d": [
           {
            "colorbar": {
             "outlinewidth": 0,
             "ticks": ""
            },
            "type": "mesh3d"
           }
          ],
          "parcoords": [
           {
            "line": {
             "colorbar": {
              "outlinewidth": 0,
              "ticks": ""
             }
            },
            "type": "parcoords"
           }
          ],
          "pie": [
           {
            "automargin": true,
            "type": "pie"
           }
          ],
          "scatter": [
           {
            "marker": {
             "colorbar": {
              "outlinewidth": 0,
              "ticks": ""
             }
            },
            "type": "scatter"
           }
          ],
          "scatter3d": [
           {
            "line": {
             "colorbar": {
              "outlinewidth": 0,
              "ticks": ""
             }
            },
            "marker": {
             "colorbar": {
              "outlinewidth": 0,
              "ticks": ""
             }
            },
            "type": "scatter3d"
           }
          ],
          "scattercarpet": [
           {
            "marker": {
             "colorbar": {
              "outlinewidth": 0,
              "ticks": ""
             }
            },
            "type": "scattercarpet"
           }
          ],
          "scattergeo": [
           {
            "marker": {
             "colorbar": {
              "outlinewidth": 0,
              "ticks": ""
             }
            },
            "type": "scattergeo"
           }
          ],
          "scattergl": [
           {
            "marker": {
             "colorbar": {
              "outlinewidth": 0,
              "ticks": ""
             }
            },
            "type": "scattergl"
           }
          ],
          "scattermapbox": [
           {
            "marker": {
             "colorbar": {
              "outlinewidth": 0,
              "ticks": ""
             }
            },
            "type": "scattermapbox"
           }
          ],
          "scatterpolar": [
           {
            "marker": {
             "colorbar": {
              "outlinewidth": 0,
              "ticks": ""
             }
            },
            "type": "scatterpolar"
           }
          ],
          "scatterpolargl": [
           {
            "marker": {
             "colorbar": {
              "outlinewidth": 0,
              "ticks": ""
             }
            },
            "type": "scatterpolargl"
           }
          ],
          "scatterternary": [
           {
            "marker": {
             "colorbar": {
              "outlinewidth": 0,
              "ticks": ""
             }
            },
            "type": "scatterternary"
           }
          ],
          "surface": [
           {
            "colorbar": {
             "outlinewidth": 0,
             "ticks": ""
            },
            "colorscale": [
             [
              0,
              "#0d0887"
             ],
             [
              0.1111111111111111,
              "#46039f"
             ],
             [
              0.2222222222222222,
              "#7201a8"
             ],
             [
              0.3333333333333333,
              "#9c179e"
             ],
             [
              0.4444444444444444,
              "#bd3786"
             ],
             [
              0.5555555555555556,
              "#d8576b"
             ],
             [
              0.6666666666666666,
              "#ed7953"
             ],
             [
              0.7777777777777778,
              "#fb9f3a"
             ],
             [
              0.8888888888888888,
              "#fdca26"
             ],
             [
              1,
              "#f0f921"
             ]
            ],
            "type": "surface"
           }
          ],
          "table": [
           {
            "cells": {
             "fill": {
              "color": "#EBF0F8"
             },
             "line": {
              "color": "white"
             }
            },
            "header": {
             "fill": {
              "color": "#C8D4E3"
             },
             "line": {
              "color": "white"
             }
            },
            "type": "table"
           }
          ]
         },
         "layout": {
          "annotationdefaults": {
           "arrowcolor": "#2a3f5f",
           "arrowhead": 0,
           "arrowwidth": 1
          },
          "coloraxis": {
           "colorbar": {
            "outlinewidth": 0,
            "ticks": ""
           }
          },
          "colorscale": {
           "diverging": [
            [
             0,
             "#8e0152"
            ],
            [
             0.1,
             "#c51b7d"
            ],
            [
             0.2,
             "#de77ae"
            ],
            [
             0.3,
             "#f1b6da"
            ],
            [
             0.4,
             "#fde0ef"
            ],
            [
             0.5,
             "#f7f7f7"
            ],
            [
             0.6,
             "#e6f5d0"
            ],
            [
             0.7,
             "#b8e186"
            ],
            [
             0.8,
             "#7fbc41"
            ],
            [
             0.9,
             "#4d9221"
            ],
            [
             1,
             "#276419"
            ]
           ],
           "sequential": [
            [
             0,
             "#0d0887"
            ],
            [
             0.1111111111111111,
             "#46039f"
            ],
            [
             0.2222222222222222,
             "#7201a8"
            ],
            [
             0.3333333333333333,
             "#9c179e"
            ],
            [
             0.4444444444444444,
             "#bd3786"
            ],
            [
             0.5555555555555556,
             "#d8576b"
            ],
            [
             0.6666666666666666,
             "#ed7953"
            ],
            [
             0.7777777777777778,
             "#fb9f3a"
            ],
            [
             0.8888888888888888,
             "#fdca26"
            ],
            [
             1,
             "#f0f921"
            ]
           ],
           "sequentialminus": [
            [
             0,
             "#0d0887"
            ],
            [
             0.1111111111111111,
             "#46039f"
            ],
            [
             0.2222222222222222,
             "#7201a8"
            ],
            [
             0.3333333333333333,
             "#9c179e"
            ],
            [
             0.4444444444444444,
             "#bd3786"
            ],
            [
             0.5555555555555556,
             "#d8576b"
            ],
            [
             0.6666666666666666,
             "#ed7953"
            ],
            [
             0.7777777777777778,
             "#fb9f3a"
            ],
            [
             0.8888888888888888,
             "#fdca26"
            ],
            [
             1,
             "#f0f921"
            ]
           ]
          },
          "colorway": [
           "#636efa",
           "#EF553B",
           "#00cc96",
           "#ab63fa",
           "#FFA15A",
           "#19d3f3",
           "#FF6692",
           "#B6E880",
           "#FF97FF",
           "#FECB52"
          ],
          "font": {
           "color": "#2a3f5f"
          },
          "geo": {
           "bgcolor": "white",
           "lakecolor": "white",
           "landcolor": "#E5ECF6",
           "showlakes": true,
           "showland": true,
           "subunitcolor": "white"
          },
          "hoverlabel": {
           "align": "left"
          },
          "hovermode": "closest",
          "mapbox": {
           "style": "light"
          },
          "paper_bgcolor": "white",
          "plot_bgcolor": "#E5ECF6",
          "polar": {
           "angularaxis": {
            "gridcolor": "white",
            "linecolor": "white",
            "ticks": ""
           },
           "bgcolor": "#E5ECF6",
           "radialaxis": {
            "gridcolor": "white",
            "linecolor": "white",
            "ticks": ""
           }
          },
          "scene": {
           "xaxis": {
            "backgroundcolor": "#E5ECF6",
            "gridcolor": "white",
            "gridwidth": 2,
            "linecolor": "white",
            "showbackground": true,
            "ticks": "",
            "zerolinecolor": "white"
           },
           "yaxis": {
            "backgroundcolor": "#E5ECF6",
            "gridcolor": "white",
            "gridwidth": 2,
            "linecolor": "white",
            "showbackground": true,
            "ticks": "",
            "zerolinecolor": "white"
           },
           "zaxis": {
            "backgroundcolor": "#E5ECF6",
            "gridcolor": "white",
            "gridwidth": 2,
            "linecolor": "white",
            "showbackground": true,
            "ticks": "",
            "zerolinecolor": "white"
           }
          },
          "shapedefaults": {
           "line": {
            "color": "#2a3f5f"
           }
          },
          "ternary": {
           "aaxis": {
            "gridcolor": "white",
            "linecolor": "white",
            "ticks": ""
           },
           "baxis": {
            "gridcolor": "white",
            "linecolor": "white",
            "ticks": ""
           },
           "bgcolor": "#E5ECF6",
           "caxis": {
            "gridcolor": "white",
            "linecolor": "white",
            "ticks": ""
           }
          },
          "title": {
           "x": 0.05
          },
          "xaxis": {
           "automargin": true,
           "gridcolor": "white",
           "linecolor": "white",
           "ticks": "",
           "title": {
            "standoff": 15
           },
           "zerolinecolor": "white",
           "zerolinewidth": 2
          },
          "yaxis": {
           "automargin": true,
           "gridcolor": "white",
           "linecolor": "white",
           "ticks": "",
           "title": {
            "standoff": 15
           },
           "zerolinecolor": "white",
           "zerolinewidth": 2
          }
         }
        },
        "title": {
         "text": "Maximum kWh value per energy aspect"
        },
        "width": 1100,
        "xaxis": {
         "dtick": [
          1,
          2
         ],
         "title": {
          "font": {
           "size": 15
          },
          "text": "Date"
         }
        },
        "yaxis": {
         "dtick": 100,
         "title": {
          "font": {
           "size": 15
          },
          "text": "Energy (kWh)"
         }
        }
       }
      },
      "text/html": [
       "<div>\n",
       "        \n",
       "        \n",
       "            <div id=\"0b253f60-7dfe-48a0-96e6-d321de368221\" class=\"plotly-graph-div\" style=\"height:680px; width:1100px;\"></div>\n",
       "            <script type=\"text/javascript\">\n",
       "                require([\"plotly\"], function(Plotly) {\n",
       "                    window.PLOTLYENV=window.PLOTLYENV || {};\n",
       "                    \n",
       "                if (document.getElementById(\"0b253f60-7dfe-48a0-96e6-d321de368221\")) {\n",
       "                    Plotly.newPlot(\n",
       "                        '0b253f60-7dfe-48a0-96e6-d321de368221',\n",
       "                        [{\"hoverlabel\": {\"namelength\": 0}, \"hovertemplate\": \"id=ait82kw<br>date=%{x}<br>energy-max=%{y}\", \"legendgroup\": \"id=ait82kw\", \"marker\": {\"color\": \"#FD3216\", \"symbol\": \"circle\"}, \"mode\": \"markers\", \"name\": \"id=ait82kw\", \"showlegend\": true, \"type\": \"scatter\", \"x\": [\"2019-12-30T00:00:00\", \"2019-12-31T00:00:00\", \"2020-01-01T00:00:00\", \"2020-01-02T00:00:00\", \"2020-01-03T00:00:00\", \"2020-01-04T00:00:00\", \"2020-01-05T00:00:00\", \"2020-01-06T00:00:00\", \"2020-01-07T00:00:00\", \"2020-01-08T00:00:00\", \"2020-01-09T00:00:00\", \"2020-01-10T00:00:00\", \"2020-01-11T00:00:00\", \"2020-01-12T00:00:00\", \"2020-01-13T00:00:00\", \"2020-01-14T00:00:00\", \"2020-01-15T00:00:00\", \"2020-01-16T00:00:00\", \"2020-01-20T00:00:00\", \"2020-01-21T00:00:00\", \"2020-01-22T00:00:00\", \"2020-01-23T00:00:00\", \"2020-01-24T00:00:00\", \"2020-01-25T00:00:00\", \"2020-01-26T00:00:00\", \"2020-01-27T00:00:00\"], \"xaxis\": \"x\", \"y\": [158.5899963379, 208.0700073242, 227.1100006104, 234.2599945068, 266.6600036621, 189.5500030518, 207.9100036621, 69.4700012207, 109.8499984741, 92.3000030518, 227.3899993896, 329.9100036621, 338.5799865723, 324.6199951172, 126.2600021362, 201.3099975586, 281.3999938965, 74.6299972534, 156.2100067139, 188.2200012207, 265.6600036621, 381.1600036621, 380.3099975586, 324.7799987793, 306.0, 117.9400024414], \"yaxis\": \"y\"}, {\"hoverlabel\": {\"namelength\": 0}, \"hovertemplate\": \"id=aurobindo<br>date=%{x}<br>energy-max=%{y}\", \"legendgroup\": \"id=aurobindo\", \"marker\": {\"color\": \"#00FE35\", \"symbol\": \"circle\"}, \"mode\": \"markers\", \"name\": \"id=aurobindo\", \"showlegend\": true, \"type\": \"scatter\", \"x\": [\"2019-12-30T00:00:00\", \"2019-12-31T00:00:00\", \"2020-01-01T00:00:00\", \"2020-01-02T00:00:00\", \"2020-01-03T00:00:00\", \"2020-01-04T00:00:00\", \"2020-01-05T00:00:00\", \"2020-01-06T00:00:00\", \"2020-01-07T00:00:00\", \"2020-01-08T00:00:00\", \"2020-01-09T00:00:00\", \"2020-01-10T00:00:00\", \"2020-01-11T00:00:00\", \"2020-01-12T00:00:00\", \"2020-01-13T00:00:00\", \"2020-01-14T00:00:00\", \"2020-01-15T00:00:00\", \"2020-01-16T00:00:00\", \"2020-01-20T00:00:00\", \"2020-01-21T00:00:00\", \"2020-01-22T00:00:00\", \"2020-01-23T00:00:00\", \"2020-01-24T00:00:00\", \"2020-01-25T00:00:00\", \"2020-01-26T00:00:00\", \"2020-01-27T00:00:00\"], \"xaxis\": \"x\", \"y\": [92.7600021362, 122.5599975586, 131.6900024414, 125.6999969482, 148.5, 133.2899932861, 141.8699951172, 54.5800018311, 58.1699981689, 80.1699981689, 156.3600006104, 178.3500061035, 180.7200012207, 171.2400054932, 73.9199981689, 131.1399993896, 137.7599945068, 46.0999984741, 94.9499969482, 135.0800018311, 152.8000030518, 219.0500030518, 214.3000030518, 196.9100036621, 190.4199981689, 95.0400009155], \"yaxis\": \"y\"}, {\"hoverlabel\": {\"namelength\": 0}, \"hovertemplate\": \"id=btcpusa110kw<br>date=%{x}<br>energy-max=%{y}\", \"legendgroup\": \"id=btcpusa110kw\", \"marker\": {\"color\": \"#6A76FC\", \"symbol\": \"circle\"}, \"mode\": \"markers\", \"name\": \"id=btcpusa110kw\", \"showlegend\": true, \"type\": \"scatter\", \"x\": [\"2019-12-30T00:00:00\", \"2019-12-31T00:00:00\", \"2020-01-01T00:00:00\", \"2020-01-02T00:00:00\", \"2020-01-03T00:00:00\", \"2020-01-04T00:00:00\", \"2020-01-05T00:00:00\", \"2020-01-06T00:00:00\", \"2020-01-07T00:00:00\", \"2020-01-08T00:00:00\", \"2020-01-09T00:00:00\", \"2020-01-10T00:00:00\", \"2020-01-11T00:00:00\", \"2020-01-12T00:00:00\", \"2020-01-13T00:00:00\", \"2020-01-14T00:00:00\", \"2020-01-15T00:00:00\", \"2020-01-16T00:00:00\", \"2020-01-20T00:00:00\", \"2020-01-21T00:00:00\", \"2020-01-22T00:00:00\", \"2020-01-23T00:00:00\", \"2020-01-24T00:00:00\", \"2020-01-25T00:00:00\", \"2020-01-26T00:00:00\", \"2020-01-27T00:00:00\"], \"xaxis\": \"x\", \"y\": [229.5, 300.2300109863, 346.7399902344, 326.75, 378.95001220700004, 287.5199890137, 313.2399902344, 112.5800018311, 139.0200042725, 105.2699966431, 331.2900085449, 457.0400085449, 455.4899902344, 447.30999755859995, 168.0200042725, 301.3299865723, 383.44000244140005, 123.6900024414, 211.0500030518, 278.1900024414, 358.5899963379, 545.8699951172, 524.7600097656, 471.3500061035, 450.75, 178.02000427249996], \"yaxis\": \"y\"}, {\"hoverlabel\": {\"namelength\": 0}, \"hovertemplate\": \"id=deendayalupadhyaycollege<br>date=%{x}<br>energy-max=%{y}\", \"legendgroup\": \"id=deendayalupadhyaycollege\", \"marker\": {\"color\": \"#FED4C4\", \"symbol\": \"circle\"}, \"mode\": \"markers\", \"name\": \"id=deendayalupadhyaycollege\", \"showlegend\": true, \"type\": \"scatter\", \"x\": [\"2019-12-30T00:00:00\", \"2019-12-31T00:00:00\", \"2020-01-01T00:00:00\", \"2020-01-02T00:00:00\", \"2020-01-03T00:00:00\", \"2020-01-04T00:00:00\", \"2020-01-05T00:00:00\", \"2020-01-06T00:00:00\", \"2020-01-07T00:00:00\", \"2020-01-08T00:00:00\", \"2020-01-09T00:00:00\", \"2020-01-10T00:00:00\", \"2020-01-11T00:00:00\", \"2020-01-12T00:00:00\", \"2020-01-13T00:00:00\", \"2020-01-14T00:00:00\", \"2020-01-15T00:00:00\", \"2020-01-16T00:00:00\", \"2020-01-20T00:00:00\", \"2020-01-21T00:00:00\", \"2020-01-22T00:00:00\", \"2020-01-23T00:00:00\", \"2020-01-24T00:00:00\", \"2020-01-25T00:00:00\", \"2020-01-26T00:00:00\", \"2020-01-27T00:00:00\"], \"xaxis\": \"x\", \"y\": [263.0599975586, 345.7799987793, 391.7699890137, 363.5100097656, 434.9599914551, 445.8800048828, 436.6000061035, 179.97999572750004, 179.72999572750004, 121.8600006104, 369.5400085449, 537.8499755859, 627.5300292969, 613.0599975586, 222.08000183110002, 340.75, 526.6199951172, 180.9900054932, 280.1400146484, 394.45001220700004, 404.8999938965, 704.25, 701.0399780273, 626.7399902344, 612.1099853516, 252.7599945068], \"yaxis\": \"y\"}, {\"hoverlabel\": {\"namelength\": 0}, \"hovertemplate\": \"id=delhihaat<br>date=%{x}<br>energy-max=%{y}\", \"legendgroup\": \"id=delhihaat\", \"marker\": {\"color\": \"#FE00CE\", \"symbol\": \"circle\"}, \"mode\": \"markers\", \"name\": \"id=delhihaat\", \"showlegend\": true, \"type\": \"scatter\", \"x\": [\"2019-12-30T00:00:00\", \"2019-12-31T00:00:00\", \"2020-01-01T00:00:00\", \"2020-01-02T00:00:00\", \"2020-01-03T00:00:00\", \"2020-01-04T00:00:00\", \"2020-01-05T00:00:00\", \"2020-01-11T00:00:00\", \"2020-01-12T00:00:00\", \"2020-01-13T00:00:00\", \"2020-01-14T00:00:00\", \"2020-01-15T00:00:00\", \"2020-01-16T00:00:00\", \"2020-01-20T00:00:00\", \"2020-01-21T00:00:00\", \"2020-01-22T00:00:00\", \"2020-01-23T00:00:00\", \"2020-01-24T00:00:00\", \"2020-01-25T00:00:00\", \"2020-01-26T00:00:00\", \"2020-01-27T00:00:00\"], \"xaxis\": \"x\", \"y\": [70.1800003052, 91.8000030518, 104.5400009155, 101.5899963379, 139.2100067139, 115.6200027466, 119.3499984741, 86.8499984741, 154.2400054932, 58.7599983215, 93.3600006104, 133.1799926758, 45.5600013733, 71.5899963379, 99.5400009155, 118.0199966431, 189.8200073242, 172.3300018311, 161.7100067139, 157.4799957275, 67.2699966431], \"yaxis\": \"y\"}, {\"hoverlabel\": {\"namelength\": 0}, \"hovertemplate\": \"id=dtu<br>date=%{x}<br>energy-max=%{y}\", \"legendgroup\": \"id=dtu\", \"marker\": {\"color\": \"#0DF9FF\", \"symbol\": \"circle\"}, \"mode\": \"markers\", \"name\": \"id=dtu\", \"showlegend\": true, \"type\": \"scatter\", \"x\": [\"2019-12-30T00:00:00\", \"2019-12-31T00:00:00\", \"2020-01-01T00:00:00\", \"2020-01-02T00:00:00\", \"2020-01-03T00:00:00\", \"2020-01-04T00:00:00\", \"2020-01-05T00:00:00\", \"2020-01-06T00:00:00\", \"2020-01-07T00:00:00\", \"2020-01-08T00:00:00\", \"2020-01-09T00:00:00\", \"2020-01-10T00:00:00\", \"2020-01-11T00:00:00\", \"2020-01-12T00:00:00\", \"2020-01-13T00:00:00\", \"2020-01-14T00:00:00\", \"2020-01-15T00:00:00\", \"2020-01-16T00:00:00\", \"2020-01-20T00:00:00\", \"2020-01-21T00:00:00\", \"2020-01-22T00:00:00\", \"2020-01-23T00:00:00\", \"2020-01-24T00:00:00\", \"2020-01-25T00:00:00\", \"2020-01-26T00:00:00\", \"2020-01-27T00:00:00\"], \"xaxis\": \"x\", \"y\": [580.8099975586, 1020.1799926758, 1173.4200439453, 1317.5899658203, 1397.2700195312, 1144.4100341797, 1121.2900390625, 412.6300048827999, 625.3300170898, 285.19000244139994, 1070.3900146484, 1667.1500244141002, 1777.9499511719002, 1694.4100341797, 642.8900146484001, 918.3900146484001, 1533.1899414062, 476.1300048827999, 835.4000244140999, 814.9899902344, 1211.1800537109, 2109.4599609375, 2087.6298828125, 1763.8100585938005, 1712.7900390625, 634.9600219727], \"yaxis\": \"y\"}, {\"hoverlabel\": {\"namelength\": 0}, \"hovertemplate\": \"id=igdtuw<br>date=%{x}<br>energy-max=%{y}\", \"legendgroup\": \"id=igdtuw\", \"marker\": {\"color\": \"#F6F926\", \"symbol\": \"circle\"}, \"mode\": \"markers\", \"name\": \"id=igdtuw\", \"showlegend\": true, \"type\": \"scatter\", \"x\": [\"2019-12-30T00:00:00\", \"2019-12-31T00:00:00\", \"2020-01-01T00:00:00\", \"2020-01-02T00:00:00\", \"2020-01-03T00:00:00\", \"2020-01-04T00:00:00\", \"2020-01-05T00:00:00\", \"2020-01-06T00:00:00\", \"2020-01-07T00:00:00\", \"2020-01-08T00:00:00\", \"2020-01-09T00:00:00\", \"2020-01-10T00:00:00\", \"2020-01-11T00:00:00\", \"2020-01-12T00:00:00\", \"2020-01-13T00:00:00\", \"2020-01-14T00:00:00\", \"2020-01-15T00:00:00\", \"2020-01-16T00:00:00\", \"2020-01-20T00:00:00\", \"2020-01-21T00:00:00\", \"2020-01-22T00:00:00\", \"2020-01-23T00:00:00\", \"2020-01-24T00:00:00\", \"2020-01-25T00:00:00\", \"2020-01-26T00:00:00\", \"2020-01-27T00:00:00\"], \"xaxis\": \"x\", \"y\": [306.8099975586, 408.2699890137, 452.36999511720006, 442.6600036621, 519.2399902344, 361.3900146484, 420.20999145510007, 147.1799926758, 209.55000305180002, 159.4600067139, 474.14001464840004, 659.2600097656, 656.4000244141, 621.1500244141, 252.7400054932, 440.52999877929994, 535.700012207, 182.3600006104, 322.3999938965, 426.8399963379, 556.0599975586, 746.5200195312, 744.4699707031, 622.4799804688, 270.7399902344, 263.8999938965], \"yaxis\": \"y\"}, {\"hoverlabel\": {\"namelength\": 0}, \"hovertemplate\": \"id=ihbas<br>date=%{x}<br>energy-max=%{y}\", \"legendgroup\": \"id=ihbas\", \"marker\": {\"color\": \"#FF9616\", \"symbol\": \"circle\"}, \"mode\": \"markers\", \"name\": \"id=ihbas\", \"showlegend\": true, \"type\": \"scatter\", \"x\": [\"2019-12-30T00:00:00\", \"2019-12-31T00:00:00\", \"2020-01-01T00:00:00\", \"2020-01-02T00:00:00\", \"2020-01-03T00:00:00\", \"2020-01-04T00:00:00\", \"2020-01-05T00:00:00\", \"2020-01-06T00:00:00\", \"2020-01-07T00:00:00\", \"2020-01-08T00:00:00\", \"2020-01-09T00:00:00\", \"2020-01-10T00:00:00\", \"2020-01-11T00:00:00\", \"2020-01-12T00:00:00\", \"2020-01-13T00:00:00\", \"2020-01-14T00:00:00\", \"2020-01-15T00:00:00\", \"2020-01-16T00:00:00\", \"2020-01-20T00:00:00\", \"2020-01-21T00:00:00\", \"2020-01-22T00:00:00\", \"2020-01-23T00:00:00\", \"2020-01-24T00:00:00\", \"2020-01-25T00:00:00\", \"2020-01-26T00:00:00\", \"2020-01-27T00:00:00\"], \"xaxis\": \"x\", \"y\": [275.3900146484, 363.8999938965, 416.5, 382.2300109863, 478.8500061035, 323.8599853516, 391.17999267579995, 133.91999816890004, 187.33000183109996, 134.58999633789998, 395.4200134277, 571.200012207, 545.8300170898, 536.0700073242, 249.82000732420002, 351.1600036621, 498.7699890137, 215.5099945068, 422.2300109863, 570.6599731445, 675.3400268555, 941.6099853515999, 924.299987793, 793.6900024414, 773.549987793, 348.1199951172], \"yaxis\": \"y\"}, {\"hoverlabel\": {\"namelength\": 0}, \"hovertemplate\": \"id=iiitd<br>date=%{x}<br>energy-max=%{y}\", \"legendgroup\": \"id=iiitd\", \"marker\": {\"color\": \"#479B55\", \"symbol\": \"circle\"}, \"mode\": \"markers\", \"name\": \"id=iiitd\", \"showlegend\": true, \"type\": \"scatter\", \"x\": [\"2019-12-30T00:00:00\", \"2019-12-31T00:00:00\", \"2020-01-01T00:00:00\", \"2020-01-02T00:00:00\", \"2020-01-03T00:00:00\", \"2020-01-04T00:00:00\", \"2020-01-05T00:00:00\", \"2020-01-06T00:00:00\", \"2020-01-07T00:00:00\", \"2020-01-08T00:00:00\", \"2020-01-09T00:00:00\", \"2020-01-10T00:00:00\", \"2020-01-11T00:00:00\", \"2020-01-12T00:00:00\", \"2020-01-13T00:00:00\", \"2020-01-14T00:00:00\", \"2020-01-15T00:00:00\", \"2020-01-16T00:00:00\", \"2020-01-20T00:00:00\", \"2020-01-21T00:00:00\", \"2020-01-22T00:00:00\", \"2020-01-23T00:00:00\", \"2020-01-24T00:00:00\", \"2020-01-25T00:00:00\", \"2020-01-26T00:00:00\", \"2020-01-27T00:00:00\"], \"xaxis\": \"x\", \"y\": [272.5799865723, 359.04998779300007, 527.5599975586, 404.92999267579995, 572.8699951172001, 469.3500061035, 520.1300048827999, 161.47999572749998, 213.6100006104, 204.2400054932, 445.0, 525.799987793, 533.3900146484001, 498.7200012207, 219.33999633789998, 349.07000732420005, 382.05999755860006, 145.6999969482, 271.5100097656, 402.3500061035, 455.2699890137, 609.0999755859001, 592.4600219727, 527.8300170898, 510.85998535159996, 238.64999389650004], \"yaxis\": \"y\"}, {\"hoverlabel\": {\"namelength\": 0}, \"hovertemplate\": \"id=iticvraman<br>date=%{x}<br>energy-max=%{y}\", \"legendgroup\": \"id=iticvraman\", \"marker\": {\"color\": \"#EEA6FB\", \"symbol\": \"circle\"}, \"mode\": \"markers\", \"name\": \"id=iticvraman\", \"showlegend\": true, \"type\": \"scatter\", \"x\": [\"2019-12-30T00:00:00\", \"2019-12-31T00:00:00\", \"2020-01-01T00:00:00\", \"2020-01-02T00:00:00\", \"2020-01-03T00:00:00\", \"2020-01-04T00:00:00\", \"2020-01-05T00:00:00\", \"2020-01-06T00:00:00\", \"2020-01-07T00:00:00\", \"2020-01-08T00:00:00\", \"2020-01-09T00:00:00\", \"2020-01-10T00:00:00\", \"2020-01-11T00:00:00\", \"2020-01-12T00:00:00\", \"2020-01-13T00:00:00\", \"2020-01-14T00:00:00\", \"2020-01-15T00:00:00\", \"2020-01-16T00:00:00\", \"2020-01-20T00:00:00\", \"2020-01-21T00:00:00\", \"2020-01-22T00:00:00\", \"2020-01-23T00:00:00\", \"2020-01-24T00:00:00\", \"2020-01-25T00:00:00\", \"2020-01-26T00:00:00\"], \"xaxis\": \"x\", \"y\": [148.4100036621, 197.25, 221.6799926758, 229.2400054932, 262.8099975586, 192.8699951172, 208.1600036621, 74.8899993896, 129.4900054932, 92.3899993896, 247.7700042725, 350.3500061035, 351.4299926758, 342.0599975586, 153.9900054932, 210.3000030518, 312.0899963379, 90.4899978638, 179.9700012207, 211.0, 252.8399963379, 420.9700012207, 364.8800048828, 352.7699890137, 322.8800048828], \"yaxis\": \"y\"}, {\"hoverlabel\": {\"namelength\": 0}, \"hovertemplate\": \"id=itijaffarpur<br>date=%{x}<br>energy-max=%{y}\", \"legendgroup\": \"id=itijaffarpur\", \"marker\": {\"color\": \"#DC587D\", \"symbol\": \"circle\"}, \"mode\": \"markers\", \"name\": \"id=itijaffarpur\", \"showlegend\": true, \"type\": \"scatter\", \"x\": [\"2019-12-30T00:00:00\", \"2019-12-31T00:00:00\", \"2020-01-01T00:00:00\", \"2020-01-02T00:00:00\", \"2020-01-03T00:00:00\", \"2020-01-04T00:00:00\", \"2020-01-05T00:00:00\", \"2020-01-06T00:00:00\", \"2020-01-07T00:00:00\", \"2020-01-08T00:00:00\", \"2020-01-09T00:00:00\", \"2020-01-10T00:00:00\", \"2020-01-11T00:00:00\", \"2020-01-12T00:00:00\", \"2020-01-13T00:00:00\", \"2020-01-14T00:00:00\", \"2020-01-15T00:00:00\", \"2020-01-16T00:00:00\", \"2020-01-20T00:00:00\", \"2020-01-21T00:00:00\", \"2020-01-22T00:00:00\", \"2020-01-23T00:00:00\", \"2020-01-24T00:00:00\", \"2020-01-25T00:00:00\", \"2020-01-26T00:00:00\", \"2020-01-27T00:00:00\"], \"xaxis\": \"x\", \"y\": [144.4700012207, 197.8000030518, 232.5, 212.3300018311, 247.9700012207, 244.3699951172, 230.8099975586, 98.7699966431, 104.3300018311, 55.9500007629, 168.3800048828, 275.3099975586, 351.1900024414, 345.1499938965, 127.3300018311, 190.2299957275, 255.8500061035, 68.5100021362, 139.25, 250.1000061035, 229.0, 401.8699951172, 402.4400024414, 381.1600036621, 360.2900085449, 153.8800048828], \"yaxis\": \"y\"}, {\"hoverlabel\": {\"namelength\": 0}, \"hovertemplate\": \"id=itijailroad<br>date=%{x}<br>energy-max=%{y}\", \"legendgroup\": \"id=itijailroad\", \"marker\": {\"color\": \"#D626FF\", \"symbol\": \"circle\"}, \"mode\": \"markers\", \"name\": \"id=itijailroad\", \"showlegend\": true, \"type\": \"scatter\", \"x\": [\"2019-12-30T00:00:00\", \"2019-12-31T00:00:00\", \"2020-01-01T00:00:00\", \"2020-01-02T00:00:00\", \"2020-01-03T00:00:00\", \"2020-01-04T00:00:00\", \"2020-01-05T00:00:00\", \"2020-01-06T00:00:00\", \"2020-01-07T00:00:00\", \"2020-01-08T00:00:00\", \"2020-01-09T00:00:00\", \"2020-01-10T00:00:00\", \"2020-01-11T00:00:00\", \"2020-01-12T00:00:00\", \"2020-01-13T00:00:00\", \"2020-01-14T00:00:00\", \"2020-01-15T00:00:00\", \"2020-01-16T00:00:00\", \"2020-01-21T00:00:00\", \"2020-01-23T00:00:00\", \"2020-01-24T00:00:00\", \"2020-01-25T00:00:00\", \"2020-01-26T00:00:00\", \"2020-01-27T00:00:00\"], \"xaxis\": \"x\", \"y\": [151.6600036621, 198.14999389649998, 225.60000610350002, 222.8200073242, 281.1900024414, 239.78999328609999, 247.5500030518, 93.4899978638, 102.5699996948, 79.3399963379, 231.33000183110002, 304.5100097656, 324.2300109863, 321.5700073242, 124.1100006104, 199.1199951172, 277.5700073242, 87.7300033569, 202.8200073242, 397.3599853516, 380.8900146484, 341.69000244140005, 333.3299865723, 139.6000061035], \"yaxis\": \"y\"}, {\"hoverlabel\": {\"namelength\": 0}, \"hovertemplate\": \"id=itimangolpuri<br>date=%{x}<br>energy-max=%{y}\", \"legendgroup\": \"id=itimangolpuri\", \"marker\": {\"color\": \"#6E899C\", \"symbol\": \"circle\"}, \"mode\": \"markers\", \"name\": \"id=itimangolpuri\", \"showlegend\": true, \"type\": \"scatter\", \"x\": [\"2019-12-30T00:00:00\", \"2019-12-31T00:00:00\", \"2020-01-01T00:00:00\", \"2020-01-02T00:00:00\", \"2020-01-03T00:00:00\", \"2020-01-04T00:00:00\", \"2020-01-05T00:00:00\", \"2020-01-06T00:00:00\", \"2020-01-07T00:00:00\", \"2020-01-08T00:00:00\", \"2020-01-09T00:00:00\", \"2020-01-10T00:00:00\", \"2020-01-11T00:00:00\", \"2020-01-12T00:00:00\", \"2020-01-13T00:00:00\", \"2020-01-14T00:00:00\", \"2020-01-15T00:00:00\", \"2020-01-16T00:00:00\", \"2020-01-20T00:00:00\", \"2020-01-22T00:00:00\"], \"xaxis\": \"x\", \"y\": [51.7599983215, 69.1399993896, 76.5199966431, 76.5800018311, 98.5699996948, 82.5500030518, 93.0800018311, 35.4099998474, 60.5499992371, 50.5600013733, 145.3999938965, 228.7599945068, 253.6199951172, 239.9199981689, 94.1900024414, 136.4900054932, 209.5599975586, 74.7799987793, 113.4300003052, 164.9799957275], \"yaxis\": \"y\"}, {\"hoverlabel\": {\"namelength\": 0}, \"hovertemplate\": \"id=kalindicillege<br>date=%{x}<br>energy-max=%{y}\", \"legendgroup\": \"id=kalindicillege\", \"marker\": {\"color\": \"#00B5F7\", \"symbol\": \"circle\"}, \"mode\": \"markers\", \"name\": \"id=kalindicillege\", \"showlegend\": true, \"type\": \"scatter\", \"x\": [\"2019-12-30T00:00:00\", \"2019-12-31T00:00:00\", \"2020-01-01T00:00:00\", \"2020-01-02T00:00:00\", \"2020-01-03T00:00:00\", \"2020-01-04T00:00:00\", \"2020-01-05T00:00:00\", \"2020-01-06T00:00:00\", \"2020-01-07T00:00:00\", \"2020-01-08T00:00:00\", \"2020-01-09T00:00:00\", \"2020-01-10T00:00:00\", \"2020-01-11T00:00:00\", \"2020-01-12T00:00:00\", \"2020-01-13T00:00:00\", \"2020-01-14T00:00:00\", \"2020-01-15T00:00:00\", \"2020-01-16T00:00:00\", \"2020-01-20T00:00:00\", \"2020-01-21T00:00:00\", \"2020-01-22T00:00:00\", \"2020-01-23T00:00:00\", \"2020-01-24T00:00:00\", \"2020-01-25T00:00:00\", \"2020-01-26T00:00:00\", \"2020-01-27T00:00:00\"], \"xaxis\": \"x\", \"y\": [116.5899963379, 152.8600006104, 171.3600006104, 168.0700073242, 194.7200012207, 145.3999938965, 159.6799926758, 59.7099990845, 74.7200012207, 61.6899986267, 167.6900024414, 231.6900024414, 226.9299926758, 224.3200073242, 92.5100021362, 153.9600067139, 195.8300018311, 64.3799972534, 116.1399993896, 155.0299987793, 184.3699951172, 273.7699890137, 266.9299926758, 233.4600067139, 225.75, 98.1399993896], \"yaxis\": \"y\"}, {\"hoverlabel\": {\"namelength\": 0}, \"hovertemplate\": \"id=kitpitampura<br>date=%{x}<br>energy-max=%{y}\", \"legendgroup\": \"id=kitpitampura\", \"marker\": {\"color\": \"#B68E00\", \"symbol\": \"circle\"}, \"mode\": \"markers\", \"name\": \"id=kitpitampura\", \"showlegend\": true, \"type\": \"scatter\", \"x\": [\"2019-12-30T00:00:00\", \"2019-12-31T00:00:00\", \"2020-01-01T00:00:00\", \"2020-01-02T00:00:00\", \"2020-01-03T00:00:00\", \"2020-01-04T00:00:00\", \"2020-01-05T00:00:00\", \"2020-01-06T00:00:00\", \"2020-01-07T00:00:00\", \"2020-01-08T00:00:00\", \"2020-01-09T00:00:00\", \"2020-01-10T00:00:00\", \"2020-01-11T00:00:00\", \"2020-01-12T00:00:00\", \"2020-01-13T00:00:00\", \"2020-01-14T00:00:00\", \"2020-01-15T00:00:00\", \"2020-01-16T00:00:00\", \"2020-01-20T00:00:00\", \"2020-01-21T00:00:00\", \"2020-01-22T00:00:00\", \"2020-01-23T00:00:00\", \"2020-01-24T00:00:00\", \"2020-01-25T00:00:00\", \"2020-01-26T00:00:00\", \"2020-01-27T00:00:00\"], \"xaxis\": \"x\", \"y\": [434.2200012207, 574.549987793, 612.5800170898, 641.7199707031, 703.1799926758, 516.0300292969, 560.2899780273, 214.27000427250002, 324.2799987793, 222.19000244139997, 614.4600219727, 919.0800170898, 935.3800048827999, 904.3699951172001, 375.45001220699993, 558.2700195312, 806.7100219727, 236.77000427250002, 491.6000061035, 518.0300292969, 762.5900268555, 1142.1400146484, 1149.5699462891, 1019.3200073242, 971.5100097655999, 401.80999755860006], \"yaxis\": \"y\"}, {\"hoverlabel\": {\"namelength\": 0}, \"hovertemplate\": \"id=maulanaazadmedicalcollege<br>date=%{x}<br>energy-max=%{y}\", \"legendgroup\": \"id=maulanaazadmedicalcollege\", \"marker\": {\"color\": \"#C9FBE5\", \"symbol\": \"circle\"}, \"mode\": \"markers\", \"name\": \"id=maulanaazadmedicalcollege\", \"showlegend\": true, \"type\": \"scatter\", \"x\": [\"2019-12-30T00:00:00\", \"2019-12-31T00:00:00\", \"2020-01-01T00:00:00\", \"2020-01-02T00:00:00\", \"2020-01-03T00:00:00\", \"2020-01-04T00:00:00\", \"2020-01-05T00:00:00\", \"2020-01-06T00:00:00\", \"2020-01-07T00:00:00\", \"2020-01-08T00:00:00\", \"2020-01-09T00:00:00\", \"2020-01-10T00:00:00\", \"2020-01-11T00:00:00\", \"2020-01-12T00:00:00\", \"2020-01-13T00:00:00\", \"2020-01-14T00:00:00\", \"2020-01-15T00:00:00\", \"2020-01-16T00:00:00\", \"2020-01-20T00:00:00\", \"2020-01-21T00:00:00\", \"2020-01-22T00:00:00\", \"2020-01-23T00:00:00\", \"2020-01-24T00:00:00\", \"2020-01-25T00:00:00\", \"2020-01-26T00:00:00\", \"2020-01-27T00:00:00\"], \"xaxis\": \"x\", \"y\": [288.0799865723, 378.0400085449, 415.1199951172, 394.700012207, 455.4100036621, 341.2699890137, 391.3900146484, 152.25, 186.6100006104, 167.3800048828, 465.799987793, 593.2800292969, 586.4400024414, 559.9199829102, 254.1699981689, 428.6499938965, 500.6900024414, 182.0299987793, 244.8200073242, 452.3800048828, 527.5999755859, 658.2399902344, 681.549987793, 600.1699829102, 592.2800292969, 269.3699951172], \"yaxis\": \"y\"}, {\"hoverlabel\": {\"namelength\": 0}, \"hovertemplate\": \"id=nsit<br>date=%{x}<br>energy-max=%{y}\", \"legendgroup\": \"id=nsit\", \"marker\": {\"color\": \"#FF0092\", \"symbol\": \"circle\"}, \"mode\": \"markers\", \"name\": \"id=nsit\", \"showlegend\": true, \"type\": \"scatter\", \"x\": [\"2019-12-30T00:00:00\", \"2019-12-31T00:00:00\", \"2020-01-01T00:00:00\", \"2020-01-02T00:00:00\", \"2020-01-03T00:00:00\", \"2020-01-04T00:00:00\", \"2020-01-05T00:00:00\", \"2020-01-06T00:00:00\", \"2020-01-07T00:00:00\", \"2020-01-08T00:00:00\", \"2020-01-09T00:00:00\", \"2020-01-10T00:00:00\", \"2020-01-11T00:00:00\", \"2020-01-12T00:00:00\", \"2020-01-13T00:00:00\", \"2020-01-14T00:00:00\", \"2020-01-15T00:00:00\", \"2020-01-16T00:00:00\", \"2020-01-20T00:00:00\", \"2020-01-21T00:00:00\", \"2020-01-22T00:00:00\", \"2020-01-23T00:00:00\", \"2020-01-24T00:00:00\", \"2020-01-25T00:00:00\", \"2020-01-26T00:00:00\", \"2020-01-27T00:00:00\"], \"xaxis\": \"x\", \"y\": [586.3800048827999, 769.6599731445001, 873.9600219727, 810.6799926758001, 954.6099853515999, 812.2399902344, 804.4299926758001, 315.6600036621, 360.80999755860006, 284.0799865723, 752.0100097656, 1145.1500244141, 1312.4300537109, 1287.8299560547, 462.79998779300007, 701.7999877929999, 1089.8800048828, 368.4800109863, 569.1900024414, 828.8099975586, 869.5499877929999, 1502.0, 1500.5300292969002, 1331.9599609375, 1320.9200439453, 544.9699707031], \"yaxis\": \"y\"}, {\"hoverlabel\": {\"namelength\": 0}, \"hovertemplate\": \"id=pitacademicblock100kw<br>date=%{x}<br>energy-max=%{y}\", \"legendgroup\": \"id=pitacademicblock100kw\", \"marker\": {\"color\": \"#22FFA7\", \"symbol\": \"circle\"}, \"mode\": \"markers\", \"name\": \"id=pitacademicblock100kw\", \"showlegend\": true, \"type\": \"scatter\", \"x\": [\"2019-12-30T00:00:00\", \"2019-12-31T00:00:00\", \"2020-01-01T00:00:00\", \"2020-01-02T00:00:00\", \"2020-01-03T00:00:00\", \"2020-01-04T00:00:00\", \"2020-01-05T00:00:00\", \"2020-01-06T00:00:00\", \"2020-01-07T00:00:00\", \"2020-01-08T00:00:00\", \"2020-01-09T00:00:00\", \"2020-01-10T00:00:00\", \"2020-01-11T00:00:00\", \"2020-01-12T00:00:00\", \"2020-01-13T00:00:00\", \"2020-01-14T00:00:00\", \"2020-01-15T00:00:00\", \"2020-01-16T00:00:00\", \"2020-01-20T00:00:00\", \"2020-01-21T00:00:00\", \"2020-01-22T00:00:00\", \"2020-01-23T00:00:00\", \"2020-01-24T00:00:00\", \"2020-01-26T00:00:00\", \"2020-01-27T00:00:00\"], \"xaxis\": \"x\", \"y\": [297.1300048828, 384.0100097656, 444.2200012207, 419.69000244140005, 475.82000732419993, 368.4200134277, 411.1000061035, 149.0399932861, 180.91999816889998, 181.41999816889998, 401.1300048828, 570.950012207, 562.2299804688, 564.8599853516, 224.91000366209997, 378.5199890137, 486.5400085449, 130.5899963379, 273.25, 357.0199890137, 443.3599853516, 679.9899902344, 650.7600097656, 564.9000244141, 226.3200073242], \"yaxis\": \"y\"}, {\"hoverlabel\": {\"namelength\": 0}, \"hovertemplate\": \"id=satyawaticollege<br>date=%{x}<br>energy-max=%{y}\", \"legendgroup\": \"id=satyawaticollege\", \"marker\": {\"color\": \"#E3EE9E\", \"symbol\": \"circle\"}, \"mode\": \"markers\", \"name\": \"id=satyawaticollege\", \"showlegend\": true, \"type\": \"scatter\", \"x\": [\"2019-12-30T00:00:00\", \"2019-12-31T00:00:00\", \"2020-01-01T00:00:00\", \"2020-01-02T00:00:00\", \"2020-01-03T00:00:00\", \"2020-01-04T00:00:00\", \"2020-01-05T00:00:00\", \"2020-01-06T00:00:00\", \"2020-01-07T00:00:00\", \"2020-01-08T00:00:00\", \"2020-01-09T00:00:00\", \"2020-01-10T00:00:00\", \"2020-01-11T00:00:00\", \"2020-01-12T00:00:00\", \"2020-01-13T00:00:00\", \"2020-01-14T00:00:00\", \"2020-01-15T00:00:00\", \"2020-01-16T00:00:00\", \"2020-01-20T00:00:00\", \"2020-01-21T00:00:00\", \"2020-01-22T00:00:00\", \"2020-01-23T00:00:00\", \"2020-01-24T00:00:00\", \"2020-01-25T00:00:00\", \"2020-01-26T00:00:00\", \"2020-01-27T00:00:00\"], \"xaxis\": \"x\", \"y\": [87.5899963379, 116.1800003052, 124.5299987793, 126.9599990845, 146.3999938965, 107.0, 114.8600006104, 41.0400009155, 68.9000015259, 60.5600013733, 150.3300018311, 205.83000183110002, 205.0700073242, 193.97999572750004, 77.9899978638, 125.1200027466, 165.7400054932, 46.9799995422, 99.8499984741, 118.0800018311, 170.85000610350002, 231.02999877929997, 229.8000030518, 197.6900024414, 187.7599945068, 75.9400024414], \"yaxis\": \"y\"}, {\"hoverlabel\": {\"namelength\": 0}, \"hovertemplate\": \"id=sscbs<br>date=%{x}<br>energy-max=%{y}\", \"legendgroup\": \"id=sscbs\", \"marker\": {\"color\": \"#86CE00\", \"symbol\": \"circle\"}, \"mode\": \"markers\", \"name\": \"id=sscbs\", \"showlegend\": true, \"type\": \"scatter\", \"x\": [\"2019-12-31T00:00:00\", \"2020-01-01T00:00:00\", \"2020-01-02T00:00:00\", \"2020-01-03T00:00:00\", \"2020-01-04T00:00:00\", \"2020-01-09T00:00:00\", \"2020-01-10T00:00:00\", \"2020-01-11T00:00:00\", \"2020-01-12T00:00:00\", \"2020-01-13T00:00:00\", \"2020-01-14T00:00:00\", \"2020-01-15T00:00:00\", \"2020-01-16T00:00:00\", \"2020-01-20T00:00:00\"], \"xaxis\": \"x\", \"y\": [138.0099945068, 154.3699951172, 167.0, 179.3300018311, 128.6399993896, 124.7799987793, 214.5200042725, 197.3600006104, 52.6599998474, 86.5899963379, 117.4499969482, 204.2299957275, 67.7300033569, 116.9100036621], \"yaxis\": \"y\"}, {\"hoverlabel\": {\"namelength\": 0}, \"hovertemplate\": \"id=meerabaiinstituteoftechnology<br>date=%{x}<br>energy-max=%{y}\", \"legendgroup\": \"id=meerabaiinstituteoftechnology\", \"marker\": {\"color\": \"#BC7196\", \"symbol\": \"circle\"}, \"mode\": \"markers\", \"name\": \"id=meerabaiinstituteoftechnology\", \"showlegend\": true, \"type\": \"scatter\", \"x\": [\"2020-01-02T00:00:00\", \"2020-01-03T00:00:00\", \"2020-01-04T00:00:00\", \"2020-01-05T00:00:00\", \"2020-01-06T00:00:00\", \"2020-01-07T00:00:00\", \"2020-01-09T00:00:00\", \"2020-01-10T00:00:00\", \"2020-01-11T00:00:00\", \"2020-01-12T00:00:00\", \"2020-01-13T00:00:00\", \"2020-01-14T00:00:00\", \"2020-01-15T00:00:00\", \"2020-01-16T00:00:00\"], \"xaxis\": \"x\", \"y\": [245.9199981689, 282.9299926758, 228.3600006104, 254.0200042725, 91.0299987793, 118.0400009155, 313.299987793, 381.8699951172, 383.6300048828, 380.2799987793, 172.2400054932, 268.6900024414, 317.7099914551, 117.9800033569], \"yaxis\": \"y\"}, {\"hoverlabel\": {\"namelength\": 0}, \"hovertemplate\": \"id=43707<br>date=%{x}<br>energy-max=%{y}\", \"legendgroup\": \"id=43707\", \"marker\": {\"color\": \"#7E7DCD\", \"symbol\": \"circle\"}, \"mode\": \"markers\", \"name\": \"id=43707\", \"showlegend\": true, \"type\": \"scatter\", \"x\": [\"2020-01-03T00:00:00\", \"2020-01-13T00:00:00\", \"2020-01-14T00:00:00\", \"2020-01-15T00:00:00\"], \"xaxis\": \"x\", \"y\": [12.3000001907, 7.0, 9.8999996185, 12.5], \"yaxis\": \"y\"}, {\"hoverlabel\": {\"namelength\": 0}, \"hovertemplate\": \"id=55448<br>date=%{x}<br>energy-max=%{y}\", \"legendgroup\": \"id=55448\", \"marker\": {\"color\": \"#FC6955\", \"symbol\": \"circle\"}, \"mode\": \"markers\", \"name\": \"id=55448\", \"showlegend\": true, \"type\": \"scatter\", \"x\": [\"2020-01-03T00:00:00\", \"2020-01-13T00:00:00\", \"2020-01-14T00:00:00\", \"2020-01-15T00:00:00\"], \"xaxis\": \"x\", \"y\": [33.7999992371, 45.9000015259, 65.0, 64.6999969482], \"yaxis\": \"y\"}, {\"hoverlabel\": {\"namelength\": 0}, \"hovertemplate\": \"id=58292<br>date=%{x}<br>energy-max=%{y}\", \"legendgroup\": \"id=58292\", \"marker\": {\"color\": \"#E48F72\", \"symbol\": \"circle\"}, \"mode\": \"markers\", \"name\": \"id=58292\", \"showlegend\": true, \"type\": \"scatter\", \"x\": [\"2020-01-03T00:00:00\", \"2020-01-13T00:00:00\", \"2020-01-14T00:00:00\", \"2020-01-15T00:00:00\"], \"xaxis\": \"x\", \"y\": [37.4000015259, 21.5, 32.0, 40.7999992371], \"yaxis\": \"y\"}, {\"hoverlabel\": {\"namelength\": 0}, \"hovertemplate\": \"id=58337<br>date=%{x}<br>energy-max=%{y}\", \"legendgroup\": \"id=58337\", \"marker\": {\"color\": \"#FD3216\", \"symbol\": \"circle\"}, \"mode\": \"markers\", \"name\": \"id=58337\", \"showlegend\": true, \"type\": \"scatter\", \"x\": [\"2020-01-03T00:00:00\", \"2020-01-13T00:00:00\", \"2020-01-14T00:00:00\", \"2020-01-15T00:00:00\"], \"xaxis\": \"x\", \"y\": [11.5, 7.4000000954, 10.6999998093, 12.8999996185], \"yaxis\": \"y\"}, {\"hoverlabel\": {\"namelength\": 0}, \"hovertemplate\": \"id=itipusa<br>date=%{x}<br>energy-max=%{y}\", \"legendgroup\": \"id=itipusa\", \"marker\": {\"color\": \"#00FE35\", \"symbol\": \"circle\"}, \"mode\": \"markers\", \"name\": \"id=itipusa\", \"showlegend\": true, \"type\": \"scatter\", \"x\": [\"2020-01-04T00:00:00\", \"2020-01-05T00:00:00\", \"2020-01-06T00:00:00\", \"2020-01-07T00:00:00\", \"2020-01-09T00:00:00\", \"2020-01-10T00:00:00\", \"2020-01-11T00:00:00\", \"2020-01-12T00:00:00\", \"2020-01-13T00:00:00\", \"2020-01-14T00:00:00\", \"2020-01-15T00:00:00\", \"2020-01-16T00:00:00\", \"2020-01-20T00:00:00\", \"2020-01-21T00:00:00\", \"2020-01-22T00:00:00\", \"2020-01-23T00:00:00\", \"2020-01-24T00:00:00\", \"2020-01-25T00:00:00\", \"2020-01-26T00:00:00\", \"2020-01-27T00:00:00\"], \"xaxis\": \"x\", \"y\": [133.3899993896, 199.1000061035, 90.6299972534, 96.8000030518, 143.1799926758, 277.8599853516, 282.9299926758, 265.7600097656, 121.7200012207, 214.6300048828, 235.5599975586, 94.3300018311, 157.2100067139, 203.7700042725, 240.6300048828, 320.4299926758, 312.1799926758, 287.5899963379, 280.3099975586, 137.1999969482], \"yaxis\": \"y\"}, {\"hoverlabel\": {\"namelength\": 0}, \"hovertemplate\": \"id=59093<br>date=%{x}<br>energy-max=%{y}\", \"legendgroup\": \"id=59093\", \"marker\": {\"color\": \"#6A76FC\", \"symbol\": \"circle\"}, \"mode\": \"markers\", \"name\": \"id=59093\", \"showlegend\": true, \"type\": \"scatter\", \"x\": [\"2020-01-14T00:00:00\"], \"xaxis\": \"x\", \"y\": [5.5], \"yaxis\": \"y\"}],\n",
       "                        {\"autosize\": false, \"height\": 680, \"legend\": {\"tracegroupgap\": 0}, \"margin\": {\"t\": 60}, \"template\": {\"data\": {\"bar\": [{\"error_x\": {\"color\": \"#2a3f5f\"}, \"error_y\": {\"color\": \"#2a3f5f\"}, \"marker\": {\"line\": {\"color\": \"#E5ECF6\", \"width\": 0.5}}, \"type\": \"bar\"}], \"barpolar\": [{\"marker\": {\"line\": {\"color\": \"#E5ECF6\", \"width\": 0.5}}, \"type\": \"barpolar\"}], \"carpet\": [{\"aaxis\": {\"endlinecolor\": \"#2a3f5f\", \"gridcolor\": \"white\", \"linecolor\": \"white\", \"minorgridcolor\": \"white\", \"startlinecolor\": \"#2a3f5f\"}, \"baxis\": {\"endlinecolor\": \"#2a3f5f\", \"gridcolor\": \"white\", \"linecolor\": \"white\", \"minorgridcolor\": \"white\", \"startlinecolor\": \"#2a3f5f\"}, \"type\": \"carpet\"}], \"choropleth\": [{\"colorbar\": {\"outlinewidth\": 0, \"ticks\": \"\"}, \"type\": \"choropleth\"}], \"contour\": [{\"colorbar\": {\"outlinewidth\": 0, \"ticks\": \"\"}, \"colorscale\": [[0.0, \"#0d0887\"], [0.1111111111111111, \"#46039f\"], [0.2222222222222222, \"#7201a8\"], [0.3333333333333333, \"#9c179e\"], [0.4444444444444444, \"#bd3786\"], [0.5555555555555556, \"#d8576b\"], [0.6666666666666666, \"#ed7953\"], [0.7777777777777778, \"#fb9f3a\"], [0.8888888888888888, \"#fdca26\"], [1.0, \"#f0f921\"]], \"type\": \"contour\"}], \"contourcarpet\": [{\"colorbar\": {\"outlinewidth\": 0, \"ticks\": \"\"}, \"type\": \"contourcarpet\"}], \"heatmap\": [{\"colorbar\": {\"outlinewidth\": 0, \"ticks\": \"\"}, \"colorscale\": [[0.0, \"#0d0887\"], [0.1111111111111111, \"#46039f\"], [0.2222222222222222, \"#7201a8\"], [0.3333333333333333, \"#9c179e\"], [0.4444444444444444, \"#bd3786\"], [0.5555555555555556, \"#d8576b\"], [0.6666666666666666, \"#ed7953\"], [0.7777777777777778, \"#fb9f3a\"], [0.8888888888888888, \"#fdca26\"], [1.0, \"#f0f921\"]], \"type\": \"heatmap\"}], \"heatmapgl\": [{\"colorbar\": {\"outlinewidth\": 0, \"ticks\": \"\"}, \"colorscale\": [[0.0, \"#0d0887\"], [0.1111111111111111, \"#46039f\"], [0.2222222222222222, \"#7201a8\"], [0.3333333333333333, \"#9c179e\"], [0.4444444444444444, \"#bd3786\"], [0.5555555555555556, \"#d8576b\"], [0.6666666666666666, \"#ed7953\"], [0.7777777777777778, \"#fb9f3a\"], [0.8888888888888888, \"#fdca26\"], [1.0, \"#f0f921\"]], \"type\": \"heatmapgl\"}], \"histogram\": [{\"marker\": {\"colorbar\": {\"outlinewidth\": 0, \"ticks\": \"\"}}, \"type\": \"histogram\"}], \"histogram2d\": [{\"colorbar\": {\"outlinewidth\": 0, \"ticks\": \"\"}, \"colorscale\": [[0.0, \"#0d0887\"], [0.1111111111111111, \"#46039f\"], [0.2222222222222222, \"#7201a8\"], [0.3333333333333333, \"#9c179e\"], [0.4444444444444444, \"#bd3786\"], [0.5555555555555556, \"#d8576b\"], [0.6666666666666666, \"#ed7953\"], [0.7777777777777778, \"#fb9f3a\"], [0.8888888888888888, \"#fdca26\"], [1.0, \"#f0f921\"]], \"type\": \"histogram2d\"}], \"histogram2dcontour\": [{\"colorbar\": {\"outlinewidth\": 0, \"ticks\": \"\"}, \"colorscale\": [[0.0, \"#0d0887\"], [0.1111111111111111, \"#46039f\"], [0.2222222222222222, \"#7201a8\"], [0.3333333333333333, \"#9c179e\"], [0.4444444444444444, \"#bd3786\"], [0.5555555555555556, \"#d8576b\"], [0.6666666666666666, \"#ed7953\"], [0.7777777777777778, \"#fb9f3a\"], [0.8888888888888888, \"#fdca26\"], [1.0, \"#f0f921\"]], \"type\": \"histogram2dcontour\"}], \"mesh3d\": [{\"colorbar\": {\"outlinewidth\": 0, \"ticks\": \"\"}, \"type\": \"mesh3d\"}], \"parcoords\": [{\"line\": {\"colorbar\": {\"outlinewidth\": 0, \"ticks\": \"\"}}, \"type\": \"parcoords\"}], \"pie\": [{\"automargin\": true, \"type\": \"pie\"}], \"scatter\": [{\"marker\": {\"colorbar\": {\"outlinewidth\": 0, \"ticks\": \"\"}}, \"type\": \"scatter\"}], \"scatter3d\": [{\"line\": {\"colorbar\": {\"outlinewidth\": 0, \"ticks\": \"\"}}, \"marker\": {\"colorbar\": {\"outlinewidth\": 0, \"ticks\": \"\"}}, \"type\": \"scatter3d\"}], \"scattercarpet\": [{\"marker\": {\"colorbar\": {\"outlinewidth\": 0, \"ticks\": \"\"}}, \"type\": \"scattercarpet\"}], \"scattergeo\": [{\"marker\": {\"colorbar\": {\"outlinewidth\": 0, \"ticks\": \"\"}}, \"type\": \"scattergeo\"}], \"scattergl\": [{\"marker\": {\"colorbar\": {\"outlinewidth\": 0, \"ticks\": \"\"}}, \"type\": \"scattergl\"}], \"scattermapbox\": [{\"marker\": {\"colorbar\": {\"outlinewidth\": 0, \"ticks\": \"\"}}, \"type\": \"scattermapbox\"}], \"scatterpolar\": [{\"marker\": {\"colorbar\": {\"outlinewidth\": 0, \"ticks\": \"\"}}, \"type\": \"scatterpolar\"}], \"scatterpolargl\": [{\"marker\": {\"colorbar\": {\"outlinewidth\": 0, \"ticks\": \"\"}}, \"type\": \"scatterpolargl\"}], \"scatterternary\": [{\"marker\": {\"colorbar\": {\"outlinewidth\": 0, \"ticks\": \"\"}}, \"type\": \"scatterternary\"}], \"surface\": [{\"colorbar\": {\"outlinewidth\": 0, \"ticks\": \"\"}, \"colorscale\": [[0.0, \"#0d0887\"], [0.1111111111111111, \"#46039f\"], [0.2222222222222222, \"#7201a8\"], [0.3333333333333333, \"#9c179e\"], [0.4444444444444444, \"#bd3786\"], [0.5555555555555556, \"#d8576b\"], [0.6666666666666666, \"#ed7953\"], [0.7777777777777778, \"#fb9f3a\"], [0.8888888888888888, \"#fdca26\"], [1.0, \"#f0f921\"]], \"type\": \"surface\"}], \"table\": [{\"cells\": {\"fill\": {\"color\": \"#EBF0F8\"}, \"line\": {\"color\": \"white\"}}, \"header\": {\"fill\": {\"color\": \"#C8D4E3\"}, \"line\": {\"color\": \"white\"}}, \"type\": \"table\"}]}, \"layout\": {\"annotationdefaults\": {\"arrowcolor\": \"#2a3f5f\", \"arrowhead\": 0, \"arrowwidth\": 1}, \"coloraxis\": {\"colorbar\": {\"outlinewidth\": 0, \"ticks\": \"\"}}, \"colorscale\": {\"diverging\": [[0, \"#8e0152\"], [0.1, \"#c51b7d\"], [0.2, \"#de77ae\"], [0.3, \"#f1b6da\"], [0.4, \"#fde0ef\"], [0.5, \"#f7f7f7\"], [0.6, \"#e6f5d0\"], [0.7, \"#b8e186\"], [0.8, \"#7fbc41\"], [0.9, \"#4d9221\"], [1, \"#276419\"]], \"sequential\": [[0.0, \"#0d0887\"], [0.1111111111111111, \"#46039f\"], [0.2222222222222222, \"#7201a8\"], [0.3333333333333333, \"#9c179e\"], [0.4444444444444444, \"#bd3786\"], [0.5555555555555556, \"#d8576b\"], [0.6666666666666666, \"#ed7953\"], [0.7777777777777778, \"#fb9f3a\"], [0.8888888888888888, \"#fdca26\"], [1.0, \"#f0f921\"]], \"sequentialminus\": [[0.0, \"#0d0887\"], [0.1111111111111111, \"#46039f\"], [0.2222222222222222, \"#7201a8\"], [0.3333333333333333, \"#9c179e\"], [0.4444444444444444, \"#bd3786\"], [0.5555555555555556, \"#d8576b\"], [0.6666666666666666, \"#ed7953\"], [0.7777777777777778, \"#fb9f3a\"], [0.8888888888888888, \"#fdca26\"], [1.0, \"#f0f921\"]]}, \"colorway\": [\"#636efa\", \"#EF553B\", \"#00cc96\", \"#ab63fa\", \"#FFA15A\", \"#19d3f3\", \"#FF6692\", \"#B6E880\", \"#FF97FF\", \"#FECB52\"], \"font\": {\"color\": \"#2a3f5f\"}, \"geo\": {\"bgcolor\": \"white\", \"lakecolor\": \"white\", \"landcolor\": \"#E5ECF6\", \"showlakes\": true, \"showland\": true, \"subunitcolor\": \"white\"}, \"hoverlabel\": {\"align\": \"left\"}, \"hovermode\": \"closest\", \"mapbox\": {\"style\": \"light\"}, \"paper_bgcolor\": \"white\", \"plot_bgcolor\": \"#E5ECF6\", \"polar\": {\"angularaxis\": {\"gridcolor\": \"white\", \"linecolor\": \"white\", \"ticks\": \"\"}, \"bgcolor\": \"#E5ECF6\", \"radialaxis\": {\"gridcolor\": \"white\", \"linecolor\": \"white\", \"ticks\": \"\"}}, \"scene\": {\"xaxis\": {\"backgroundcolor\": \"#E5ECF6\", \"gridcolor\": \"white\", \"gridwidth\": 2, \"linecolor\": \"white\", \"showbackground\": true, \"ticks\": \"\", \"zerolinecolor\": \"white\"}, \"yaxis\": {\"backgroundcolor\": \"#E5ECF6\", \"gridcolor\": \"white\", \"gridwidth\": 2, \"linecolor\": \"white\", \"showbackground\": true, \"ticks\": \"\", \"zerolinecolor\": \"white\"}, \"zaxis\": {\"backgroundcolor\": \"#E5ECF6\", \"gridcolor\": \"white\", \"gridwidth\": 2, \"linecolor\": \"white\", \"showbackground\": true, \"ticks\": \"\", \"zerolinecolor\": \"white\"}}, \"shapedefaults\": {\"line\": {\"color\": \"#2a3f5f\"}}, \"ternary\": {\"aaxis\": {\"gridcolor\": \"white\", \"linecolor\": \"white\", \"ticks\": \"\"}, \"baxis\": {\"gridcolor\": \"white\", \"linecolor\": \"white\", \"ticks\": \"\"}, \"bgcolor\": \"#E5ECF6\", \"caxis\": {\"gridcolor\": \"white\", \"linecolor\": \"white\", \"ticks\": \"\"}}, \"title\": {\"x\": 0.05}, \"xaxis\": {\"automargin\": true, \"gridcolor\": \"white\", \"linecolor\": \"white\", \"ticks\": \"\", \"title\": {\"standoff\": 15}, \"zerolinecolor\": \"white\", \"zerolinewidth\": 2}, \"yaxis\": {\"automargin\": true, \"gridcolor\": \"white\", \"linecolor\": \"white\", \"ticks\": \"\", \"title\": {\"standoff\": 15}, \"zerolinecolor\": \"white\", \"zerolinewidth\": 2}}}, \"title\": {\"text\": \"Maximum kWh value per energy aspect\"}, \"width\": 1100, \"xaxis\": {\"dtick\": [1, 2], \"title\": {\"font\": {\"size\": 15}, \"text\": \"Date\"}}, \"yaxis\": {\"dtick\": 100, \"title\": {\"font\": {\"size\": 15}, \"text\": \"Energy (kWh)\"}}},\n",
       "                        {\"responsive\": true}\n",
       "                    ).then(function(){\n",
       "                            \n",
       "var gd = document.getElementById('0b253f60-7dfe-48a0-96e6-d321de368221');\n",
       "var x = new MutationObserver(function (mutations, observer) {{\n",
       "        var display = window.getComputedStyle(gd).display;\n",
       "        if (!display || display === 'none') {{\n",
       "            console.log([gd, 'removed!']);\n",
       "            Plotly.purge(gd);\n",
       "            observer.disconnect();\n",
       "        }}\n",
       "}});\n",
       "\n",
       "// Listen for the removal of the full notebook cells\n",
       "var notebookContainer = gd.closest('#notebook-container');\n",
       "if (notebookContainer) {{\n",
       "    x.observe(notebookContainer, {childList: true});\n",
       "}}\n",
       "\n",
       "// Listen for the clearing of the current output cell\n",
       "var outputEl = gd.closest('.output');\n",
       "if (outputEl) {{\n",
       "    x.observe(outputEl, {childList: true});\n",
       "}}\n",
       "\n",
       "                        })\n",
       "                };\n",
       "                });\n",
       "            </script>\n",
       "        </div>"
      ]
     },
     "metadata": {},
     "output_type": "display_data"
    }
   ],
   "source": [
    "fig_maximum = px.scatter(daily_df_agg, x='date', y='energy-max', color='id', render_mode='svg', color_discrete_sequence= px.colors.qualitative.Light24)\n",
    "fig_maximum.update_layout(title='Maximum kWh value per energy aspect')\n",
    "fig_maximum.update_layout(autosize=False,width=1100, height= 680, \n",
    "                    title='Maximum kWh value per energy aspect',\n",
    "                    yaxis=go.layout.YAxis(\n",
    "                        title_text=\"Energy (kWh)\",\n",
    "                        dtick = 100,\n",
    "                        titlefont=dict(size=15)),\n",
    "                    xaxis = go.layout.XAxis(dtick = [1,2],\n",
    "                                            title_text=\"Date\",\n",
    "                                            titlefont=dict(size=15)),\n",
    "                        )\n",
    "\n",
    "fig_maximum.show()"
   ]
  },
  {
   "cell_type": "markdown",
   "metadata": {},
   "source": [
    "### Capacity Utilisation Factor (CUF) \n",
    "\n",
    "The performance of a PV power plant is often denominated by a metric called the capacity utilisation factor. It is the ratio of the actual output from a solar plant over the year to the maximum possible output from it for a year under ideal conditions. Capacity utilisation factor is usually expressed in percentage. Capacity Utilisation Factor (CUF) =Energy measured (kWh) / (365 x 24 x Installed capacity of the plant)\n",
    "\n",
    "Studies from Ministry of Non renewable energy (MNRE) India reports that, the average capacity utilisation factor of solar PV plants in India is in the range of 15-19%. \n",
    "\n",
    "http://www.solarmango.com/ask/2015/10/20/what-is-cuf-and-how-is-it-relevant-to-solar-farms/"
   ]
  },
  {
   "cell_type": "code",
   "execution_count": 62,
   "metadata": {},
   "outputs": [
    {
     "data": {
      "application/vnd.plotly.v1+json": {
       "config": {
        "plotlyServerURL": "https://plot.ly"
       },
       "data": [
        {
         "hoverlabel": {
          "namelength": 0
         },
         "hovertemplate": "id=ait82kw<br>date=%{x}<br>cuf=%{y}",
         "legendgroup": "id=ait82kw",
         "marker": {
          "color": "#AA0DFE",
          "symbol": "circle"
         },
         "mode": "markers",
         "name": "id=ait82kw",
         "showlegend": true,
         "type": "scatter",
         "x": [
          "2019-12-30T00:00:00",
          "2019-12-31T00:00:00",
          "2020-01-01T00:00:00",
          "2020-01-02T00:00:00",
          "2020-01-03T00:00:00",
          "2020-01-04T00:00:00",
          "2020-01-05T00:00:00",
          "2020-01-06T00:00:00",
          "2020-01-07T00:00:00",
          "2020-01-08T00:00:00",
          "2020-01-09T00:00:00",
          "2020-01-10T00:00:00",
          "2020-01-11T00:00:00",
          "2020-01-12T00:00:00",
          "2020-01-13T00:00:00",
          "2020-01-14T00:00:00",
          "2020-01-15T00:00:00",
          "2020-01-16T00:00:00",
          "2020-01-20T00:00:00",
          "2020-01-21T00:00:00",
          "2020-01-22T00:00:00",
          "2020-01-23T00:00:00",
          "2020-01-24T00:00:00",
          "2020-01-25T00:00:00",
          "2020-01-26T00:00:00",
          "2020-01-27T00:00:00"
         ],
         "xaxis": "x",
         "y": [
          11.013194190131944,
          14.449306064180556,
          15.771527820166668,
          16.268055174083333,
          18.518055809868056,
          13.163194656375,
          14.438194698756945,
          4.824305640326389,
          7.628472116256944,
          6.409722434152779,
          15.790972179833334,
          22.910416920979166,
          23.512499067520835,
          22.543055216472222,
          8.768055703902778,
          13.979860941569445,
          19.5416662428125,
          5.182638698152778,
          10.847917132909721,
          13.070833418104167,
          18.448611365423613,
          26.469444698756945,
          26.410416497125,
          22.554166581895835,
          21.25,
          8.190277947319444
         ],
         "yaxis": "y"
        },
        {
         "hoverlabel": {
          "namelength": 0
         },
         "hovertemplate": "id=aurobindo<br>date=%{x}<br>cuf=%{y}",
         "legendgroup": "id=aurobindo",
         "marker": {
          "color": "#3283FE",
          "symbol": "circle"
         },
         "mode": "markers",
         "name": "id=aurobindo",
         "showlegend": true,
         "type": "scatter",
         "x": [
          "2019-12-30T00:00:00",
          "2019-12-31T00:00:00",
          "2020-01-01T00:00:00",
          "2020-01-02T00:00:00",
          "2020-01-03T00:00:00",
          "2020-01-04T00:00:00",
          "2020-01-05T00:00:00",
          "2020-01-06T00:00:00",
          "2020-01-07T00:00:00",
          "2020-01-08T00:00:00",
          "2020-01-09T00:00:00",
          "2020-01-10T00:00:00",
          "2020-01-11T00:00:00",
          "2020-01-12T00:00:00",
          "2020-01-13T00:00:00",
          "2020-01-14T00:00:00",
          "2020-01-15T00:00:00",
          "2020-01-16T00:00:00",
          "2020-01-20T00:00:00",
          "2020-01-21T00:00:00",
          "2020-01-22T00:00:00",
          "2020-01-23T00:00:00",
          "2020-01-24T00:00:00",
          "2020-01-25T00:00:00",
          "2020-01-26T00:00:00",
          "2020-01-27T00:00:00"
         ],
         "xaxis": "x",
         "y": [
          7.8397567728363775,
          10.358350030307642,
          11.129986683688305,
          10.623731993593646,
          12.550709939148074,
          11.265212414308658,
          11.990364698884385,
          4.612914285927992,
          4.916328445647398,
          6.775692881076742,
          13.215010193576743,
          15.073529927611565,
          15.273833774568967,
          14.472617097126438,
          6.247464348284314,
          11.083502314874918,
          11.643001564131172,
          3.8962135289131172,
          8.024847612254902,
          11.416497788294457,
          12.914131427636919,
          18.51335387523665,
          18.111900190314405,
          16.642157172253214,
          16.093644199535163,
          8.032454438429685
         ],
         "yaxis": "y"
        },
        {
         "hoverlabel": {
          "namelength": 0
         },
         "hovertemplate": "id=btcpusa110kw<br>date=%{x}<br>cuf=%{y}",
         "legendgroup": "id=btcpusa110kw",
         "marker": {
          "color": "#85660D",
          "symbol": "circle"
         },
         "mode": "markers",
         "name": "id=btcpusa110kw",
         "showlegend": true,
         "type": "scatter",
         "x": [
          "2019-12-30T00:00:00",
          "2019-12-31T00:00:00",
          "2020-01-01T00:00:00",
          "2020-01-02T00:00:00",
          "2020-01-03T00:00:00",
          "2020-01-04T00:00:00",
          "2020-01-05T00:00:00",
          "2020-01-06T00:00:00",
          "2020-01-07T00:00:00",
          "2020-01-08T00:00:00",
          "2020-01-09T00:00:00",
          "2020-01-10T00:00:00",
          "2020-01-11T00:00:00",
          "2020-01-12T00:00:00",
          "2020-01-13T00:00:00",
          "2020-01-14T00:00:00",
          "2020-01-15T00:00:00",
          "2020-01-16T00:00:00",
          "2020-01-20T00:00:00",
          "2020-01-21T00:00:00",
          "2020-01-22T00:00:00",
          "2020-01-23T00:00:00",
          "2020-01-24T00:00:00",
          "2020-01-25T00:00:00",
          "2020-01-26T00:00:00",
          "2020-01-27T00:00:00"
         ],
         "xaxis": "x",
         "y": [
          8.693181818181818,
          11.372348900996212,
          13.13409053918182,
          12.37689393939394,
          14.354167129053033,
          10.890908674761365,
          11.865151145242425,
          4.264394008753788,
          5.265909252746212,
          3.987499872844697,
          12.54886396003409,
          17.312121535791665,
          17.253408721,
          16.943560513583332,
          6.364394101231061,
          11.414014642890152,
          14.5242425167197,
          4.685227365204545,
          7.994318297416666,
          10.537500092477273,
          13.582954406738637,
          20.676893754439394,
          19.87727309718182,
          17.854166897859848,
          17.073863636363637,
          6.743181980018938
         ],
         "yaxis": "y"
        },
        {
         "hoverlabel": {
          "namelength": 0
         },
         "hovertemplate": "id=deendayalupadhyaycollege<br>date=%{x}<br>cuf=%{y}",
         "legendgroup": "id=deendayalupadhyaycollege",
         "marker": {
          "color": "#782AB6",
          "symbol": "circle"
         },
         "mode": "markers",
         "name": "id=deendayalupadhyaycollege",
         "showlegend": true,
         "type": "scatter",
         "x": [
          "2019-12-30T00:00:00",
          "2019-12-31T00:00:00",
          "2020-01-01T00:00:00",
          "2020-01-02T00:00:00",
          "2020-01-03T00:00:00",
          "2020-01-04T00:00:00",
          "2020-01-05T00:00:00",
          "2020-01-06T00:00:00",
          "2020-01-07T00:00:00",
          "2020-01-08T00:00:00",
          "2020-01-09T00:00:00",
          "2020-01-10T00:00:00",
          "2020-01-11T00:00:00",
          "2020-01-12T00:00:00",
          "2020-01-13T00:00:00",
          "2020-01-14T00:00:00",
          "2020-01-15T00:00:00",
          "2020-01-16T00:00:00",
          "2020-01-20T00:00:00",
          "2020-01-21T00:00:00",
          "2020-01-22T00:00:00",
          "2020-01-23T00:00:00",
          "2020-01-24T00:00:00",
          "2020-01-25T00:00:00",
          "2020-01-26T00:00:00",
          "2020-01-27T00:00:00"
         ],
         "xaxis": "x",
         "y": [
          7.24922832778329,
          9.528769807630622,
          10.796130649627978,
          10.017361380224868,
          11.986331334190368,
          12.287257630147707,
          12.031525741388338,
          4.959766196194336,
          4.95287686638834,
          3.358134937455908,
          10.183531981506283,
          14.821703471833663,
          17.293045339971894,
          16.894290056178352,
          6.119929503722995,
          9.390156525573193,
          14.512235315178573,
          4.987599357727072,
          7.719907811078043,
          10.869984904293432,
          11.15795838559579,
          19.407242063492063,
          19.31878246327436,
          17.271273981327163,
          16.86811026652337,
          6.965387855676809
         ],
         "yaxis": "y"
        },
        {
         "hoverlabel": {
          "namelength": 0
         },
         "hovertemplate": "id=delhihaat<br>date=%{x}<br>cuf=%{y}",
         "legendgroup": "id=delhihaat",
         "marker": {
          "color": "#565656",
          "symbol": "circle"
         },
         "mode": "markers",
         "name": "id=delhihaat",
         "showlegend": true,
         "type": "scatter",
         "x": [
          "2019-12-30T00:00:00",
          "2019-12-31T00:00:00",
          "2020-01-01T00:00:00",
          "2020-01-02T00:00:00",
          "2020-01-03T00:00:00",
          "2020-01-04T00:00:00",
          "2020-01-05T00:00:00",
          "2020-01-11T00:00:00",
          "2020-01-12T00:00:00",
          "2020-01-13T00:00:00",
          "2020-01-14T00:00:00",
          "2020-01-15T00:00:00",
          "2020-01-16T00:00:00",
          "2020-01-20T00:00:00",
          "2020-01-21T00:00:00",
          "2020-01-22T00:00:00",
          "2020-01-23T00:00:00",
          "2020-01-24T00:00:00",
          "2020-01-25T00:00:00",
          "2020-01-26T00:00:00",
          "2020-01-27T00:00:00"
         ],
         "xaxis": "x",
         "y": [
          5.848333358766666,
          7.650000254316668,
          8.711666742958334,
          8.465833028158332,
          11.600833892825,
          9.635000228883332,
          9.945833206175001,
          7.237499872841667,
          12.853333791099999,
          4.896666526791667,
          7.780000050866666,
          11.098332722983335,
          3.7966667811083328,
          5.965833028158333,
          8.295000076291666,
          9.834999720258333,
          15.818333943683333,
          14.360833485924998,
          13.475833892824998,
          13.123332977291668,
          5.605833053591667
         ],
         "yaxis": "y"
        },
        {
         "hoverlabel": {
          "namelength": 0
         },
         "hovertemplate": "id=dtu<br>date=%{x}<br>cuf=%{y}",
         "legendgroup": "id=dtu",
         "marker": {
          "color": "#1C8356",
          "symbol": "circle"
         },
         "mode": "markers",
         "name": "id=dtu",
         "showlegend": true,
         "type": "scatter",
         "x": [
          "2019-12-30T00:00:00",
          "2019-12-31T00:00:00",
          "2020-01-01T00:00:00",
          "2020-01-02T00:00:00",
          "2020-01-03T00:00:00",
          "2020-01-04T00:00:00",
          "2020-01-05T00:00:00",
          "2020-01-06T00:00:00",
          "2020-01-07T00:00:00",
          "2020-01-08T00:00:00",
          "2020-01-09T00:00:00",
          "2020-01-10T00:00:00",
          "2020-01-11T00:00:00",
          "2020-01-12T00:00:00",
          "2020-01-13T00:00:00",
          "2020-01-14T00:00:00",
          "2020-01-15T00:00:00",
          "2020-01-16T00:00:00",
          "2020-01-20T00:00:00",
          "2020-01-21T00:00:00",
          "2020-01-22T00:00:00",
          "2020-01-23T00:00:00",
          "2020-01-24T00:00:00",
          "2020-01-25T00:00:00",
          "2020-01-26T00:00:00",
          "2020-01-27T00:00:00"
         ],
         "xaxis": "x",
         "y": [
          5.601948278921682,
          9.839699003431713,
          11.317708757188464,
          12.708236553050734,
          13.476755589614198,
          11.037905422257909,
          10.814911642192323,
          3.9798418680825605,
          6.0313466154494595,
          2.7506751778684406,
          10.323977764741512,
          16.07976489596933,
          17.148437029049965,
          16.342689372875192,
          6.200713875852625,
          8.857928382025463,
          14.787711626217206,
          4.592303287835647,
          8.057484803376735,
          7.860628763834876,
          11.681906382242477,
          20.345871536820024,
          20.13531908576871,
          17.012056892301317,
          16.519965654538,
          6.124228606989776
         ],
         "yaxis": "y"
        },
        {
         "hoverlabel": {
          "namelength": 0
         },
         "hovertemplate": "id=igdtuw<br>date=%{x}<br>cuf=%{y}",
         "legendgroup": "id=igdtuw",
         "marker": {
          "color": "#16FF32",
          "symbol": "circle"
         },
         "mode": "markers",
         "name": "id=igdtuw",
         "showlegend": true,
         "type": "scatter",
         "x": [
          "2019-12-30T00:00:00",
          "2019-12-31T00:00:00",
          "2020-01-01T00:00:00",
          "2020-01-02T00:00:00",
          "2020-01-03T00:00:00",
          "2020-01-04T00:00:00",
          "2020-01-05T00:00:00",
          "2020-01-06T00:00:00",
          "2020-01-07T00:00:00",
          "2020-01-08T00:00:00",
          "2020-01-09T00:00:00",
          "2020-01-10T00:00:00",
          "2020-01-11T00:00:00",
          "2020-01-12T00:00:00",
          "2020-01-13T00:00:00",
          "2020-01-14T00:00:00",
          "2020-01-15T00:00:00",
          "2020-01-16T00:00:00",
          "2020-01-20T00:00:00",
          "2020-01-21T00:00:00",
          "2020-01-22T00:00:00",
          "2020-01-23T00:00:00",
          "2020-01-24T00:00:00",
          "2020-01-25T00:00:00",
          "2020-01-26T00:00:00",
          "2020-01-27T00:00:00"
         ],
         "xaxis": "x",
         "y": [
          7.609374939449405,
          10.125743775141368,
          11.219493926517858,
          10.978670725746529,
          12.877975948273809,
          8.963045998224207,
          10.421874788072918,
          3.650297437395834,
          5.1971726947371035,
          3.9548612776264878,
          11.759424966478175,
          16.350694686646825,
          16.279762510270338,
          15.405506557889384,
          6.268353310843254,
          10.925843223692954,
          13.286210620213293,
          4.522817475456349,
          7.996031594655258,
          10.586309432983631,
          13.79117057437004,
          18.514881436785714,
          18.464036971803075,
          15.438491579087302,
          6.714781503829366,
          6.545138737512401
         ],
         "yaxis": "y"
        },
        {
         "hoverlabel": {
          "namelength": 0
         },
         "hovertemplate": "id=ihbas<br>date=%{x}<br>cuf=%{y}",
         "legendgroup": "id=ihbas",
         "marker": {
          "color": "#F7E1A0",
          "symbol": "circle"
         },
         "mode": "markers",
         "name": "id=ihbas",
         "showlegend": true,
         "type": "scatter",
         "x": [
          "2019-12-30T00:00:00",
          "2019-12-31T00:00:00",
          "2020-01-01T00:00:00",
          "2020-01-02T00:00:00",
          "2020-01-03T00:00:00",
          "2020-01-04T00:00:00",
          "2020-01-05T00:00:00",
          "2020-01-06T00:00:00",
          "2020-01-07T00:00:00",
          "2020-01-08T00:00:00",
          "2020-01-09T00:00:00",
          "2020-01-10T00:00:00",
          "2020-01-11T00:00:00",
          "2020-01-12T00:00:00",
          "2020-01-13T00:00:00",
          "2020-01-14T00:00:00",
          "2020-01-15T00:00:00",
          "2020-01-16T00:00:00",
          "2020-01-20T00:00:00",
          "2020-01-21T00:00:00",
          "2020-01-22T00:00:00",
          "2020-01-23T00:00:00",
          "2020-01-24T00:00:00",
          "2020-01-25T00:00:00",
          "2020-01-26T00:00:00",
          "2020-01-27T00:00:00"
         ],
         "xaxis": "x",
         "y": [
          4.386308846973751,
          5.796062593917241,
          6.633855759429154,
          6.0880162300315375,
          7.626943267448713,
          5.158320357919215,
          6.230568180998343,
          2.1330274937707063,
          2.9837219965452975,
          2.1436989732718525,
          6.298101640986557,
          9.097859521645644,
          8.69377575639972,
          8.538321982100536,
          3.9790393623247966,
          5.593144808583397,
          7.944221282710563,
          3.432562348795872,
          6.725121224934696,
          9.089257982041604,
          10.756562609191834,
          14.997610622954893,
          14.721903475296255,
          12.641596624002933,
          12.32081402575497,
          5.544724692870796
         ],
         "yaxis": "y"
        },
        {
         "hoverlabel": {
          "namelength": 0
         },
         "hovertemplate": "id=iiitd<br>date=%{x}<br>cuf=%{y}",
         "legendgroup": "id=iiitd",
         "marker": {
          "color": "#E2E2E2",
          "symbol": "circle"
         },
         "mode": "markers",
         "name": "id=iiitd",
         "showlegend": true,
         "type": "scatter",
         "x": [
          "2019-12-30T00:00:00",
          "2019-12-31T00:00:00",
          "2020-01-01T00:00:00",
          "2020-01-02T00:00:00",
          "2020-01-03T00:00:00",
          "2020-01-04T00:00:00",
          "2020-01-05T00:00:00",
          "2020-01-06T00:00:00",
          "2020-01-07T00:00:00",
          "2020-01-08T00:00:00",
          "2020-01-09T00:00:00",
          "2020-01-10T00:00:00",
          "2020-01-11T00:00:00",
          "2020-01-12T00:00:00",
          "2020-01-13T00:00:00",
          "2020-01-14T00:00:00",
          "2020-01-15T00:00:00",
          "2020-01-16T00:00:00",
          "2020-01-20T00:00:00",
          "2020-01-21T00:00:00",
          "2020-01-22T00:00:00",
          "2020-01-23T00:00:00",
          "2020-01-24T00:00:00",
          "2020-01-25T00:00:00",
          "2020-01-26T00:00:00",
          "2020-01-27T00:00:00"
         ],
         "xaxis": "x",
         "y": [
          6.309721911395834,
          8.31134231002315,
          12.212036980523148,
          9.373379460087962,
          13.260879516601854,
          10.864583474618057,
          12.040046409324072,
          3.7379628640624993,
          4.944675940055555,
          4.727777904935185,
          10.300925925925926,
          12.171296013726852,
          12.346991079824077,
          11.54444447270139,
          5.077314730043981,
          8.080324243615742,
          8.843981424967593,
          3.3726851145416665,
          6.284953929759259,
          9.31365754869213,
          10.538657153094908,
          14.099536471895835,
          13.714352360479168,
          12.21828743263426,
          11.825462623879629,
          5.5243054142708345
         ],
         "yaxis": "y"
        },
        {
         "hoverlabel": {
          "namelength": 0
         },
         "hovertemplate": "id=iticvraman<br>date=%{x}<br>cuf=%{y}",
         "legendgroup": "id=iticvraman",
         "marker": {
          "color": "#1CBE4F",
          "symbol": "circle"
         },
         "mode": "markers",
         "name": "id=iticvraman",
         "showlegend": true,
         "type": "scatter",
         "x": [
          "2019-12-30T00:00:00",
          "2019-12-31T00:00:00",
          "2020-01-01T00:00:00",
          "2020-01-02T00:00:00",
          "2020-01-03T00:00:00",
          "2020-01-04T00:00:00",
          "2020-01-05T00:00:00",
          "2020-01-06T00:00:00",
          "2020-01-07T00:00:00",
          "2020-01-08T00:00:00",
          "2020-01-09T00:00:00",
          "2020-01-10T00:00:00",
          "2020-01-11T00:00:00",
          "2020-01-12T00:00:00",
          "2020-01-13T00:00:00",
          "2020-01-14T00:00:00",
          "2020-01-15T00:00:00",
          "2020-01-16T00:00:00",
          "2020-01-20T00:00:00",
          "2020-01-21T00:00:00",
          "2020-01-22T00:00:00",
          "2020-01-23T00:00:00",
          "2020-01-24T00:00:00",
          "2020-01-25T00:00:00",
          "2020-01-26T00:00:00"
         ],
         "xaxis": "x",
         "y": [
          6.1837501525875,
          8.21875,
          9.236666361491668,
          9.55166689555,
          10.950416564941667,
          8.03624979655,
          8.673333485920832,
          3.1204166412333336,
          5.3954168955499995,
          3.8495833079,
          10.323750178020832,
          14.597916920979168,
          14.642916361491668,
          14.252499898275001,
          6.4162502288833325,
          8.762500127158333,
          13.003749847412498,
          3.770416577658333,
          7.4987500508625,
          8.791666666666668,
          10.5349998474125,
          17.540416717529165,
          15.203333536783333,
          14.698749542237499,
          13.453333536783333
         ],
         "yaxis": "y"
        },
        {
         "hoverlabel": {
          "namelength": 0
         },
         "hovertemplate": "id=itijaffarpur<br>date=%{x}<br>cuf=%{y}",
         "legendgroup": "id=itijaffarpur",
         "marker": {
          "color": "#C4451C",
          "symbol": "circle"
         },
         "mode": "markers",
         "name": "id=itijaffarpur",
         "showlegend": true,
         "type": "scatter",
         "x": [
          "2019-12-30T00:00:00",
          "2019-12-31T00:00:00",
          "2020-01-01T00:00:00",
          "2020-01-02T00:00:00",
          "2020-01-03T00:00:00",
          "2020-01-04T00:00:00",
          "2020-01-05T00:00:00",
          "2020-01-06T00:00:00",
          "2020-01-07T00:00:00",
          "2020-01-08T00:00:00",
          "2020-01-09T00:00:00",
          "2020-01-10T00:00:00",
          "2020-01-11T00:00:00",
          "2020-01-12T00:00:00",
          "2020-01-13T00:00:00",
          "2020-01-14T00:00:00",
          "2020-01-15T00:00:00",
          "2020-01-16T00:00:00",
          "2020-01-20T00:00:00",
          "2020-01-21T00:00:00",
          "2020-01-22T00:00:00",
          "2020-01-23T00:00:00",
          "2020-01-24T00:00:00",
          "2020-01-25T00:00:00",
          "2020-01-26T00:00:00",
          "2020-01-27T00:00:00"
         ],
         "xaxis": "x",
         "y": [
          8.246004635884702,
          11.28995451208904,
          13.270547945205479,
          12.119292341957761,
          14.153538882460046,
          13.948059082031964,
          13.174086618641553,
          5.63755688602169,
          5.954908780313927,
          3.193493194229452,
          9.610730872305934,
          15.714040956541094,
          20.04509146355023,
          19.70034211738014,
          7.267694168441781,
          10.857876468464612,
          14.603310850656392,
          3.9103882497831055,
          7.948059360730593,
          14.275114503624428,
          13.070776255707765,
          22.937785109429225,
          22.970319774052513,
          21.75570797158105,
          20.56449820461758,
          8.78310530152968
         ],
         "yaxis": "y"
        },
        {
         "hoverlabel": {
          "namelength": 0
         },
         "hovertemplate": "id=itijailroad<br>date=%{x}<br>cuf=%{y}",
         "legendgroup": "id=itijailroad",
         "marker": {
          "color": "#DEA0FD",
          "symbol": "circle"
         },
         "mode": "markers",
         "name": "id=itijailroad",
         "showlegend": true,
         "type": "scatter",
         "x": [
          "2019-12-30T00:00:00",
          "2019-12-31T00:00:00",
          "2020-01-01T00:00:00",
          "2020-01-02T00:00:00",
          "2020-01-03T00:00:00",
          "2020-01-04T00:00:00",
          "2020-01-05T00:00:00",
          "2020-01-06T00:00:00",
          "2020-01-07T00:00:00",
          "2020-01-08T00:00:00",
          "2020-01-09T00:00:00",
          "2020-01-10T00:00:00",
          "2020-01-11T00:00:00",
          "2020-01-12T00:00:00",
          "2020-01-13T00:00:00",
          "2020-01-14T00:00:00",
          "2020-01-15T00:00:00",
          "2020-01-16T00:00:00",
          "2020-01-21T00:00:00",
          "2020-01-23T00:00:00",
          "2020-01-24T00:00:00",
          "2020-01-25T00:00:00",
          "2020-01-26T00:00:00",
          "2020-01-27T00:00:00"
         ],
         "xaxis": "x",
         "y": [
          7.021296465837963,
          9.173610828541666,
          10.44444472701389,
          10.315741079824074,
          13.018055668583333,
          11.101388578060185,
          11.460648289435186,
          4.3282406418425925,
          4.748611096981482,
          3.6731479786064813,
          10.70972230699537,
          14.097685637296294,
          15.010648656773148,
          14.887500339083331,
          5.7458333615925925,
          9.218518292462964,
          12.850463302046297,
          4.061574229486111,
          9.389815153898148,
          18.396295618129628,
          17.63379697446296,
          15.818981594509262,
          15.431943822791666,
          6.462963245532408
         ],
         "yaxis": "y"
        },
        {
         "hoverlabel": {
          "namelength": 0
         },
         "hovertemplate": "id=itimangolpuri<br>date=%{x}<br>cuf=%{y}",
         "legendgroup": "id=itimangolpuri",
         "marker": {
          "color": "#FE00FA",
          "symbol": "circle"
         },
         "mode": "markers",
         "name": "id=itimangolpuri",
         "showlegend": true,
         "type": "scatter",
         "x": [
          "2019-12-30T00:00:00",
          "2019-12-31T00:00:00",
          "2020-01-01T00:00:00",
          "2020-01-02T00:00:00",
          "2020-01-03T00:00:00",
          "2020-01-04T00:00:00",
          "2020-01-05T00:00:00",
          "2020-01-06T00:00:00",
          "2020-01-07T00:00:00",
          "2020-01-08T00:00:00",
          "2020-01-09T00:00:00",
          "2020-01-10T00:00:00",
          "2020-01-11T00:00:00",
          "2020-01-12T00:00:00",
          "2020-01-13T00:00:00",
          "2020-01-14T00:00:00",
          "2020-01-15T00:00:00",
          "2020-01-16T00:00:00",
          "2020-01-20T00:00:00",
          "2020-01-22T00:00:00"
         ],
         "xaxis": "x",
         "y": [
          3.5944443278819445,
          4.8013888465,
          5.313888655770834,
          5.318055682715278,
          6.845138867694445,
          5.732639100819445,
          6.463889016048611,
          2.459027767180556,
          4.204861058131945,
          3.5111112064791663,
          10.097221798368055,
          15.886110729638888,
          17.612499660916665,
          16.66111098395139,
          6.540972391763889,
          9.478472603694444,
          14.552777608236111,
          5.1930554707847225,
          7.877083354527778,
          11.456944147743057
         ],
         "yaxis": "y"
        },
        {
         "hoverlabel": {
          "namelength": 0
         },
         "hovertemplate": "id=kalindicillege<br>date=%{x}<br>cuf=%{y}",
         "legendgroup": "id=kalindicillege",
         "marker": {
          "color": "#325A9B",
          "symbol": "circle"
         },
         "mode": "markers",
         "name": "id=kalindicillege",
         "showlegend": true,
         "type": "scatter",
         "x": [
          "2019-12-30T00:00:00",
          "2019-12-31T00:00:00",
          "2020-01-01T00:00:00",
          "2020-01-02T00:00:00",
          "2020-01-03T00:00:00",
          "2020-01-04T00:00:00",
          "2020-01-05T00:00:00",
          "2020-01-06T00:00:00",
          "2020-01-07T00:00:00",
          "2020-01-08T00:00:00",
          "2020-01-09T00:00:00",
          "2020-01-10T00:00:00",
          "2020-01-11T00:00:00",
          "2020-01-12T00:00:00",
          "2020-01-13T00:00:00",
          "2020-01-14T00:00:00",
          "2020-01-15T00:00:00",
          "2020-01-16T00:00:00",
          "2020-01-20T00:00:00",
          "2020-01-21T00:00:00",
          "2020-01-22T00:00:00",
          "2020-01-23T00:00:00",
          "2020-01-24T00:00:00",
          "2020-01-25T00:00:00",
          "2020-01-26T00:00:00",
          "2020-01-27T00:00:00"
         ],
         "xaxis": "x",
         "y": [
          7.860706333461436,
          10.3060949710356,
          11.553398099406689,
          11.331580860585222,
          13.12837117183792,
          9.803127959580637,
          10.765911048799893,
          4.025755062331446,
          5.037756285106527,
          4.159250177096818,
          11.305960250903453,
          15.620954857160196,
          15.300026474905613,
          15.124056588740562,
          6.237190003789105,
          10.380259352339536,
          13.203209400694446,
          4.3406147015507015,
          7.830366733387272,
          10.452400133447952,
          12.430555226348437,
          18.458062905454426,
          17.996898103816076,
          15.740291714799085,
          15.220469255663433,
          6.616774500377563
         ],
         "yaxis": "y"
        },
        {
         "hoverlabel": {
          "namelength": 0
         },
         "hovertemplate": "id=kitpitampura<br>date=%{x}<br>cuf=%{y}",
         "legendgroup": "id=kitpitampura",
         "marker": {
          "color": "#FEAF16",
          "symbol": "circle"
         },
         "mode": "markers",
         "name": "id=kitpitampura",
         "showlegend": true,
         "type": "scatter",
         "x": [
          "2019-12-30T00:00:00",
          "2019-12-31T00:00:00",
          "2020-01-01T00:00:00",
          "2020-01-02T00:00:00",
          "2020-01-03T00:00:00",
          "2020-01-04T00:00:00",
          "2020-01-05T00:00:00",
          "2020-01-06T00:00:00",
          "2020-01-07T00:00:00",
          "2020-01-08T00:00:00",
          "2020-01-09T00:00:00",
          "2020-01-10T00:00:00",
          "2020-01-11T00:00:00",
          "2020-01-12T00:00:00",
          "2020-01-13T00:00:00",
          "2020-01-14T00:00:00",
          "2020-01-15T00:00:00",
          "2020-01-16T00:00:00",
          "2020-01-20T00:00:00",
          "2020-01-21T00:00:00",
          "2020-01-22T00:00:00",
          "2020-01-23T00:00:00",
          "2020-01-24T00:00:00",
          "2020-01-25T00:00:00",
          "2020-01-26T00:00:00",
          "2020-01-27T00:00:00"
         ],
         "xaxis": "x",
         "y": [
          7.231215048306355,
          9.568178587013723,
          10.201505746899146,
          10.686783418317013,
          11.710298305951905,
          8.593625587811417,
          9.330701739063748,
          3.568312088204437,
          5.400346369226285,
          3.7002065421229675,
          10.23281411491973,
          15.30575568028577,
          15.577204984059417,
          15.06078462425393,
          6.2524982048860895,
          9.297062675379696,
          13.434419497280508,
          3.94301232801259,
          8.18678400785205,
          8.626932275794365,
          12.699674041691647,
          19.020450550366373,
          19.144183757812083,
          16.975086719361176,
          16.1788903837863,
          6.691480108556489
         ],
         "yaxis": "y"
        },
        {
         "hoverlabel": {
          "namelength": 0
         },
         "hovertemplate": "id=maulanaazadmedicalcollege<br>date=%{x}<br>cuf=%{y}",
         "legendgroup": "id=maulanaazadmedicalcollege",
         "marker": {
          "color": "#F8A19F",
          "symbol": "circle"
         },
         "mode": "markers",
         "name": "id=maulanaazadmedicalcollege",
         "showlegend": true,
         "type": "scatter",
         "x": [
          "2019-12-30T00:00:00",
          "2019-12-31T00:00:00",
          "2020-01-01T00:00:00",
          "2020-01-02T00:00:00",
          "2020-01-03T00:00:00",
          "2020-01-04T00:00:00",
          "2020-01-05T00:00:00",
          "2020-01-06T00:00:00",
          "2020-01-07T00:00:00",
          "2020-01-08T00:00:00",
          "2020-01-09T00:00:00",
          "2020-01-10T00:00:00",
          "2020-01-11T00:00:00",
          "2020-01-12T00:00:00",
          "2020-01-13T00:00:00",
          "2020-01-14T00:00:00",
          "2020-01-15T00:00:00",
          "2020-01-16T00:00:00",
          "2020-01-20T00:00:00",
          "2020-01-21T00:00:00",
          "2020-01-22T00:00:00",
          "2020-01-23T00:00:00",
          "2020-01-24T00:00:00",
          "2020-01-25T00:00:00",
          "2020-01-26T00:00:00",
          "2020-01-27T00:00:00"
         ],
         "xaxis": "x",
         "y": [
          6.010682410538726,
          7.887665008865382,
          8.66132521943749,
          8.235269825717745,
          9.501961351654566,
          7.120472146004425,
          8.166207950433984,
          3.17663995993991,
          3.8935486690535805,
          3.4923219179352363,
          9.71874452914789,
          12.378568463046657,
          12.235853831609916,
          11.682523429106162,
          5.303163039745035,
          8.943623641639546,
          10.446711785206979,
          3.797988624171675,
          5.108078937660658,
          9.438741547379404,
          11.008178425678102,
          13.733934030929731,
          14.220288511788517,
          12.522324797825906,
          12.357703832767903,
          5.620305356309465
         ],
         "yaxis": "y"
        },
        {
         "hoverlabel": {
          "namelength": 0
         },
         "hovertemplate": "id=nsit<br>date=%{x}<br>cuf=%{y}",
         "legendgroup": "id=nsit",
         "marker": {
          "color": "#90AD1C",
          "symbol": "circle"
         },
         "mode": "markers",
         "name": "id=nsit",
         "showlegend": true,
         "type": "scatter",
         "x": [
          "2019-12-30T00:00:00",
          "2019-12-31T00:00:00",
          "2020-01-01T00:00:00",
          "2020-01-02T00:00:00",
          "2020-01-03T00:00:00",
          "2020-01-04T00:00:00",
          "2020-01-05T00:00:00",
          "2020-01-06T00:00:00",
          "2020-01-07T00:00:00",
          "2020-01-08T00:00:00",
          "2020-01-09T00:00:00",
          "2020-01-10T00:00:00",
          "2020-01-11T00:00:00",
          "2020-01-12T00:00:00",
          "2020-01-13T00:00:00",
          "2020-01-14T00:00:00",
          "2020-01-15T00:00:00",
          "2020-01-16T00:00:00",
          "2020-01-20T00:00:00",
          "2020-01-21T00:00:00",
          "2020-01-22T00:00:00",
          "2020-01-23T00:00:00",
          "2020-01-24T00:00:00",
          "2020-01-25T00:00:00",
          "2020-01-26T00:00:00",
          "2020-01-27T00:00:00"
         ],
         "xaxis": "x",
         "y": [
          7.540895124521603,
          9.897890601138117,
          11.239197813434929,
          10.425411428443931,
          12.276362980344649,
          10.445473125442387,
          10.34503591404064,
          4.05941362734182,
          4.640046264899692,
          3.653292008388632,
          9.670910619413581,
          14.726723564996142,
          16.877958509656636,
          16.56159922909851,
          5.951645933551956,
          9.025205604333847,
          14.015946564850823,
          4.738683268856739,
          7.319830278310185,
          10.65856478341821,
          11.182484410918208,
          19.315843621399175,
          19.29693967717207,
          17.129114723990483,
          16.987140482835645,
          7.008358676737397
         ],
         "yaxis": "y"
        },
        {
         "hoverlabel": {
          "namelength": 0
         },
         "hovertemplate": "id=pitacademicblock100kw<br>date=%{x}<br>cuf=%{y}",
         "legendgroup": "id=pitacademicblock100kw",
         "marker": {
          "color": "#F6222E",
          "symbol": "circle"
         },
         "mode": "markers",
         "name": "id=pitacademicblock100kw",
         "showlegend": true,
         "type": "scatter",
         "x": [
          "2019-12-30T00:00:00",
          "2019-12-31T00:00:00",
          "2020-01-01T00:00:00",
          "2020-01-02T00:00:00",
          "2020-01-03T00:00:00",
          "2020-01-04T00:00:00",
          "2020-01-05T00:00:00",
          "2020-01-06T00:00:00",
          "2020-01-07T00:00:00",
          "2020-01-08T00:00:00",
          "2020-01-09T00:00:00",
          "2020-01-10T00:00:00",
          "2020-01-11T00:00:00",
          "2020-01-12T00:00:00",
          "2020-01-13T00:00:00",
          "2020-01-14T00:00:00",
          "2020-01-15T00:00:00",
          "2020-01-16T00:00:00",
          "2020-01-20T00:00:00",
          "2020-01-21T00:00:00",
          "2020-01-22T00:00:00",
          "2020-01-23T00:00:00",
          "2020-01-24T00:00:00",
          "2020-01-26T00:00:00",
          "2020-01-27T00:00:00"
         ],
         "xaxis": "x",
         "y": [
          8.198951569613687,
          10.59630269772627,
          12.257726302999448,
          11.580849956992276,
          13.12969115133002,
          10.166115160808499,
          11.343819152966335,
          4.112582596194813,
          4.992273680157284,
          5.006070589649558,
          11.068708744006623,
          15.75469128606512,
          15.514072308741722,
          15.586644187406181,
          6.206125928865893,
          10.444812058876932,
          13.425496924528147,
          3.603476720140729,
          7.540011037527594,
          9.851544950709162,
          12.233995180783666,
          18.763520701832228,
          17.956953911854303,
          15.587749018049118,
          6.24503331468543
         ],
         "yaxis": "y"
        },
        {
         "hoverlabel": {
          "namelength": 0
         },
         "hovertemplate": "id=satyawaticollege<br>date=%{x}<br>cuf=%{y}",
         "legendgroup": "id=satyawaticollege",
         "marker": {
          "color": "#1CFFCE",
          "symbol": "circle"
         },
         "mode": "markers",
         "name": "id=satyawaticollege",
         "showlegend": true,
         "type": "scatter",
         "x": [
          "2019-12-30T00:00:00",
          "2019-12-31T00:00:00",
          "2020-01-01T00:00:00",
          "2020-01-02T00:00:00",
          "2020-01-03T00:00:00",
          "2020-01-04T00:00:00",
          "2020-01-05T00:00:00",
          "2020-01-06T00:00:00",
          "2020-01-07T00:00:00",
          "2020-01-08T00:00:00",
          "2020-01-09T00:00:00",
          "2020-01-10T00:00:00",
          "2020-01-11T00:00:00",
          "2020-01-12T00:00:00",
          "2020-01-13T00:00:00",
          "2020-01-14T00:00:00",
          "2020-01-15T00:00:00",
          "2020-01-16T00:00:00",
          "2020-01-20T00:00:00",
          "2020-01-21T00:00:00",
          "2020-01-22T00:00:00",
          "2020-01-23T00:00:00",
          "2020-01-24T00:00:00",
          "2020-01-25T00:00:00",
          "2020-01-26T00:00:00",
          "2020-01-27T00:00:00"
         ],
         "xaxis": "x",
         "y": [
          3.6901751069219744,
          4.894674768503538,
          5.246461020361475,
          5.34883717073222,
          6.1678460522623855,
          4.507920458375462,
          4.839063052342432,
          1.7290192498946744,
          2.9027637986981794,
          2.5513987771022912,
          6.333417670673238,
          8.671638095344623,
          8.639619452485674,
          8.172396179958714,
          3.2857262328867534,
          5.27131794517189,
          6.982642631159419,
          1.9792719726238621,
          4.206690195235085,
          4.9747220184993255,
          7.197927456332154,
          9.733316429866024,
          9.68149658964442,
          8.328699125438153,
          7.910346920576339,
          3.199359725370744
         ],
         "yaxis": "y"
        },
        {
         "hoverlabel": {
          "namelength": 0
         },
         "hovertemplate": "id=sscbs<br>date=%{x}<br>cuf=%{y}",
         "legendgroup": "id=sscbs",
         "marker": {
          "color": "#2ED9FF",
          "symbol": "circle"
         },
         "mode": "markers",
         "name": "id=sscbs",
         "showlegend": true,
         "type": "scatter",
         "x": [
          "2019-12-31T00:00:00",
          "2020-01-01T00:00:00",
          "2020-01-02T00:00:00",
          "2020-01-03T00:00:00",
          "2020-01-04T00:00:00",
          "2020-01-09T00:00:00",
          "2020-01-10T00:00:00",
          "2020-01-11T00:00:00",
          "2020-01-12T00:00:00",
          "2020-01-13T00:00:00",
          "2020-01-14T00:00:00",
          "2020-01-15T00:00:00",
          "2020-01-16T00:00:00",
          "2020-01-20T00:00:00"
         ],
         "xaxis": "x",
         "y": [
          7.566337418135966,
          8.46326727616228,
          9.155701754385964,
          9.831688696880482,
          7.0526315454824555,
          6.841008705005483,
          11.76096514651864,
          10.820175472061404,
          2.8870613951425437,
          4.747258571156799,
          6.4391445695285086,
          11.196819941200658,
          3.7132677279002193,
          6.409539674457236
         ],
         "yaxis": "y"
        },
        {
         "hoverlabel": {
          "namelength": 0
         },
         "hovertemplate": "id=meerabaiinstituteoftechnology<br>date=%{x}<br>cuf=%{y}",
         "legendgroup": "id=meerabaiinstituteoftechnology",
         "marker": {
          "color": "#B10DA1",
          "symbol": "circle"
         },
         "mode": "markers",
         "name": "id=meerabaiinstituteoftechnology",
         "showlegend": true,
         "type": "scatter",
         "x": [
          "2020-01-02T00:00:00",
          "2020-01-03T00:00:00",
          "2020-01-04T00:00:00",
          "2020-01-05T00:00:00",
          "2020-01-06T00:00:00",
          "2020-01-07T00:00:00",
          "2020-01-09T00:00:00",
          "2020-01-10T00:00:00",
          "2020-01-11T00:00:00",
          "2020-01-12T00:00:00",
          "2020-01-13T00:00:00",
          "2020-01-14T00:00:00",
          "2020-01-15T00:00:00",
          "2020-01-16T00:00:00"
         ],
         "xaxis": "x",
         "y": [
          10.19568814962272,
          11.730099198830846,
          9.467661716849088,
          10.531509298196518,
          3.774046383884743,
          4.893864051223051,
          12.989220057752904,
          15.832089349800995,
          15.905058245555557,
          15.766169103619404,
          7.140962085124378,
          11.139718177504147,
          13.172056030476783,
          4.891376590252902
         ],
         "yaxis": "y"
        },
        {
         "hoverlabel": {
          "namelength": 0
         },
         "hovertemplate": "id=43707<br>date=%{x}<br>cuf=%{y}",
         "legendgroup": "id=43707",
         "marker": {
          "color": "#C075A6",
          "symbol": "circle"
         },
         "mode": "markers",
         "name": "id=43707",
         "showlegend": true,
         "type": "scatter",
         "x": [
          "2020-01-03T00:00:00",
          "2020-01-13T00:00:00",
          "2020-01-14T00:00:00",
          "2020-01-15T00:00:00"
         ],
         "xaxis": "x",
         "y": [
          null,
          null,
          null,
          null
         ],
         "yaxis": "y"
        },
        {
         "hoverlabel": {
          "namelength": 0
         },
         "hovertemplate": "id=55448<br>date=%{x}<br>cuf=%{y}",
         "legendgroup": "id=55448",
         "marker": {
          "color": "#FC1CBF",
          "symbol": "circle"
         },
         "mode": "markers",
         "name": "id=55448",
         "showlegend": true,
         "type": "scatter",
         "x": [
          "2020-01-03T00:00:00",
          "2020-01-13T00:00:00",
          "2020-01-14T00:00:00",
          "2020-01-15T00:00:00"
         ],
         "xaxis": "x",
         "y": [
          null,
          null,
          null,
          null
         ],
         "yaxis": "y"
        },
        {
         "hoverlabel": {
          "namelength": 0
         },
         "hovertemplate": "id=58292<br>date=%{x}<br>cuf=%{y}",
         "legendgroup": "id=58292",
         "marker": {
          "color": "#B00068",
          "symbol": "circle"
         },
         "mode": "markers",
         "name": "id=58292",
         "showlegend": true,
         "type": "scatter",
         "x": [
          "2020-01-03T00:00:00",
          "2020-01-13T00:00:00",
          "2020-01-14T00:00:00",
          "2020-01-15T00:00:00"
         ],
         "xaxis": "x",
         "y": [
          null,
          null,
          null,
          null
         ],
         "yaxis": "y"
        },
        {
         "hoverlabel": {
          "namelength": 0
         },
         "hovertemplate": "id=58337<br>date=%{x}<br>cuf=%{y}",
         "legendgroup": "id=58337",
         "marker": {
          "color": "#FBE426",
          "symbol": "circle"
         },
         "mode": "markers",
         "name": "id=58337",
         "showlegend": true,
         "type": "scatter",
         "x": [
          "2020-01-03T00:00:00",
          "2020-01-13T00:00:00",
          "2020-01-14T00:00:00",
          "2020-01-15T00:00:00"
         ],
         "xaxis": "x",
         "y": [
          null,
          null,
          null,
          null
         ],
         "yaxis": "y"
        },
        {
         "hoverlabel": {
          "namelength": 0
         },
         "hovertemplate": "id=itipusa<br>date=%{x}<br>cuf=%{y}",
         "legendgroup": "id=itipusa",
         "marker": {
          "color": "#FA0087",
          "symbol": "circle"
         },
         "mode": "markers",
         "name": "id=itipusa",
         "showlegend": true,
         "type": "scatter",
         "x": [
          "2020-01-04T00:00:00",
          "2020-01-05T00:00:00",
          "2020-01-06T00:00:00",
          "2020-01-07T00:00:00",
          "2020-01-09T00:00:00",
          "2020-01-10T00:00:00",
          "2020-01-11T00:00:00",
          "2020-01-12T00:00:00",
          "2020-01-13T00:00:00",
          "2020-01-14T00:00:00",
          "2020-01-15T00:00:00",
          "2020-01-16T00:00:00",
          "2020-01-20T00:00:00",
          "2020-01-21T00:00:00",
          "2020-01-22T00:00:00",
          "2020-01-23T00:00:00",
          "2020-01-24T00:00:00",
          "2020-01-25T00:00:00",
          "2020-01-26T00:00:00",
          "2020-01-27T00:00:00"
         ],
         "xaxis": "x",
         "y": [
          5.557916641233334,
          8.295833587645832,
          3.7762498855583337,
          4.033333460491667,
          5.965833028158333,
          11.57749938965,
          11.788749694825,
          11.073333740233334,
          5.071666717529166,
          8.942916870116667,
          9.814999898275,
          3.9304167429625005,
          6.550416946412499,
          8.4904168446875,
          10.026250203450001,
          13.351249694825002,
          13.007499694825,
          11.982916514079168,
          11.679583231608333,
          5.716666539508334
         ],
         "yaxis": "y"
        },
        {
         "hoverlabel": {
          "namelength": 0
         },
         "hovertemplate": "id=59093<br>date=%{x}<br>cuf=%{y}",
         "legendgroup": "id=59093",
         "marker": {
          "color": "#AA0DFE",
          "symbol": "circle"
         },
         "mode": "markers",
         "name": "id=59093",
         "showlegend": true,
         "type": "scatter",
         "x": [
          "2020-01-14T00:00:00"
         ],
         "xaxis": "x",
         "y": [
          null
         ],
         "yaxis": "y"
        }
       ],
       "layout": {
        "autosize": false,
        "height": 680,
        "legend": {
         "tracegroupgap": 0
        },
        "margin": {
         "t": 60
        },
        "template": {
         "data": {
          "bar": [
           {
            "error_x": {
             "color": "#2a3f5f"
            },
            "error_y": {
             "color": "#2a3f5f"
            },
            "marker": {
             "line": {
              "color": "#E5ECF6",
              "width": 0.5
             }
            },
            "type": "bar"
           }
          ],
          "barpolar": [
           {
            "marker": {
             "line": {
              "color": "#E5ECF6",
              "width": 0.5
             }
            },
            "type": "barpolar"
           }
          ],
          "carpet": [
           {
            "aaxis": {
             "endlinecolor": "#2a3f5f",
             "gridcolor": "white",
             "linecolor": "white",
             "minorgridcolor": "white",
             "startlinecolor": "#2a3f5f"
            },
            "baxis": {
             "endlinecolor": "#2a3f5f",
             "gridcolor": "white",
             "linecolor": "white",
             "minorgridcolor": "white",
             "startlinecolor": "#2a3f5f"
            },
            "type": "carpet"
           }
          ],
          "choropleth": [
           {
            "colorbar": {
             "outlinewidth": 0,
             "ticks": ""
            },
            "type": "choropleth"
           }
          ],
          "contour": [
           {
            "colorbar": {
             "outlinewidth": 0,
             "ticks": ""
            },
            "colorscale": [
             [
              0,
              "#0d0887"
             ],
             [
              0.1111111111111111,
              "#46039f"
             ],
             [
              0.2222222222222222,
              "#7201a8"
             ],
             [
              0.3333333333333333,
              "#9c179e"
             ],
             [
              0.4444444444444444,
              "#bd3786"
             ],
             [
              0.5555555555555556,
              "#d8576b"
             ],
             [
              0.6666666666666666,
              "#ed7953"
             ],
             [
              0.7777777777777778,
              "#fb9f3a"
             ],
             [
              0.8888888888888888,
              "#fdca26"
             ],
             [
              1,
              "#f0f921"
             ]
            ],
            "type": "contour"
           }
          ],
          "contourcarpet": [
           {
            "colorbar": {
             "outlinewidth": 0,
             "ticks": ""
            },
            "type": "contourcarpet"
           }
          ],
          "heatmap": [
           {
            "colorbar": {
             "outlinewidth": 0,
             "ticks": ""
            },
            "colorscale": [
             [
              0,
              "#0d0887"
             ],
             [
              0.1111111111111111,
              "#46039f"
             ],
             [
              0.2222222222222222,
              "#7201a8"
             ],
             [
              0.3333333333333333,
              "#9c179e"
             ],
             [
              0.4444444444444444,
              "#bd3786"
             ],
             [
              0.5555555555555556,
              "#d8576b"
             ],
             [
              0.6666666666666666,
              "#ed7953"
             ],
             [
              0.7777777777777778,
              "#fb9f3a"
             ],
             [
              0.8888888888888888,
              "#fdca26"
             ],
             [
              1,
              "#f0f921"
             ]
            ],
            "type": "heatmap"
           }
          ],
          "heatmapgl": [
           {
            "colorbar": {
             "outlinewidth": 0,
             "ticks": ""
            },
            "colorscale": [
             [
              0,
              "#0d0887"
             ],
             [
              0.1111111111111111,
              "#46039f"
             ],
             [
              0.2222222222222222,
              "#7201a8"
             ],
             [
              0.3333333333333333,
              "#9c179e"
             ],
             [
              0.4444444444444444,
              "#bd3786"
             ],
             [
              0.5555555555555556,
              "#d8576b"
             ],
             [
              0.6666666666666666,
              "#ed7953"
             ],
             [
              0.7777777777777778,
              "#fb9f3a"
             ],
             [
              0.8888888888888888,
              "#fdca26"
             ],
             [
              1,
              "#f0f921"
             ]
            ],
            "type": "heatmapgl"
           }
          ],
          "histogram": [
           {
            "marker": {
             "colorbar": {
              "outlinewidth": 0,
              "ticks": ""
             }
            },
            "type": "histogram"
           }
          ],
          "histogram2d": [
           {
            "colorbar": {
             "outlinewidth": 0,
             "ticks": ""
            },
            "colorscale": [
             [
              0,
              "#0d0887"
             ],
             [
              0.1111111111111111,
              "#46039f"
             ],
             [
              0.2222222222222222,
              "#7201a8"
             ],
             [
              0.3333333333333333,
              "#9c179e"
             ],
             [
              0.4444444444444444,
              "#bd3786"
             ],
             [
              0.5555555555555556,
              "#d8576b"
             ],
             [
              0.6666666666666666,
              "#ed7953"
             ],
             [
              0.7777777777777778,
              "#fb9f3a"
             ],
             [
              0.8888888888888888,
              "#fdca26"
             ],
             [
              1,
              "#f0f921"
             ]
            ],
            "type": "histogram2d"
           }
          ],
          "histogram2dcontour": [
           {
            "colorbar": {
             "outlinewidth": 0,
             "ticks": ""
            },
            "colorscale": [
             [
              0,
              "#0d0887"
             ],
             [
              0.1111111111111111,
              "#46039f"
             ],
             [
              0.2222222222222222,
              "#7201a8"
             ],
             [
              0.3333333333333333,
              "#9c179e"
             ],
             [
              0.4444444444444444,
              "#bd3786"
             ],
             [
              0.5555555555555556,
              "#d8576b"
             ],
             [
              0.6666666666666666,
              "#ed7953"
             ],
             [
              0.7777777777777778,
              "#fb9f3a"
             ],
             [
              0.8888888888888888,
              "#fdca26"
             ],
             [
              1,
              "#f0f921"
             ]
            ],
            "type": "histogram2dcontour"
           }
          ],
          "mesh3d": [
           {
            "colorbar": {
             "outlinewidth": 0,
             "ticks": ""
            },
            "type": "mesh3d"
           }
          ],
          "parcoords": [
           {
            "line": {
             "colorbar": {
              "outlinewidth": 0,
              "ticks": ""
             }
            },
            "type": "parcoords"
           }
          ],
          "pie": [
           {
            "automargin": true,
            "type": "pie"
           }
          ],
          "scatter": [
           {
            "marker": {
             "colorbar": {
              "outlinewidth": 0,
              "ticks": ""
             }
            },
            "type": "scatter"
           }
          ],
          "scatter3d": [
           {
            "line": {
             "colorbar": {
              "outlinewidth": 0,
              "ticks": ""
             }
            },
            "marker": {
             "colorbar": {
              "outlinewidth": 0,
              "ticks": ""
             }
            },
            "type": "scatter3d"
           }
          ],
          "scattercarpet": [
           {
            "marker": {
             "colorbar": {
              "outlinewidth": 0,
              "ticks": ""
             }
            },
            "type": "scattercarpet"
           }
          ],
          "scattergeo": [
           {
            "marker": {
             "colorbar": {
              "outlinewidth": 0,
              "ticks": ""
             }
            },
            "type": "scattergeo"
           }
          ],
          "scattergl": [
           {
            "marker": {
             "colorbar": {
              "outlinewidth": 0,
              "ticks": ""
             }
            },
            "type": "scattergl"
           }
          ],
          "scattermapbox": [
           {
            "marker": {
             "colorbar": {
              "outlinewidth": 0,
              "ticks": ""
             }
            },
            "type": "scattermapbox"
           }
          ],
          "scatterpolar": [
           {
            "marker": {
             "colorbar": {
              "outlinewidth": 0,
              "ticks": ""
             }
            },
            "type": "scatterpolar"
           }
          ],
          "scatterpolargl": [
           {
            "marker": {
             "colorbar": {
              "outlinewidth": 0,
              "ticks": ""
             }
            },
            "type": "scatterpolargl"
           }
          ],
          "scatterternary": [
           {
            "marker": {
             "colorbar": {
              "outlinewidth": 0,
              "ticks": ""
             }
            },
            "type": "scatterternary"
           }
          ],
          "surface": [
           {
            "colorbar": {
             "outlinewidth": 0,
             "ticks": ""
            },
            "colorscale": [
             [
              0,
              "#0d0887"
             ],
             [
              0.1111111111111111,
              "#46039f"
             ],
             [
              0.2222222222222222,
              "#7201a8"
             ],
             [
              0.3333333333333333,
              "#9c179e"
             ],
             [
              0.4444444444444444,
              "#bd3786"
             ],
             [
              0.5555555555555556,
              "#d8576b"
             ],
             [
              0.6666666666666666,
              "#ed7953"
             ],
             [
              0.7777777777777778,
              "#fb9f3a"
             ],
             [
              0.8888888888888888,
              "#fdca26"
             ],
             [
              1,
              "#f0f921"
             ]
            ],
            "type": "surface"
           }
          ],
          "table": [
           {
            "cells": {
             "fill": {
              "color": "#EBF0F8"
             },
             "line": {
              "color": "white"
             }
            },
            "header": {
             "fill": {
              "color": "#C8D4E3"
             },
             "line": {
              "color": "white"
             }
            },
            "type": "table"
           }
          ]
         },
         "layout": {
          "annotationdefaults": {
           "arrowcolor": "#2a3f5f",
           "arrowhead": 0,
           "arrowwidth": 1
          },
          "coloraxis": {
           "colorbar": {
            "outlinewidth": 0,
            "ticks": ""
           }
          },
          "colorscale": {
           "diverging": [
            [
             0,
             "#8e0152"
            ],
            [
             0.1,
             "#c51b7d"
            ],
            [
             0.2,
             "#de77ae"
            ],
            [
             0.3,
             "#f1b6da"
            ],
            [
             0.4,
             "#fde0ef"
            ],
            [
             0.5,
             "#f7f7f7"
            ],
            [
             0.6,
             "#e6f5d0"
            ],
            [
             0.7,
             "#b8e186"
            ],
            [
             0.8,
             "#7fbc41"
            ],
            [
             0.9,
             "#4d9221"
            ],
            [
             1,
             "#276419"
            ]
           ],
           "sequential": [
            [
             0,
             "#0d0887"
            ],
            [
             0.1111111111111111,
             "#46039f"
            ],
            [
             0.2222222222222222,
             "#7201a8"
            ],
            [
             0.3333333333333333,
             "#9c179e"
            ],
            [
             0.4444444444444444,
             "#bd3786"
            ],
            [
             0.5555555555555556,
             "#d8576b"
            ],
            [
             0.6666666666666666,
             "#ed7953"
            ],
            [
             0.7777777777777778,
             "#fb9f3a"
            ],
            [
             0.8888888888888888,
             "#fdca26"
            ],
            [
             1,
             "#f0f921"
            ]
           ],
           "sequentialminus": [
            [
             0,
             "#0d0887"
            ],
            [
             0.1111111111111111,
             "#46039f"
            ],
            [
             0.2222222222222222,
             "#7201a8"
            ],
            [
             0.3333333333333333,
             "#9c179e"
            ],
            [
             0.4444444444444444,
             "#bd3786"
            ],
            [
             0.5555555555555556,
             "#d8576b"
            ],
            [
             0.6666666666666666,
             "#ed7953"
            ],
            [
             0.7777777777777778,
             "#fb9f3a"
            ],
            [
             0.8888888888888888,
             "#fdca26"
            ],
            [
             1,
             "#f0f921"
            ]
           ]
          },
          "colorway": [
           "#636efa",
           "#EF553B",
           "#00cc96",
           "#ab63fa",
           "#FFA15A",
           "#19d3f3",
           "#FF6692",
           "#B6E880",
           "#FF97FF",
           "#FECB52"
          ],
          "font": {
           "color": "#2a3f5f"
          },
          "geo": {
           "bgcolor": "white",
           "lakecolor": "white",
           "landcolor": "#E5ECF6",
           "showlakes": true,
           "showland": true,
           "subunitcolor": "white"
          },
          "hoverlabel": {
           "align": "left"
          },
          "hovermode": "closest",
          "mapbox": {
           "style": "light"
          },
          "paper_bgcolor": "white",
          "plot_bgcolor": "#E5ECF6",
          "polar": {
           "angularaxis": {
            "gridcolor": "white",
            "linecolor": "white",
            "ticks": ""
           },
           "bgcolor": "#E5ECF6",
           "radialaxis": {
            "gridcolor": "white",
            "linecolor": "white",
            "ticks": ""
           }
          },
          "scene": {
           "xaxis": {
            "backgroundcolor": "#E5ECF6",
            "gridcolor": "white",
            "gridwidth": 2,
            "linecolor": "white",
            "showbackground": true,
            "ticks": "",
            "zerolinecolor": "white"
           },
           "yaxis": {
            "backgroundcolor": "#E5ECF6",
            "gridcolor": "white",
            "gridwidth": 2,
            "linecolor": "white",
            "showbackground": true,
            "ticks": "",
            "zerolinecolor": "white"
           },
           "zaxis": {
            "backgroundcolor": "#E5ECF6",
            "gridcolor": "white",
            "gridwidth": 2,
            "linecolor": "white",
            "showbackground": true,
            "ticks": "",
            "zerolinecolor": "white"
           }
          },
          "shapedefaults": {
           "line": {
            "color": "#2a3f5f"
           }
          },
          "ternary": {
           "aaxis": {
            "gridcolor": "white",
            "linecolor": "white",
            "ticks": ""
           },
           "baxis": {
            "gridcolor": "white",
            "linecolor": "white",
            "ticks": ""
           },
           "bgcolor": "#E5ECF6",
           "caxis": {
            "gridcolor": "white",
            "linecolor": "white",
            "ticks": ""
           }
          },
          "title": {
           "x": 0.05
          },
          "xaxis": {
           "automargin": true,
           "gridcolor": "white",
           "linecolor": "white",
           "ticks": "",
           "title": {
            "standoff": 15
           },
           "zerolinecolor": "white",
           "zerolinewidth": 2
          },
          "yaxis": {
           "automargin": true,
           "gridcolor": "white",
           "linecolor": "white",
           "ticks": "",
           "title": {
            "standoff": 15
           },
           "zerolinecolor": "white",
           "zerolinewidth": 2
          }
         }
        },
        "title": {
         "text": "CUF value per energy aspect"
        },
        "width": 1100,
        "xaxis": {
         "dtick": [
          1,
          2
         ],
         "title": {
          "font": {
           "size": 15
          },
          "text": "Date"
         }
        },
        "yaxis": {
         "dtick": 2,
         "title": {
          "font": {
           "size": 15
          },
          "text": "Percentage(%)"
         }
        }
       }
      },
      "text/html": [
       "<div>\n",
       "        \n",
       "        \n",
       "            <div id=\"b3984d93-6730-4a6f-ab13-b1609cef48a7\" class=\"plotly-graph-div\" style=\"height:680px; width:1100px;\"></div>\n",
       "            <script type=\"text/javascript\">\n",
       "                require([\"plotly\"], function(Plotly) {\n",
       "                    window.PLOTLYENV=window.PLOTLYENV || {};\n",
       "                    \n",
       "                if (document.getElementById(\"b3984d93-6730-4a6f-ab13-b1609cef48a7\")) {\n",
       "                    Plotly.newPlot(\n",
       "                        'b3984d93-6730-4a6f-ab13-b1609cef48a7',\n",
       "                        [{\"hoverlabel\": {\"namelength\": 0}, \"hovertemplate\": \"id=ait82kw<br>date=%{x}<br>cuf=%{y}\", \"legendgroup\": \"id=ait82kw\", \"marker\": {\"color\": \"#AA0DFE\", \"symbol\": \"circle\"}, \"mode\": \"markers\", \"name\": \"id=ait82kw\", \"showlegend\": true, \"type\": \"scatter\", \"x\": [\"2019-12-30T00:00:00\", \"2019-12-31T00:00:00\", \"2020-01-01T00:00:00\", \"2020-01-02T00:00:00\", \"2020-01-03T00:00:00\", \"2020-01-04T00:00:00\", \"2020-01-05T00:00:00\", \"2020-01-06T00:00:00\", \"2020-01-07T00:00:00\", \"2020-01-08T00:00:00\", \"2020-01-09T00:00:00\", \"2020-01-10T00:00:00\", \"2020-01-11T00:00:00\", \"2020-01-12T00:00:00\", \"2020-01-13T00:00:00\", \"2020-01-14T00:00:00\", \"2020-01-15T00:00:00\", \"2020-01-16T00:00:00\", \"2020-01-20T00:00:00\", \"2020-01-21T00:00:00\", \"2020-01-22T00:00:00\", \"2020-01-23T00:00:00\", \"2020-01-24T00:00:00\", \"2020-01-25T00:00:00\", \"2020-01-26T00:00:00\", \"2020-01-27T00:00:00\"], \"xaxis\": \"x\", \"y\": [11.013194190131944, 14.449306064180556, 15.771527820166668, 16.268055174083333, 18.518055809868056, 13.163194656375, 14.438194698756945, 4.824305640326389, 7.628472116256944, 6.409722434152779, 15.790972179833334, 22.910416920979166, 23.512499067520835, 22.543055216472222, 8.768055703902778, 13.979860941569445, 19.5416662428125, 5.182638698152778, 10.847917132909721, 13.070833418104167, 18.448611365423613, 26.469444698756945, 26.410416497125, 22.554166581895835, 21.25, 8.190277947319444], \"yaxis\": \"y\"}, {\"hoverlabel\": {\"namelength\": 0}, \"hovertemplate\": \"id=aurobindo<br>date=%{x}<br>cuf=%{y}\", \"legendgroup\": \"id=aurobindo\", \"marker\": {\"color\": \"#3283FE\", \"symbol\": \"circle\"}, \"mode\": \"markers\", \"name\": \"id=aurobindo\", \"showlegend\": true, \"type\": \"scatter\", \"x\": [\"2019-12-30T00:00:00\", \"2019-12-31T00:00:00\", \"2020-01-01T00:00:00\", \"2020-01-02T00:00:00\", \"2020-01-03T00:00:00\", \"2020-01-04T00:00:00\", \"2020-01-05T00:00:00\", \"2020-01-06T00:00:00\", \"2020-01-07T00:00:00\", \"2020-01-08T00:00:00\", \"2020-01-09T00:00:00\", \"2020-01-10T00:00:00\", \"2020-01-11T00:00:00\", \"2020-01-12T00:00:00\", \"2020-01-13T00:00:00\", \"2020-01-14T00:00:00\", \"2020-01-15T00:00:00\", \"2020-01-16T00:00:00\", \"2020-01-20T00:00:00\", \"2020-01-21T00:00:00\", \"2020-01-22T00:00:00\", \"2020-01-23T00:00:00\", \"2020-01-24T00:00:00\", \"2020-01-25T00:00:00\", \"2020-01-26T00:00:00\", \"2020-01-27T00:00:00\"], \"xaxis\": \"x\", \"y\": [7.8397567728363775, 10.358350030307642, 11.129986683688305, 10.623731993593646, 12.550709939148074, 11.265212414308658, 11.990364698884385, 4.612914285927992, 4.916328445647398, 6.775692881076742, 13.215010193576743, 15.073529927611565, 15.273833774568967, 14.472617097126438, 6.247464348284314, 11.083502314874918, 11.643001564131172, 3.8962135289131172, 8.024847612254902, 11.416497788294457, 12.914131427636919, 18.51335387523665, 18.111900190314405, 16.642157172253214, 16.093644199535163, 8.032454438429685], \"yaxis\": \"y\"}, {\"hoverlabel\": {\"namelength\": 0}, \"hovertemplate\": \"id=btcpusa110kw<br>date=%{x}<br>cuf=%{y}\", \"legendgroup\": \"id=btcpusa110kw\", \"marker\": {\"color\": \"#85660D\", \"symbol\": \"circle\"}, \"mode\": \"markers\", \"name\": \"id=btcpusa110kw\", \"showlegend\": true, \"type\": \"scatter\", \"x\": [\"2019-12-30T00:00:00\", \"2019-12-31T00:00:00\", \"2020-01-01T00:00:00\", \"2020-01-02T00:00:00\", \"2020-01-03T00:00:00\", \"2020-01-04T00:00:00\", \"2020-01-05T00:00:00\", \"2020-01-06T00:00:00\", \"2020-01-07T00:00:00\", \"2020-01-08T00:00:00\", \"2020-01-09T00:00:00\", \"2020-01-10T00:00:00\", \"2020-01-11T00:00:00\", \"2020-01-12T00:00:00\", \"2020-01-13T00:00:00\", \"2020-01-14T00:00:00\", \"2020-01-15T00:00:00\", \"2020-01-16T00:00:00\", \"2020-01-20T00:00:00\", \"2020-01-21T00:00:00\", \"2020-01-22T00:00:00\", \"2020-01-23T00:00:00\", \"2020-01-24T00:00:00\", \"2020-01-25T00:00:00\", \"2020-01-26T00:00:00\", \"2020-01-27T00:00:00\"], \"xaxis\": \"x\", \"y\": [8.693181818181818, 11.372348900996212, 13.13409053918182, 12.37689393939394, 14.354167129053033, 10.890908674761365, 11.865151145242425, 4.264394008753788, 5.265909252746212, 3.987499872844697, 12.54886396003409, 17.312121535791665, 17.253408721, 16.943560513583332, 6.364394101231061, 11.414014642890152, 14.5242425167197, 4.685227365204545, 7.994318297416666, 10.537500092477273, 13.582954406738637, 20.676893754439394, 19.87727309718182, 17.854166897859848, 17.073863636363637, 6.743181980018938], \"yaxis\": \"y\"}, {\"hoverlabel\": {\"namelength\": 0}, \"hovertemplate\": \"id=deendayalupadhyaycollege<br>date=%{x}<br>cuf=%{y}\", \"legendgroup\": \"id=deendayalupadhyaycollege\", \"marker\": {\"color\": \"#782AB6\", \"symbol\": \"circle\"}, \"mode\": \"markers\", \"name\": \"id=deendayalupadhyaycollege\", \"showlegend\": true, \"type\": \"scatter\", \"x\": [\"2019-12-30T00:00:00\", \"2019-12-31T00:00:00\", \"2020-01-01T00:00:00\", \"2020-01-02T00:00:00\", \"2020-01-03T00:00:00\", \"2020-01-04T00:00:00\", \"2020-01-05T00:00:00\", \"2020-01-06T00:00:00\", \"2020-01-07T00:00:00\", \"2020-01-08T00:00:00\", \"2020-01-09T00:00:00\", \"2020-01-10T00:00:00\", \"2020-01-11T00:00:00\", \"2020-01-12T00:00:00\", \"2020-01-13T00:00:00\", \"2020-01-14T00:00:00\", \"2020-01-15T00:00:00\", \"2020-01-16T00:00:00\", \"2020-01-20T00:00:00\", \"2020-01-21T00:00:00\", \"2020-01-22T00:00:00\", \"2020-01-23T00:00:00\", \"2020-01-24T00:00:00\", \"2020-01-25T00:00:00\", \"2020-01-26T00:00:00\", \"2020-01-27T00:00:00\"], \"xaxis\": \"x\", \"y\": [7.24922832778329, 9.528769807630622, 10.796130649627978, 10.017361380224868, 11.986331334190368, 12.287257630147707, 12.031525741388338, 4.959766196194336, 4.95287686638834, 3.358134937455908, 10.183531981506283, 14.821703471833663, 17.293045339971894, 16.894290056178352, 6.119929503722995, 9.390156525573193, 14.512235315178573, 4.987599357727072, 7.719907811078043, 10.869984904293432, 11.15795838559579, 19.407242063492063, 19.31878246327436, 17.271273981327163, 16.86811026652337, 6.965387855676809], \"yaxis\": \"y\"}, {\"hoverlabel\": {\"namelength\": 0}, \"hovertemplate\": \"id=delhihaat<br>date=%{x}<br>cuf=%{y}\", \"legendgroup\": \"id=delhihaat\", \"marker\": {\"color\": \"#565656\", \"symbol\": \"circle\"}, \"mode\": \"markers\", \"name\": \"id=delhihaat\", \"showlegend\": true, \"type\": \"scatter\", \"x\": [\"2019-12-30T00:00:00\", \"2019-12-31T00:00:00\", \"2020-01-01T00:00:00\", \"2020-01-02T00:00:00\", \"2020-01-03T00:00:00\", \"2020-01-04T00:00:00\", \"2020-01-05T00:00:00\", \"2020-01-11T00:00:00\", \"2020-01-12T00:00:00\", \"2020-01-13T00:00:00\", \"2020-01-14T00:00:00\", \"2020-01-15T00:00:00\", \"2020-01-16T00:00:00\", \"2020-01-20T00:00:00\", \"2020-01-21T00:00:00\", \"2020-01-22T00:00:00\", \"2020-01-23T00:00:00\", \"2020-01-24T00:00:00\", \"2020-01-25T00:00:00\", \"2020-01-26T00:00:00\", \"2020-01-27T00:00:00\"], \"xaxis\": \"x\", \"y\": [5.848333358766666, 7.650000254316668, 8.711666742958334, 8.465833028158332, 11.600833892825, 9.635000228883332, 9.945833206175001, 7.237499872841667, 12.853333791099999, 4.896666526791667, 7.780000050866666, 11.098332722983335, 3.7966667811083328, 5.965833028158333, 8.295000076291666, 9.834999720258333, 15.818333943683333, 14.360833485924998, 13.475833892824998, 13.123332977291668, 5.605833053591667], \"yaxis\": \"y\"}, {\"hoverlabel\": {\"namelength\": 0}, \"hovertemplate\": \"id=dtu<br>date=%{x}<br>cuf=%{y}\", \"legendgroup\": \"id=dtu\", \"marker\": {\"color\": \"#1C8356\", \"symbol\": \"circle\"}, \"mode\": \"markers\", \"name\": \"id=dtu\", \"showlegend\": true, \"type\": \"scatter\", \"x\": [\"2019-12-30T00:00:00\", \"2019-12-31T00:00:00\", \"2020-01-01T00:00:00\", \"2020-01-02T00:00:00\", \"2020-01-03T00:00:00\", \"2020-01-04T00:00:00\", \"2020-01-05T00:00:00\", \"2020-01-06T00:00:00\", \"2020-01-07T00:00:00\", \"2020-01-08T00:00:00\", \"2020-01-09T00:00:00\", \"2020-01-10T00:00:00\", \"2020-01-11T00:00:00\", \"2020-01-12T00:00:00\", \"2020-01-13T00:00:00\", \"2020-01-14T00:00:00\", \"2020-01-15T00:00:00\", \"2020-01-16T00:00:00\", \"2020-01-20T00:00:00\", \"2020-01-21T00:00:00\", \"2020-01-22T00:00:00\", \"2020-01-23T00:00:00\", \"2020-01-24T00:00:00\", \"2020-01-25T00:00:00\", \"2020-01-26T00:00:00\", \"2020-01-27T00:00:00\"], \"xaxis\": \"x\", \"y\": [5.601948278921682, 9.839699003431713, 11.317708757188464, 12.708236553050734, 13.476755589614198, 11.037905422257909, 10.814911642192323, 3.9798418680825605, 6.0313466154494595, 2.7506751778684406, 10.323977764741512, 16.07976489596933, 17.148437029049965, 16.342689372875192, 6.200713875852625, 8.857928382025463, 14.787711626217206, 4.592303287835647, 8.057484803376735, 7.860628763834876, 11.681906382242477, 20.345871536820024, 20.13531908576871, 17.012056892301317, 16.519965654538, 6.124228606989776], \"yaxis\": \"y\"}, {\"hoverlabel\": {\"namelength\": 0}, \"hovertemplate\": \"id=igdtuw<br>date=%{x}<br>cuf=%{y}\", \"legendgroup\": \"id=igdtuw\", \"marker\": {\"color\": \"#16FF32\", \"symbol\": \"circle\"}, \"mode\": \"markers\", \"name\": \"id=igdtuw\", \"showlegend\": true, \"type\": \"scatter\", \"x\": [\"2019-12-30T00:00:00\", \"2019-12-31T00:00:00\", \"2020-01-01T00:00:00\", \"2020-01-02T00:00:00\", \"2020-01-03T00:00:00\", \"2020-01-04T00:00:00\", \"2020-01-05T00:00:00\", \"2020-01-06T00:00:00\", \"2020-01-07T00:00:00\", \"2020-01-08T00:00:00\", \"2020-01-09T00:00:00\", \"2020-01-10T00:00:00\", \"2020-01-11T00:00:00\", \"2020-01-12T00:00:00\", \"2020-01-13T00:00:00\", \"2020-01-14T00:00:00\", \"2020-01-15T00:00:00\", \"2020-01-16T00:00:00\", \"2020-01-20T00:00:00\", \"2020-01-21T00:00:00\", \"2020-01-22T00:00:00\", \"2020-01-23T00:00:00\", \"2020-01-24T00:00:00\", \"2020-01-25T00:00:00\", \"2020-01-26T00:00:00\", \"2020-01-27T00:00:00\"], \"xaxis\": \"x\", \"y\": [7.609374939449405, 10.125743775141368, 11.219493926517858, 10.978670725746529, 12.877975948273809, 8.963045998224207, 10.421874788072918, 3.650297437395834, 5.1971726947371035, 3.9548612776264878, 11.759424966478175, 16.350694686646825, 16.279762510270338, 15.405506557889384, 6.268353310843254, 10.925843223692954, 13.286210620213293, 4.522817475456349, 7.996031594655258, 10.586309432983631, 13.79117057437004, 18.514881436785714, 18.464036971803075, 15.438491579087302, 6.714781503829366, 6.545138737512401], \"yaxis\": \"y\"}, {\"hoverlabel\": {\"namelength\": 0}, \"hovertemplate\": \"id=ihbas<br>date=%{x}<br>cuf=%{y}\", \"legendgroup\": \"id=ihbas\", \"marker\": {\"color\": \"#F7E1A0\", \"symbol\": \"circle\"}, \"mode\": \"markers\", \"name\": \"id=ihbas\", \"showlegend\": true, \"type\": \"scatter\", \"x\": [\"2019-12-30T00:00:00\", \"2019-12-31T00:00:00\", \"2020-01-01T00:00:00\", \"2020-01-02T00:00:00\", \"2020-01-03T00:00:00\", \"2020-01-04T00:00:00\", \"2020-01-05T00:00:00\", \"2020-01-06T00:00:00\", \"2020-01-07T00:00:00\", \"2020-01-08T00:00:00\", \"2020-01-09T00:00:00\", \"2020-01-10T00:00:00\", \"2020-01-11T00:00:00\", \"2020-01-12T00:00:00\", \"2020-01-13T00:00:00\", \"2020-01-14T00:00:00\", \"2020-01-15T00:00:00\", \"2020-01-16T00:00:00\", \"2020-01-20T00:00:00\", \"2020-01-21T00:00:00\", \"2020-01-22T00:00:00\", \"2020-01-23T00:00:00\", \"2020-01-24T00:00:00\", \"2020-01-25T00:00:00\", \"2020-01-26T00:00:00\", \"2020-01-27T00:00:00\"], \"xaxis\": \"x\", \"y\": [4.386308846973751, 5.796062593917241, 6.633855759429154, 6.0880162300315375, 7.626943267448713, 5.158320357919215, 6.230568180998343, 2.1330274937707063, 2.9837219965452975, 2.1436989732718525, 6.298101640986557, 9.097859521645644, 8.69377575639972, 8.538321982100536, 3.9790393623247966, 5.593144808583397, 7.944221282710563, 3.432562348795872, 6.725121224934696, 9.089257982041604, 10.756562609191834, 14.997610622954893, 14.721903475296255, 12.641596624002933, 12.32081402575497, 5.544724692870796], \"yaxis\": \"y\"}, {\"hoverlabel\": {\"namelength\": 0}, \"hovertemplate\": \"id=iiitd<br>date=%{x}<br>cuf=%{y}\", \"legendgroup\": \"id=iiitd\", \"marker\": {\"color\": \"#E2E2E2\", \"symbol\": \"circle\"}, \"mode\": \"markers\", \"name\": \"id=iiitd\", \"showlegend\": true, \"type\": \"scatter\", \"x\": [\"2019-12-30T00:00:00\", \"2019-12-31T00:00:00\", \"2020-01-01T00:00:00\", \"2020-01-02T00:00:00\", \"2020-01-03T00:00:00\", \"2020-01-04T00:00:00\", \"2020-01-05T00:00:00\", \"2020-01-06T00:00:00\", \"2020-01-07T00:00:00\", \"2020-01-08T00:00:00\", \"2020-01-09T00:00:00\", \"2020-01-10T00:00:00\", \"2020-01-11T00:00:00\", \"2020-01-12T00:00:00\", \"2020-01-13T00:00:00\", \"2020-01-14T00:00:00\", \"2020-01-15T00:00:00\", \"2020-01-16T00:00:00\", \"2020-01-20T00:00:00\", \"2020-01-21T00:00:00\", \"2020-01-22T00:00:00\", \"2020-01-23T00:00:00\", \"2020-01-24T00:00:00\", \"2020-01-25T00:00:00\", \"2020-01-26T00:00:00\", \"2020-01-27T00:00:00\"], \"xaxis\": \"x\", \"y\": [6.309721911395834, 8.31134231002315, 12.212036980523148, 9.373379460087962, 13.260879516601854, 10.864583474618057, 12.040046409324072, 3.7379628640624993, 4.944675940055555, 4.727777904935185, 10.300925925925926, 12.171296013726852, 12.346991079824077, 11.54444447270139, 5.077314730043981, 8.080324243615742, 8.843981424967593, 3.3726851145416665, 6.284953929759259, 9.31365754869213, 10.538657153094908, 14.099536471895835, 13.714352360479168, 12.21828743263426, 11.825462623879629, 5.5243054142708345], \"yaxis\": \"y\"}, {\"hoverlabel\": {\"namelength\": 0}, \"hovertemplate\": \"id=iticvraman<br>date=%{x}<br>cuf=%{y}\", \"legendgroup\": \"id=iticvraman\", \"marker\": {\"color\": \"#1CBE4F\", \"symbol\": \"circle\"}, \"mode\": \"markers\", \"name\": \"id=iticvraman\", \"showlegend\": true, \"type\": \"scatter\", \"x\": [\"2019-12-30T00:00:00\", \"2019-12-31T00:00:00\", \"2020-01-01T00:00:00\", \"2020-01-02T00:00:00\", \"2020-01-03T00:00:00\", \"2020-01-04T00:00:00\", \"2020-01-05T00:00:00\", \"2020-01-06T00:00:00\", \"2020-01-07T00:00:00\", \"2020-01-08T00:00:00\", \"2020-01-09T00:00:00\", \"2020-01-10T00:00:00\", \"2020-01-11T00:00:00\", \"2020-01-12T00:00:00\", \"2020-01-13T00:00:00\", \"2020-01-14T00:00:00\", \"2020-01-15T00:00:00\", \"2020-01-16T00:00:00\", \"2020-01-20T00:00:00\", \"2020-01-21T00:00:00\", \"2020-01-22T00:00:00\", \"2020-01-23T00:00:00\", \"2020-01-24T00:00:00\", \"2020-01-25T00:00:00\", \"2020-01-26T00:00:00\"], \"xaxis\": \"x\", \"y\": [6.1837501525875, 8.21875, 9.236666361491668, 9.55166689555, 10.950416564941667, 8.03624979655, 8.673333485920832, 3.1204166412333336, 5.3954168955499995, 3.8495833079, 10.323750178020832, 14.597916920979168, 14.642916361491668, 14.252499898275001, 6.4162502288833325, 8.762500127158333, 13.003749847412498, 3.770416577658333, 7.4987500508625, 8.791666666666668, 10.5349998474125, 17.540416717529165, 15.203333536783333, 14.698749542237499, 13.453333536783333], \"yaxis\": \"y\"}, {\"hoverlabel\": {\"namelength\": 0}, \"hovertemplate\": \"id=itijaffarpur<br>date=%{x}<br>cuf=%{y}\", \"legendgroup\": \"id=itijaffarpur\", \"marker\": {\"color\": \"#C4451C\", \"symbol\": \"circle\"}, \"mode\": \"markers\", \"name\": \"id=itijaffarpur\", \"showlegend\": true, \"type\": \"scatter\", \"x\": [\"2019-12-30T00:00:00\", \"2019-12-31T00:00:00\", \"2020-01-01T00:00:00\", \"2020-01-02T00:00:00\", \"2020-01-03T00:00:00\", \"2020-01-04T00:00:00\", \"2020-01-05T00:00:00\", \"2020-01-06T00:00:00\", \"2020-01-07T00:00:00\", \"2020-01-08T00:00:00\", \"2020-01-09T00:00:00\", \"2020-01-10T00:00:00\", \"2020-01-11T00:00:00\", \"2020-01-12T00:00:00\", \"2020-01-13T00:00:00\", \"2020-01-14T00:00:00\", \"2020-01-15T00:00:00\", \"2020-01-16T00:00:00\", \"2020-01-20T00:00:00\", \"2020-01-21T00:00:00\", \"2020-01-22T00:00:00\", \"2020-01-23T00:00:00\", \"2020-01-24T00:00:00\", \"2020-01-25T00:00:00\", \"2020-01-26T00:00:00\", \"2020-01-27T00:00:00\"], \"xaxis\": \"x\", \"y\": [8.246004635884702, 11.28995451208904, 13.270547945205479, 12.119292341957761, 14.153538882460046, 13.948059082031964, 13.174086618641553, 5.63755688602169, 5.954908780313927, 3.193493194229452, 9.610730872305934, 15.714040956541094, 20.04509146355023, 19.70034211738014, 7.267694168441781, 10.857876468464612, 14.603310850656392, 3.9103882497831055, 7.948059360730593, 14.275114503624428, 13.070776255707765, 22.937785109429225, 22.970319774052513, 21.75570797158105, 20.56449820461758, 8.78310530152968], \"yaxis\": \"y\"}, {\"hoverlabel\": {\"namelength\": 0}, \"hovertemplate\": \"id=itijailroad<br>date=%{x}<br>cuf=%{y}\", \"legendgroup\": \"id=itijailroad\", \"marker\": {\"color\": \"#DEA0FD\", \"symbol\": \"circle\"}, \"mode\": \"markers\", \"name\": \"id=itijailroad\", \"showlegend\": true, \"type\": \"scatter\", \"x\": [\"2019-12-30T00:00:00\", \"2019-12-31T00:00:00\", \"2020-01-01T00:00:00\", \"2020-01-02T00:00:00\", \"2020-01-03T00:00:00\", \"2020-01-04T00:00:00\", \"2020-01-05T00:00:00\", \"2020-01-06T00:00:00\", \"2020-01-07T00:00:00\", \"2020-01-08T00:00:00\", \"2020-01-09T00:00:00\", \"2020-01-10T00:00:00\", \"2020-01-11T00:00:00\", \"2020-01-12T00:00:00\", \"2020-01-13T00:00:00\", \"2020-01-14T00:00:00\", \"2020-01-15T00:00:00\", \"2020-01-16T00:00:00\", \"2020-01-21T00:00:00\", \"2020-01-23T00:00:00\", \"2020-01-24T00:00:00\", \"2020-01-25T00:00:00\", \"2020-01-26T00:00:00\", \"2020-01-27T00:00:00\"], \"xaxis\": \"x\", \"y\": [7.021296465837963, 9.173610828541666, 10.44444472701389, 10.315741079824074, 13.018055668583333, 11.101388578060185, 11.460648289435186, 4.3282406418425925, 4.748611096981482, 3.6731479786064813, 10.70972230699537, 14.097685637296294, 15.010648656773148, 14.887500339083331, 5.7458333615925925, 9.218518292462964, 12.850463302046297, 4.061574229486111, 9.389815153898148, 18.396295618129628, 17.63379697446296, 15.818981594509262, 15.431943822791666, 6.462963245532408], \"yaxis\": \"y\"}, {\"hoverlabel\": {\"namelength\": 0}, \"hovertemplate\": \"id=itimangolpuri<br>date=%{x}<br>cuf=%{y}\", \"legendgroup\": \"id=itimangolpuri\", \"marker\": {\"color\": \"#FE00FA\", \"symbol\": \"circle\"}, \"mode\": \"markers\", \"name\": \"id=itimangolpuri\", \"showlegend\": true, \"type\": \"scatter\", \"x\": [\"2019-12-30T00:00:00\", \"2019-12-31T00:00:00\", \"2020-01-01T00:00:00\", \"2020-01-02T00:00:00\", \"2020-01-03T00:00:00\", \"2020-01-04T00:00:00\", \"2020-01-05T00:00:00\", \"2020-01-06T00:00:00\", \"2020-01-07T00:00:00\", \"2020-01-08T00:00:00\", \"2020-01-09T00:00:00\", \"2020-01-10T00:00:00\", \"2020-01-11T00:00:00\", \"2020-01-12T00:00:00\", \"2020-01-13T00:00:00\", \"2020-01-14T00:00:00\", \"2020-01-15T00:00:00\", \"2020-01-16T00:00:00\", \"2020-01-20T00:00:00\", \"2020-01-22T00:00:00\"], \"xaxis\": \"x\", \"y\": [3.5944443278819445, 4.8013888465, 5.313888655770834, 5.318055682715278, 6.845138867694445, 5.732639100819445, 6.463889016048611, 2.459027767180556, 4.204861058131945, 3.5111112064791663, 10.097221798368055, 15.886110729638888, 17.612499660916665, 16.66111098395139, 6.540972391763889, 9.478472603694444, 14.552777608236111, 5.1930554707847225, 7.877083354527778, 11.456944147743057], \"yaxis\": \"y\"}, {\"hoverlabel\": {\"namelength\": 0}, \"hovertemplate\": \"id=kalindicillege<br>date=%{x}<br>cuf=%{y}\", \"legendgroup\": \"id=kalindicillege\", \"marker\": {\"color\": \"#325A9B\", \"symbol\": \"circle\"}, \"mode\": \"markers\", \"name\": \"id=kalindicillege\", \"showlegend\": true, \"type\": \"scatter\", \"x\": [\"2019-12-30T00:00:00\", \"2019-12-31T00:00:00\", \"2020-01-01T00:00:00\", \"2020-01-02T00:00:00\", \"2020-01-03T00:00:00\", \"2020-01-04T00:00:00\", \"2020-01-05T00:00:00\", \"2020-01-06T00:00:00\", \"2020-01-07T00:00:00\", \"2020-01-08T00:00:00\", \"2020-01-09T00:00:00\", \"2020-01-10T00:00:00\", \"2020-01-11T00:00:00\", \"2020-01-12T00:00:00\", \"2020-01-13T00:00:00\", \"2020-01-14T00:00:00\", \"2020-01-15T00:00:00\", \"2020-01-16T00:00:00\", \"2020-01-20T00:00:00\", \"2020-01-21T00:00:00\", \"2020-01-22T00:00:00\", \"2020-01-23T00:00:00\", \"2020-01-24T00:00:00\", \"2020-01-25T00:00:00\", \"2020-01-26T00:00:00\", \"2020-01-27T00:00:00\"], \"xaxis\": \"x\", \"y\": [7.860706333461436, 10.3060949710356, 11.553398099406689, 11.331580860585222, 13.12837117183792, 9.803127959580637, 10.765911048799893, 4.025755062331446, 5.037756285106527, 4.159250177096818, 11.305960250903453, 15.620954857160196, 15.300026474905613, 15.124056588740562, 6.237190003789105, 10.380259352339536, 13.203209400694446, 4.3406147015507015, 7.830366733387272, 10.452400133447952, 12.430555226348437, 18.458062905454426, 17.996898103816076, 15.740291714799085, 15.220469255663433, 6.616774500377563], \"yaxis\": \"y\"}, {\"hoverlabel\": {\"namelength\": 0}, \"hovertemplate\": \"id=kitpitampura<br>date=%{x}<br>cuf=%{y}\", \"legendgroup\": \"id=kitpitampura\", \"marker\": {\"color\": \"#FEAF16\", \"symbol\": \"circle\"}, \"mode\": \"markers\", \"name\": \"id=kitpitampura\", \"showlegend\": true, \"type\": \"scatter\", \"x\": [\"2019-12-30T00:00:00\", \"2019-12-31T00:00:00\", \"2020-01-01T00:00:00\", \"2020-01-02T00:00:00\", \"2020-01-03T00:00:00\", \"2020-01-04T00:00:00\", \"2020-01-05T00:00:00\", \"2020-01-06T00:00:00\", \"2020-01-07T00:00:00\", \"2020-01-08T00:00:00\", \"2020-01-09T00:00:00\", \"2020-01-10T00:00:00\", \"2020-01-11T00:00:00\", \"2020-01-12T00:00:00\", \"2020-01-13T00:00:00\", \"2020-01-14T00:00:00\", \"2020-01-15T00:00:00\", \"2020-01-16T00:00:00\", \"2020-01-20T00:00:00\", \"2020-01-21T00:00:00\", \"2020-01-22T00:00:00\", \"2020-01-23T00:00:00\", \"2020-01-24T00:00:00\", \"2020-01-25T00:00:00\", \"2020-01-26T00:00:00\", \"2020-01-27T00:00:00\"], \"xaxis\": \"x\", \"y\": [7.231215048306355, 9.568178587013723, 10.201505746899146, 10.686783418317013, 11.710298305951905, 8.593625587811417, 9.330701739063748, 3.568312088204437, 5.400346369226285, 3.7002065421229675, 10.23281411491973, 15.30575568028577, 15.577204984059417, 15.06078462425393, 6.2524982048860895, 9.297062675379696, 13.434419497280508, 3.94301232801259, 8.18678400785205, 8.626932275794365, 12.699674041691647, 19.020450550366373, 19.144183757812083, 16.975086719361176, 16.1788903837863, 6.691480108556489], \"yaxis\": \"y\"}, {\"hoverlabel\": {\"namelength\": 0}, \"hovertemplate\": \"id=maulanaazadmedicalcollege<br>date=%{x}<br>cuf=%{y}\", \"legendgroup\": \"id=maulanaazadmedicalcollege\", \"marker\": {\"color\": \"#F8A19F\", \"symbol\": \"circle\"}, \"mode\": \"markers\", \"name\": \"id=maulanaazadmedicalcollege\", \"showlegend\": true, \"type\": \"scatter\", \"x\": [\"2019-12-30T00:00:00\", \"2019-12-31T00:00:00\", \"2020-01-01T00:00:00\", \"2020-01-02T00:00:00\", \"2020-01-03T00:00:00\", \"2020-01-04T00:00:00\", \"2020-01-05T00:00:00\", \"2020-01-06T00:00:00\", \"2020-01-07T00:00:00\", \"2020-01-08T00:00:00\", \"2020-01-09T00:00:00\", \"2020-01-10T00:00:00\", \"2020-01-11T00:00:00\", \"2020-01-12T00:00:00\", \"2020-01-13T00:00:00\", \"2020-01-14T00:00:00\", \"2020-01-15T00:00:00\", \"2020-01-16T00:00:00\", \"2020-01-20T00:00:00\", \"2020-01-21T00:00:00\", \"2020-01-22T00:00:00\", \"2020-01-23T00:00:00\", \"2020-01-24T00:00:00\", \"2020-01-25T00:00:00\", \"2020-01-26T00:00:00\", \"2020-01-27T00:00:00\"], \"xaxis\": \"x\", \"y\": [6.010682410538726, 7.887665008865382, 8.66132521943749, 8.235269825717745, 9.501961351654566, 7.120472146004425, 8.166207950433984, 3.17663995993991, 3.8935486690535805, 3.4923219179352363, 9.71874452914789, 12.378568463046657, 12.235853831609916, 11.682523429106162, 5.303163039745035, 8.943623641639546, 10.446711785206979, 3.797988624171675, 5.108078937660658, 9.438741547379404, 11.008178425678102, 13.733934030929731, 14.220288511788517, 12.522324797825906, 12.357703832767903, 5.620305356309465], \"yaxis\": \"y\"}, {\"hoverlabel\": {\"namelength\": 0}, \"hovertemplate\": \"id=nsit<br>date=%{x}<br>cuf=%{y}\", \"legendgroup\": \"id=nsit\", \"marker\": {\"color\": \"#90AD1C\", \"symbol\": \"circle\"}, \"mode\": \"markers\", \"name\": \"id=nsit\", \"showlegend\": true, \"type\": \"scatter\", \"x\": [\"2019-12-30T00:00:00\", \"2019-12-31T00:00:00\", \"2020-01-01T00:00:00\", \"2020-01-02T00:00:00\", \"2020-01-03T00:00:00\", \"2020-01-04T00:00:00\", \"2020-01-05T00:00:00\", \"2020-01-06T00:00:00\", \"2020-01-07T00:00:00\", \"2020-01-08T00:00:00\", \"2020-01-09T00:00:00\", \"2020-01-10T00:00:00\", \"2020-01-11T00:00:00\", \"2020-01-12T00:00:00\", \"2020-01-13T00:00:00\", \"2020-01-14T00:00:00\", \"2020-01-15T00:00:00\", \"2020-01-16T00:00:00\", \"2020-01-20T00:00:00\", \"2020-01-21T00:00:00\", \"2020-01-22T00:00:00\", \"2020-01-23T00:00:00\", \"2020-01-24T00:00:00\", \"2020-01-25T00:00:00\", \"2020-01-26T00:00:00\", \"2020-01-27T00:00:00\"], \"xaxis\": \"x\", \"y\": [7.540895124521603, 9.897890601138117, 11.239197813434929, 10.425411428443931, 12.276362980344649, 10.445473125442387, 10.34503591404064, 4.05941362734182, 4.640046264899692, 3.653292008388632, 9.670910619413581, 14.726723564996142, 16.877958509656636, 16.56159922909851, 5.951645933551956, 9.025205604333847, 14.015946564850823, 4.738683268856739, 7.319830278310185, 10.65856478341821, 11.182484410918208, 19.315843621399175, 19.29693967717207, 17.129114723990483, 16.987140482835645, 7.008358676737397], \"yaxis\": \"y\"}, {\"hoverlabel\": {\"namelength\": 0}, \"hovertemplate\": \"id=pitacademicblock100kw<br>date=%{x}<br>cuf=%{y}\", \"legendgroup\": \"id=pitacademicblock100kw\", \"marker\": {\"color\": \"#F6222E\", \"symbol\": \"circle\"}, \"mode\": \"markers\", \"name\": \"id=pitacademicblock100kw\", \"showlegend\": true, \"type\": \"scatter\", \"x\": [\"2019-12-30T00:00:00\", \"2019-12-31T00:00:00\", \"2020-01-01T00:00:00\", \"2020-01-02T00:00:00\", \"2020-01-03T00:00:00\", \"2020-01-04T00:00:00\", \"2020-01-05T00:00:00\", \"2020-01-06T00:00:00\", \"2020-01-07T00:00:00\", \"2020-01-08T00:00:00\", \"2020-01-09T00:00:00\", \"2020-01-10T00:00:00\", \"2020-01-11T00:00:00\", \"2020-01-12T00:00:00\", \"2020-01-13T00:00:00\", \"2020-01-14T00:00:00\", \"2020-01-15T00:00:00\", \"2020-01-16T00:00:00\", \"2020-01-20T00:00:00\", \"2020-01-21T00:00:00\", \"2020-01-22T00:00:00\", \"2020-01-23T00:00:00\", \"2020-01-24T00:00:00\", \"2020-01-26T00:00:00\", \"2020-01-27T00:00:00\"], \"xaxis\": \"x\", \"y\": [8.198951569613687, 10.59630269772627, 12.257726302999448, 11.580849956992276, 13.12969115133002, 10.166115160808499, 11.343819152966335, 4.112582596194813, 4.992273680157284, 5.006070589649558, 11.068708744006623, 15.75469128606512, 15.514072308741722, 15.586644187406181, 6.206125928865893, 10.444812058876932, 13.425496924528147, 3.603476720140729, 7.540011037527594, 9.851544950709162, 12.233995180783666, 18.763520701832228, 17.956953911854303, 15.587749018049118, 6.24503331468543], \"yaxis\": \"y\"}, {\"hoverlabel\": {\"namelength\": 0}, \"hovertemplate\": \"id=satyawaticollege<br>date=%{x}<br>cuf=%{y}\", \"legendgroup\": \"id=satyawaticollege\", \"marker\": {\"color\": \"#1CFFCE\", \"symbol\": \"circle\"}, \"mode\": \"markers\", \"name\": \"id=satyawaticollege\", \"showlegend\": true, \"type\": \"scatter\", \"x\": [\"2019-12-30T00:00:00\", \"2019-12-31T00:00:00\", \"2020-01-01T00:00:00\", \"2020-01-02T00:00:00\", \"2020-01-03T00:00:00\", \"2020-01-04T00:00:00\", \"2020-01-05T00:00:00\", \"2020-01-06T00:00:00\", \"2020-01-07T00:00:00\", \"2020-01-08T00:00:00\", \"2020-01-09T00:00:00\", \"2020-01-10T00:00:00\", \"2020-01-11T00:00:00\", \"2020-01-12T00:00:00\", \"2020-01-13T00:00:00\", \"2020-01-14T00:00:00\", \"2020-01-15T00:00:00\", \"2020-01-16T00:00:00\", \"2020-01-20T00:00:00\", \"2020-01-21T00:00:00\", \"2020-01-22T00:00:00\", \"2020-01-23T00:00:00\", \"2020-01-24T00:00:00\", \"2020-01-25T00:00:00\", \"2020-01-26T00:00:00\", \"2020-01-27T00:00:00\"], \"xaxis\": \"x\", \"y\": [3.6901751069219744, 4.894674768503538, 5.246461020361475, 5.34883717073222, 6.1678460522623855, 4.507920458375462, 4.839063052342432, 1.7290192498946744, 2.9027637986981794, 2.5513987771022912, 6.333417670673238, 8.671638095344623, 8.639619452485674, 8.172396179958714, 3.2857262328867534, 5.27131794517189, 6.982642631159419, 1.9792719726238621, 4.206690195235085, 4.9747220184993255, 7.197927456332154, 9.733316429866024, 9.68149658964442, 8.328699125438153, 7.910346920576339, 3.199359725370744], \"yaxis\": \"y\"}, {\"hoverlabel\": {\"namelength\": 0}, \"hovertemplate\": \"id=sscbs<br>date=%{x}<br>cuf=%{y}\", \"legendgroup\": \"id=sscbs\", \"marker\": {\"color\": \"#2ED9FF\", \"symbol\": \"circle\"}, \"mode\": \"markers\", \"name\": \"id=sscbs\", \"showlegend\": true, \"type\": \"scatter\", \"x\": [\"2019-12-31T00:00:00\", \"2020-01-01T00:00:00\", \"2020-01-02T00:00:00\", \"2020-01-03T00:00:00\", \"2020-01-04T00:00:00\", \"2020-01-09T00:00:00\", \"2020-01-10T00:00:00\", \"2020-01-11T00:00:00\", \"2020-01-12T00:00:00\", \"2020-01-13T00:00:00\", \"2020-01-14T00:00:00\", \"2020-01-15T00:00:00\", \"2020-01-16T00:00:00\", \"2020-01-20T00:00:00\"], \"xaxis\": \"x\", \"y\": [7.566337418135966, 8.46326727616228, 9.155701754385964, 9.831688696880482, 7.0526315454824555, 6.841008705005483, 11.76096514651864, 10.820175472061404, 2.8870613951425437, 4.747258571156799, 6.4391445695285086, 11.196819941200658, 3.7132677279002193, 6.409539674457236], \"yaxis\": \"y\"}, {\"hoverlabel\": {\"namelength\": 0}, \"hovertemplate\": \"id=meerabaiinstituteoftechnology<br>date=%{x}<br>cuf=%{y}\", \"legendgroup\": \"id=meerabaiinstituteoftechnology\", \"marker\": {\"color\": \"#B10DA1\", \"symbol\": \"circle\"}, \"mode\": \"markers\", \"name\": \"id=meerabaiinstituteoftechnology\", \"showlegend\": true, \"type\": \"scatter\", \"x\": [\"2020-01-02T00:00:00\", \"2020-01-03T00:00:00\", \"2020-01-04T00:00:00\", \"2020-01-05T00:00:00\", \"2020-01-06T00:00:00\", \"2020-01-07T00:00:00\", \"2020-01-09T00:00:00\", \"2020-01-10T00:00:00\", \"2020-01-11T00:00:00\", \"2020-01-12T00:00:00\", \"2020-01-13T00:00:00\", \"2020-01-14T00:00:00\", \"2020-01-15T00:00:00\", \"2020-01-16T00:00:00\"], \"xaxis\": \"x\", \"y\": [10.19568814962272, 11.730099198830846, 9.467661716849088, 10.531509298196518, 3.774046383884743, 4.893864051223051, 12.989220057752904, 15.832089349800995, 15.905058245555557, 15.766169103619404, 7.140962085124378, 11.139718177504147, 13.172056030476783, 4.891376590252902], \"yaxis\": \"y\"}, {\"hoverlabel\": {\"namelength\": 0}, \"hovertemplate\": \"id=43707<br>date=%{x}<br>cuf=%{y}\", \"legendgroup\": \"id=43707\", \"marker\": {\"color\": \"#C075A6\", \"symbol\": \"circle\"}, \"mode\": \"markers\", \"name\": \"id=43707\", \"showlegend\": true, \"type\": \"scatter\", \"x\": [\"2020-01-03T00:00:00\", \"2020-01-13T00:00:00\", \"2020-01-14T00:00:00\", \"2020-01-15T00:00:00\"], \"xaxis\": \"x\", \"y\": [null, null, null, null], \"yaxis\": \"y\"}, {\"hoverlabel\": {\"namelength\": 0}, \"hovertemplate\": \"id=55448<br>date=%{x}<br>cuf=%{y}\", \"legendgroup\": \"id=55448\", \"marker\": {\"color\": \"#FC1CBF\", \"symbol\": \"circle\"}, \"mode\": \"markers\", \"name\": \"id=55448\", \"showlegend\": true, \"type\": \"scatter\", \"x\": [\"2020-01-03T00:00:00\", \"2020-01-13T00:00:00\", \"2020-01-14T00:00:00\", \"2020-01-15T00:00:00\"], \"xaxis\": \"x\", \"y\": [null, null, null, null], \"yaxis\": \"y\"}, {\"hoverlabel\": {\"namelength\": 0}, \"hovertemplate\": \"id=58292<br>date=%{x}<br>cuf=%{y}\", \"legendgroup\": \"id=58292\", \"marker\": {\"color\": \"#B00068\", \"symbol\": \"circle\"}, \"mode\": \"markers\", \"name\": \"id=58292\", \"showlegend\": true, \"type\": \"scatter\", \"x\": [\"2020-01-03T00:00:00\", \"2020-01-13T00:00:00\", \"2020-01-14T00:00:00\", \"2020-01-15T00:00:00\"], \"xaxis\": \"x\", \"y\": [null, null, null, null], \"yaxis\": \"y\"}, {\"hoverlabel\": {\"namelength\": 0}, \"hovertemplate\": \"id=58337<br>date=%{x}<br>cuf=%{y}\", \"legendgroup\": \"id=58337\", \"marker\": {\"color\": \"#FBE426\", \"symbol\": \"circle\"}, \"mode\": \"markers\", \"name\": \"id=58337\", \"showlegend\": true, \"type\": \"scatter\", \"x\": [\"2020-01-03T00:00:00\", \"2020-01-13T00:00:00\", \"2020-01-14T00:00:00\", \"2020-01-15T00:00:00\"], \"xaxis\": \"x\", \"y\": [null, null, null, null], \"yaxis\": \"y\"}, {\"hoverlabel\": {\"namelength\": 0}, \"hovertemplate\": \"id=itipusa<br>date=%{x}<br>cuf=%{y}\", \"legendgroup\": \"id=itipusa\", \"marker\": {\"color\": \"#FA0087\", \"symbol\": \"circle\"}, \"mode\": \"markers\", \"name\": \"id=itipusa\", \"showlegend\": true, \"type\": \"scatter\", \"x\": [\"2020-01-04T00:00:00\", \"2020-01-05T00:00:00\", \"2020-01-06T00:00:00\", \"2020-01-07T00:00:00\", \"2020-01-09T00:00:00\", \"2020-01-10T00:00:00\", \"2020-01-11T00:00:00\", \"2020-01-12T00:00:00\", \"2020-01-13T00:00:00\", \"2020-01-14T00:00:00\", \"2020-01-15T00:00:00\", \"2020-01-16T00:00:00\", \"2020-01-20T00:00:00\", \"2020-01-21T00:00:00\", \"2020-01-22T00:00:00\", \"2020-01-23T00:00:00\", \"2020-01-24T00:00:00\", \"2020-01-25T00:00:00\", \"2020-01-26T00:00:00\", \"2020-01-27T00:00:00\"], \"xaxis\": \"x\", \"y\": [5.557916641233334, 8.295833587645832, 3.7762498855583337, 4.033333460491667, 5.965833028158333, 11.57749938965, 11.788749694825, 11.073333740233334, 5.071666717529166, 8.942916870116667, 9.814999898275, 3.9304167429625005, 6.550416946412499, 8.4904168446875, 10.026250203450001, 13.351249694825002, 13.007499694825, 11.982916514079168, 11.679583231608333, 5.716666539508334], \"yaxis\": \"y\"}, {\"hoverlabel\": {\"namelength\": 0}, \"hovertemplate\": \"id=59093<br>date=%{x}<br>cuf=%{y}\", \"legendgroup\": \"id=59093\", \"marker\": {\"color\": \"#AA0DFE\", \"symbol\": \"circle\"}, \"mode\": \"markers\", \"name\": \"id=59093\", \"showlegend\": true, \"type\": \"scatter\", \"x\": [\"2020-01-14T00:00:00\"], \"xaxis\": \"x\", \"y\": [null], \"yaxis\": \"y\"}],\n",
       "                        {\"autosize\": false, \"height\": 680, \"legend\": {\"tracegroupgap\": 0}, \"margin\": {\"t\": 60}, \"template\": {\"data\": {\"bar\": [{\"error_x\": {\"color\": \"#2a3f5f\"}, \"error_y\": {\"color\": \"#2a3f5f\"}, \"marker\": {\"line\": {\"color\": \"#E5ECF6\", \"width\": 0.5}}, \"type\": \"bar\"}], \"barpolar\": [{\"marker\": {\"line\": {\"color\": \"#E5ECF6\", \"width\": 0.5}}, \"type\": \"barpolar\"}], \"carpet\": [{\"aaxis\": {\"endlinecolor\": \"#2a3f5f\", \"gridcolor\": \"white\", \"linecolor\": \"white\", \"minorgridcolor\": \"white\", \"startlinecolor\": \"#2a3f5f\"}, \"baxis\": {\"endlinecolor\": \"#2a3f5f\", \"gridcolor\": \"white\", \"linecolor\": \"white\", \"minorgridcolor\": \"white\", \"startlinecolor\": \"#2a3f5f\"}, \"type\": \"carpet\"}], \"choropleth\": [{\"colorbar\": {\"outlinewidth\": 0, \"ticks\": \"\"}, \"type\": \"choropleth\"}], \"contour\": [{\"colorbar\": {\"outlinewidth\": 0, \"ticks\": \"\"}, \"colorscale\": [[0.0, \"#0d0887\"], [0.1111111111111111, \"#46039f\"], [0.2222222222222222, \"#7201a8\"], [0.3333333333333333, \"#9c179e\"], [0.4444444444444444, \"#bd3786\"], [0.5555555555555556, \"#d8576b\"], [0.6666666666666666, \"#ed7953\"], [0.7777777777777778, \"#fb9f3a\"], [0.8888888888888888, \"#fdca26\"], [1.0, \"#f0f921\"]], \"type\": \"contour\"}], \"contourcarpet\": [{\"colorbar\": {\"outlinewidth\": 0, \"ticks\": \"\"}, \"type\": \"contourcarpet\"}], \"heatmap\": [{\"colorbar\": {\"outlinewidth\": 0, \"ticks\": \"\"}, \"colorscale\": [[0.0, \"#0d0887\"], [0.1111111111111111, \"#46039f\"], [0.2222222222222222, \"#7201a8\"], [0.3333333333333333, \"#9c179e\"], [0.4444444444444444, \"#bd3786\"], [0.5555555555555556, \"#d8576b\"], [0.6666666666666666, \"#ed7953\"], [0.7777777777777778, \"#fb9f3a\"], [0.8888888888888888, \"#fdca26\"], [1.0, \"#f0f921\"]], \"type\": \"heatmap\"}], \"heatmapgl\": [{\"colorbar\": {\"outlinewidth\": 0, \"ticks\": \"\"}, \"colorscale\": [[0.0, \"#0d0887\"], [0.1111111111111111, \"#46039f\"], [0.2222222222222222, \"#7201a8\"], [0.3333333333333333, \"#9c179e\"], [0.4444444444444444, \"#bd3786\"], [0.5555555555555556, \"#d8576b\"], [0.6666666666666666, \"#ed7953\"], [0.7777777777777778, \"#fb9f3a\"], [0.8888888888888888, \"#fdca26\"], [1.0, \"#f0f921\"]], \"type\": \"heatmapgl\"}], \"histogram\": [{\"marker\": {\"colorbar\": {\"outlinewidth\": 0, \"ticks\": \"\"}}, \"type\": \"histogram\"}], \"histogram2d\": [{\"colorbar\": {\"outlinewidth\": 0, \"ticks\": \"\"}, \"colorscale\": [[0.0, \"#0d0887\"], [0.1111111111111111, \"#46039f\"], [0.2222222222222222, \"#7201a8\"], [0.3333333333333333, \"#9c179e\"], [0.4444444444444444, \"#bd3786\"], [0.5555555555555556, \"#d8576b\"], [0.6666666666666666, \"#ed7953\"], [0.7777777777777778, \"#fb9f3a\"], [0.8888888888888888, \"#fdca26\"], [1.0, \"#f0f921\"]], \"type\": \"histogram2d\"}], \"histogram2dcontour\": [{\"colorbar\": {\"outlinewidth\": 0, \"ticks\": \"\"}, \"colorscale\": [[0.0, \"#0d0887\"], [0.1111111111111111, \"#46039f\"], [0.2222222222222222, \"#7201a8\"], [0.3333333333333333, \"#9c179e\"], [0.4444444444444444, \"#bd3786\"], [0.5555555555555556, \"#d8576b\"], [0.6666666666666666, \"#ed7953\"], [0.7777777777777778, \"#fb9f3a\"], [0.8888888888888888, \"#fdca26\"], [1.0, \"#f0f921\"]], \"type\": \"histogram2dcontour\"}], \"mesh3d\": [{\"colorbar\": {\"outlinewidth\": 0, \"ticks\": \"\"}, \"type\": \"mesh3d\"}], \"parcoords\": [{\"line\": {\"colorbar\": {\"outlinewidth\": 0, \"ticks\": \"\"}}, \"type\": \"parcoords\"}], \"pie\": [{\"automargin\": true, \"type\": \"pie\"}], \"scatter\": [{\"marker\": {\"colorbar\": {\"outlinewidth\": 0, \"ticks\": \"\"}}, \"type\": \"scatter\"}], \"scatter3d\": [{\"line\": {\"colorbar\": {\"outlinewidth\": 0, \"ticks\": \"\"}}, \"marker\": {\"colorbar\": {\"outlinewidth\": 0, \"ticks\": \"\"}}, \"type\": \"scatter3d\"}], \"scattercarpet\": [{\"marker\": {\"colorbar\": {\"outlinewidth\": 0, \"ticks\": \"\"}}, \"type\": \"scattercarpet\"}], \"scattergeo\": [{\"marker\": {\"colorbar\": {\"outlinewidth\": 0, \"ticks\": \"\"}}, \"type\": \"scattergeo\"}], \"scattergl\": [{\"marker\": {\"colorbar\": {\"outlinewidth\": 0, \"ticks\": \"\"}}, \"type\": \"scattergl\"}], \"scattermapbox\": [{\"marker\": {\"colorbar\": {\"outlinewidth\": 0, \"ticks\": \"\"}}, \"type\": \"scattermapbox\"}], \"scatterpolar\": [{\"marker\": {\"colorbar\": {\"outlinewidth\": 0, \"ticks\": \"\"}}, \"type\": \"scatterpolar\"}], \"scatterpolargl\": [{\"marker\": {\"colorbar\": {\"outlinewidth\": 0, \"ticks\": \"\"}}, \"type\": \"scatterpolargl\"}], \"scatterternary\": [{\"marker\": {\"colorbar\": {\"outlinewidth\": 0, \"ticks\": \"\"}}, \"type\": \"scatterternary\"}], \"surface\": [{\"colorbar\": {\"outlinewidth\": 0, \"ticks\": \"\"}, \"colorscale\": [[0.0, \"#0d0887\"], [0.1111111111111111, \"#46039f\"], [0.2222222222222222, \"#7201a8\"], [0.3333333333333333, \"#9c179e\"], [0.4444444444444444, \"#bd3786\"], [0.5555555555555556, \"#d8576b\"], [0.6666666666666666, \"#ed7953\"], [0.7777777777777778, \"#fb9f3a\"], [0.8888888888888888, \"#fdca26\"], [1.0, \"#f0f921\"]], \"type\": \"surface\"}], \"table\": [{\"cells\": {\"fill\": {\"color\": \"#EBF0F8\"}, \"line\": {\"color\": \"white\"}}, \"header\": {\"fill\": {\"color\": \"#C8D4E3\"}, \"line\": {\"color\": \"white\"}}, \"type\": \"table\"}]}, \"layout\": {\"annotationdefaults\": {\"arrowcolor\": \"#2a3f5f\", \"arrowhead\": 0, \"arrowwidth\": 1}, \"coloraxis\": {\"colorbar\": {\"outlinewidth\": 0, \"ticks\": \"\"}}, \"colorscale\": {\"diverging\": [[0, \"#8e0152\"], [0.1, \"#c51b7d\"], [0.2, \"#de77ae\"], [0.3, \"#f1b6da\"], [0.4, \"#fde0ef\"], [0.5, \"#f7f7f7\"], [0.6, \"#e6f5d0\"], [0.7, \"#b8e186\"], [0.8, \"#7fbc41\"], [0.9, \"#4d9221\"], [1, \"#276419\"]], \"sequential\": [[0.0, \"#0d0887\"], [0.1111111111111111, \"#46039f\"], [0.2222222222222222, \"#7201a8\"], [0.3333333333333333, \"#9c179e\"], [0.4444444444444444, \"#bd3786\"], [0.5555555555555556, \"#d8576b\"], [0.6666666666666666, \"#ed7953\"], [0.7777777777777778, \"#fb9f3a\"], [0.8888888888888888, \"#fdca26\"], [1.0, \"#f0f921\"]], \"sequentialminus\": [[0.0, \"#0d0887\"], [0.1111111111111111, \"#46039f\"], [0.2222222222222222, \"#7201a8\"], [0.3333333333333333, \"#9c179e\"], [0.4444444444444444, \"#bd3786\"], [0.5555555555555556, \"#d8576b\"], [0.6666666666666666, \"#ed7953\"], [0.7777777777777778, \"#fb9f3a\"], [0.8888888888888888, \"#fdca26\"], [1.0, \"#f0f921\"]]}, \"colorway\": [\"#636efa\", \"#EF553B\", \"#00cc96\", \"#ab63fa\", \"#FFA15A\", \"#19d3f3\", \"#FF6692\", \"#B6E880\", \"#FF97FF\", \"#FECB52\"], \"font\": {\"color\": \"#2a3f5f\"}, \"geo\": {\"bgcolor\": \"white\", \"lakecolor\": \"white\", \"landcolor\": \"#E5ECF6\", \"showlakes\": true, \"showland\": true, \"subunitcolor\": \"white\"}, \"hoverlabel\": {\"align\": \"left\"}, \"hovermode\": \"closest\", \"mapbox\": {\"style\": \"light\"}, \"paper_bgcolor\": \"white\", \"plot_bgcolor\": \"#E5ECF6\", \"polar\": {\"angularaxis\": {\"gridcolor\": \"white\", \"linecolor\": \"white\", \"ticks\": \"\"}, \"bgcolor\": \"#E5ECF6\", \"radialaxis\": {\"gridcolor\": \"white\", \"linecolor\": \"white\", \"ticks\": \"\"}}, \"scene\": {\"xaxis\": {\"backgroundcolor\": \"#E5ECF6\", \"gridcolor\": \"white\", \"gridwidth\": 2, \"linecolor\": \"white\", \"showbackground\": true, \"ticks\": \"\", \"zerolinecolor\": \"white\"}, \"yaxis\": {\"backgroundcolor\": \"#E5ECF6\", \"gridcolor\": \"white\", \"gridwidth\": 2, \"linecolor\": \"white\", \"showbackground\": true, \"ticks\": \"\", \"zerolinecolor\": \"white\"}, \"zaxis\": {\"backgroundcolor\": \"#E5ECF6\", \"gridcolor\": \"white\", \"gridwidth\": 2, \"linecolor\": \"white\", \"showbackground\": true, \"ticks\": \"\", \"zerolinecolor\": \"white\"}}, \"shapedefaults\": {\"line\": {\"color\": \"#2a3f5f\"}}, \"ternary\": {\"aaxis\": {\"gridcolor\": \"white\", \"linecolor\": \"white\", \"ticks\": \"\"}, \"baxis\": {\"gridcolor\": \"white\", \"linecolor\": \"white\", \"ticks\": \"\"}, \"bgcolor\": \"#E5ECF6\", \"caxis\": {\"gridcolor\": \"white\", \"linecolor\": \"white\", \"ticks\": \"\"}}, \"title\": {\"x\": 0.05}, \"xaxis\": {\"automargin\": true, \"gridcolor\": \"white\", \"linecolor\": \"white\", \"ticks\": \"\", \"title\": {\"standoff\": 15}, \"zerolinecolor\": \"white\", \"zerolinewidth\": 2}, \"yaxis\": {\"automargin\": true, \"gridcolor\": \"white\", \"linecolor\": \"white\", \"ticks\": \"\", \"title\": {\"standoff\": 15}, \"zerolinecolor\": \"white\", \"zerolinewidth\": 2}}}, \"title\": {\"text\": \"CUF value per energy aspect\"}, \"width\": 1100, \"xaxis\": {\"dtick\": [1, 2], \"title\": {\"font\": {\"size\": 15}, \"text\": \"Date\"}}, \"yaxis\": {\"dtick\": 2, \"title\": {\"font\": {\"size\": 15}, \"text\": \"Percentage(%)\"}}},\n",
       "                        {\"responsive\": true}\n",
       "                    ).then(function(){\n",
       "                            \n",
       "var gd = document.getElementById('b3984d93-6730-4a6f-ab13-b1609cef48a7');\n",
       "var x = new MutationObserver(function (mutations, observer) {{\n",
       "        var display = window.getComputedStyle(gd).display;\n",
       "        if (!display || display === 'none') {{\n",
       "            console.log([gd, 'removed!']);\n",
       "            Plotly.purge(gd);\n",
       "            observer.disconnect();\n",
       "        }}\n",
       "}});\n",
       "\n",
       "// Listen for the removal of the full notebook cells\n",
       "var notebookContainer = gd.closest('#notebook-container');\n",
       "if (notebookContainer) {{\n",
       "    x.observe(notebookContainer, {childList: true});\n",
       "}}\n",
       "\n",
       "// Listen for the clearing of the current output cell\n",
       "var outputEl = gd.closest('.output');\n",
       "if (outputEl) {{\n",
       "    x.observe(outputEl, {childList: true});\n",
       "}}\n",
       "\n",
       "                        })\n",
       "                };\n",
       "                });\n",
       "            </script>\n",
       "        </div>"
      ]
     },
     "metadata": {},
     "output_type": "display_data"
    }
   ],
   "source": [
    "daily_df_agg['cuf'] = daily_df_agg['energy-max']/(24*daily_df_agg['capacity'])*100\n",
    "daily_df_agg\n",
    "fig_maximum = px.scatter(daily_df_agg, x='date', y='cuf', color='id', render_mode='svg', color_discrete_sequence= px.colors.qualitative.Alphabet)\n",
    "fig_maximum.update_layout(title='CUF value per energy aspect',\n",
    "                          autosize=False,width=1100, height= 680, \n",
    "                          yaxis=go.layout.YAxis(\n",
    "                              title_text=\"Percentage(%)\",\n",
    "                              dtick = 2,\n",
    "                              titlefont=dict(size=15)),\n",
    "                          xaxis = go.layout.XAxis(dtick = [1,2],\n",
    "                                                  title_text=\"Date\",\n",
    "                                                  titlefont=dict(size=15)),)\n",
    "fig_maximum.show()"
   ]
  },
  {
   "cell_type": "markdown",
   "metadata": {},
   "source": [
    "### Analysis of Missing Values"
   ]
  },
  {
   "cell_type": "code",
   "execution_count": 25,
   "metadata": {},
   "outputs": [
    {
     "data": {
      "text/html": [
       "<div>\n",
       "<style scoped>\n",
       "    .dataframe tbody tr th:only-of-type {\n",
       "        vertical-align: middle;\n",
       "    }\n",
       "\n",
       "    .dataframe tbody tr th {\n",
       "        vertical-align: top;\n",
       "    }\n",
       "\n",
       "    .dataframe thead th {\n",
       "        text-align: right;\n",
       "    }\n",
       "</style>\n",
       "<table border=\"1\" class=\"dataframe\">\n",
       "  <thead>\n",
       "    <tr style=\"text-align: right;\">\n",
       "      <th></th>\n",
       "      <th>id</th>\n",
       "      <th>date</th>\n",
       "      <th>energy</th>\n",
       "    </tr>\n",
       "  </thead>\n",
       "  <tbody>\n",
       "    <tr>\n",
       "      <th>0</th>\n",
       "      <td>43707</td>\n",
       "      <td>2019-12-30</td>\n",
       "      <td>2</td>\n",
       "    </tr>\n",
       "    <tr>\n",
       "      <th>1</th>\n",
       "      <td>43707</td>\n",
       "      <td>2019-12-31</td>\n",
       "      <td>1</td>\n",
       "    </tr>\n",
       "    <tr>\n",
       "      <th>2</th>\n",
       "      <td>43707</td>\n",
       "      <td>2020-01-20</td>\n",
       "      <td>1</td>\n",
       "    </tr>\n",
       "    <tr>\n",
       "      <th>3</th>\n",
       "      <td>55448</td>\n",
       "      <td>2019-12-30</td>\n",
       "      <td>3</td>\n",
       "    </tr>\n",
       "    <tr>\n",
       "      <th>4</th>\n",
       "      <td>55448</td>\n",
       "      <td>2019-12-31</td>\n",
       "      <td>10</td>\n",
       "    </tr>\n",
       "  </tbody>\n",
       "</table>\n",
       "</div>"
      ],
      "text/plain": [
       "      id       date  energy\n",
       "0  43707 2019-12-30       2\n",
       "1  43707 2019-12-31       1\n",
       "2  43707 2020-01-20       1\n",
       "3  55448 2019-12-30       3\n",
       "4  55448 2019-12-31      10"
      ]
     },
     "execution_count": 25,
     "metadata": {},
     "output_type": "execute_result"
    }
   ],
   "source": [
    "df_missing = df[df['power'].isnull()]\n",
    "df_missing = pd.pivot_table(df_missing, index = ['id', 'date'], values = \"energy\", aggfunc='count')\n",
    "df_missing = pd.DataFrame(df_missing.to_records())\n",
    "df_missing.head()"
   ]
  },
  {
   "cell_type": "code",
   "execution_count": 60,
   "metadata": {},
   "outputs": [
    {
     "data": {
      "application/vnd.plotly.v1+json": {
       "config": {
        "plotlyServerURL": "https://plot.ly"
       },
       "data": [
        {
         "alignmentgroup": "True",
         "hoverlabel": {
          "namelength": 0
         },
         "hovertemplate": "id=43707<br>date=%{x}<br>energy=%{y}",
         "legendgroup": "id=43707",
         "marker": {
          "color": "#AA0DFE"
         },
         "name": "id=43707",
         "offsetgroup": "id=43707",
         "orientation": "v",
         "showlegend": true,
         "textposition": "auto",
         "type": "bar",
         "x": [
          "2019-12-30T00:00:00",
          "2019-12-31T00:00:00",
          "2020-01-20T00:00:00"
         ],
         "xaxis": "x",
         "y": [
          2,
          1,
          1
         ],
         "yaxis": "y"
        },
        {
         "alignmentgroup": "True",
         "hoverlabel": {
          "namelength": 0
         },
         "hovertemplate": "id=55448<br>date=%{x}<br>energy=%{y}",
         "legendgroup": "id=55448",
         "marker": {
          "color": "#3283FE"
         },
         "name": "id=55448",
         "offsetgroup": "id=55448",
         "orientation": "v",
         "showlegend": true,
         "textposition": "auto",
         "type": "bar",
         "x": [
          "2019-12-30T00:00:00",
          "2019-12-31T00:00:00",
          "2020-01-01T00:00:00",
          "2020-01-19T00:00:00",
          "2020-01-20T00:00:00",
          "2020-01-21T00:00:00",
          "2020-01-22T00:00:00",
          "2020-01-23T00:00:00",
          "2020-01-24T00:00:00",
          "2020-01-25T00:00:00",
          "2020-01-26T00:00:00",
          "2020-01-27T00:00:00"
         ],
         "xaxis": "x",
         "y": [
          3,
          10,
          5,
          4,
          3,
          4,
          5,
          7,
          3,
          2,
          1,
          1
         ],
         "yaxis": "y"
        },
        {
         "alignmentgroup": "True",
         "hoverlabel": {
          "namelength": 0
         },
         "hovertemplate": "id=58292<br>date=%{x}<br>energy=%{y}",
         "legendgroup": "id=58292",
         "marker": {
          "color": "#85660D"
         },
         "name": "id=58292",
         "offsetgroup": "id=58292",
         "orientation": "v",
         "showlegend": true,
         "textposition": "auto",
         "type": "bar",
         "x": [
          "2019-12-30T00:00:00",
          "2019-12-31T00:00:00",
          "2020-01-20T00:00:00"
         ],
         "xaxis": "x",
         "y": [
          3,
          5,
          2
         ],
         "yaxis": "y"
        },
        {
         "alignmentgroup": "True",
         "hoverlabel": {
          "namelength": 0
         },
         "hovertemplate": "id=58337<br>date=%{x}<br>energy=%{y}",
         "legendgroup": "id=58337",
         "marker": {
          "color": "#782AB6"
         },
         "name": "id=58337",
         "offsetgroup": "id=58337",
         "orientation": "v",
         "showlegend": true,
         "textposition": "auto",
         "type": "bar",
         "x": [
          "2019-12-30T00:00:00",
          "2019-12-31T00:00:00",
          "2020-01-20T00:00:00",
          "2020-01-26T00:00:00"
         ],
         "xaxis": "x",
         "y": [
          2,
          1,
          1,
          2
         ],
         "yaxis": "y"
        },
        {
         "alignmentgroup": "True",
         "hoverlabel": {
          "namelength": 0
         },
         "hovertemplate": "id=59093<br>date=%{x}<br>energy=%{y}",
         "legendgroup": "id=59093",
         "marker": {
          "color": "#565656"
         },
         "name": "id=59093",
         "offsetgroup": "id=59093",
         "orientation": "v",
         "showlegend": true,
         "textposition": "auto",
         "type": "bar",
         "x": [
          "2019-12-30T00:00:00",
          "2019-12-31T00:00:00",
          "2020-01-20T00:00:00"
         ],
         "xaxis": "x",
         "y": [
          2,
          1,
          1
         ],
         "yaxis": "y"
        },
        {
         "alignmentgroup": "True",
         "hoverlabel": {
          "namelength": 0
         },
         "hovertemplate": "id=ait82kw<br>date=%{x}<br>energy=%{y}",
         "legendgroup": "id=ait82kw",
         "marker": {
          "color": "#1C8356"
         },
         "name": "id=ait82kw",
         "offsetgroup": "id=ait82kw",
         "orientation": "v",
         "showlegend": true,
         "textposition": "auto",
         "type": "bar",
         "x": [
          "2019-12-25T00:00:00",
          "2019-12-29T00:00:00",
          "2019-12-30T00:00:00",
          "2019-12-31T00:00:00",
          "2020-01-19T00:00:00",
          "2020-01-20T00:00:00",
          "2020-01-21T00:00:00",
          "2020-01-22T00:00:00",
          "2020-01-23T00:00:00",
          "2020-01-24T00:00:00",
          "2020-01-25T00:00:00",
          "2020-01-26T00:00:00",
          "2020-01-27T00:00:00",
          "2020-01-28T00:00:00"
         ],
         "xaxis": "x",
         "y": [
          1,
          1,
          20,
          20,
          5,
          19,
          19,
          11,
          19,
          17,
          17,
          19,
          22,
          13
         ],
         "yaxis": "y"
        },
        {
         "alignmentgroup": "True",
         "hoverlabel": {
          "namelength": 0
         },
         "hovertemplate": "id=aurobindo<br>date=%{x}<br>energy=%{y}",
         "legendgroup": "id=aurobindo",
         "marker": {
          "color": "#16FF32"
         },
         "name": "id=aurobindo",
         "offsetgroup": "id=aurobindo",
         "orientation": "v",
         "showlegend": true,
         "textposition": "auto",
         "type": "bar",
         "x": [
          "2019-12-25T00:00:00",
          "2019-12-29T00:00:00",
          "2019-12-30T00:00:00",
          "2019-12-31T00:00:00",
          "2020-01-19T00:00:00",
          "2020-01-20T00:00:00",
          "2020-01-21T00:00:00",
          "2020-01-22T00:00:00",
          "2020-01-23T00:00:00",
          "2020-01-24T00:00:00",
          "2020-01-25T00:00:00",
          "2020-01-26T00:00:00",
          "2020-01-27T00:00:00",
          "2020-01-28T00:00:00"
         ],
         "xaxis": "x",
         "y": [
          1,
          1,
          20,
          18,
          3,
          18,
          19,
          17,
          16,
          20,
          17,
          17,
          21,
          14
         ],
         "yaxis": "y"
        },
        {
         "alignmentgroup": "True",
         "hoverlabel": {
          "namelength": 0
         },
         "hovertemplate": "id=btcpusa110kw<br>date=%{x}<br>energy=%{y}",
         "legendgroup": "id=btcpusa110kw",
         "marker": {
          "color": "#F7E1A0"
         },
         "name": "id=btcpusa110kw",
         "offsetgroup": "id=btcpusa110kw",
         "orientation": "v",
         "showlegend": true,
         "textposition": "auto",
         "type": "bar",
         "x": [
          "2019-12-25T00:00:00",
          "2019-12-29T00:00:00",
          "2019-12-30T00:00:00",
          "2019-12-31T00:00:00",
          "2020-01-19T00:00:00",
          "2020-01-20T00:00:00",
          "2020-01-21T00:00:00",
          "2020-01-22T00:00:00",
          "2020-01-23T00:00:00",
          "2020-01-24T00:00:00",
          "2020-01-25T00:00:00",
          "2020-01-26T00:00:00",
          "2020-01-27T00:00:00",
          "2020-01-28T00:00:00"
         ],
         "xaxis": "x",
         "y": [
          1,
          1,
          20,
          18,
          3,
          19,
          18,
          19,
          18,
          18,
          17,
          18,
          22,
          9
         ],
         "yaxis": "y"
        },
        {
         "alignmentgroup": "True",
         "hoverlabel": {
          "namelength": 0
         },
         "hovertemplate": "id=deendayalupadhyaycollege<br>date=%{x}<br>energy=%{y}",
         "legendgroup": "id=deendayalupadhyaycollege",
         "marker": {
          "color": "#E2E2E2"
         },
         "name": "id=deendayalupadhyaycollege",
         "offsetgroup": "id=deendayalupadhyaycollege",
         "orientation": "v",
         "showlegend": true,
         "textposition": "auto",
         "type": "bar",
         "x": [
          "2019-12-25T00:00:00",
          "2019-12-29T00:00:00",
          "2019-12-30T00:00:00",
          "2019-12-31T00:00:00",
          "2020-01-19T00:00:00",
          "2020-01-20T00:00:00",
          "2020-01-21T00:00:00",
          "2020-01-22T00:00:00",
          "2020-01-23T00:00:00",
          "2020-01-24T00:00:00",
          "2020-01-25T00:00:00",
          "2020-01-26T00:00:00",
          "2020-01-27T00:00:00",
          "2020-01-28T00:00:00"
         ],
         "xaxis": "x",
         "y": [
          1,
          1,
          21,
          18,
          3,
          19,
          10,
          18,
          17,
          10,
          10,
          17,
          21,
          13
         ],
         "yaxis": "y"
        },
        {
         "alignmentgroup": "True",
         "hoverlabel": {
          "namelength": 0
         },
         "hovertemplate": "id=delhihaat<br>date=%{x}<br>energy=%{y}",
         "legendgroup": "id=delhihaat",
         "marker": {
          "color": "#1CBE4F"
         },
         "name": "id=delhihaat",
         "offsetgroup": "id=delhihaat",
         "orientation": "v",
         "showlegend": true,
         "textposition": "auto",
         "type": "bar",
         "x": [
          "2019-12-25T00:00:00",
          "2019-12-29T00:00:00",
          "2019-12-30T00:00:00",
          "2019-12-31T00:00:00",
          "2020-01-19T00:00:00",
          "2020-01-20T00:00:00",
          "2020-01-21T00:00:00",
          "2020-01-22T00:00:00",
          "2020-01-23T00:00:00",
          "2020-01-24T00:00:00",
          "2020-01-25T00:00:00",
          "2020-01-26T00:00:00",
          "2020-01-27T00:00:00",
          "2020-01-28T00:00:00"
         ],
         "xaxis": "x",
         "y": [
          1,
          1,
          21,
          18,
          3,
          19,
          18,
          18,
          18,
          17,
          18,
          17,
          21,
          13
         ],
         "yaxis": "y"
        },
        {
         "alignmentgroup": "True",
         "hoverlabel": {
          "namelength": 0
         },
         "hovertemplate": "id=dtu<br>date=%{x}<br>energy=%{y}",
         "legendgroup": "id=dtu",
         "marker": {
          "color": "#C4451C"
         },
         "name": "id=dtu",
         "offsetgroup": "id=dtu",
         "orientation": "v",
         "showlegend": true,
         "textposition": "auto",
         "type": "bar",
         "x": [
          "2019-12-25T00:00:00",
          "2019-12-29T00:00:00",
          "2019-12-30T00:00:00",
          "2019-12-31T00:00:00",
          "2020-01-19T00:00:00",
          "2020-01-20T00:00:00",
          "2020-01-21T00:00:00",
          "2020-01-22T00:00:00",
          "2020-01-23T00:00:00",
          "2020-01-24T00:00:00",
          "2020-01-25T00:00:00",
          "2020-01-26T00:00:00",
          "2020-01-27T00:00:00",
          "2020-01-28T00:00:00"
         ],
         "xaxis": "x",
         "y": [
          1,
          1,
          20,
          18,
          3,
          17,
          18,
          17,
          17,
          16,
          12,
          17,
          21,
          8
         ],
         "yaxis": "y"
        },
        {
         "alignmentgroup": "True",
         "hoverlabel": {
          "namelength": 0
         },
         "hovertemplate": "id=igdtuw<br>date=%{x}<br>energy=%{y}",
         "legendgroup": "id=igdtuw",
         "marker": {
          "color": "#DEA0FD"
         },
         "name": "id=igdtuw",
         "offsetgroup": "id=igdtuw",
         "orientation": "v",
         "showlegend": true,
         "textposition": "auto",
         "type": "bar",
         "x": [
          "2019-12-25T00:00:00",
          "2019-12-29T00:00:00",
          "2019-12-30T00:00:00",
          "2019-12-31T00:00:00",
          "2020-01-19T00:00:00",
          "2020-01-20T00:00:00",
          "2020-01-21T00:00:00",
          "2020-01-22T00:00:00",
          "2020-01-23T00:00:00",
          "2020-01-24T00:00:00",
          "2020-01-25T00:00:00",
          "2020-01-26T00:00:00",
          "2020-01-27T00:00:00",
          "2020-01-28T00:00:00"
         ],
         "xaxis": "x",
         "y": [
          1,
          1,
          18,
          17,
          3,
          17,
          17,
          17,
          17,
          18,
          18,
          17,
          19,
          8
         ],
         "yaxis": "y"
        },
        {
         "alignmentgroup": "True",
         "hoverlabel": {
          "namelength": 0
         },
         "hovertemplate": "id=ihbas<br>date=%{x}<br>energy=%{y}",
         "legendgroup": "id=ihbas",
         "marker": {
          "color": "#FE00FA"
         },
         "name": "id=ihbas",
         "offsetgroup": "id=ihbas",
         "orientation": "v",
         "showlegend": true,
         "textposition": "auto",
         "type": "bar",
         "x": [
          "2019-12-25T00:00:00",
          "2019-12-29T00:00:00",
          "2019-12-30T00:00:00",
          "2019-12-31T00:00:00",
          "2020-01-01T00:00:00",
          "2020-01-19T00:00:00",
          "2020-01-20T00:00:00",
          "2020-01-21T00:00:00",
          "2020-01-22T00:00:00",
          "2020-01-23T00:00:00",
          "2020-01-24T00:00:00",
          "2020-01-25T00:00:00",
          "2020-01-26T00:00:00",
          "2020-01-27T00:00:00",
          "2020-01-28T00:00:00"
         ],
         "xaxis": "x",
         "y": [
          1,
          1,
          20,
          18,
          1,
          3,
          17,
          17,
          18,
          18,
          18,
          18,
          12,
          19,
          13
         ],
         "yaxis": "y"
        },
        {
         "alignmentgroup": "True",
         "hoverlabel": {
          "namelength": 0
         },
         "hovertemplate": "id=iiitd<br>date=%{x}<br>energy=%{y}",
         "legendgroup": "id=iiitd",
         "marker": {
          "color": "#325A9B"
         },
         "name": "id=iiitd",
         "offsetgroup": "id=iiitd",
         "orientation": "v",
         "showlegend": true,
         "textposition": "auto",
         "type": "bar",
         "x": [
          "2019-12-25T00:00:00",
          "2019-12-29T00:00:00",
          "2019-12-30T00:00:00",
          "2019-12-31T00:00:00",
          "2020-01-19T00:00:00",
          "2020-01-20T00:00:00",
          "2020-01-21T00:00:00",
          "2020-01-22T00:00:00",
          "2020-01-23T00:00:00",
          "2020-01-24T00:00:00",
          "2020-01-25T00:00:00",
          "2020-01-26T00:00:00",
          "2020-01-27T00:00:00",
          "2020-01-28T00:00:00"
         ],
         "xaxis": "x",
         "y": [
          1,
          1,
          19,
          12,
          2,
          18,
          10,
          17,
          17,
          17,
          16,
          17,
          19,
          12
         ],
         "yaxis": "y"
        },
        {
         "alignmentgroup": "True",
         "hoverlabel": {
          "namelength": 0
         },
         "hovertemplate": "id=iticvraman<br>date=%{x}<br>energy=%{y}",
         "legendgroup": "id=iticvraman",
         "marker": {
          "color": "#FEAF16"
         },
         "name": "id=iticvraman",
         "offsetgroup": "id=iticvraman",
         "orientation": "v",
         "showlegend": true,
         "textposition": "auto",
         "type": "bar",
         "x": [
          "2019-12-25T00:00:00",
          "2019-12-29T00:00:00",
          "2019-12-30T00:00:00",
          "2019-12-31T00:00:00",
          "2020-01-01T00:00:00",
          "2020-01-19T00:00:00",
          "2020-01-20T00:00:00",
          "2020-01-21T00:00:00",
          "2020-01-22T00:00:00",
          "2020-01-23T00:00:00",
          "2020-01-24T00:00:00",
          "2020-01-25T00:00:00",
          "2020-01-26T00:00:00",
          "2020-01-27T00:00:00",
          "2020-01-28T00:00:00"
         ],
         "xaxis": "x",
         "y": [
          1,
          1,
          18,
          18,
          1,
          3,
          19,
          18,
          18,
          19,
          21,
          17,
          19,
          9,
          14
         ],
         "yaxis": "y"
        },
        {
         "alignmentgroup": "True",
         "hoverlabel": {
          "namelength": 0
         },
         "hovertemplate": "id=itijaffarpur<br>date=%{x}<br>energy=%{y}",
         "legendgroup": "id=itijaffarpur",
         "marker": {
          "color": "#F8A19F"
         },
         "name": "id=itijaffarpur",
         "offsetgroup": "id=itijaffarpur",
         "orientation": "v",
         "showlegend": true,
         "textposition": "auto",
         "type": "bar",
         "x": [
          "2019-12-25T00:00:00",
          "2019-12-29T00:00:00",
          "2019-12-30T00:00:00",
          "2019-12-31T00:00:00",
          "2020-01-19T00:00:00",
          "2020-01-20T00:00:00",
          "2020-01-21T00:00:00",
          "2020-01-22T00:00:00",
          "2020-01-23T00:00:00",
          "2020-01-24T00:00:00",
          "2020-01-25T00:00:00",
          "2020-01-26T00:00:00",
          "2020-01-27T00:00:00",
          "2020-01-28T00:00:00"
         ],
         "xaxis": "x",
         "y": [
          1,
          1,
          19,
          18,
          3,
          19,
          19,
          18,
          18,
          17,
          18,
          7,
          18,
          14
         ],
         "yaxis": "y"
        },
        {
         "alignmentgroup": "True",
         "hoverlabel": {
          "namelength": 0
         },
         "hovertemplate": "id=itijailroad<br>date=%{x}<br>energy=%{y}",
         "legendgroup": "id=itijailroad",
         "marker": {
          "color": "#90AD1C"
         },
         "name": "id=itijailroad",
         "offsetgroup": "id=itijailroad",
         "orientation": "v",
         "showlegend": true,
         "textposition": "auto",
         "type": "bar",
         "x": [
          "2019-12-25T00:00:00",
          "2019-12-29T00:00:00",
          "2019-12-30T00:00:00",
          "2019-12-31T00:00:00",
          "2020-01-19T00:00:00",
          "2020-01-20T00:00:00",
          "2020-01-21T00:00:00",
          "2020-01-22T00:00:00",
          "2020-01-23T00:00:00",
          "2020-01-24T00:00:00",
          "2020-01-25T00:00:00",
          "2020-01-26T00:00:00",
          "2020-01-27T00:00:00",
          "2020-01-28T00:00:00"
         ],
         "xaxis": "x",
         "y": [
          1,
          1,
          20,
          18,
          3,
          16,
          17,
          5,
          11,
          18,
          18,
          18,
          20,
          9
         ],
         "yaxis": "y"
        },
        {
         "alignmentgroup": "True",
         "hoverlabel": {
          "namelength": 0
         },
         "hovertemplate": "id=itimangolpuri<br>date=%{x}<br>energy=%{y}",
         "legendgroup": "id=itimangolpuri",
         "marker": {
          "color": "#F6222E"
         },
         "name": "id=itimangolpuri",
         "offsetgroup": "id=itimangolpuri",
         "orientation": "v",
         "showlegend": true,
         "textposition": "auto",
         "type": "bar",
         "x": [
          "2019-12-25T00:00:00",
          "2019-12-29T00:00:00",
          "2019-12-30T00:00:00",
          "2019-12-31T00:00:00",
          "2020-01-19T00:00:00",
          "2020-01-20T00:00:00",
          "2020-01-21T00:00:00",
          "2020-01-22T00:00:00",
          "2020-01-23T00:00:00"
         ],
         "xaxis": "x",
         "y": [
          1,
          1,
          21,
          18,
          3,
          18,
          19,
          20,
          28
         ],
         "yaxis": "y"
        },
        {
         "alignmentgroup": "True",
         "hoverlabel": {
          "namelength": 0
         },
         "hovertemplate": "id=itipusa<br>date=%{x}<br>energy=%{y}",
         "legendgroup": "id=itipusa",
         "marker": {
          "color": "#1CFFCE"
         },
         "name": "id=itipusa",
         "offsetgroup": "id=itipusa",
         "orientation": "v",
         "showlegend": true,
         "textposition": "auto",
         "type": "bar",
         "x": [
          "2019-12-25T00:00:00",
          "2019-12-29T00:00:00",
          "2019-12-30T00:00:00",
          "2019-12-31T00:00:00",
          "2020-01-01T00:00:00",
          "2020-01-19T00:00:00",
          "2020-01-20T00:00:00",
          "2020-01-21T00:00:00",
          "2020-01-22T00:00:00",
          "2020-01-23T00:00:00",
          "2020-01-24T00:00:00",
          "2020-01-25T00:00:00",
          "2020-01-26T00:00:00",
          "2020-01-27T00:00:00",
          "2020-01-28T00:00:00"
         ],
         "xaxis": "x",
         "y": [
          1,
          0,
          0,
          0,
          0,
          3,
          20,
          19,
          19,
          16,
          17,
          18,
          18,
          19,
          14
         ],
         "yaxis": "y"
        },
        {
         "alignmentgroup": "True",
         "hoverlabel": {
          "namelength": 0
         },
         "hovertemplate": "id=kalindicillege<br>date=%{x}<br>energy=%{y}",
         "legendgroup": "id=kalindicillege",
         "marker": {
          "color": "#2ED9FF"
         },
         "name": "id=kalindicillege",
         "offsetgroup": "id=kalindicillege",
         "orientation": "v",
         "showlegend": true,
         "textposition": "auto",
         "type": "bar",
         "x": [
          "2019-12-25T00:00:00",
          "2019-12-29T00:00:00",
          "2019-12-30T00:00:00",
          "2019-12-31T00:00:00",
          "2020-01-19T00:00:00",
          "2020-01-20T00:00:00",
          "2020-01-21T00:00:00",
          "2020-01-22T00:00:00",
          "2020-01-23T00:00:00",
          "2020-01-24T00:00:00",
          "2020-01-25T00:00:00",
          "2020-01-26T00:00:00",
          "2020-01-27T00:00:00",
          "2020-01-28T00:00:00"
         ],
         "xaxis": "x",
         "y": [
          1,
          1,
          19,
          18,
          3,
          19,
          18,
          18,
          17,
          17,
          19,
          17,
          19,
          14
         ],
         "yaxis": "y"
        },
        {
         "alignmentgroup": "True",
         "hoverlabel": {
          "namelength": 0
         },
         "hovertemplate": "id=kitpitampura<br>date=%{x}<br>energy=%{y}",
         "legendgroup": "id=kitpitampura",
         "marker": {
          "color": "#B10DA1"
         },
         "name": "id=kitpitampura",
         "offsetgroup": "id=kitpitampura",
         "orientation": "v",
         "showlegend": true,
         "textposition": "auto",
         "type": "bar",
         "x": [
          "2019-12-25T00:00:00",
          "2019-12-29T00:00:00",
          "2019-12-30T00:00:00",
          "2019-12-31T00:00:00",
          "2020-01-19T00:00:00",
          "2020-01-20T00:00:00",
          "2020-01-21T00:00:00",
          "2020-01-22T00:00:00",
          "2020-01-23T00:00:00",
          "2020-01-24T00:00:00",
          "2020-01-25T00:00:00",
          "2020-01-26T00:00:00",
          "2020-01-27T00:00:00",
          "2020-01-28T00:00:00"
         ],
         "xaxis": "x",
         "y": [
          1,
          1,
          19,
          17,
          3,
          17,
          18,
          17,
          18,
          18,
          16,
          18,
          19,
          13
         ],
         "yaxis": "y"
        },
        {
         "alignmentgroup": "True",
         "hoverlabel": {
          "namelength": 0
         },
         "hovertemplate": "id=maulanaazadmedicalcollege<br>date=%{x}<br>energy=%{y}",
         "legendgroup": "id=maulanaazadmedicalcollege",
         "marker": {
          "color": "#C075A6"
         },
         "name": "id=maulanaazadmedicalcollege",
         "offsetgroup": "id=maulanaazadmedicalcollege",
         "orientation": "v",
         "showlegend": true,
         "textposition": "auto",
         "type": "bar",
         "x": [
          "2019-12-25T00:00:00",
          "2019-12-29T00:00:00",
          "2019-12-30T00:00:00",
          "2019-12-31T00:00:00",
          "2020-01-20T00:00:00",
          "2020-01-21T00:00:00",
          "2020-01-22T00:00:00",
          "2020-01-23T00:00:00",
          "2020-01-24T00:00:00",
          "2020-01-25T00:00:00",
          "2020-01-26T00:00:00",
          "2020-01-27T00:00:00",
          "2020-01-28T00:00:00"
         ],
         "xaxis": "x",
         "y": [
          1,
          1,
          18,
          18,
          19,
          19,
          19,
          17,
          18,
          18,
          18,
          21,
          14
         ],
         "yaxis": "y"
        },
        {
         "alignmentgroup": "True",
         "hoverlabel": {
          "namelength": 0
         },
         "hovertemplate": "id=meerabaiinstituteoftechnology<br>date=%{x}<br>energy=%{y}",
         "legendgroup": "id=meerabaiinstituteoftechnology",
         "marker": {
          "color": "#FC1CBF"
         },
         "name": "id=meerabaiinstituteoftechnology",
         "offsetgroup": "id=meerabaiinstituteoftechnology",
         "orientation": "v",
         "showlegend": true,
         "textposition": "auto",
         "type": "bar",
         "x": [
          "2019-12-25T00:00:00",
          "2019-12-29T00:00:00",
          "2019-12-30T00:00:00",
          "2019-12-31T00:00:00",
          "2020-01-01T00:00:00",
          "2020-01-19T00:00:00",
          "2020-01-20T00:00:00",
          "2020-01-21T00:00:00",
          "2020-01-22T00:00:00",
          "2020-01-23T00:00:00",
          "2020-01-24T00:00:00",
          "2020-01-25T00:00:00",
          "2020-01-26T00:00:00",
          "2020-01-27T00:00:00",
          "2020-01-28T00:00:00"
         ],
         "xaxis": "x",
         "y": [
          1,
          4,
          26,
          40,
          7,
          4,
          32,
          20,
          39,
          37,
          37,
          31,
          37,
          38,
          25
         ],
         "yaxis": "y"
        },
        {
         "alignmentgroup": "True",
         "hoverlabel": {
          "namelength": 0
         },
         "hovertemplate": "id=nsit<br>date=%{x}<br>energy=%{y}",
         "legendgroup": "id=nsit",
         "marker": {
          "color": "#B00068"
         },
         "name": "id=nsit",
         "offsetgroup": "id=nsit",
         "orientation": "v",
         "showlegend": true,
         "textposition": "auto",
         "type": "bar",
         "x": [
          "2019-12-25T00:00:00",
          "2019-12-29T00:00:00",
          "2019-12-30T00:00:00",
          "2019-12-31T00:00:00",
          "2020-01-19T00:00:00",
          "2020-01-20T00:00:00",
          "2020-01-21T00:00:00",
          "2020-01-22T00:00:00",
          "2020-01-23T00:00:00",
          "2020-01-24T00:00:00",
          "2020-01-25T00:00:00",
          "2020-01-26T00:00:00",
          "2020-01-27T00:00:00",
          "2020-01-28T00:00:00"
         ],
         "xaxis": "x",
         "y": [
          1,
          1,
          20,
          18,
          3,
          17,
          18,
          18,
          9,
          18,
          18,
          18,
          19,
          14
         ],
         "yaxis": "y"
        },
        {
         "alignmentgroup": "True",
         "hoverlabel": {
          "namelength": 0
         },
         "hovertemplate": "id=pitacademicblock100kw<br>date=%{x}<br>energy=%{y}",
         "legendgroup": "id=pitacademicblock100kw",
         "marker": {
          "color": "#FBE426"
         },
         "name": "id=pitacademicblock100kw",
         "offsetgroup": "id=pitacademicblock100kw",
         "orientation": "v",
         "showlegend": true,
         "textposition": "auto",
         "type": "bar",
         "x": [
          "2019-12-25T00:00:00",
          "2019-12-29T00:00:00",
          "2019-12-30T00:00:00",
          "2019-12-31T00:00:00",
          "2020-01-19T00:00:00",
          "2020-01-20T00:00:00",
          "2020-01-21T00:00:00",
          "2020-01-22T00:00:00",
          "2020-01-23T00:00:00",
          "2020-01-24T00:00:00",
          "2020-01-25T00:00:00",
          "2020-01-26T00:00:00",
          "2020-01-27T00:00:00",
          "2020-01-28T00:00:00"
         ],
         "xaxis": "x",
         "y": [
          1,
          1,
          20,
          17,
          3,
          19,
          17,
          17,
          18,
          17,
          4,
          12,
          21,
          9
         ],
         "yaxis": "y"
        },
        {
         "alignmentgroup": "True",
         "hoverlabel": {
          "namelength": 0
         },
         "hovertemplate": "id=satyawaticollege<br>date=%{x}<br>energy=%{y}",
         "legendgroup": "id=satyawaticollege",
         "marker": {
          "color": "#FA0087"
         },
         "name": "id=satyawaticollege",
         "offsetgroup": "id=satyawaticollege",
         "orientation": "v",
         "showlegend": true,
         "textposition": "auto",
         "type": "bar",
         "x": [
          "2019-12-25T00:00:00",
          "2019-12-29T00:00:00",
          "2019-12-30T00:00:00",
          "2019-12-31T00:00:00",
          "2020-01-01T00:00:00",
          "2020-01-19T00:00:00",
          "2020-01-20T00:00:00",
          "2020-01-21T00:00:00",
          "2020-01-22T00:00:00",
          "2020-01-23T00:00:00",
          "2020-01-24T00:00:00",
          "2020-01-25T00:00:00",
          "2020-01-26T00:00:00",
          "2020-01-27T00:00:00",
          "2020-01-28T00:00:00"
         ],
         "xaxis": "x",
         "y": [
          1,
          1,
          21,
          17,
          1,
          3,
          19,
          18,
          19,
          17,
          17,
          18,
          16,
          20,
          14
         ],
         "yaxis": "y"
        },
        {
         "alignmentgroup": "True",
         "hoverlabel": {
          "namelength": 0
         },
         "hovertemplate": "id=sscbs<br>date=%{x}<br>energy=%{y}",
         "legendgroup": "id=sscbs",
         "marker": {
          "color": "#AA0DFE"
         },
         "name": "id=sscbs",
         "offsetgroup": "id=sscbs",
         "orientation": "v",
         "showlegend": true,
         "textposition": "auto",
         "type": "bar",
         "x": [
          "2019-12-25T00:00:00",
          "2019-12-29T00:00:00",
          "2019-12-30T00:00:00",
          "2019-12-31T00:00:00",
          "2020-01-19T00:00:00",
          "2020-01-20T00:00:00",
          "2020-01-21T00:00:00",
          "2020-01-22T00:00:00",
          "2020-01-23T00:00:00",
          "2020-01-24T00:00:00",
          "2020-01-25T00:00:00"
         ],
         "xaxis": "x",
         "y": [
          1,
          4,
          34,
          22,
          3,
          18,
          26,
          11,
          28,
          35,
          31
         ],
         "yaxis": "y"
        }
       ],
       "layout": {
        "autosize": false,
        "barmode": "relative",
        "height": 680,
        "legend": {
         "tracegroupgap": 0
        },
        "margin": {
         "t": 60
        },
        "template": {
         "data": {
          "bar": [
           {
            "error_x": {
             "color": "#2a3f5f"
            },
            "error_y": {
             "color": "#2a3f5f"
            },
            "marker": {
             "line": {
              "color": "#E5ECF6",
              "width": 0.5
             }
            },
            "type": "bar"
           }
          ],
          "barpolar": [
           {
            "marker": {
             "line": {
              "color": "#E5ECF6",
              "width": 0.5
             }
            },
            "type": "barpolar"
           }
          ],
          "carpet": [
           {
            "aaxis": {
             "endlinecolor": "#2a3f5f",
             "gridcolor": "white",
             "linecolor": "white",
             "minorgridcolor": "white",
             "startlinecolor": "#2a3f5f"
            },
            "baxis": {
             "endlinecolor": "#2a3f5f",
             "gridcolor": "white",
             "linecolor": "white",
             "minorgridcolor": "white",
             "startlinecolor": "#2a3f5f"
            },
            "type": "carpet"
           }
          ],
          "choropleth": [
           {
            "colorbar": {
             "outlinewidth": 0,
             "ticks": ""
            },
            "type": "choropleth"
           }
          ],
          "contour": [
           {
            "colorbar": {
             "outlinewidth": 0,
             "ticks": ""
            },
            "colorscale": [
             [
              0,
              "#0d0887"
             ],
             [
              0.1111111111111111,
              "#46039f"
             ],
             [
              0.2222222222222222,
              "#7201a8"
             ],
             [
              0.3333333333333333,
              "#9c179e"
             ],
             [
              0.4444444444444444,
              "#bd3786"
             ],
             [
              0.5555555555555556,
              "#d8576b"
             ],
             [
              0.6666666666666666,
              "#ed7953"
             ],
             [
              0.7777777777777778,
              "#fb9f3a"
             ],
             [
              0.8888888888888888,
              "#fdca26"
             ],
             [
              1,
              "#f0f921"
             ]
            ],
            "type": "contour"
           }
          ],
          "contourcarpet": [
           {
            "colorbar": {
             "outlinewidth": 0,
             "ticks": ""
            },
            "type": "contourcarpet"
           }
          ],
          "heatmap": [
           {
            "colorbar": {
             "outlinewidth": 0,
             "ticks": ""
            },
            "colorscale": [
             [
              0,
              "#0d0887"
             ],
             [
              0.1111111111111111,
              "#46039f"
             ],
             [
              0.2222222222222222,
              "#7201a8"
             ],
             [
              0.3333333333333333,
              "#9c179e"
             ],
             [
              0.4444444444444444,
              "#bd3786"
             ],
             [
              0.5555555555555556,
              "#d8576b"
             ],
             [
              0.6666666666666666,
              "#ed7953"
             ],
             [
              0.7777777777777778,
              "#fb9f3a"
             ],
             [
              0.8888888888888888,
              "#fdca26"
             ],
             [
              1,
              "#f0f921"
             ]
            ],
            "type": "heatmap"
           }
          ],
          "heatmapgl": [
           {
            "colorbar": {
             "outlinewidth": 0,
             "ticks": ""
            },
            "colorscale": [
             [
              0,
              "#0d0887"
             ],
             [
              0.1111111111111111,
              "#46039f"
             ],
             [
              0.2222222222222222,
              "#7201a8"
             ],
             [
              0.3333333333333333,
              "#9c179e"
             ],
             [
              0.4444444444444444,
              "#bd3786"
             ],
             [
              0.5555555555555556,
              "#d8576b"
             ],
             [
              0.6666666666666666,
              "#ed7953"
             ],
             [
              0.7777777777777778,
              "#fb9f3a"
             ],
             [
              0.8888888888888888,
              "#fdca26"
             ],
             [
              1,
              "#f0f921"
             ]
            ],
            "type": "heatmapgl"
           }
          ],
          "histogram": [
           {
            "marker": {
             "colorbar": {
              "outlinewidth": 0,
              "ticks": ""
             }
            },
            "type": "histogram"
           }
          ],
          "histogram2d": [
           {
            "colorbar": {
             "outlinewidth": 0,
             "ticks": ""
            },
            "colorscale": [
             [
              0,
              "#0d0887"
             ],
             [
              0.1111111111111111,
              "#46039f"
             ],
             [
              0.2222222222222222,
              "#7201a8"
             ],
             [
              0.3333333333333333,
              "#9c179e"
             ],
             [
              0.4444444444444444,
              "#bd3786"
             ],
             [
              0.5555555555555556,
              "#d8576b"
             ],
             [
              0.6666666666666666,
              "#ed7953"
             ],
             [
              0.7777777777777778,
              "#fb9f3a"
             ],
             [
              0.8888888888888888,
              "#fdca26"
             ],
             [
              1,
              "#f0f921"
             ]
            ],
            "type": "histogram2d"
           }
          ],
          "histogram2dcontour": [
           {
            "colorbar": {
             "outlinewidth": 0,
             "ticks": ""
            },
            "colorscale": [
             [
              0,
              "#0d0887"
             ],
             [
              0.1111111111111111,
              "#46039f"
             ],
             [
              0.2222222222222222,
              "#7201a8"
             ],
             [
              0.3333333333333333,
              "#9c179e"
             ],
             [
              0.4444444444444444,
              "#bd3786"
             ],
             [
              0.5555555555555556,
              "#d8576b"
             ],
             [
              0.6666666666666666,
              "#ed7953"
             ],
             [
              0.7777777777777778,
              "#fb9f3a"
             ],
             [
              0.8888888888888888,
              "#fdca26"
             ],
             [
              1,
              "#f0f921"
             ]
            ],
            "type": "histogram2dcontour"
           }
          ],
          "mesh3d": [
           {
            "colorbar": {
             "outlinewidth": 0,
             "ticks": ""
            },
            "type": "mesh3d"
           }
          ],
          "parcoords": [
           {
            "line": {
             "colorbar": {
              "outlinewidth": 0,
              "ticks": ""
             }
            },
            "type": "parcoords"
           }
          ],
          "pie": [
           {
            "automargin": true,
            "type": "pie"
           }
          ],
          "scatter": [
           {
            "marker": {
             "colorbar": {
              "outlinewidth": 0,
              "ticks": ""
             }
            },
            "type": "scatter"
           }
          ],
          "scatter3d": [
           {
            "line": {
             "colorbar": {
              "outlinewidth": 0,
              "ticks": ""
             }
            },
            "marker": {
             "colorbar": {
              "outlinewidth": 0,
              "ticks": ""
             }
            },
            "type": "scatter3d"
           }
          ],
          "scattercarpet": [
           {
            "marker": {
             "colorbar": {
              "outlinewidth": 0,
              "ticks": ""
             }
            },
            "type": "scattercarpet"
           }
          ],
          "scattergeo": [
           {
            "marker": {
             "colorbar": {
              "outlinewidth": 0,
              "ticks": ""
             }
            },
            "type": "scattergeo"
           }
          ],
          "scattergl": [
           {
            "marker": {
             "colorbar": {
              "outlinewidth": 0,
              "ticks": ""
             }
            },
            "type": "scattergl"
           }
          ],
          "scattermapbox": [
           {
            "marker": {
             "colorbar": {
              "outlinewidth": 0,
              "ticks": ""
             }
            },
            "type": "scattermapbox"
           }
          ],
          "scatterpolar": [
           {
            "marker": {
             "colorbar": {
              "outlinewidth": 0,
              "ticks": ""
             }
            },
            "type": "scatterpolar"
           }
          ],
          "scatterpolargl": [
           {
            "marker": {
             "colorbar": {
              "outlinewidth": 0,
              "ticks": ""
             }
            },
            "type": "scatterpolargl"
           }
          ],
          "scatterternary": [
           {
            "marker": {
             "colorbar": {
              "outlinewidth": 0,
              "ticks": ""
             }
            },
            "type": "scatterternary"
           }
          ],
          "surface": [
           {
            "colorbar": {
             "outlinewidth": 0,
             "ticks": ""
            },
            "colorscale": [
             [
              0,
              "#0d0887"
             ],
             [
              0.1111111111111111,
              "#46039f"
             ],
             [
              0.2222222222222222,
              "#7201a8"
             ],
             [
              0.3333333333333333,
              "#9c179e"
             ],
             [
              0.4444444444444444,
              "#bd3786"
             ],
             [
              0.5555555555555556,
              "#d8576b"
             ],
             [
              0.6666666666666666,
              "#ed7953"
             ],
             [
              0.7777777777777778,
              "#fb9f3a"
             ],
             [
              0.8888888888888888,
              "#fdca26"
             ],
             [
              1,
              "#f0f921"
             ]
            ],
            "type": "surface"
           }
          ],
          "table": [
           {
            "cells": {
             "fill": {
              "color": "#EBF0F8"
             },
             "line": {
              "color": "white"
             }
            },
            "header": {
             "fill": {
              "color": "#C8D4E3"
             },
             "line": {
              "color": "white"
             }
            },
            "type": "table"
           }
          ]
         },
         "layout": {
          "annotationdefaults": {
           "arrowcolor": "#2a3f5f",
           "arrowhead": 0,
           "arrowwidth": 1
          },
          "coloraxis": {
           "colorbar": {
            "outlinewidth": 0,
            "ticks": ""
           }
          },
          "colorscale": {
           "diverging": [
            [
             0,
             "#8e0152"
            ],
            [
             0.1,
             "#c51b7d"
            ],
            [
             0.2,
             "#de77ae"
            ],
            [
             0.3,
             "#f1b6da"
            ],
            [
             0.4,
             "#fde0ef"
            ],
            [
             0.5,
             "#f7f7f7"
            ],
            [
             0.6,
             "#e6f5d0"
            ],
            [
             0.7,
             "#b8e186"
            ],
            [
             0.8,
             "#7fbc41"
            ],
            [
             0.9,
             "#4d9221"
            ],
            [
             1,
             "#276419"
            ]
           ],
           "sequential": [
            [
             0,
             "#0d0887"
            ],
            [
             0.1111111111111111,
             "#46039f"
            ],
            [
             0.2222222222222222,
             "#7201a8"
            ],
            [
             0.3333333333333333,
             "#9c179e"
            ],
            [
             0.4444444444444444,
             "#bd3786"
            ],
            [
             0.5555555555555556,
             "#d8576b"
            ],
            [
             0.6666666666666666,
             "#ed7953"
            ],
            [
             0.7777777777777778,
             "#fb9f3a"
            ],
            [
             0.8888888888888888,
             "#fdca26"
            ],
            [
             1,
             "#f0f921"
            ]
           ],
           "sequentialminus": [
            [
             0,
             "#0d0887"
            ],
            [
             0.1111111111111111,
             "#46039f"
            ],
            [
             0.2222222222222222,
             "#7201a8"
            ],
            [
             0.3333333333333333,
             "#9c179e"
            ],
            [
             0.4444444444444444,
             "#bd3786"
            ],
            [
             0.5555555555555556,
             "#d8576b"
            ],
            [
             0.6666666666666666,
             "#ed7953"
            ],
            [
             0.7777777777777778,
             "#fb9f3a"
            ],
            [
             0.8888888888888888,
             "#fdca26"
            ],
            [
             1,
             "#f0f921"
            ]
           ]
          },
          "colorway": [
           "#636efa",
           "#EF553B",
           "#00cc96",
           "#ab63fa",
           "#FFA15A",
           "#19d3f3",
           "#FF6692",
           "#B6E880",
           "#FF97FF",
           "#FECB52"
          ],
          "font": {
           "color": "#2a3f5f"
          },
          "geo": {
           "bgcolor": "white",
           "lakecolor": "white",
           "landcolor": "#E5ECF6",
           "showlakes": true,
           "showland": true,
           "subunitcolor": "white"
          },
          "hoverlabel": {
           "align": "left"
          },
          "hovermode": "closest",
          "mapbox": {
           "style": "light"
          },
          "paper_bgcolor": "white",
          "plot_bgcolor": "#E5ECF6",
          "polar": {
           "angularaxis": {
            "gridcolor": "white",
            "linecolor": "white",
            "ticks": ""
           },
           "bgcolor": "#E5ECF6",
           "radialaxis": {
            "gridcolor": "white",
            "linecolor": "white",
            "ticks": ""
           }
          },
          "scene": {
           "xaxis": {
            "backgroundcolor": "#E5ECF6",
            "gridcolor": "white",
            "gridwidth": 2,
            "linecolor": "white",
            "showbackground": true,
            "ticks": "",
            "zerolinecolor": "white"
           },
           "yaxis": {
            "backgroundcolor": "#E5ECF6",
            "gridcolor": "white",
            "gridwidth": 2,
            "linecolor": "white",
            "showbackground": true,
            "ticks": "",
            "zerolinecolor": "white"
           },
           "zaxis": {
            "backgroundcolor": "#E5ECF6",
            "gridcolor": "white",
            "gridwidth": 2,
            "linecolor": "white",
            "showbackground": true,
            "ticks": "",
            "zerolinecolor": "white"
           }
          },
          "shapedefaults": {
           "line": {
            "color": "#2a3f5f"
           }
          },
          "ternary": {
           "aaxis": {
            "gridcolor": "white",
            "linecolor": "white",
            "ticks": ""
           },
           "baxis": {
            "gridcolor": "white",
            "linecolor": "white",
            "ticks": ""
           },
           "bgcolor": "#E5ECF6",
           "caxis": {
            "gridcolor": "white",
            "linecolor": "white",
            "ticks": ""
           }
          },
          "title": {
           "x": 0.05
          },
          "xaxis": {
           "automargin": true,
           "gridcolor": "white",
           "linecolor": "white",
           "ticks": "",
           "title": {
            "standoff": 15
           },
           "zerolinecolor": "white",
           "zerolinewidth": 2
          },
          "yaxis": {
           "automargin": true,
           "gridcolor": "white",
           "linecolor": "white",
           "ticks": "",
           "title": {
            "standoff": 15
           },
           "zerolinecolor": "white",
           "zerolinewidth": 2
          }
         }
        },
        "title": {
         "text": "Number of Missing Observations for Each Day"
        },
        "width": 1150,
        "xaxis": {
         "dtick": [
          1,
          2
         ],
         "title": {
          "font": {
           "size": 15
          },
          "text": "Date"
         }
        },
        "yaxis": {
         "dtick": 25,
         "ticktext": [
          1,
          1,
          1,
          1,
          1,
          1,
          1,
          1,
          1,
          1,
          1,
          1,
          1,
          1,
          1,
          1,
          1,
          1,
          1,
          1,
          1,
          1,
          2,
          5,
          4,
          5,
          5,
          5,
          4,
          5,
          5,
          5,
          5,
          5,
          5,
          0,
          5,
          5,
          5,
          4,
          5,
          5,
          5,
          4,
          2,
          3,
          3,
          2,
          2,
          48,
          45,
          48,
          48,
          47,
          47,
          41,
          48,
          47,
          41,
          46,
          46,
          47,
          0,
          46,
          48,
          45,
          26,
          48,
          48,
          47,
          47,
          8,
          12,
          12,
          8,
          9,
          50,
          48,
          48,
          48,
          48,
          48,
          46,
          48,
          43,
          48,
          48,
          48,
          48,
          0,
          48,
          47,
          47,
          43,
          48,
          47,
          48,
          47,
          23,
          30,
          28,
          22,
          19,
          38,
          32,
          37,
          33,
          29,
          32,
          35,
          38,
          28,
          32,
          33,
          30,
          31,
          27,
          35,
          33,
          30,
          31,
          32,
          32,
          33,
          30,
          2,
          2,
          2,
          3,
          2,
          35,
          34,
          34,
          34,
          34,
          35,
          34,
          33,
          29,
          34,
          34,
          34,
          34,
          34,
          34,
          34,
          34,
          34,
          35,
          34,
          34,
          34,
          21,
          27,
          28,
          21,
          7,
          39,
          33,
          39,
          39,
          39,
          39,
          39,
          30,
          39,
          31,
          37,
          37,
          26,
          15,
          37,
          31,
          39,
          39,
          39,
          39,
          39,
          39,
          41,
          38,
          38,
          38,
          38,
          39,
          38,
          39,
          38,
          38,
          37,
          37,
          34,
          23,
          32,
          39,
          38,
          38,
          39,
          38,
          36,
          30,
          41,
          36,
          37,
          37,
          38,
          38,
          37,
          37,
          37,
          36,
          35,
          37,
          38,
          37,
          38,
          39,
          37,
          36,
          37,
          39,
          35,
          39,
          37,
          37,
          35,
          30,
          39,
          37,
          34,
          35,
          37,
          37,
          37,
          36,
          37,
          38,
          39,
          35,
          35,
          37,
          38,
          35,
          35,
          38,
          37,
          31,
          37,
          35,
          37,
          31,
          33,
          37,
          35,
          29,
          29,
          37,
          37,
          31,
          33,
          36,
          37,
          35,
          38,
          35,
          35,
          34,
          35,
          35,
          35,
          35,
          33,
          36,
          31,
          20,
          35,
          35,
          35,
          35,
          34,
          37,
          37,
          35,
          33,
          35,
          35,
          37,
          37,
          39,
          37,
          37,
          37,
          34,
          37,
          28,
          39,
          37,
          35,
          37,
          37,
          34,
          35,
          26,
          40,
          39,
          38,
          40,
          38,
          38,
          39,
          38,
          39,
          37,
          39,
          39,
          39,
          39,
          37,
          38,
          39,
          38,
          35,
          37,
          36,
          38,
          37,
          32,
          38,
          26,
          39,
          39,
          39,
          39,
          40,
          38,
          36,
          38,
          39,
          38,
          35,
          38,
          38,
          39,
          38,
          36,
          37,
          40,
          38,
          39,
          39,
          35,
          39,
          38,
          39,
          39,
          38,
          38,
          37,
          38,
          38,
          39,
          39,
          39,
          38,
          39,
          39,
          37,
          37,
          17,
          17,
          16,
          16,
          12,
          39,
          38,
          39,
          38,
          38,
          39,
          38,
          39,
          36,
          36,
          38,
          36,
          36,
          38,
          38,
          39,
          36,
          33,
          39,
          38,
          37,
          35,
          26,
          39,
          33,
          26,
          16,
          40,
          38,
          40,
          39,
          35,
          36,
          39,
          39,
          37,
          37,
          37,
          37,
          37,
          39,
          39,
          39,
          37,
          34,
          39,
          39,
          39,
          35,
          23,
          24,
          31,
          23,
          13,
          36,
          36,
          38,
          38,
          38,
          34,
          36,
          37,
          36,
          35,
          37,
          33,
          39,
          36,
          36,
          39,
          37,
          36,
          39,
          38,
          35,
          36,
          1,
          2,
          1,
          1,
          1,
          31,
          29,
          18,
          31,
          29,
          31,
          29,
          29,
          29,
          31,
          33,
          30,
          31,
          25,
          29,
          32,
          29,
          29,
          31,
          31,
          29,
          30,
          71,
          87,
          83,
          71,
          44,
          6,
          4,
          4,
          4,
          4,
          4,
          4,
          4,
          4,
          4,
          4,
          4,
          4,
          4,
          4,
          4,
          4,
          4,
          4,
          4,
          4,
          65,
          78,
          73,
          64,
          49,
          40,
          41,
          39,
          39,
          39,
          41,
          41,
          39,
          41,
          41,
          41,
          30,
          39,
          39,
          41,
          38,
          38,
          32,
          39,
          39,
          39,
          39,
          81,
          86,
          85,
          82,
          53,
          42,
          39,
          40,
          30,
          40,
          41,
          39,
          41,
          30,
          38,
          41,
          39,
          33,
          40,
          37,
          41,
          40,
          20,
          38,
          39,
          38,
          37,
          91,
          100,
          97,
          82,
          39,
          35,
          40,
          41,
          40,
          42,
          41,
          42,
          41,
          41,
          41,
          41,
          20,
          36,
          41,
          40,
          41,
          41,
          41,
          40,
          41,
          40,
          13,
          95,
          94,
          99,
          81,
          42,
          38,
          38,
          41,
          40,
          41,
          40,
          41,
          41,
          41,
          41,
          41,
          30,
          30,
          38,
          41,
          41,
          41,
          40,
          37,
          42,
          41,
          29,
          96,
          90,
          98,
          82,
          36,
          42,
          38,
          38,
          31,
          41,
          41,
          41,
          41,
          41,
          42,
          37,
          41,
          41,
          38,
          41,
          38,
          38,
          41,
          38,
          41,
          38,
          91,
          95,
          95,
          86,
          39,
          42,
          39,
          41,
          33,
          38,
          38,
          41,
          41,
          41,
          41,
          41,
          41,
          42,
          38,
          41,
          41,
          32,
          41,
          17,
          39,
          31,
          67,
          94,
          79,
          59,
          35,
          42,
          41,
          37,
          41,
          37,
          41,
          41,
          37,
          37,
          41,
          29,
          41,
          40,
          39,
          38,
          37,
          38,
          40,
          40,
          42,
          63,
          96,
          76,
          59,
          48,
          44,
          39,
          41,
          41,
          38,
          41,
          41,
          41,
          41,
          19,
          41,
          41,
          39,
          41,
          41,
          39,
          39,
          40,
          41,
          41,
          24,
          38,
          31,
          24,
          17,
          28,
          27,
          17,
          27,
          24,
          17,
          17,
          27,
          27,
          28,
          27,
          17,
          26,
          27,
          27,
          28,
          26,
          28,
          17,
          27
         ],
         "title": {
          "font": {
           "size": 15
          },
          "text": "Observations"
         }
        }
       }
      },
      "text/html": [
       "<div>\n",
       "        \n",
       "        \n",
       "            <div id=\"93e7aea9-ca99-41d1-9484-6a45772c5248\" class=\"plotly-graph-div\" style=\"height:680px; width:1150px;\"></div>\n",
       "            <script type=\"text/javascript\">\n",
       "                require([\"plotly\"], function(Plotly) {\n",
       "                    window.PLOTLYENV=window.PLOTLYENV || {};\n",
       "                    \n",
       "                if (document.getElementById(\"93e7aea9-ca99-41d1-9484-6a45772c5248\")) {\n",
       "                    Plotly.newPlot(\n",
       "                        '93e7aea9-ca99-41d1-9484-6a45772c5248',\n",
       "                        [{\"alignmentgroup\": \"True\", \"hoverlabel\": {\"namelength\": 0}, \"hovertemplate\": \"id=43707<br>date=%{x}<br>energy=%{y}\", \"legendgroup\": \"id=43707\", \"marker\": {\"color\": \"#AA0DFE\"}, \"name\": \"id=43707\", \"offsetgroup\": \"id=43707\", \"orientation\": \"v\", \"showlegend\": true, \"textposition\": \"auto\", \"type\": \"bar\", \"x\": [\"2019-12-30T00:00:00\", \"2019-12-31T00:00:00\", \"2020-01-20T00:00:00\"], \"xaxis\": \"x\", \"y\": [2, 1, 1], \"yaxis\": \"y\"}, {\"alignmentgroup\": \"True\", \"hoverlabel\": {\"namelength\": 0}, \"hovertemplate\": \"id=55448<br>date=%{x}<br>energy=%{y}\", \"legendgroup\": \"id=55448\", \"marker\": {\"color\": \"#3283FE\"}, \"name\": \"id=55448\", \"offsetgroup\": \"id=55448\", \"orientation\": \"v\", \"showlegend\": true, \"textposition\": \"auto\", \"type\": \"bar\", \"x\": [\"2019-12-30T00:00:00\", \"2019-12-31T00:00:00\", \"2020-01-01T00:00:00\", \"2020-01-19T00:00:00\", \"2020-01-20T00:00:00\", \"2020-01-21T00:00:00\", \"2020-01-22T00:00:00\", \"2020-01-23T00:00:00\", \"2020-01-24T00:00:00\", \"2020-01-25T00:00:00\", \"2020-01-26T00:00:00\", \"2020-01-27T00:00:00\"], \"xaxis\": \"x\", \"y\": [3, 10, 5, 4, 3, 4, 5, 7, 3, 2, 1, 1], \"yaxis\": \"y\"}, {\"alignmentgroup\": \"True\", \"hoverlabel\": {\"namelength\": 0}, \"hovertemplate\": \"id=58292<br>date=%{x}<br>energy=%{y}\", \"legendgroup\": \"id=58292\", \"marker\": {\"color\": \"#85660D\"}, \"name\": \"id=58292\", \"offsetgroup\": \"id=58292\", \"orientation\": \"v\", \"showlegend\": true, \"textposition\": \"auto\", \"type\": \"bar\", \"x\": [\"2019-12-30T00:00:00\", \"2019-12-31T00:00:00\", \"2020-01-20T00:00:00\"], \"xaxis\": \"x\", \"y\": [3, 5, 2], \"yaxis\": \"y\"}, {\"alignmentgroup\": \"True\", \"hoverlabel\": {\"namelength\": 0}, \"hovertemplate\": \"id=58337<br>date=%{x}<br>energy=%{y}\", \"legendgroup\": \"id=58337\", \"marker\": {\"color\": \"#782AB6\"}, \"name\": \"id=58337\", \"offsetgroup\": \"id=58337\", \"orientation\": \"v\", \"showlegend\": true, \"textposition\": \"auto\", \"type\": \"bar\", \"x\": [\"2019-12-30T00:00:00\", \"2019-12-31T00:00:00\", \"2020-01-20T00:00:00\", \"2020-01-26T00:00:00\"], \"xaxis\": \"x\", \"y\": [2, 1, 1, 2], \"yaxis\": \"y\"}, {\"alignmentgroup\": \"True\", \"hoverlabel\": {\"namelength\": 0}, \"hovertemplate\": \"id=59093<br>date=%{x}<br>energy=%{y}\", \"legendgroup\": \"id=59093\", \"marker\": {\"color\": \"#565656\"}, \"name\": \"id=59093\", \"offsetgroup\": \"id=59093\", \"orientation\": \"v\", \"showlegend\": true, \"textposition\": \"auto\", \"type\": \"bar\", \"x\": [\"2019-12-30T00:00:00\", \"2019-12-31T00:00:00\", \"2020-01-20T00:00:00\"], \"xaxis\": \"x\", \"y\": [2, 1, 1], \"yaxis\": \"y\"}, {\"alignmentgroup\": \"True\", \"hoverlabel\": {\"namelength\": 0}, \"hovertemplate\": \"id=ait82kw<br>date=%{x}<br>energy=%{y}\", \"legendgroup\": \"id=ait82kw\", \"marker\": {\"color\": \"#1C8356\"}, \"name\": \"id=ait82kw\", \"offsetgroup\": \"id=ait82kw\", \"orientation\": \"v\", \"showlegend\": true, \"textposition\": \"auto\", \"type\": \"bar\", \"x\": [\"2019-12-25T00:00:00\", \"2019-12-29T00:00:00\", \"2019-12-30T00:00:00\", \"2019-12-31T00:00:00\", \"2020-01-19T00:00:00\", \"2020-01-20T00:00:00\", \"2020-01-21T00:00:00\", \"2020-01-22T00:00:00\", \"2020-01-23T00:00:00\", \"2020-01-24T00:00:00\", \"2020-01-25T00:00:00\", \"2020-01-26T00:00:00\", \"2020-01-27T00:00:00\", \"2020-01-28T00:00:00\"], \"xaxis\": \"x\", \"y\": [1, 1, 20, 20, 5, 19, 19, 11, 19, 17, 17, 19, 22, 13], \"yaxis\": \"y\"}, {\"alignmentgroup\": \"True\", \"hoverlabel\": {\"namelength\": 0}, \"hovertemplate\": \"id=aurobindo<br>date=%{x}<br>energy=%{y}\", \"legendgroup\": \"id=aurobindo\", \"marker\": {\"color\": \"#16FF32\"}, \"name\": \"id=aurobindo\", \"offsetgroup\": \"id=aurobindo\", \"orientation\": \"v\", \"showlegend\": true, \"textposition\": \"auto\", \"type\": \"bar\", \"x\": [\"2019-12-25T00:00:00\", \"2019-12-29T00:00:00\", \"2019-12-30T00:00:00\", \"2019-12-31T00:00:00\", \"2020-01-19T00:00:00\", \"2020-01-20T00:00:00\", \"2020-01-21T00:00:00\", \"2020-01-22T00:00:00\", \"2020-01-23T00:00:00\", \"2020-01-24T00:00:00\", \"2020-01-25T00:00:00\", \"2020-01-26T00:00:00\", \"2020-01-27T00:00:00\", \"2020-01-28T00:00:00\"], \"xaxis\": \"x\", \"y\": [1, 1, 20, 18, 3, 18, 19, 17, 16, 20, 17, 17, 21, 14], \"yaxis\": \"y\"}, {\"alignmentgroup\": \"True\", \"hoverlabel\": {\"namelength\": 0}, \"hovertemplate\": \"id=btcpusa110kw<br>date=%{x}<br>energy=%{y}\", \"legendgroup\": \"id=btcpusa110kw\", \"marker\": {\"color\": \"#F7E1A0\"}, \"name\": \"id=btcpusa110kw\", \"offsetgroup\": \"id=btcpusa110kw\", \"orientation\": \"v\", \"showlegend\": true, \"textposition\": \"auto\", \"type\": \"bar\", \"x\": [\"2019-12-25T00:00:00\", \"2019-12-29T00:00:00\", \"2019-12-30T00:00:00\", \"2019-12-31T00:00:00\", \"2020-01-19T00:00:00\", \"2020-01-20T00:00:00\", \"2020-01-21T00:00:00\", \"2020-01-22T00:00:00\", \"2020-01-23T00:00:00\", \"2020-01-24T00:00:00\", \"2020-01-25T00:00:00\", \"2020-01-26T00:00:00\", \"2020-01-27T00:00:00\", \"2020-01-28T00:00:00\"], \"xaxis\": \"x\", \"y\": [1, 1, 20, 18, 3, 19, 18, 19, 18, 18, 17, 18, 22, 9], \"yaxis\": \"y\"}, {\"alignmentgroup\": \"True\", \"hoverlabel\": {\"namelength\": 0}, \"hovertemplate\": \"id=deendayalupadhyaycollege<br>date=%{x}<br>energy=%{y}\", \"legendgroup\": \"id=deendayalupadhyaycollege\", \"marker\": {\"color\": \"#E2E2E2\"}, \"name\": \"id=deendayalupadhyaycollege\", \"offsetgroup\": \"id=deendayalupadhyaycollege\", \"orientation\": \"v\", \"showlegend\": true, \"textposition\": \"auto\", \"type\": \"bar\", \"x\": [\"2019-12-25T00:00:00\", \"2019-12-29T00:00:00\", \"2019-12-30T00:00:00\", \"2019-12-31T00:00:00\", \"2020-01-19T00:00:00\", \"2020-01-20T00:00:00\", \"2020-01-21T00:00:00\", \"2020-01-22T00:00:00\", \"2020-01-23T00:00:00\", \"2020-01-24T00:00:00\", \"2020-01-25T00:00:00\", \"2020-01-26T00:00:00\", \"2020-01-27T00:00:00\", \"2020-01-28T00:00:00\"], \"xaxis\": \"x\", \"y\": [1, 1, 21, 18, 3, 19, 10, 18, 17, 10, 10, 17, 21, 13], \"yaxis\": \"y\"}, {\"alignmentgroup\": \"True\", \"hoverlabel\": {\"namelength\": 0}, \"hovertemplate\": \"id=delhihaat<br>date=%{x}<br>energy=%{y}\", \"legendgroup\": \"id=delhihaat\", \"marker\": {\"color\": \"#1CBE4F\"}, \"name\": \"id=delhihaat\", \"offsetgroup\": \"id=delhihaat\", \"orientation\": \"v\", \"showlegend\": true, \"textposition\": \"auto\", \"type\": \"bar\", \"x\": [\"2019-12-25T00:00:00\", \"2019-12-29T00:00:00\", \"2019-12-30T00:00:00\", \"2019-12-31T00:00:00\", \"2020-01-19T00:00:00\", \"2020-01-20T00:00:00\", \"2020-01-21T00:00:00\", \"2020-01-22T00:00:00\", \"2020-01-23T00:00:00\", \"2020-01-24T00:00:00\", \"2020-01-25T00:00:00\", \"2020-01-26T00:00:00\", \"2020-01-27T00:00:00\", \"2020-01-28T00:00:00\"], \"xaxis\": \"x\", \"y\": [1, 1, 21, 18, 3, 19, 18, 18, 18, 17, 18, 17, 21, 13], \"yaxis\": \"y\"}, {\"alignmentgroup\": \"True\", \"hoverlabel\": {\"namelength\": 0}, \"hovertemplate\": \"id=dtu<br>date=%{x}<br>energy=%{y}\", \"legendgroup\": \"id=dtu\", \"marker\": {\"color\": \"#C4451C\"}, \"name\": \"id=dtu\", \"offsetgroup\": \"id=dtu\", \"orientation\": \"v\", \"showlegend\": true, \"textposition\": \"auto\", \"type\": \"bar\", \"x\": [\"2019-12-25T00:00:00\", \"2019-12-29T00:00:00\", \"2019-12-30T00:00:00\", \"2019-12-31T00:00:00\", \"2020-01-19T00:00:00\", \"2020-01-20T00:00:00\", \"2020-01-21T00:00:00\", \"2020-01-22T00:00:00\", \"2020-01-23T00:00:00\", \"2020-01-24T00:00:00\", \"2020-01-25T00:00:00\", \"2020-01-26T00:00:00\", \"2020-01-27T00:00:00\", \"2020-01-28T00:00:00\"], \"xaxis\": \"x\", \"y\": [1, 1, 20, 18, 3, 17, 18, 17, 17, 16, 12, 17, 21, 8], \"yaxis\": \"y\"}, {\"alignmentgroup\": \"True\", \"hoverlabel\": {\"namelength\": 0}, \"hovertemplate\": \"id=igdtuw<br>date=%{x}<br>energy=%{y}\", \"legendgroup\": \"id=igdtuw\", \"marker\": {\"color\": \"#DEA0FD\"}, \"name\": \"id=igdtuw\", \"offsetgroup\": \"id=igdtuw\", \"orientation\": \"v\", \"showlegend\": true, \"textposition\": \"auto\", \"type\": \"bar\", \"x\": [\"2019-12-25T00:00:00\", \"2019-12-29T00:00:00\", \"2019-12-30T00:00:00\", \"2019-12-31T00:00:00\", \"2020-01-19T00:00:00\", \"2020-01-20T00:00:00\", \"2020-01-21T00:00:00\", \"2020-01-22T00:00:00\", \"2020-01-23T00:00:00\", \"2020-01-24T00:00:00\", \"2020-01-25T00:00:00\", \"2020-01-26T00:00:00\", \"2020-01-27T00:00:00\", \"2020-01-28T00:00:00\"], \"xaxis\": \"x\", \"y\": [1, 1, 18, 17, 3, 17, 17, 17, 17, 18, 18, 17, 19, 8], \"yaxis\": \"y\"}, {\"alignmentgroup\": \"True\", \"hoverlabel\": {\"namelength\": 0}, \"hovertemplate\": \"id=ihbas<br>date=%{x}<br>energy=%{y}\", \"legendgroup\": \"id=ihbas\", \"marker\": {\"color\": \"#FE00FA\"}, \"name\": \"id=ihbas\", \"offsetgroup\": \"id=ihbas\", \"orientation\": \"v\", \"showlegend\": true, \"textposition\": \"auto\", \"type\": \"bar\", \"x\": [\"2019-12-25T00:00:00\", \"2019-12-29T00:00:00\", \"2019-12-30T00:00:00\", \"2019-12-31T00:00:00\", \"2020-01-01T00:00:00\", \"2020-01-19T00:00:00\", \"2020-01-20T00:00:00\", \"2020-01-21T00:00:00\", \"2020-01-22T00:00:00\", \"2020-01-23T00:00:00\", \"2020-01-24T00:00:00\", \"2020-01-25T00:00:00\", \"2020-01-26T00:00:00\", \"2020-01-27T00:00:00\", \"2020-01-28T00:00:00\"], \"xaxis\": \"x\", \"y\": [1, 1, 20, 18, 1, 3, 17, 17, 18, 18, 18, 18, 12, 19, 13], \"yaxis\": \"y\"}, {\"alignmentgroup\": \"True\", \"hoverlabel\": {\"namelength\": 0}, \"hovertemplate\": \"id=iiitd<br>date=%{x}<br>energy=%{y}\", \"legendgroup\": \"id=iiitd\", \"marker\": {\"color\": \"#325A9B\"}, \"name\": \"id=iiitd\", \"offsetgroup\": \"id=iiitd\", \"orientation\": \"v\", \"showlegend\": true, \"textposition\": \"auto\", \"type\": \"bar\", \"x\": [\"2019-12-25T00:00:00\", \"2019-12-29T00:00:00\", \"2019-12-30T00:00:00\", \"2019-12-31T00:00:00\", \"2020-01-19T00:00:00\", \"2020-01-20T00:00:00\", \"2020-01-21T00:00:00\", \"2020-01-22T00:00:00\", \"2020-01-23T00:00:00\", \"2020-01-24T00:00:00\", \"2020-01-25T00:00:00\", \"2020-01-26T00:00:00\", \"2020-01-27T00:00:00\", \"2020-01-28T00:00:00\"], \"xaxis\": \"x\", \"y\": [1, 1, 19, 12, 2, 18, 10, 17, 17, 17, 16, 17, 19, 12], \"yaxis\": \"y\"}, {\"alignmentgroup\": \"True\", \"hoverlabel\": {\"namelength\": 0}, \"hovertemplate\": \"id=iticvraman<br>date=%{x}<br>energy=%{y}\", \"legendgroup\": \"id=iticvraman\", \"marker\": {\"color\": \"#FEAF16\"}, \"name\": \"id=iticvraman\", \"offsetgroup\": \"id=iticvraman\", \"orientation\": \"v\", \"showlegend\": true, \"textposition\": \"auto\", \"type\": \"bar\", \"x\": [\"2019-12-25T00:00:00\", \"2019-12-29T00:00:00\", \"2019-12-30T00:00:00\", \"2019-12-31T00:00:00\", \"2020-01-01T00:00:00\", \"2020-01-19T00:00:00\", \"2020-01-20T00:00:00\", \"2020-01-21T00:00:00\", \"2020-01-22T00:00:00\", \"2020-01-23T00:00:00\", \"2020-01-24T00:00:00\", \"2020-01-25T00:00:00\", \"2020-01-26T00:00:00\", \"2020-01-27T00:00:00\", \"2020-01-28T00:00:00\"], \"xaxis\": \"x\", \"y\": [1, 1, 18, 18, 1, 3, 19, 18, 18, 19, 21, 17, 19, 9, 14], \"yaxis\": \"y\"}, {\"alignmentgroup\": \"True\", \"hoverlabel\": {\"namelength\": 0}, \"hovertemplate\": \"id=itijaffarpur<br>date=%{x}<br>energy=%{y}\", \"legendgroup\": \"id=itijaffarpur\", \"marker\": {\"color\": \"#F8A19F\"}, \"name\": \"id=itijaffarpur\", \"offsetgroup\": \"id=itijaffarpur\", \"orientation\": \"v\", \"showlegend\": true, \"textposition\": \"auto\", \"type\": \"bar\", \"x\": [\"2019-12-25T00:00:00\", \"2019-12-29T00:00:00\", \"2019-12-30T00:00:00\", \"2019-12-31T00:00:00\", \"2020-01-19T00:00:00\", \"2020-01-20T00:00:00\", \"2020-01-21T00:00:00\", \"2020-01-22T00:00:00\", \"2020-01-23T00:00:00\", \"2020-01-24T00:00:00\", \"2020-01-25T00:00:00\", \"2020-01-26T00:00:00\", \"2020-01-27T00:00:00\", \"2020-01-28T00:00:00\"], \"xaxis\": \"x\", \"y\": [1, 1, 19, 18, 3, 19, 19, 18, 18, 17, 18, 7, 18, 14], \"yaxis\": \"y\"}, {\"alignmentgroup\": \"True\", \"hoverlabel\": {\"namelength\": 0}, \"hovertemplate\": \"id=itijailroad<br>date=%{x}<br>energy=%{y}\", \"legendgroup\": \"id=itijailroad\", \"marker\": {\"color\": \"#90AD1C\"}, \"name\": \"id=itijailroad\", \"offsetgroup\": \"id=itijailroad\", \"orientation\": \"v\", \"showlegend\": true, \"textposition\": \"auto\", \"type\": \"bar\", \"x\": [\"2019-12-25T00:00:00\", \"2019-12-29T00:00:00\", \"2019-12-30T00:00:00\", \"2019-12-31T00:00:00\", \"2020-01-19T00:00:00\", \"2020-01-20T00:00:00\", \"2020-01-21T00:00:00\", \"2020-01-22T00:00:00\", \"2020-01-23T00:00:00\", \"2020-01-24T00:00:00\", \"2020-01-25T00:00:00\", \"2020-01-26T00:00:00\", \"2020-01-27T00:00:00\", \"2020-01-28T00:00:00\"], \"xaxis\": \"x\", \"y\": [1, 1, 20, 18, 3, 16, 17, 5, 11, 18, 18, 18, 20, 9], \"yaxis\": \"y\"}, {\"alignmentgroup\": \"True\", \"hoverlabel\": {\"namelength\": 0}, \"hovertemplate\": \"id=itimangolpuri<br>date=%{x}<br>energy=%{y}\", \"legendgroup\": \"id=itimangolpuri\", \"marker\": {\"color\": \"#F6222E\"}, \"name\": \"id=itimangolpuri\", \"offsetgroup\": \"id=itimangolpuri\", \"orientation\": \"v\", \"showlegend\": true, \"textposition\": \"auto\", \"type\": \"bar\", \"x\": [\"2019-12-25T00:00:00\", \"2019-12-29T00:00:00\", \"2019-12-30T00:00:00\", \"2019-12-31T00:00:00\", \"2020-01-19T00:00:00\", \"2020-01-20T00:00:00\", \"2020-01-21T00:00:00\", \"2020-01-22T00:00:00\", \"2020-01-23T00:00:00\"], \"xaxis\": \"x\", \"y\": [1, 1, 21, 18, 3, 18, 19, 20, 28], \"yaxis\": \"y\"}, {\"alignmentgroup\": \"True\", \"hoverlabel\": {\"namelength\": 0}, \"hovertemplate\": \"id=itipusa<br>date=%{x}<br>energy=%{y}\", \"legendgroup\": \"id=itipusa\", \"marker\": {\"color\": \"#1CFFCE\"}, \"name\": \"id=itipusa\", \"offsetgroup\": \"id=itipusa\", \"orientation\": \"v\", \"showlegend\": true, \"textposition\": \"auto\", \"type\": \"bar\", \"x\": [\"2019-12-25T00:00:00\", \"2019-12-29T00:00:00\", \"2019-12-30T00:00:00\", \"2019-12-31T00:00:00\", \"2020-01-01T00:00:00\", \"2020-01-19T00:00:00\", \"2020-01-20T00:00:00\", \"2020-01-21T00:00:00\", \"2020-01-22T00:00:00\", \"2020-01-23T00:00:00\", \"2020-01-24T00:00:00\", \"2020-01-25T00:00:00\", \"2020-01-26T00:00:00\", \"2020-01-27T00:00:00\", \"2020-01-28T00:00:00\"], \"xaxis\": \"x\", \"y\": [1, 0, 0, 0, 0, 3, 20, 19, 19, 16, 17, 18, 18, 19, 14], \"yaxis\": \"y\"}, {\"alignmentgroup\": \"True\", \"hoverlabel\": {\"namelength\": 0}, \"hovertemplate\": \"id=kalindicillege<br>date=%{x}<br>energy=%{y}\", \"legendgroup\": \"id=kalindicillege\", \"marker\": {\"color\": \"#2ED9FF\"}, \"name\": \"id=kalindicillege\", \"offsetgroup\": \"id=kalindicillege\", \"orientation\": \"v\", \"showlegend\": true, \"textposition\": \"auto\", \"type\": \"bar\", \"x\": [\"2019-12-25T00:00:00\", \"2019-12-29T00:00:00\", \"2019-12-30T00:00:00\", \"2019-12-31T00:00:00\", \"2020-01-19T00:00:00\", \"2020-01-20T00:00:00\", \"2020-01-21T00:00:00\", \"2020-01-22T00:00:00\", \"2020-01-23T00:00:00\", \"2020-01-24T00:00:00\", \"2020-01-25T00:00:00\", \"2020-01-26T00:00:00\", \"2020-01-27T00:00:00\", \"2020-01-28T00:00:00\"], \"xaxis\": \"x\", \"y\": [1, 1, 19, 18, 3, 19, 18, 18, 17, 17, 19, 17, 19, 14], \"yaxis\": \"y\"}, {\"alignmentgroup\": \"True\", \"hoverlabel\": {\"namelength\": 0}, \"hovertemplate\": \"id=kitpitampura<br>date=%{x}<br>energy=%{y}\", \"legendgroup\": \"id=kitpitampura\", \"marker\": {\"color\": \"#B10DA1\"}, \"name\": \"id=kitpitampura\", \"offsetgroup\": \"id=kitpitampura\", \"orientation\": \"v\", \"showlegend\": true, \"textposition\": \"auto\", \"type\": \"bar\", \"x\": [\"2019-12-25T00:00:00\", \"2019-12-29T00:00:00\", \"2019-12-30T00:00:00\", \"2019-12-31T00:00:00\", \"2020-01-19T00:00:00\", \"2020-01-20T00:00:00\", \"2020-01-21T00:00:00\", \"2020-01-22T00:00:00\", \"2020-01-23T00:00:00\", \"2020-01-24T00:00:00\", \"2020-01-25T00:00:00\", \"2020-01-26T00:00:00\", \"2020-01-27T00:00:00\", \"2020-01-28T00:00:00\"], \"xaxis\": \"x\", \"y\": [1, 1, 19, 17, 3, 17, 18, 17, 18, 18, 16, 18, 19, 13], \"yaxis\": \"y\"}, {\"alignmentgroup\": \"True\", \"hoverlabel\": {\"namelength\": 0}, \"hovertemplate\": \"id=maulanaazadmedicalcollege<br>date=%{x}<br>energy=%{y}\", \"legendgroup\": \"id=maulanaazadmedicalcollege\", \"marker\": {\"color\": \"#C075A6\"}, \"name\": \"id=maulanaazadmedicalcollege\", \"offsetgroup\": \"id=maulanaazadmedicalcollege\", \"orientation\": \"v\", \"showlegend\": true, \"textposition\": \"auto\", \"type\": \"bar\", \"x\": [\"2019-12-25T00:00:00\", \"2019-12-29T00:00:00\", \"2019-12-30T00:00:00\", \"2019-12-31T00:00:00\", \"2020-01-20T00:00:00\", \"2020-01-21T00:00:00\", \"2020-01-22T00:00:00\", \"2020-01-23T00:00:00\", \"2020-01-24T00:00:00\", \"2020-01-25T00:00:00\", \"2020-01-26T00:00:00\", \"2020-01-27T00:00:00\", \"2020-01-28T00:00:00\"], \"xaxis\": \"x\", \"y\": [1, 1, 18, 18, 19, 19, 19, 17, 18, 18, 18, 21, 14], \"yaxis\": \"y\"}, {\"alignmentgroup\": \"True\", \"hoverlabel\": {\"namelength\": 0}, \"hovertemplate\": \"id=meerabaiinstituteoftechnology<br>date=%{x}<br>energy=%{y}\", \"legendgroup\": \"id=meerabaiinstituteoftechnology\", \"marker\": {\"color\": \"#FC1CBF\"}, \"name\": \"id=meerabaiinstituteoftechnology\", \"offsetgroup\": \"id=meerabaiinstituteoftechnology\", \"orientation\": \"v\", \"showlegend\": true, \"textposition\": \"auto\", \"type\": \"bar\", \"x\": [\"2019-12-25T00:00:00\", \"2019-12-29T00:00:00\", \"2019-12-30T00:00:00\", \"2019-12-31T00:00:00\", \"2020-01-01T00:00:00\", \"2020-01-19T00:00:00\", \"2020-01-20T00:00:00\", \"2020-01-21T00:00:00\", \"2020-01-22T00:00:00\", \"2020-01-23T00:00:00\", \"2020-01-24T00:00:00\", \"2020-01-25T00:00:00\", \"2020-01-26T00:00:00\", \"2020-01-27T00:00:00\", \"2020-01-28T00:00:00\"], \"xaxis\": \"x\", \"y\": [1, 4, 26, 40, 7, 4, 32, 20, 39, 37, 37, 31, 37, 38, 25], \"yaxis\": \"y\"}, {\"alignmentgroup\": \"True\", \"hoverlabel\": {\"namelength\": 0}, \"hovertemplate\": \"id=nsit<br>date=%{x}<br>energy=%{y}\", \"legendgroup\": \"id=nsit\", \"marker\": {\"color\": \"#B00068\"}, \"name\": \"id=nsit\", \"offsetgroup\": \"id=nsit\", \"orientation\": \"v\", \"showlegend\": true, \"textposition\": \"auto\", \"type\": \"bar\", \"x\": [\"2019-12-25T00:00:00\", \"2019-12-29T00:00:00\", \"2019-12-30T00:00:00\", \"2019-12-31T00:00:00\", \"2020-01-19T00:00:00\", \"2020-01-20T00:00:00\", \"2020-01-21T00:00:00\", \"2020-01-22T00:00:00\", \"2020-01-23T00:00:00\", \"2020-01-24T00:00:00\", \"2020-01-25T00:00:00\", \"2020-01-26T00:00:00\", \"2020-01-27T00:00:00\", \"2020-01-28T00:00:00\"], \"xaxis\": \"x\", \"y\": [1, 1, 20, 18, 3, 17, 18, 18, 9, 18, 18, 18, 19, 14], \"yaxis\": \"y\"}, {\"alignmentgroup\": \"True\", \"hoverlabel\": {\"namelength\": 0}, \"hovertemplate\": \"id=pitacademicblock100kw<br>date=%{x}<br>energy=%{y}\", \"legendgroup\": \"id=pitacademicblock100kw\", \"marker\": {\"color\": \"#FBE426\"}, \"name\": \"id=pitacademicblock100kw\", \"offsetgroup\": \"id=pitacademicblock100kw\", \"orientation\": \"v\", \"showlegend\": true, \"textposition\": \"auto\", \"type\": \"bar\", \"x\": [\"2019-12-25T00:00:00\", \"2019-12-29T00:00:00\", \"2019-12-30T00:00:00\", \"2019-12-31T00:00:00\", \"2020-01-19T00:00:00\", \"2020-01-20T00:00:00\", \"2020-01-21T00:00:00\", \"2020-01-22T00:00:00\", \"2020-01-23T00:00:00\", \"2020-01-24T00:00:00\", \"2020-01-25T00:00:00\", \"2020-01-26T00:00:00\", \"2020-01-27T00:00:00\", \"2020-01-28T00:00:00\"], \"xaxis\": \"x\", \"y\": [1, 1, 20, 17, 3, 19, 17, 17, 18, 17, 4, 12, 21, 9], \"yaxis\": \"y\"}, {\"alignmentgroup\": \"True\", \"hoverlabel\": {\"namelength\": 0}, \"hovertemplate\": \"id=satyawaticollege<br>date=%{x}<br>energy=%{y}\", \"legendgroup\": \"id=satyawaticollege\", \"marker\": {\"color\": \"#FA0087\"}, \"name\": \"id=satyawaticollege\", \"offsetgroup\": \"id=satyawaticollege\", \"orientation\": \"v\", \"showlegend\": true, \"textposition\": \"auto\", \"type\": \"bar\", \"x\": [\"2019-12-25T00:00:00\", \"2019-12-29T00:00:00\", \"2019-12-30T00:00:00\", \"2019-12-31T00:00:00\", \"2020-01-01T00:00:00\", \"2020-01-19T00:00:00\", \"2020-01-20T00:00:00\", \"2020-01-21T00:00:00\", \"2020-01-22T00:00:00\", \"2020-01-23T00:00:00\", \"2020-01-24T00:00:00\", \"2020-01-25T00:00:00\", \"2020-01-26T00:00:00\", \"2020-01-27T00:00:00\", \"2020-01-28T00:00:00\"], \"xaxis\": \"x\", \"y\": [1, 1, 21, 17, 1, 3, 19, 18, 19, 17, 17, 18, 16, 20, 14], \"yaxis\": \"y\"}, {\"alignmentgroup\": \"True\", \"hoverlabel\": {\"namelength\": 0}, \"hovertemplate\": \"id=sscbs<br>date=%{x}<br>energy=%{y}\", \"legendgroup\": \"id=sscbs\", \"marker\": {\"color\": \"#AA0DFE\"}, \"name\": \"id=sscbs\", \"offsetgroup\": \"id=sscbs\", \"orientation\": \"v\", \"showlegend\": true, \"textposition\": \"auto\", \"type\": \"bar\", \"x\": [\"2019-12-25T00:00:00\", \"2019-12-29T00:00:00\", \"2019-12-30T00:00:00\", \"2019-12-31T00:00:00\", \"2020-01-19T00:00:00\", \"2020-01-20T00:00:00\", \"2020-01-21T00:00:00\", \"2020-01-22T00:00:00\", \"2020-01-23T00:00:00\", \"2020-01-24T00:00:00\", \"2020-01-25T00:00:00\"], \"xaxis\": \"x\", \"y\": [1, 4, 34, 22, 3, 18, 26, 11, 28, 35, 31], \"yaxis\": \"y\"}],\n",
       "                        {\"autosize\": false, \"barmode\": \"relative\", \"height\": 680, \"legend\": {\"tracegroupgap\": 0}, \"margin\": {\"t\": 60}, \"template\": {\"data\": {\"bar\": [{\"error_x\": {\"color\": \"#2a3f5f\"}, \"error_y\": {\"color\": \"#2a3f5f\"}, \"marker\": {\"line\": {\"color\": \"#E5ECF6\", \"width\": 0.5}}, \"type\": \"bar\"}], \"barpolar\": [{\"marker\": {\"line\": {\"color\": \"#E5ECF6\", \"width\": 0.5}}, \"type\": \"barpolar\"}], \"carpet\": [{\"aaxis\": {\"endlinecolor\": \"#2a3f5f\", \"gridcolor\": \"white\", \"linecolor\": \"white\", \"minorgridcolor\": \"white\", \"startlinecolor\": \"#2a3f5f\"}, \"baxis\": {\"endlinecolor\": \"#2a3f5f\", \"gridcolor\": \"white\", \"linecolor\": \"white\", \"minorgridcolor\": \"white\", \"startlinecolor\": \"#2a3f5f\"}, \"type\": \"carpet\"}], \"choropleth\": [{\"colorbar\": {\"outlinewidth\": 0, \"ticks\": \"\"}, \"type\": \"choropleth\"}], \"contour\": [{\"colorbar\": {\"outlinewidth\": 0, \"ticks\": \"\"}, \"colorscale\": [[0.0, \"#0d0887\"], [0.1111111111111111, \"#46039f\"], [0.2222222222222222, \"#7201a8\"], [0.3333333333333333, \"#9c179e\"], [0.4444444444444444, \"#bd3786\"], [0.5555555555555556, \"#d8576b\"], [0.6666666666666666, \"#ed7953\"], [0.7777777777777778, \"#fb9f3a\"], [0.8888888888888888, \"#fdca26\"], [1.0, \"#f0f921\"]], \"type\": \"contour\"}], \"contourcarpet\": [{\"colorbar\": {\"outlinewidth\": 0, \"ticks\": \"\"}, \"type\": \"contourcarpet\"}], \"heatmap\": [{\"colorbar\": {\"outlinewidth\": 0, \"ticks\": \"\"}, \"colorscale\": [[0.0, \"#0d0887\"], [0.1111111111111111, \"#46039f\"], [0.2222222222222222, \"#7201a8\"], [0.3333333333333333, \"#9c179e\"], [0.4444444444444444, \"#bd3786\"], [0.5555555555555556, \"#d8576b\"], [0.6666666666666666, \"#ed7953\"], [0.7777777777777778, \"#fb9f3a\"], [0.8888888888888888, \"#fdca26\"], [1.0, \"#f0f921\"]], \"type\": \"heatmap\"}], \"heatmapgl\": [{\"colorbar\": {\"outlinewidth\": 0, \"ticks\": \"\"}, \"colorscale\": [[0.0, \"#0d0887\"], [0.1111111111111111, \"#46039f\"], [0.2222222222222222, \"#7201a8\"], [0.3333333333333333, \"#9c179e\"], [0.4444444444444444, \"#bd3786\"], [0.5555555555555556, \"#d8576b\"], [0.6666666666666666, \"#ed7953\"], [0.7777777777777778, \"#fb9f3a\"], [0.8888888888888888, \"#fdca26\"], [1.0, \"#f0f921\"]], \"type\": \"heatmapgl\"}], \"histogram\": [{\"marker\": {\"colorbar\": {\"outlinewidth\": 0, \"ticks\": \"\"}}, \"type\": \"histogram\"}], \"histogram2d\": [{\"colorbar\": {\"outlinewidth\": 0, \"ticks\": \"\"}, \"colorscale\": [[0.0, \"#0d0887\"], [0.1111111111111111, \"#46039f\"], [0.2222222222222222, \"#7201a8\"], [0.3333333333333333, \"#9c179e\"], [0.4444444444444444, \"#bd3786\"], [0.5555555555555556, \"#d8576b\"], [0.6666666666666666, \"#ed7953\"], [0.7777777777777778, \"#fb9f3a\"], [0.8888888888888888, \"#fdca26\"], [1.0, \"#f0f921\"]], \"type\": \"histogram2d\"}], \"histogram2dcontour\": [{\"colorbar\": {\"outlinewidth\": 0, \"ticks\": \"\"}, \"colorscale\": [[0.0, \"#0d0887\"], [0.1111111111111111, \"#46039f\"], [0.2222222222222222, \"#7201a8\"], [0.3333333333333333, \"#9c179e\"], [0.4444444444444444, \"#bd3786\"], [0.5555555555555556, \"#d8576b\"], [0.6666666666666666, \"#ed7953\"], [0.7777777777777778, \"#fb9f3a\"], [0.8888888888888888, \"#fdca26\"], [1.0, \"#f0f921\"]], \"type\": \"histogram2dcontour\"}], \"mesh3d\": [{\"colorbar\": {\"outlinewidth\": 0, \"ticks\": \"\"}, \"type\": \"mesh3d\"}], \"parcoords\": [{\"line\": {\"colorbar\": {\"outlinewidth\": 0, \"ticks\": \"\"}}, \"type\": \"parcoords\"}], \"pie\": [{\"automargin\": true, \"type\": \"pie\"}], \"scatter\": [{\"marker\": {\"colorbar\": {\"outlinewidth\": 0, \"ticks\": \"\"}}, \"type\": \"scatter\"}], \"scatter3d\": [{\"line\": {\"colorbar\": {\"outlinewidth\": 0, \"ticks\": \"\"}}, \"marker\": {\"colorbar\": {\"outlinewidth\": 0, \"ticks\": \"\"}}, \"type\": \"scatter3d\"}], \"scattercarpet\": [{\"marker\": {\"colorbar\": {\"outlinewidth\": 0, \"ticks\": \"\"}}, \"type\": \"scattercarpet\"}], \"scattergeo\": [{\"marker\": {\"colorbar\": {\"outlinewidth\": 0, \"ticks\": \"\"}}, \"type\": \"scattergeo\"}], \"scattergl\": [{\"marker\": {\"colorbar\": {\"outlinewidth\": 0, \"ticks\": \"\"}}, \"type\": \"scattergl\"}], \"scattermapbox\": [{\"marker\": {\"colorbar\": {\"outlinewidth\": 0, \"ticks\": \"\"}}, \"type\": \"scattermapbox\"}], \"scatterpolar\": [{\"marker\": {\"colorbar\": {\"outlinewidth\": 0, \"ticks\": \"\"}}, \"type\": \"scatterpolar\"}], \"scatterpolargl\": [{\"marker\": {\"colorbar\": {\"outlinewidth\": 0, \"ticks\": \"\"}}, \"type\": \"scatterpolargl\"}], \"scatterternary\": [{\"marker\": {\"colorbar\": {\"outlinewidth\": 0, \"ticks\": \"\"}}, \"type\": \"scatterternary\"}], \"surface\": [{\"colorbar\": {\"outlinewidth\": 0, \"ticks\": \"\"}, \"colorscale\": [[0.0, \"#0d0887\"], [0.1111111111111111, \"#46039f\"], [0.2222222222222222, \"#7201a8\"], [0.3333333333333333, \"#9c179e\"], [0.4444444444444444, \"#bd3786\"], [0.5555555555555556, \"#d8576b\"], [0.6666666666666666, \"#ed7953\"], [0.7777777777777778, \"#fb9f3a\"], [0.8888888888888888, \"#fdca26\"], [1.0, \"#f0f921\"]], \"type\": \"surface\"}], \"table\": [{\"cells\": {\"fill\": {\"color\": \"#EBF0F8\"}, \"line\": {\"color\": \"white\"}}, \"header\": {\"fill\": {\"color\": \"#C8D4E3\"}, \"line\": {\"color\": \"white\"}}, \"type\": \"table\"}]}, \"layout\": {\"annotationdefaults\": {\"arrowcolor\": \"#2a3f5f\", \"arrowhead\": 0, \"arrowwidth\": 1}, \"coloraxis\": {\"colorbar\": {\"outlinewidth\": 0, \"ticks\": \"\"}}, \"colorscale\": {\"diverging\": [[0, \"#8e0152\"], [0.1, \"#c51b7d\"], [0.2, \"#de77ae\"], [0.3, \"#f1b6da\"], [0.4, \"#fde0ef\"], [0.5, \"#f7f7f7\"], [0.6, \"#e6f5d0\"], [0.7, \"#b8e186\"], [0.8, \"#7fbc41\"], [0.9, \"#4d9221\"], [1, \"#276419\"]], \"sequential\": [[0.0, \"#0d0887\"], [0.1111111111111111, \"#46039f\"], [0.2222222222222222, \"#7201a8\"], [0.3333333333333333, \"#9c179e\"], [0.4444444444444444, \"#bd3786\"], [0.5555555555555556, \"#d8576b\"], [0.6666666666666666, \"#ed7953\"], [0.7777777777777778, \"#fb9f3a\"], [0.8888888888888888, \"#fdca26\"], [1.0, \"#f0f921\"]], \"sequentialminus\": [[0.0, \"#0d0887\"], [0.1111111111111111, \"#46039f\"], [0.2222222222222222, \"#7201a8\"], [0.3333333333333333, \"#9c179e\"], [0.4444444444444444, \"#bd3786\"], [0.5555555555555556, \"#d8576b\"], [0.6666666666666666, \"#ed7953\"], [0.7777777777777778, \"#fb9f3a\"], [0.8888888888888888, \"#fdca26\"], [1.0, \"#f0f921\"]]}, \"colorway\": [\"#636efa\", \"#EF553B\", \"#00cc96\", \"#ab63fa\", \"#FFA15A\", \"#19d3f3\", \"#FF6692\", \"#B6E880\", \"#FF97FF\", \"#FECB52\"], \"font\": {\"color\": \"#2a3f5f\"}, \"geo\": {\"bgcolor\": \"white\", \"lakecolor\": \"white\", \"landcolor\": \"#E5ECF6\", \"showlakes\": true, \"showland\": true, \"subunitcolor\": \"white\"}, \"hoverlabel\": {\"align\": \"left\"}, \"hovermode\": \"closest\", \"mapbox\": {\"style\": \"light\"}, \"paper_bgcolor\": \"white\", \"plot_bgcolor\": \"#E5ECF6\", \"polar\": {\"angularaxis\": {\"gridcolor\": \"white\", \"linecolor\": \"white\", \"ticks\": \"\"}, \"bgcolor\": \"#E5ECF6\", \"radialaxis\": {\"gridcolor\": \"white\", \"linecolor\": \"white\", \"ticks\": \"\"}}, \"scene\": {\"xaxis\": {\"backgroundcolor\": \"#E5ECF6\", \"gridcolor\": \"white\", \"gridwidth\": 2, \"linecolor\": \"white\", \"showbackground\": true, \"ticks\": \"\", \"zerolinecolor\": \"white\"}, \"yaxis\": {\"backgroundcolor\": \"#E5ECF6\", \"gridcolor\": \"white\", \"gridwidth\": 2, \"linecolor\": \"white\", \"showbackground\": true, \"ticks\": \"\", \"zerolinecolor\": \"white\"}, \"zaxis\": {\"backgroundcolor\": \"#E5ECF6\", \"gridcolor\": \"white\", \"gridwidth\": 2, \"linecolor\": \"white\", \"showbackground\": true, \"ticks\": \"\", \"zerolinecolor\": \"white\"}}, \"shapedefaults\": {\"line\": {\"color\": \"#2a3f5f\"}}, \"ternary\": {\"aaxis\": {\"gridcolor\": \"white\", \"linecolor\": \"white\", \"ticks\": \"\"}, \"baxis\": {\"gridcolor\": \"white\", \"linecolor\": \"white\", \"ticks\": \"\"}, \"bgcolor\": \"#E5ECF6\", \"caxis\": {\"gridcolor\": \"white\", \"linecolor\": \"white\", \"ticks\": \"\"}}, \"title\": {\"x\": 0.05}, \"xaxis\": {\"automargin\": true, \"gridcolor\": \"white\", \"linecolor\": \"white\", \"ticks\": \"\", \"title\": {\"standoff\": 15}, \"zerolinecolor\": \"white\", \"zerolinewidth\": 2}, \"yaxis\": {\"automargin\": true, \"gridcolor\": \"white\", \"linecolor\": \"white\", \"ticks\": \"\", \"title\": {\"standoff\": 15}, \"zerolinecolor\": \"white\", \"zerolinewidth\": 2}}}, \"title\": {\"text\": \"Number of Missing Observations for Each Day\"}, \"width\": 1150, \"xaxis\": {\"dtick\": [1, 2], \"title\": {\"font\": {\"size\": 15}, \"text\": \"Date\"}}, \"yaxis\": {\"dtick\": 25, \"ticktext\": [1, 1, 1, 1, 1, 1, 1, 1, 1, 1, 1, 1, 1, 1, 1, 1, 1, 1, 1, 1, 1, 1, 2, 5, 4, 5, 5, 5, 4, 5, 5, 5, 5, 5, 5, 0, 5, 5, 5, 4, 5, 5, 5, 4, 2, 3, 3, 2, 2, 48, 45, 48, 48, 47, 47, 41, 48, 47, 41, 46, 46, 47, 0, 46, 48, 45, 26, 48, 48, 47, 47, 8, 12, 12, 8, 9, 50, 48, 48, 48, 48, 48, 46, 48, 43, 48, 48, 48, 48, 0, 48, 47, 47, 43, 48, 47, 48, 47, 23, 30, 28, 22, 19, 38, 32, 37, 33, 29, 32, 35, 38, 28, 32, 33, 30, 31, 27, 35, 33, 30, 31, 32, 32, 33, 30, 2, 2, 2, 3, 2, 35, 34, 34, 34, 34, 35, 34, 33, 29, 34, 34, 34, 34, 34, 34, 34, 34, 34, 35, 34, 34, 34, 21, 27, 28, 21, 7, 39, 33, 39, 39, 39, 39, 39, 30, 39, 31, 37, 37, 26, 15, 37, 31, 39, 39, 39, 39, 39, 39, 41, 38, 38, 38, 38, 39, 38, 39, 38, 38, 37, 37, 34, 23, 32, 39, 38, 38, 39, 38, 36, 30, 41, 36, 37, 37, 38, 38, 37, 37, 37, 36, 35, 37, 38, 37, 38, 39, 37, 36, 37, 39, 35, 39, 37, 37, 35, 30, 39, 37, 34, 35, 37, 37, 37, 36, 37, 38, 39, 35, 35, 37, 38, 35, 35, 38, 37, 31, 37, 35, 37, 31, 33, 37, 35, 29, 29, 37, 37, 31, 33, 36, 37, 35, 38, 35, 35, 34, 35, 35, 35, 35, 33, 36, 31, 20, 35, 35, 35, 35, 34, 37, 37, 35, 33, 35, 35, 37, 37, 39, 37, 37, 37, 34, 37, 28, 39, 37, 35, 37, 37, 34, 35, 26, 40, 39, 38, 40, 38, 38, 39, 38, 39, 37, 39, 39, 39, 39, 37, 38, 39, 38, 35, 37, 36, 38, 37, 32, 38, 26, 39, 39, 39, 39, 40, 38, 36, 38, 39, 38, 35, 38, 38, 39, 38, 36, 37, 40, 38, 39, 39, 35, 39, 38, 39, 39, 38, 38, 37, 38, 38, 39, 39, 39, 38, 39, 39, 37, 37, 17, 17, 16, 16, 12, 39, 38, 39, 38, 38, 39, 38, 39, 36, 36, 38, 36, 36, 38, 38, 39, 36, 33, 39, 38, 37, 35, 26, 39, 33, 26, 16, 40, 38, 40, 39, 35, 36, 39, 39, 37, 37, 37, 37, 37, 39, 39, 39, 37, 34, 39, 39, 39, 35, 23, 24, 31, 23, 13, 36, 36, 38, 38, 38, 34, 36, 37, 36, 35, 37, 33, 39, 36, 36, 39, 37, 36, 39, 38, 35, 36, 1, 2, 1, 1, 1, 31, 29, 18, 31, 29, 31, 29, 29, 29, 31, 33, 30, 31, 25, 29, 32, 29, 29, 31, 31, 29, 30, 71, 87, 83, 71, 44, 6, 4, 4, 4, 4, 4, 4, 4, 4, 4, 4, 4, 4, 4, 4, 4, 4, 4, 4, 4, 4, 65, 78, 73, 64, 49, 40, 41, 39, 39, 39, 41, 41, 39, 41, 41, 41, 30, 39, 39, 41, 38, 38, 32, 39, 39, 39, 39, 81, 86, 85, 82, 53, 42, 39, 40, 30, 40, 41, 39, 41, 30, 38, 41, 39, 33, 40, 37, 41, 40, 20, 38, 39, 38, 37, 91, 100, 97, 82, 39, 35, 40, 41, 40, 42, 41, 42, 41, 41, 41, 41, 20, 36, 41, 40, 41, 41, 41, 40, 41, 40, 13, 95, 94, 99, 81, 42, 38, 38, 41, 40, 41, 40, 41, 41, 41, 41, 41, 30, 30, 38, 41, 41, 41, 40, 37, 42, 41, 29, 96, 90, 98, 82, 36, 42, 38, 38, 31, 41, 41, 41, 41, 41, 42, 37, 41, 41, 38, 41, 38, 38, 41, 38, 41, 38, 91, 95, 95, 86, 39, 42, 39, 41, 33, 38, 38, 41, 41, 41, 41, 41, 41, 42, 38, 41, 41, 32, 41, 17, 39, 31, 67, 94, 79, 59, 35, 42, 41, 37, 41, 37, 41, 41, 37, 37, 41, 29, 41, 40, 39, 38, 37, 38, 40, 40, 42, 63, 96, 76, 59, 48, 44, 39, 41, 41, 38, 41, 41, 41, 41, 19, 41, 41, 39, 41, 41, 39, 39, 40, 41, 41, 24, 38, 31, 24, 17, 28, 27, 17, 27, 24, 17, 17, 27, 27, 28, 27, 17, 26, 27, 27, 28, 26, 28, 17, 27], \"title\": {\"font\": {\"size\": 15}, \"text\": \"Observations\"}}},\n",
       "                        {\"responsive\": true}\n",
       "                    ).then(function(){\n",
       "                            \n",
       "var gd = document.getElementById('93e7aea9-ca99-41d1-9484-6a45772c5248');\n",
       "var x = new MutationObserver(function (mutations, observer) {{\n",
       "        var display = window.getComputedStyle(gd).display;\n",
       "        if (!display || display === 'none') {{\n",
       "            console.log([gd, 'removed!']);\n",
       "            Plotly.purge(gd);\n",
       "            observer.disconnect();\n",
       "        }}\n",
       "}});\n",
       "\n",
       "// Listen for the removal of the full notebook cells\n",
       "var notebookContainer = gd.closest('#notebook-container');\n",
       "if (notebookContainer) {{\n",
       "    x.observe(notebookContainer, {childList: true});\n",
       "}}\n",
       "\n",
       "// Listen for the clearing of the current output cell\n",
       "var outputEl = gd.closest('.output');\n",
       "if (outputEl) {{\n",
       "    x.observe(outputEl, {childList: true});\n",
       "}}\n",
       "\n",
       "                        })\n",
       "                };\n",
       "                });\n",
       "            </script>\n",
       "        </div>"
      ]
     },
     "metadata": {},
     "output_type": "display_data"
    }
   ],
   "source": [
    "import plotly.graph_objects as go\n",
    "fig_2 = px.bar(df_missing, x='date', y=\"energy\", color = 'id', color_discrete_sequence= px.colors.qualitative.Alphabet)\n",
    "fig_2.update_layout(title='Number of Missing Observations for Each Day',\n",
    "                    autosize=False, width=1150, height= 680, \n",
    "                    yaxis=go.layout.YAxis(\n",
    "                        title_text=\"Observations\",\n",
    "                        ticktext=df_sample[\"('count', 'energy')\"],\n",
    "                        dtick = 25,\n",
    "                        titlefont=dict(size=15)),\n",
    "                    xaxis = go.layout.XAxis(dtick = [1,2],\n",
    "                                            title_text=\"Date\",\n",
    "                                            titlefont=dict(size=15)),\n",
    "                        )\n",
    "\n",
    "fig_2.show()"
   ]
  },
  {
   "cell_type": "code",
   "execution_count": 43,
   "metadata": {},
   "outputs": [],
   "source": [
    "df_missing_st = pd.pivot_table(df_missing, index = 'id', values = 'energy', aggfunc = \"sum\")\n",
    "df_missing_st = pd.DataFrame(df_missing_st.to_records())\n",
    "df_missing_st = df_missing_st.rename(columns = {'energy':'missing'})\n",
    "df_count = df_count.rename(columns = {'count':'total'})\n",
    "df_missing_st = pd.merge(df_missing_st, df_count)\n",
    "df_missing_st['percent'] = round(df_missing_st['missing']/df_missing_st['total']*100, 1)"
   ]
  },
  {
   "cell_type": "code",
   "execution_count": 65,
   "metadata": {},
   "outputs": [
    {
     "data": {
      "application/vnd.plotly.v1+json": {
       "config": {
        "plotlyServerURL": "https://plot.ly"
       },
       "data": [
        {
         "marker": {
          "color": "red"
         },
         "name": "Missing",
         "text": [
          "0.5%",
          "4.7%",
          "1.0%",
          "0.7%",
          "0.8%",
          "19.1%",
          "19.9%",
          "19.8%",
          "17.8%",
          "23.8%",
          "18.0%",
          "18.4%",
          "18.7%",
          "17.7%",
          "19.6%",
          "18.6%",
          "18.2%",
          "16.4%",
          "19.6%",
          "19.4%",
          "18.8%",
          "19.9%",
          "39.8%",
          "18.5%",
          "17.5%",
          "19.8%",
          "30.6%"
         ],
         "textfont": {
          "size": 12
         },
         "textposition": "auto",
         "type": "bar",
         "x": [
          "43707",
          "55448",
          "58292",
          "58337",
          "59093",
          "ait82kw",
          "aurobindo",
          "btcpusa110kw",
          "deendayalupadhyaycollege",
          "delhihaat",
          "dtu",
          "igdtuw",
          "ihbas",
          "iiitd",
          "iticvraman",
          "itijaffarpur",
          "itijailroad",
          "itimangolpuri",
          "itipusa",
          "kalindicillege",
          "kitpitampura",
          "maulanaazadmedicalcollege",
          "meerabaiinstituteoftechnology",
          "nsit",
          "pitacademicblock100kw",
          "satyawaticollege",
          "sscbs"
         ],
         "y": [
          4,
          48,
          10,
          6,
          4,
          203,
          202,
          201,
          179,
          203,
          186,
          188,
          194,
          178,
          196,
          190,
          175,
          129,
          164,
          200,
          195,
          201,
          378,
          192,
          176,
          202,
          213
         ]
        },
        {
         "marker": {
          "color": "blue"
         },
         "name": "Total",
         "type": "bar",
         "x": [
          "43707",
          "55448",
          "58292",
          "58337",
          "59093",
          "ait82kw",
          "aurobindo",
          "btcpusa110kw",
          "deendayalupadhyaycollege",
          "delhihaat",
          "dtu",
          "igdtuw",
          "ihbas",
          "iiitd",
          "iticvraman",
          "itijaffarpur",
          "itijailroad",
          "itimangolpuri",
          "itipusa",
          "kalindicillege",
          "kitpitampura",
          "maulanaazadmedicalcollege",
          "meerabaiinstituteoftechnology",
          "nsit",
          "pitacademicblock100kw",
          "satyawaticollege",
          "sscbs"
         ],
         "y": [
          863,
          966,
          960,
          806,
          479,
          862,
          814,
          812,
          828,
          651,
          847,
          836,
          844,
          825,
          802,
          834,
          789,
          657,
          671,
          829,
          843,
          808,
          571,
          848,
          829,
          820,
          482
         ]
        }
       ],
       "layout": {
        "autosize": false,
        "barmode": "stack",
        "height": 680,
        "template": {
         "data": {
          "bar": [
           {
            "error_x": {
             "color": "#2a3f5f"
            },
            "error_y": {
             "color": "#2a3f5f"
            },
            "marker": {
             "line": {
              "color": "#E5ECF6",
              "width": 0.5
             }
            },
            "type": "bar"
           }
          ],
          "barpolar": [
           {
            "marker": {
             "line": {
              "color": "#E5ECF6",
              "width": 0.5
             }
            },
            "type": "barpolar"
           }
          ],
          "carpet": [
           {
            "aaxis": {
             "endlinecolor": "#2a3f5f",
             "gridcolor": "white",
             "linecolor": "white",
             "minorgridcolor": "white",
             "startlinecolor": "#2a3f5f"
            },
            "baxis": {
             "endlinecolor": "#2a3f5f",
             "gridcolor": "white",
             "linecolor": "white",
             "minorgridcolor": "white",
             "startlinecolor": "#2a3f5f"
            },
            "type": "carpet"
           }
          ],
          "choropleth": [
           {
            "colorbar": {
             "outlinewidth": 0,
             "ticks": ""
            },
            "type": "choropleth"
           }
          ],
          "contour": [
           {
            "colorbar": {
             "outlinewidth": 0,
             "ticks": ""
            },
            "colorscale": [
             [
              0,
              "#0d0887"
             ],
             [
              0.1111111111111111,
              "#46039f"
             ],
             [
              0.2222222222222222,
              "#7201a8"
             ],
             [
              0.3333333333333333,
              "#9c179e"
             ],
             [
              0.4444444444444444,
              "#bd3786"
             ],
             [
              0.5555555555555556,
              "#d8576b"
             ],
             [
              0.6666666666666666,
              "#ed7953"
             ],
             [
              0.7777777777777778,
              "#fb9f3a"
             ],
             [
              0.8888888888888888,
              "#fdca26"
             ],
             [
              1,
              "#f0f921"
             ]
            ],
            "type": "contour"
           }
          ],
          "contourcarpet": [
           {
            "colorbar": {
             "outlinewidth": 0,
             "ticks": ""
            },
            "type": "contourcarpet"
           }
          ],
          "heatmap": [
           {
            "colorbar": {
             "outlinewidth": 0,
             "ticks": ""
            },
            "colorscale": [
             [
              0,
              "#0d0887"
             ],
             [
              0.1111111111111111,
              "#46039f"
             ],
             [
              0.2222222222222222,
              "#7201a8"
             ],
             [
              0.3333333333333333,
              "#9c179e"
             ],
             [
              0.4444444444444444,
              "#bd3786"
             ],
             [
              0.5555555555555556,
              "#d8576b"
             ],
             [
              0.6666666666666666,
              "#ed7953"
             ],
             [
              0.7777777777777778,
              "#fb9f3a"
             ],
             [
              0.8888888888888888,
              "#fdca26"
             ],
             [
              1,
              "#f0f921"
             ]
            ],
            "type": "heatmap"
           }
          ],
          "heatmapgl": [
           {
            "colorbar": {
             "outlinewidth": 0,
             "ticks": ""
            },
            "colorscale": [
             [
              0,
              "#0d0887"
             ],
             [
              0.1111111111111111,
              "#46039f"
             ],
             [
              0.2222222222222222,
              "#7201a8"
             ],
             [
              0.3333333333333333,
              "#9c179e"
             ],
             [
              0.4444444444444444,
              "#bd3786"
             ],
             [
              0.5555555555555556,
              "#d8576b"
             ],
             [
              0.6666666666666666,
              "#ed7953"
             ],
             [
              0.7777777777777778,
              "#fb9f3a"
             ],
             [
              0.8888888888888888,
              "#fdca26"
             ],
             [
              1,
              "#f0f921"
             ]
            ],
            "type": "heatmapgl"
           }
          ],
          "histogram": [
           {
            "marker": {
             "colorbar": {
              "outlinewidth": 0,
              "ticks": ""
             }
            },
            "type": "histogram"
           }
          ],
          "histogram2d": [
           {
            "colorbar": {
             "outlinewidth": 0,
             "ticks": ""
            },
            "colorscale": [
             [
              0,
              "#0d0887"
             ],
             [
              0.1111111111111111,
              "#46039f"
             ],
             [
              0.2222222222222222,
              "#7201a8"
             ],
             [
              0.3333333333333333,
              "#9c179e"
             ],
             [
              0.4444444444444444,
              "#bd3786"
             ],
             [
              0.5555555555555556,
              "#d8576b"
             ],
             [
              0.6666666666666666,
              "#ed7953"
             ],
             [
              0.7777777777777778,
              "#fb9f3a"
             ],
             [
              0.8888888888888888,
              "#fdca26"
             ],
             [
              1,
              "#f0f921"
             ]
            ],
            "type": "histogram2d"
           }
          ],
          "histogram2dcontour": [
           {
            "colorbar": {
             "outlinewidth": 0,
             "ticks": ""
            },
            "colorscale": [
             [
              0,
              "#0d0887"
             ],
             [
              0.1111111111111111,
              "#46039f"
             ],
             [
              0.2222222222222222,
              "#7201a8"
             ],
             [
              0.3333333333333333,
              "#9c179e"
             ],
             [
              0.4444444444444444,
              "#bd3786"
             ],
             [
              0.5555555555555556,
              "#d8576b"
             ],
             [
              0.6666666666666666,
              "#ed7953"
             ],
             [
              0.7777777777777778,
              "#fb9f3a"
             ],
             [
              0.8888888888888888,
              "#fdca26"
             ],
             [
              1,
              "#f0f921"
             ]
            ],
            "type": "histogram2dcontour"
           }
          ],
          "mesh3d": [
           {
            "colorbar": {
             "outlinewidth": 0,
             "ticks": ""
            },
            "type": "mesh3d"
           }
          ],
          "parcoords": [
           {
            "line": {
             "colorbar": {
              "outlinewidth": 0,
              "ticks": ""
             }
            },
            "type": "parcoords"
           }
          ],
          "pie": [
           {
            "automargin": true,
            "type": "pie"
           }
          ],
          "scatter": [
           {
            "marker": {
             "colorbar": {
              "outlinewidth": 0,
              "ticks": ""
             }
            },
            "type": "scatter"
           }
          ],
          "scatter3d": [
           {
            "line": {
             "colorbar": {
              "outlinewidth": 0,
              "ticks": ""
             }
            },
            "marker": {
             "colorbar": {
              "outlinewidth": 0,
              "ticks": ""
             }
            },
            "type": "scatter3d"
           }
          ],
          "scattercarpet": [
           {
            "marker": {
             "colorbar": {
              "outlinewidth": 0,
              "ticks": ""
             }
            },
            "type": "scattercarpet"
           }
          ],
          "scattergeo": [
           {
            "marker": {
             "colorbar": {
              "outlinewidth": 0,
              "ticks": ""
             }
            },
            "type": "scattergeo"
           }
          ],
          "scattergl": [
           {
            "marker": {
             "colorbar": {
              "outlinewidth": 0,
              "ticks": ""
             }
            },
            "type": "scattergl"
           }
          ],
          "scattermapbox": [
           {
            "marker": {
             "colorbar": {
              "outlinewidth": 0,
              "ticks": ""
             }
            },
            "type": "scattermapbox"
           }
          ],
          "scatterpolar": [
           {
            "marker": {
             "colorbar": {
              "outlinewidth": 0,
              "ticks": ""
             }
            },
            "type": "scatterpolar"
           }
          ],
          "scatterpolargl": [
           {
            "marker": {
             "colorbar": {
              "outlinewidth": 0,
              "ticks": ""
             }
            },
            "type": "scatterpolargl"
           }
          ],
          "scatterternary": [
           {
            "marker": {
             "colorbar": {
              "outlinewidth": 0,
              "ticks": ""
             }
            },
            "type": "scatterternary"
           }
          ],
          "surface": [
           {
            "colorbar": {
             "outlinewidth": 0,
             "ticks": ""
            },
            "colorscale": [
             [
              0,
              "#0d0887"
             ],
             [
              0.1111111111111111,
              "#46039f"
             ],
             [
              0.2222222222222222,
              "#7201a8"
             ],
             [
              0.3333333333333333,
              "#9c179e"
             ],
             [
              0.4444444444444444,
              "#bd3786"
             ],
             [
              0.5555555555555556,
              "#d8576b"
             ],
             [
              0.6666666666666666,
              "#ed7953"
             ],
             [
              0.7777777777777778,
              "#fb9f3a"
             ],
             [
              0.8888888888888888,
              "#fdca26"
             ],
             [
              1,
              "#f0f921"
             ]
            ],
            "type": "surface"
           }
          ],
          "table": [
           {
            "cells": {
             "fill": {
              "color": "#EBF0F8"
             },
             "line": {
              "color": "white"
             }
            },
            "header": {
             "fill": {
              "color": "#C8D4E3"
             },
             "line": {
              "color": "white"
             }
            },
            "type": "table"
           }
          ]
         },
         "layout": {
          "annotationdefaults": {
           "arrowcolor": "#2a3f5f",
           "arrowhead": 0,
           "arrowwidth": 1
          },
          "coloraxis": {
           "colorbar": {
            "outlinewidth": 0,
            "ticks": ""
           }
          },
          "colorscale": {
           "diverging": [
            [
             0,
             "#8e0152"
            ],
            [
             0.1,
             "#c51b7d"
            ],
            [
             0.2,
             "#de77ae"
            ],
            [
             0.3,
             "#f1b6da"
            ],
            [
             0.4,
             "#fde0ef"
            ],
            [
             0.5,
             "#f7f7f7"
            ],
            [
             0.6,
             "#e6f5d0"
            ],
            [
             0.7,
             "#b8e186"
            ],
            [
             0.8,
             "#7fbc41"
            ],
            [
             0.9,
             "#4d9221"
            ],
            [
             1,
             "#276419"
            ]
           ],
           "sequential": [
            [
             0,
             "#0d0887"
            ],
            [
             0.1111111111111111,
             "#46039f"
            ],
            [
             0.2222222222222222,
             "#7201a8"
            ],
            [
             0.3333333333333333,
             "#9c179e"
            ],
            [
             0.4444444444444444,
             "#bd3786"
            ],
            [
             0.5555555555555556,
             "#d8576b"
            ],
            [
             0.6666666666666666,
             "#ed7953"
            ],
            [
             0.7777777777777778,
             "#fb9f3a"
            ],
            [
             0.8888888888888888,
             "#fdca26"
            ],
            [
             1,
             "#f0f921"
            ]
           ],
           "sequentialminus": [
            [
             0,
             "#0d0887"
            ],
            [
             0.1111111111111111,
             "#46039f"
            ],
            [
             0.2222222222222222,
             "#7201a8"
            ],
            [
             0.3333333333333333,
             "#9c179e"
            ],
            [
             0.4444444444444444,
             "#bd3786"
            ],
            [
             0.5555555555555556,
             "#d8576b"
            ],
            [
             0.6666666666666666,
             "#ed7953"
            ],
            [
             0.7777777777777778,
             "#fb9f3a"
            ],
            [
             0.8888888888888888,
             "#fdca26"
            ],
            [
             1,
             "#f0f921"
            ]
           ]
          },
          "colorway": [
           "#636efa",
           "#EF553B",
           "#00cc96",
           "#ab63fa",
           "#FFA15A",
           "#19d3f3",
           "#FF6692",
           "#B6E880",
           "#FF97FF",
           "#FECB52"
          ],
          "font": {
           "color": "#2a3f5f"
          },
          "geo": {
           "bgcolor": "white",
           "lakecolor": "white",
           "landcolor": "#E5ECF6",
           "showlakes": true,
           "showland": true,
           "subunitcolor": "white"
          },
          "hoverlabel": {
           "align": "left"
          },
          "hovermode": "closest",
          "mapbox": {
           "style": "light"
          },
          "paper_bgcolor": "white",
          "plot_bgcolor": "#E5ECF6",
          "polar": {
           "angularaxis": {
            "gridcolor": "white",
            "linecolor": "white",
            "ticks": ""
           },
           "bgcolor": "#E5ECF6",
           "radialaxis": {
            "gridcolor": "white",
            "linecolor": "white",
            "ticks": ""
           }
          },
          "scene": {
           "xaxis": {
            "backgroundcolor": "#E5ECF6",
            "gridcolor": "white",
            "gridwidth": 2,
            "linecolor": "white",
            "showbackground": true,
            "ticks": "",
            "zerolinecolor": "white"
           },
           "yaxis": {
            "backgroundcolor": "#E5ECF6",
            "gridcolor": "white",
            "gridwidth": 2,
            "linecolor": "white",
            "showbackground": true,
            "ticks": "",
            "zerolinecolor": "white"
           },
           "zaxis": {
            "backgroundcolor": "#E5ECF6",
            "gridcolor": "white",
            "gridwidth": 2,
            "linecolor": "white",
            "showbackground": true,
            "ticks": "",
            "zerolinecolor": "white"
           }
          },
          "shapedefaults": {
           "line": {
            "color": "#2a3f5f"
           }
          },
          "ternary": {
           "aaxis": {
            "gridcolor": "white",
            "linecolor": "white",
            "ticks": ""
           },
           "baxis": {
            "gridcolor": "white",
            "linecolor": "white",
            "ticks": ""
           },
           "bgcolor": "#E5ECF6",
           "caxis": {
            "gridcolor": "white",
            "linecolor": "white",
            "ticks": ""
           }
          },
          "title": {
           "x": 0.05
          },
          "xaxis": {
           "automargin": true,
           "gridcolor": "white",
           "linecolor": "white",
           "ticks": "",
           "title": {
            "standoff": 15
           },
           "zerolinecolor": "white",
           "zerolinewidth": 2
          },
          "yaxis": {
           "automargin": true,
           "gridcolor": "white",
           "linecolor": "white",
           "ticks": "",
           "title": {
            "standoff": 15
           },
           "zerolinecolor": "white",
           "zerolinewidth": 2
          }
         }
        },
        "title": {
         "text": "Fraction of Missing Values for Each Station"
        },
        "width": 1000,
        "xaxis": {
         "dtick": [
          1,
          2
         ],
         "title": {
          "font": {
           "size": 15
          },
          "text": "Date"
         }
        },
        "yaxis": {
         "dtick": 100,
         "ticktext": [
          1,
          1,
          1,
          1,
          1,
          1,
          1,
          1,
          1,
          1,
          1,
          1,
          1,
          1,
          1,
          1,
          1,
          1,
          1,
          1,
          1,
          1,
          2,
          5,
          4,
          5,
          5,
          5,
          4,
          5,
          5,
          5,
          5,
          5,
          5,
          0,
          5,
          5,
          5,
          4,
          5,
          5,
          5,
          4,
          2,
          3,
          3,
          2,
          2,
          48,
          45,
          48,
          48,
          47,
          47,
          41,
          48,
          47,
          41,
          46,
          46,
          47,
          0,
          46,
          48,
          45,
          26,
          48,
          48,
          47,
          47,
          8,
          12,
          12,
          8,
          9,
          50,
          48,
          48,
          48,
          48,
          48,
          46,
          48,
          43,
          48,
          48,
          48,
          48,
          0,
          48,
          47,
          47,
          43,
          48,
          47,
          48,
          47,
          23,
          30,
          28,
          22,
          19,
          38,
          32,
          37,
          33,
          29,
          32,
          35,
          38,
          28,
          32,
          33,
          30,
          31,
          27,
          35,
          33,
          30,
          31,
          32,
          32,
          33,
          30,
          2,
          2,
          2,
          3,
          2,
          35,
          34,
          34,
          34,
          34,
          35,
          34,
          33,
          29,
          34,
          34,
          34,
          34,
          34,
          34,
          34,
          34,
          34,
          35,
          34,
          34,
          34,
          21,
          27,
          28,
          21,
          7,
          39,
          33,
          39,
          39,
          39,
          39,
          39,
          30,
          39,
          31,
          37,
          37,
          26,
          15,
          37,
          31,
          39,
          39,
          39,
          39,
          39,
          39,
          41,
          38,
          38,
          38,
          38,
          39,
          38,
          39,
          38,
          38,
          37,
          37,
          34,
          23,
          32,
          39,
          38,
          38,
          39,
          38,
          36,
          30,
          41,
          36,
          37,
          37,
          38,
          38,
          37,
          37,
          37,
          36,
          35,
          37,
          38,
          37,
          38,
          39,
          37,
          36,
          37,
          39,
          35,
          39,
          37,
          37,
          35,
          30,
          39,
          37,
          34,
          35,
          37,
          37,
          37,
          36,
          37,
          38,
          39,
          35,
          35,
          37,
          38,
          35,
          35,
          38,
          37,
          31,
          37,
          35,
          37,
          31,
          33,
          37,
          35,
          29,
          29,
          37,
          37,
          31,
          33,
          36,
          37,
          35,
          38,
          35,
          35,
          34,
          35,
          35,
          35,
          35,
          33,
          36,
          31,
          20,
          35,
          35,
          35,
          35,
          34,
          37,
          37,
          35,
          33,
          35,
          35,
          37,
          37,
          39,
          37,
          37,
          37,
          34,
          37,
          28,
          39,
          37,
          35,
          37,
          37,
          34,
          35,
          26,
          40,
          39,
          38,
          40,
          38,
          38,
          39,
          38,
          39,
          37,
          39,
          39,
          39,
          39,
          37,
          38,
          39,
          38,
          35,
          37,
          36,
          38,
          37,
          32,
          38,
          26,
          39,
          39,
          39,
          39,
          40,
          38,
          36,
          38,
          39,
          38,
          35,
          38,
          38,
          39,
          38,
          36,
          37,
          40,
          38,
          39,
          39,
          35,
          39,
          38,
          39,
          39,
          38,
          38,
          37,
          38,
          38,
          39,
          39,
          39,
          38,
          39,
          39,
          37,
          37,
          17,
          17,
          16,
          16,
          12,
          39,
          38,
          39,
          38,
          38,
          39,
          38,
          39,
          36,
          36,
          38,
          36,
          36,
          38,
          38,
          39,
          36,
          33,
          39,
          38,
          37,
          35,
          26,
          39,
          33,
          26,
          16,
          40,
          38,
          40,
          39,
          35,
          36,
          39,
          39,
          37,
          37,
          37,
          37,
          37,
          39,
          39,
          39,
          37,
          34,
          39,
          39,
          39,
          35,
          23,
          24,
          31,
          23,
          13,
          36,
          36,
          38,
          38,
          38,
          34,
          36,
          37,
          36,
          35,
          37,
          33,
          39,
          36,
          36,
          39,
          37,
          36,
          39,
          38,
          35,
          36,
          1,
          2,
          1,
          1,
          1,
          31,
          29,
          18,
          31,
          29,
          31,
          29,
          29,
          29,
          31,
          33,
          30,
          31,
          25,
          29,
          32,
          29,
          29,
          31,
          31,
          29,
          30,
          71,
          87,
          83,
          71,
          44,
          6,
          4,
          4,
          4,
          4,
          4,
          4,
          4,
          4,
          4,
          4,
          4,
          4,
          4,
          4,
          4,
          4,
          4,
          4,
          4,
          4,
          65,
          78,
          73,
          64,
          49,
          40,
          41,
          39,
          39,
          39,
          41,
          41,
          39,
          41,
          41,
          41,
          30,
          39,
          39,
          41,
          38,
          38,
          32,
          39,
          39,
          39,
          39,
          81,
          86,
          85,
          82,
          53,
          42,
          39,
          40,
          30,
          40,
          41,
          39,
          41,
          30,
          38,
          41,
          39,
          33,
          40,
          37,
          41,
          40,
          20,
          38,
          39,
          38,
          37,
          91,
          100,
          97,
          82,
          39,
          35,
          40,
          41,
          40,
          42,
          41,
          42,
          41,
          41,
          41,
          41,
          20,
          36,
          41,
          40,
          41,
          41,
          41,
          40,
          41,
          40,
          13,
          95,
          94,
          99,
          81,
          42,
          38,
          38,
          41,
          40,
          41,
          40,
          41,
          41,
          41,
          41,
          41,
          30,
          30,
          38,
          41,
          41,
          41,
          40,
          37,
          42,
          41,
          29,
          96,
          90,
          98,
          82,
          36,
          42,
          38,
          38,
          31,
          41,
          41,
          41,
          41,
          41,
          42,
          37,
          41,
          41,
          38,
          41,
          38,
          38,
          41,
          38,
          41,
          38,
          91,
          95,
          95,
          86,
          39,
          42,
          39,
          41,
          33,
          38,
          38,
          41,
          41,
          41,
          41,
          41,
          41,
          42,
          38,
          41,
          41,
          32,
          41,
          17,
          39,
          31,
          67,
          94,
          79,
          59,
          35,
          42,
          41,
          37,
          41,
          37,
          41,
          41,
          37,
          37,
          41,
          29,
          41,
          40,
          39,
          38,
          37,
          38,
          40,
          40,
          42,
          63,
          96,
          76,
          59,
          48,
          44,
          39,
          41,
          41,
          38,
          41,
          41,
          41,
          41,
          19,
          41,
          41,
          39,
          41,
          41,
          39,
          39,
          40,
          41,
          41,
          24,
          38,
          31,
          24,
          17,
          28,
          27,
          17,
          27,
          24,
          17,
          17,
          27,
          27,
          28,
          27,
          17,
          26,
          27,
          27,
          28,
          26,
          28,
          17,
          27
         ],
         "title": {
          "font": {
           "size": 15
          },
          "text": "Observations"
         }
        }
       }
      },
      "text/html": [
       "<div>\n",
       "        \n",
       "        \n",
       "            <div id=\"4f506478-bca3-43af-b965-953cd12795d1\" class=\"plotly-graph-div\" style=\"height:680px; width:1000px;\"></div>\n",
       "            <script type=\"text/javascript\">\n",
       "                require([\"plotly\"], function(Plotly) {\n",
       "                    window.PLOTLYENV=window.PLOTLYENV || {};\n",
       "                    \n",
       "                if (document.getElementById(\"4f506478-bca3-43af-b965-953cd12795d1\")) {\n",
       "                    Plotly.newPlot(\n",
       "                        '4f506478-bca3-43af-b965-953cd12795d1',\n",
       "                        [{\"marker\": {\"color\": \"red\"}, \"name\": \"Missing\", \"text\": [\"0.5%\", \"4.7%\", \"1.0%\", \"0.7%\", \"0.8%\", \"19.1%\", \"19.9%\", \"19.8%\", \"17.8%\", \"23.8%\", \"18.0%\", \"18.4%\", \"18.7%\", \"17.7%\", \"19.6%\", \"18.6%\", \"18.2%\", \"16.4%\", \"19.6%\", \"19.4%\", \"18.8%\", \"19.9%\", \"39.8%\", \"18.5%\", \"17.5%\", \"19.8%\", \"30.6%\"], \"textfont\": {\"size\": 12}, \"textposition\": \"auto\", \"type\": \"bar\", \"x\": [\"43707\", \"55448\", \"58292\", \"58337\", \"59093\", \"ait82kw\", \"aurobindo\", \"btcpusa110kw\", \"deendayalupadhyaycollege\", \"delhihaat\", \"dtu\", \"igdtuw\", \"ihbas\", \"iiitd\", \"iticvraman\", \"itijaffarpur\", \"itijailroad\", \"itimangolpuri\", \"itipusa\", \"kalindicillege\", \"kitpitampura\", \"maulanaazadmedicalcollege\", \"meerabaiinstituteoftechnology\", \"nsit\", \"pitacademicblock100kw\", \"satyawaticollege\", \"sscbs\"], \"y\": [4, 48, 10, 6, 4, 203, 202, 201, 179, 203, 186, 188, 194, 178, 196, 190, 175, 129, 164, 200, 195, 201, 378, 192, 176, 202, 213]}, {\"marker\": {\"color\": \"blue\"}, \"name\": \"Total\", \"type\": \"bar\", \"x\": [\"43707\", \"55448\", \"58292\", \"58337\", \"59093\", \"ait82kw\", \"aurobindo\", \"btcpusa110kw\", \"deendayalupadhyaycollege\", \"delhihaat\", \"dtu\", \"igdtuw\", \"ihbas\", \"iiitd\", \"iticvraman\", \"itijaffarpur\", \"itijailroad\", \"itimangolpuri\", \"itipusa\", \"kalindicillege\", \"kitpitampura\", \"maulanaazadmedicalcollege\", \"meerabaiinstituteoftechnology\", \"nsit\", \"pitacademicblock100kw\", \"satyawaticollege\", \"sscbs\"], \"y\": [863, 966, 960, 806, 479, 862, 814, 812, 828, 651, 847, 836, 844, 825, 802, 834, 789, 657, 671, 829, 843, 808, 571, 848, 829, 820, 482]}],\n",
       "                        {\"autosize\": false, \"barmode\": \"stack\", \"height\": 680, \"template\": {\"data\": {\"bar\": [{\"error_x\": {\"color\": \"#2a3f5f\"}, \"error_y\": {\"color\": \"#2a3f5f\"}, \"marker\": {\"line\": {\"color\": \"#E5ECF6\", \"width\": 0.5}}, \"type\": \"bar\"}], \"barpolar\": [{\"marker\": {\"line\": {\"color\": \"#E5ECF6\", \"width\": 0.5}}, \"type\": \"barpolar\"}], \"carpet\": [{\"aaxis\": {\"endlinecolor\": \"#2a3f5f\", \"gridcolor\": \"white\", \"linecolor\": \"white\", \"minorgridcolor\": \"white\", \"startlinecolor\": \"#2a3f5f\"}, \"baxis\": {\"endlinecolor\": \"#2a3f5f\", \"gridcolor\": \"white\", \"linecolor\": \"white\", \"minorgridcolor\": \"white\", \"startlinecolor\": \"#2a3f5f\"}, \"type\": \"carpet\"}], \"choropleth\": [{\"colorbar\": {\"outlinewidth\": 0, \"ticks\": \"\"}, \"type\": \"choropleth\"}], \"contour\": [{\"colorbar\": {\"outlinewidth\": 0, \"ticks\": \"\"}, \"colorscale\": [[0.0, \"#0d0887\"], [0.1111111111111111, \"#46039f\"], [0.2222222222222222, \"#7201a8\"], [0.3333333333333333, \"#9c179e\"], [0.4444444444444444, \"#bd3786\"], [0.5555555555555556, \"#d8576b\"], [0.6666666666666666, \"#ed7953\"], [0.7777777777777778, \"#fb9f3a\"], [0.8888888888888888, \"#fdca26\"], [1.0, \"#f0f921\"]], \"type\": \"contour\"}], \"contourcarpet\": [{\"colorbar\": {\"outlinewidth\": 0, \"ticks\": \"\"}, \"type\": \"contourcarpet\"}], \"heatmap\": [{\"colorbar\": {\"outlinewidth\": 0, \"ticks\": \"\"}, \"colorscale\": [[0.0, \"#0d0887\"], [0.1111111111111111, \"#46039f\"], [0.2222222222222222, \"#7201a8\"], [0.3333333333333333, \"#9c179e\"], [0.4444444444444444, \"#bd3786\"], [0.5555555555555556, \"#d8576b\"], [0.6666666666666666, \"#ed7953\"], [0.7777777777777778, \"#fb9f3a\"], [0.8888888888888888, \"#fdca26\"], [1.0, \"#f0f921\"]], \"type\": \"heatmap\"}], \"heatmapgl\": [{\"colorbar\": {\"outlinewidth\": 0, \"ticks\": \"\"}, \"colorscale\": [[0.0, \"#0d0887\"], [0.1111111111111111, \"#46039f\"], [0.2222222222222222, \"#7201a8\"], [0.3333333333333333, \"#9c179e\"], [0.4444444444444444, \"#bd3786\"], [0.5555555555555556, \"#d8576b\"], [0.6666666666666666, \"#ed7953\"], [0.7777777777777778, \"#fb9f3a\"], [0.8888888888888888, \"#fdca26\"], [1.0, \"#f0f921\"]], \"type\": \"heatmapgl\"}], \"histogram\": [{\"marker\": {\"colorbar\": {\"outlinewidth\": 0, \"ticks\": \"\"}}, \"type\": \"histogram\"}], \"histogram2d\": [{\"colorbar\": {\"outlinewidth\": 0, \"ticks\": \"\"}, \"colorscale\": [[0.0, \"#0d0887\"], [0.1111111111111111, \"#46039f\"], [0.2222222222222222, \"#7201a8\"], [0.3333333333333333, \"#9c179e\"], [0.4444444444444444, \"#bd3786\"], [0.5555555555555556, \"#d8576b\"], [0.6666666666666666, \"#ed7953\"], [0.7777777777777778, \"#fb9f3a\"], [0.8888888888888888, \"#fdca26\"], [1.0, \"#f0f921\"]], \"type\": \"histogram2d\"}], \"histogram2dcontour\": [{\"colorbar\": {\"outlinewidth\": 0, \"ticks\": \"\"}, \"colorscale\": [[0.0, \"#0d0887\"], [0.1111111111111111, \"#46039f\"], [0.2222222222222222, \"#7201a8\"], [0.3333333333333333, \"#9c179e\"], [0.4444444444444444, \"#bd3786\"], [0.5555555555555556, \"#d8576b\"], [0.6666666666666666, \"#ed7953\"], [0.7777777777777778, \"#fb9f3a\"], [0.8888888888888888, \"#fdca26\"], [1.0, \"#f0f921\"]], \"type\": \"histogram2dcontour\"}], \"mesh3d\": [{\"colorbar\": {\"outlinewidth\": 0, \"ticks\": \"\"}, \"type\": \"mesh3d\"}], \"parcoords\": [{\"line\": {\"colorbar\": {\"outlinewidth\": 0, \"ticks\": \"\"}}, \"type\": \"parcoords\"}], \"pie\": [{\"automargin\": true, \"type\": \"pie\"}], \"scatter\": [{\"marker\": {\"colorbar\": {\"outlinewidth\": 0, \"ticks\": \"\"}}, \"type\": \"scatter\"}], \"scatter3d\": [{\"line\": {\"colorbar\": {\"outlinewidth\": 0, \"ticks\": \"\"}}, \"marker\": {\"colorbar\": {\"outlinewidth\": 0, \"ticks\": \"\"}}, \"type\": \"scatter3d\"}], \"scattercarpet\": [{\"marker\": {\"colorbar\": {\"outlinewidth\": 0, \"ticks\": \"\"}}, \"type\": \"scattercarpet\"}], \"scattergeo\": [{\"marker\": {\"colorbar\": {\"outlinewidth\": 0, \"ticks\": \"\"}}, \"type\": \"scattergeo\"}], \"scattergl\": [{\"marker\": {\"colorbar\": {\"outlinewidth\": 0, \"ticks\": \"\"}}, \"type\": \"scattergl\"}], \"scattermapbox\": [{\"marker\": {\"colorbar\": {\"outlinewidth\": 0, \"ticks\": \"\"}}, \"type\": \"scattermapbox\"}], \"scatterpolar\": [{\"marker\": {\"colorbar\": {\"outlinewidth\": 0, \"ticks\": \"\"}}, \"type\": \"scatterpolar\"}], \"scatterpolargl\": [{\"marker\": {\"colorbar\": {\"outlinewidth\": 0, \"ticks\": \"\"}}, \"type\": \"scatterpolargl\"}], \"scatterternary\": [{\"marker\": {\"colorbar\": {\"outlinewidth\": 0, \"ticks\": \"\"}}, \"type\": \"scatterternary\"}], \"surface\": [{\"colorbar\": {\"outlinewidth\": 0, \"ticks\": \"\"}, \"colorscale\": [[0.0, \"#0d0887\"], [0.1111111111111111, \"#46039f\"], [0.2222222222222222, \"#7201a8\"], [0.3333333333333333, \"#9c179e\"], [0.4444444444444444, \"#bd3786\"], [0.5555555555555556, \"#d8576b\"], [0.6666666666666666, \"#ed7953\"], [0.7777777777777778, \"#fb9f3a\"], [0.8888888888888888, \"#fdca26\"], [1.0, \"#f0f921\"]], \"type\": \"surface\"}], \"table\": [{\"cells\": {\"fill\": {\"color\": \"#EBF0F8\"}, \"line\": {\"color\": \"white\"}}, \"header\": {\"fill\": {\"color\": \"#C8D4E3\"}, \"line\": {\"color\": \"white\"}}, \"type\": \"table\"}]}, \"layout\": {\"annotationdefaults\": {\"arrowcolor\": \"#2a3f5f\", \"arrowhead\": 0, \"arrowwidth\": 1}, \"coloraxis\": {\"colorbar\": {\"outlinewidth\": 0, \"ticks\": \"\"}}, \"colorscale\": {\"diverging\": [[0, \"#8e0152\"], [0.1, \"#c51b7d\"], [0.2, \"#de77ae\"], [0.3, \"#f1b6da\"], [0.4, \"#fde0ef\"], [0.5, \"#f7f7f7\"], [0.6, \"#e6f5d0\"], [0.7, \"#b8e186\"], [0.8, \"#7fbc41\"], [0.9, \"#4d9221\"], [1, \"#276419\"]], \"sequential\": [[0.0, \"#0d0887\"], [0.1111111111111111, \"#46039f\"], [0.2222222222222222, \"#7201a8\"], [0.3333333333333333, \"#9c179e\"], [0.4444444444444444, \"#bd3786\"], [0.5555555555555556, \"#d8576b\"], [0.6666666666666666, \"#ed7953\"], [0.7777777777777778, \"#fb9f3a\"], [0.8888888888888888, \"#fdca26\"], [1.0, \"#f0f921\"]], \"sequentialminus\": [[0.0, \"#0d0887\"], [0.1111111111111111, \"#46039f\"], [0.2222222222222222, \"#7201a8\"], [0.3333333333333333, \"#9c179e\"], [0.4444444444444444, \"#bd3786\"], [0.5555555555555556, \"#d8576b\"], [0.6666666666666666, \"#ed7953\"], [0.7777777777777778, \"#fb9f3a\"], [0.8888888888888888, \"#fdca26\"], [1.0, \"#f0f921\"]]}, \"colorway\": [\"#636efa\", \"#EF553B\", \"#00cc96\", \"#ab63fa\", \"#FFA15A\", \"#19d3f3\", \"#FF6692\", \"#B6E880\", \"#FF97FF\", \"#FECB52\"], \"font\": {\"color\": \"#2a3f5f\"}, \"geo\": {\"bgcolor\": \"white\", \"lakecolor\": \"white\", \"landcolor\": \"#E5ECF6\", \"showlakes\": true, \"showland\": true, \"subunitcolor\": \"white\"}, \"hoverlabel\": {\"align\": \"left\"}, \"hovermode\": \"closest\", \"mapbox\": {\"style\": \"light\"}, \"paper_bgcolor\": \"white\", \"plot_bgcolor\": \"#E5ECF6\", \"polar\": {\"angularaxis\": {\"gridcolor\": \"white\", \"linecolor\": \"white\", \"ticks\": \"\"}, \"bgcolor\": \"#E5ECF6\", \"radialaxis\": {\"gridcolor\": \"white\", \"linecolor\": \"white\", \"ticks\": \"\"}}, \"scene\": {\"xaxis\": {\"backgroundcolor\": \"#E5ECF6\", \"gridcolor\": \"white\", \"gridwidth\": 2, \"linecolor\": \"white\", \"showbackground\": true, \"ticks\": \"\", \"zerolinecolor\": \"white\"}, \"yaxis\": {\"backgroundcolor\": \"#E5ECF6\", \"gridcolor\": \"white\", \"gridwidth\": 2, \"linecolor\": \"white\", \"showbackground\": true, \"ticks\": \"\", \"zerolinecolor\": \"white\"}, \"zaxis\": {\"backgroundcolor\": \"#E5ECF6\", \"gridcolor\": \"white\", \"gridwidth\": 2, \"linecolor\": \"white\", \"showbackground\": true, \"ticks\": \"\", \"zerolinecolor\": \"white\"}}, \"shapedefaults\": {\"line\": {\"color\": \"#2a3f5f\"}}, \"ternary\": {\"aaxis\": {\"gridcolor\": \"white\", \"linecolor\": \"white\", \"ticks\": \"\"}, \"baxis\": {\"gridcolor\": \"white\", \"linecolor\": \"white\", \"ticks\": \"\"}, \"bgcolor\": \"#E5ECF6\", \"caxis\": {\"gridcolor\": \"white\", \"linecolor\": \"white\", \"ticks\": \"\"}}, \"title\": {\"x\": 0.05}, \"xaxis\": {\"automargin\": true, \"gridcolor\": \"white\", \"linecolor\": \"white\", \"ticks\": \"\", \"title\": {\"standoff\": 15}, \"zerolinecolor\": \"white\", \"zerolinewidth\": 2}, \"yaxis\": {\"automargin\": true, \"gridcolor\": \"white\", \"linecolor\": \"white\", \"ticks\": \"\", \"title\": {\"standoff\": 15}, \"zerolinecolor\": \"white\", \"zerolinewidth\": 2}}}, \"title\": {\"text\": \"Fraction of Missing Values for Each Station\"}, \"width\": 1000, \"xaxis\": {\"dtick\": [1, 2], \"title\": {\"font\": {\"size\": 15}, \"text\": \"Date\"}}, \"yaxis\": {\"dtick\": 100, \"ticktext\": [1, 1, 1, 1, 1, 1, 1, 1, 1, 1, 1, 1, 1, 1, 1, 1, 1, 1, 1, 1, 1, 1, 2, 5, 4, 5, 5, 5, 4, 5, 5, 5, 5, 5, 5, 0, 5, 5, 5, 4, 5, 5, 5, 4, 2, 3, 3, 2, 2, 48, 45, 48, 48, 47, 47, 41, 48, 47, 41, 46, 46, 47, 0, 46, 48, 45, 26, 48, 48, 47, 47, 8, 12, 12, 8, 9, 50, 48, 48, 48, 48, 48, 46, 48, 43, 48, 48, 48, 48, 0, 48, 47, 47, 43, 48, 47, 48, 47, 23, 30, 28, 22, 19, 38, 32, 37, 33, 29, 32, 35, 38, 28, 32, 33, 30, 31, 27, 35, 33, 30, 31, 32, 32, 33, 30, 2, 2, 2, 3, 2, 35, 34, 34, 34, 34, 35, 34, 33, 29, 34, 34, 34, 34, 34, 34, 34, 34, 34, 35, 34, 34, 34, 21, 27, 28, 21, 7, 39, 33, 39, 39, 39, 39, 39, 30, 39, 31, 37, 37, 26, 15, 37, 31, 39, 39, 39, 39, 39, 39, 41, 38, 38, 38, 38, 39, 38, 39, 38, 38, 37, 37, 34, 23, 32, 39, 38, 38, 39, 38, 36, 30, 41, 36, 37, 37, 38, 38, 37, 37, 37, 36, 35, 37, 38, 37, 38, 39, 37, 36, 37, 39, 35, 39, 37, 37, 35, 30, 39, 37, 34, 35, 37, 37, 37, 36, 37, 38, 39, 35, 35, 37, 38, 35, 35, 38, 37, 31, 37, 35, 37, 31, 33, 37, 35, 29, 29, 37, 37, 31, 33, 36, 37, 35, 38, 35, 35, 34, 35, 35, 35, 35, 33, 36, 31, 20, 35, 35, 35, 35, 34, 37, 37, 35, 33, 35, 35, 37, 37, 39, 37, 37, 37, 34, 37, 28, 39, 37, 35, 37, 37, 34, 35, 26, 40, 39, 38, 40, 38, 38, 39, 38, 39, 37, 39, 39, 39, 39, 37, 38, 39, 38, 35, 37, 36, 38, 37, 32, 38, 26, 39, 39, 39, 39, 40, 38, 36, 38, 39, 38, 35, 38, 38, 39, 38, 36, 37, 40, 38, 39, 39, 35, 39, 38, 39, 39, 38, 38, 37, 38, 38, 39, 39, 39, 38, 39, 39, 37, 37, 17, 17, 16, 16, 12, 39, 38, 39, 38, 38, 39, 38, 39, 36, 36, 38, 36, 36, 38, 38, 39, 36, 33, 39, 38, 37, 35, 26, 39, 33, 26, 16, 40, 38, 40, 39, 35, 36, 39, 39, 37, 37, 37, 37, 37, 39, 39, 39, 37, 34, 39, 39, 39, 35, 23, 24, 31, 23, 13, 36, 36, 38, 38, 38, 34, 36, 37, 36, 35, 37, 33, 39, 36, 36, 39, 37, 36, 39, 38, 35, 36, 1, 2, 1, 1, 1, 31, 29, 18, 31, 29, 31, 29, 29, 29, 31, 33, 30, 31, 25, 29, 32, 29, 29, 31, 31, 29, 30, 71, 87, 83, 71, 44, 6, 4, 4, 4, 4, 4, 4, 4, 4, 4, 4, 4, 4, 4, 4, 4, 4, 4, 4, 4, 4, 65, 78, 73, 64, 49, 40, 41, 39, 39, 39, 41, 41, 39, 41, 41, 41, 30, 39, 39, 41, 38, 38, 32, 39, 39, 39, 39, 81, 86, 85, 82, 53, 42, 39, 40, 30, 40, 41, 39, 41, 30, 38, 41, 39, 33, 40, 37, 41, 40, 20, 38, 39, 38, 37, 91, 100, 97, 82, 39, 35, 40, 41, 40, 42, 41, 42, 41, 41, 41, 41, 20, 36, 41, 40, 41, 41, 41, 40, 41, 40, 13, 95, 94, 99, 81, 42, 38, 38, 41, 40, 41, 40, 41, 41, 41, 41, 41, 30, 30, 38, 41, 41, 41, 40, 37, 42, 41, 29, 96, 90, 98, 82, 36, 42, 38, 38, 31, 41, 41, 41, 41, 41, 42, 37, 41, 41, 38, 41, 38, 38, 41, 38, 41, 38, 91, 95, 95, 86, 39, 42, 39, 41, 33, 38, 38, 41, 41, 41, 41, 41, 41, 42, 38, 41, 41, 32, 41, 17, 39, 31, 67, 94, 79, 59, 35, 42, 41, 37, 41, 37, 41, 41, 37, 37, 41, 29, 41, 40, 39, 38, 37, 38, 40, 40, 42, 63, 96, 76, 59, 48, 44, 39, 41, 41, 38, 41, 41, 41, 41, 19, 41, 41, 39, 41, 41, 39, 39, 40, 41, 41, 24, 38, 31, 24, 17, 28, 27, 17, 27, 24, 17, 17, 27, 27, 28, 27, 17, 26, 27, 27, 28, 26, 28, 17, 27], \"title\": {\"font\": {\"size\": 15}, \"text\": \"Observations\"}}},\n",
       "                        {\"responsive\": true}\n",
       "                    ).then(function(){\n",
       "                            \n",
       "var gd = document.getElementById('4f506478-bca3-43af-b965-953cd12795d1');\n",
       "var x = new MutationObserver(function (mutations, observer) {{\n",
       "        var display = window.getComputedStyle(gd).display;\n",
       "        if (!display || display === 'none') {{\n",
       "            console.log([gd, 'removed!']);\n",
       "            Plotly.purge(gd);\n",
       "            observer.disconnect();\n",
       "        }}\n",
       "}});\n",
       "\n",
       "// Listen for the removal of the full notebook cells\n",
       "var notebookContainer = gd.closest('#notebook-container');\n",
       "if (notebookContainer) {{\n",
       "    x.observe(notebookContainer, {childList: true});\n",
       "}}\n",
       "\n",
       "// Listen for the clearing of the current output cell\n",
       "var outputEl = gd.closest('.output');\n",
       "if (outputEl) {{\n",
       "    x.observe(outputEl, {childList: true});\n",
       "}}\n",
       "\n",
       "                        })\n",
       "                };\n",
       "                });\n",
       "            </script>\n",
       "        </div>"
      ]
     },
     "metadata": {},
     "output_type": "display_data"
    }
   ],
   "source": [
    "import plotly.graph_objects as go\n",
    "\n",
    "fig = go.Figure(data=[\n",
    "    go.Bar(name='Missing', x=df_missing_st['id'], y=df_missing_st['missing'], text=[str(x) + \"%\" for x in df_missing_st['percent']],\n",
    "            textposition='auto', textfont_size=12, marker_color='red'),\n",
    "    go.Bar(name='Total', x=df_missing_st['id'], y=(df_missing_st['total']-df_missing_st['missing']), marker_color='blue')\n",
    "])\n",
    "# Change the bar mode\n",
    "fig.update_layout(barmode='stack', title='Fraction of Missing Values for Each Station',\n",
    "                    autosize=False, width=1000, height= 680, \n",
    "                    yaxis=go.layout.YAxis(\n",
    "                        title_text=\"Observations\",\n",
    "                        ticktext=df_sample[\"('count', 'energy')\"],\n",
    "                        dtick = 100,\n",
    "                        titlefont=dict(size=15)),\n",
    "                    xaxis = go.layout.XAxis(dtick = [1,2],\n",
    "                                            title_text=\"Date\",\n",
    "                                            titlefont=dict(size=15)),\n",
    "                         )\n",
    "fig.show()"
   ]
  },
  {
   "cell_type": "code",
   "execution_count": null,
   "metadata": {},
   "outputs": [],
   "source": []
  }
 ],
 "metadata": {
  "kernelspec": {
   "display_name": "Python 3",
   "language": "python",
   "name": "python3"
  },
  "language_info": {
   "codemirror_mode": {
    "name": "ipython",
    "version": 3
   },
   "file_extension": ".py",
   "mimetype": "text/x-python",
   "name": "python",
   "nbconvert_exporter": "python",
   "pygments_lexer": "ipython3",
   "version": "3.7.3"
  }
 },
 "nbformat": 4,
 "nbformat_minor": 2
}
